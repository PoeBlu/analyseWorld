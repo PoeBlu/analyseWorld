{
 "cells": [
  {
   "cell_type": "code",
   "execution_count": 1,
   "metadata": {
    "collapsed": false
   },
   "outputs": [],
   "source": [
    "# %matplotlib inline\n",
    "# import mpld3\n",
    "# mpld3.enable_notebook()\n",
    "import rosbag_pandas\n",
    "import pandas as pd\n",
    "import matplotlib.pyplot as plt\n",
    "import easygui\n",
    "import rosbag\n",
    "import json\n",
    "import numpy as np\n",
    "import cPickle as pkl\n",
    "import time\n",
    "import seaborn as sns\n",
    "import datetime as dt\n",
    "import fnmatch\n",
    "import os\n",
    "import bokeh.palettes as bp\n",
    "\n",
    "def TicTocGenerator():\n",
    "    # Generator that returns time differences\n",
    "    ti = 0           # initial time\n",
    "    tf = time.time() # final time\n",
    "    while True:\n",
    "        ti = tf\n",
    "        tf = time.time()\n",
    "        yield tf-ti # returns the time difference\n",
    "\n",
    "TicToc = TicTocGenerator() # create an instance of the TicTocGen generator\n",
    "\n",
    "# This will be the main function through which we define both tic() and toc()\n",
    "def toc(tempBool=True):\n",
    "    # Prints the time difference yielded by generator instance TicToc\n",
    "    tempTimeInterval = next(TicToc)\n",
    "    if tempBool:\n",
    "        print( \"Elapsed time: %f seconds.\\n\" %tempTimeInterval )\n",
    "\n",
    "def tic():\n",
    "    # Records a time in TicToc, marks the beginning of a time interval\n",
    "    toc(False)\n",
    "    \n",
    "def pickler( obj, path):\n",
    "    \"\"\"\n",
    "    Pickle a Python object\n",
    "    \"\"\"\n",
    "    with open(path, \"wb\") as pfile:\n",
    "        pkl.dump(obj, pfile)\n",
    "\n",
    "def depickler( path):\n",
    "    \"\"\"\n",
    "    Extracts a pickled Python object and returns it\n",
    "    \"\"\"\n",
    "    with open(path, \"rb\") as pfile:\n",
    "        data = pkl.load(pfile)\n",
    "    return data\n",
    "import os\n",
    "\n",
    "def get_filepaths(directory):\n",
    "    \"\"\"\n",
    "    This function will generate the file names in a directory \n",
    "    tree by walking the tree either top-down or bottom-up. For each \n",
    "    directory in the tree rooted at directory top (including top itself), \n",
    "    it yields a 3-tuple (dirpath, dirnames, filenames).\n",
    "    \"\"\"\n",
    "    file_paths = []  # List which will store all of the full filepaths.\n",
    "\n",
    "    # Walk the tree.\n",
    "    for root, directories, files in os.walk(directory):\n",
    "        for filename in files:\n",
    "            # Join the two strings in order to form the full filepath.\n",
    "            filepath = os.path.join(root, filename)\n",
    "            file_paths.append(filepath)  # Add it to the list.\n",
    "\n",
    "    return file_paths  # Self-explanatory.\n",
    "\n",
    "# Run the above function and store its results in a variable.   \n",
    "full_file_paths = get_filepaths(\"/Users/johnny/Desktop/TEST\")"
   ]
  },
  {
   "cell_type": "code",
   "execution_count": 2,
   "metadata": {
    "collapsed": false,
    "scrolled": false
   },
   "outputs": [],
   "source": [
    "def bag2df(paths=None):\n",
    "    '''\n",
    "    Load  bag filesto make into respective dataframes\n",
    "    '''\n",
    "    # defaultPath=\"/media/rhagoletis/6db8b2b2-ebe2-4555-9b79-93b10ef9dec31/2017_03_31/\"\n",
    "    defaultPath=\"/home/rhagoletis/catkin/src/World/bags/\"\n",
    "\n",
    "    if paths is None:\n",
    "        paths=easygui.fileopenbox(title=\"Bags to Dataframes\"\n",
    "                              ,default=defaultPath,\n",
    "                              multiple=True,filetypes=[\"*traj.bag\"])\n",
    "\n",
    "    # paths =['/media/rhagoletis/NICE_Pavan_2B/2017_04_17/2017-04-17__23~05~43_apple34_00_odour_gain~8_speed~1.0_bout~30_DC~-0.128_traj.bag'] \n",
    "    print paths, \"\\n\"\n",
    "    metadata=None\n",
    "    # t=time.now()\n",
    "    i=1\n",
    "    for path in paths:\n",
    "        tic()\n",
    "        print \"starting analysis of file %s , %s / %s files\" %(path.split('/')[-1],i,len(paths))\n",
    "        try:\n",
    "            df=rosbag_pandas.bag_to_dataframe(path,include=['/trajectory'])\n",
    "        except Exception as e:\n",
    "            print e, path\n",
    "            \n",
    "        bag=rosbag.Bag(path)\n",
    "\n",
    "        try:\n",
    "            for topic,msg,t in bag.read_messages(topics='/metadata'):\n",
    "                a=msg\n",
    "    #         parameters=json.loads(a.data)\n",
    "    #         metadata={\"meta\":parameters}\n",
    "\n",
    "            metadata=json.loads(a.data)\n",
    "\n",
    "        except :\n",
    "            print \"no such file!, trying the pickle\"\n",
    "            try:\n",
    "                metadata=depickler(paths[0].split('.bag')[0])\n",
    "            except IOError:\n",
    "                metadata=depickler(paths[0].split('.bag')[0]+'.pickle')\n",
    "\n",
    "            parameters=metadata['parameters']\n",
    "\n",
    "\n",
    "        obj=dict(df=df,metadata=metadata)\n",
    "\n",
    "        picklepath=path+\"_df.pickle\"\n",
    "        pickler(obj,picklepath)\n",
    "    #     df.to_pickle(picklepath)\n",
    "\n",
    "        i+=1\n",
    "        toc()\n",
    "    print \"\\nanalysis of %s files complete\" %len(paths)\n",
    "    # print (time.now()-t)\n",
    "\n",
    "# bag2df()"
   ]
  },
  {
   "cell_type": "code",
   "execution_count": 4,
   "metadata": {
    "collapsed": false
   },
   "outputs": [
    {
     "name": "stdout",
     "output_type": "stream",
     "text": [
      "['/home/rhagoletis/catkin/src/World/bags/traj/2017-08-18__16~45~29_apple46_00_wind_null_gain~8_speed~1.0_bout~10_DC~-0.312_traj.bag', '/home/rhagoletis/catkin/src/World/bags/traj/2017-08-04__16~54~55_apple39_00_wind_gain~8_speed~1.0_bout~20_DC~0.0_traj.bag', '/home/rhagoletis/catkin/src/World/bags/traj/2017-08-25__18~28~11_apple49_00_odour_wind_gain~8_speed~1.0_bout~20_DC~-0.0_traj.bag', '/home/rhagoletis/catkin/src/World/bags/traj/2017-08-07__15~01~53_apple40_01_gain~8_speed~1.0_bout~10_DC~0.06_traj.bag', '/home/rhagoletis/catkin/src/World/bags/traj/2017-08-18__17~30~14_apple46_pf_gain~8_speed~1.0_bout~20_DC~-0.312_traj.bag', '/home/rhagoletis/catkin/src/World/bags/traj/2017-08-21__16~39~52_apple47_00_odour_wind_gain~8_speed~1.0_bout~30_DC~0.1_traj.bag', '/home/rhagoletis/catkin/src/World/bags/traj/2017-07-31__17~34~57_haw15_00_wind_gain~8_speed~1.0_bout~15_DC~-0.086_traj.bag', '/home/rhagoletis/catkin/src/World/bags/traj/2017-07-31__17~00~43_haw15_00_wind_gain~8_speed~1.0_bout~15_DC~0.0_traj.bag', '/home/rhagoletis/catkin/src/World/bags/traj/2017-08-21__14~56~35_apple47_00_wind_null_gain~8_speed~1.0_bout~20_DC~0.28_traj.bag', '/home/rhagoletis/catkin/src/World/bags/traj/2017-08-08__17~30~27_apple42_01_gain~8_speed~1.0_bout~20_DC~0.274_traj.bag', '/home/rhagoletis/catkin/src/World/bags/traj/2017-07-31__17~41~30_haw15_00_wind_gain~8_speed~1.0_bout~15_DC~-0.086_traj.bag', '/home/rhagoletis/catkin/src/World/bags/traj/2017-08-18__17~38~25_apple46_pf_gain~8_speed~1.0_bout~20_DC~-0.312_traj.bag', '/home/rhagoletis/catkin/src/World/bags/traj/2017-08-18__15~15~22_apple45_01_null_gain~8_speed~1.0_bout~10_DC~-0.223_traj.bag', '/home/rhagoletis/catkin/src/World/bags/traj/2017-08-21__16~56~13_apple47_00_odour_wind_gain~8_speed~1.0_bout~30_DC~0.02_traj.bag', '/home/rhagoletis/catkin/src/World/bags/traj/2017-08-08__17~47~48_apple42_00_wind_null_gain~8_speed~1.0_bout~20_DC~0.27_traj.bag', '/home/rhagoletis/catkin/src/World/bags/traj/2017-08-02__15~46~25_apple38_00_wind_gain~8_speed~1.0_bout~15_DC~0.0_traj.bag', '/home/rhagoletis/catkin/src/World/bags/traj/2017-08-21__15~58~18_apple47_00_odour_wind_gain~8_speed~1.0_bout~30_DC~0.07_traj.bag', '/home/rhagoletis/catkin/src/World/bags/traj/2017-08-23__15~30~12_haw16_00_wind_null_gain~8_speed~1.0_bout~20_DC~0.4_traj.bag', '/home/rhagoletis/catkin/src/World/bags/traj/2017-08-18__17~03~50_apple46_00_wind_null_gain~8_speed~1.0_bout~20_DC~-0.312_traj.bag', '/home/rhagoletis/catkin/src/World/bags/traj/2017-07-31__17~14~52_haw15_00_wind_gain~8_speed~1.0_bout~15_DC~-0.086_traj.bag', '/home/rhagoletis/catkin/src/World/bags/traj/2017-08-25__18~51~46_apple49_00_odour_gain~8_speed~1.0_bout~20_DC~-0.0_traj.bag', '/home/rhagoletis/catkin/src/World/bags/traj/2017-08-17__13~52~39_apple43_01_gain~8_speed~1.0_bout~10_DC~-0.244_traj.bag', '/home/rhagoletis/catkin/src/World/bags/traj/2017-08-28__13~48~21_apple53_00_odour_gain~4_speed~1.0_bout~20_DC~-0.1_traj.bag', '/home/rhagoletis/catkin/src/World/bags/traj/2017-08-21__14~26~27_apple47_01_gain~8_speed~1.0_bout~10_DC~0.25_traj.bag', '/home/rhagoletis/catkin/src/World/bags/traj/2017-08-25__18~39~05_apple49_00_odour_wind_gain~8_speed~1.0_bout~20_DC~-0.0_traj.bag', '/home/rhagoletis/catkin/src/World/bags/traj/2017-08-22__15~44~59_apple48_00_wind_gain~16_speed~1.0_bout~20_DC~0.16_traj.bag', '/home/rhagoletis/catkin/src/World/bags/traj/2017-08-26__17~04~58_apple50_00_wind_gain~8_speed~1.0_bout~20_DC~-0.0_traj.bag', '/home/rhagoletis/catkin/src/World/bags/traj/2017-08-23__17~39~44_haw16_00_odour_wind_gain~8_speed~1.0_bout~20_DC~0.21_traj.bag', '/home/rhagoletis/catkin/src/World/bags/traj/2017-08-07__16~03~31_apple41_00_wind_gain~4_speed~1.0_bout~20_DC~0.03_traj.bag', '/home/rhagoletis/catkin/src/World/bags/traj/2017-08-02__16~24~10_apple38_00_odour_gain~8_speed~1.0_bout~15_DC~0.0_traj.bag', '/home/rhagoletis/catkin/src/World/bags/traj/2017-08-08__18~19~30_apple42_00_wind_gain~8_speed~1.0_bout~20_DC~0.27_traj.bag', '/home/rhagoletis/catkin/src/World/bags/traj/2017-08-07__16~06~18_apple41_00_wind_gain~4_speed~1.0_bout~20_DC~0.03_traj.bag', '/home/rhagoletis/catkin/src/World/bags/traj/2017-08-21__14~40~35_apple47_00_wind_gain~8_speed~1.0_bout~20_DC~0.28_traj.bag', '/home/rhagoletis/catkin/src/World/bags/traj/2017-08-07__19~09~29_apple41_00_odour_wind_gain~4_speed~1.0_bout~20_DC~0.03_traj.bag', '/home/rhagoletis/catkin/src/World/bags/traj/2017-08-28__14~03~12_apple53_00_wind_gain~8_speed~1.0_bout~20_DC~-0.1_traj.bag', '/home/rhagoletis/catkin/src/World/bags/traj/2017-08-23__16~17~46_haw16_pf_gain~8_speed~1.0_bout~20_DC~0.21_traj.bag', '/home/rhagoletis/catkin/src/World/bags/traj/2017-08-04__17~13~11_apple39_00_odour_wind_gain~8_speed~1.0_bout~20_DC~0.0_traj.bag', '/home/rhagoletis/catkin/src/World/bags/traj/2017-08-02__15~52~10_apple38_00_wind_gain~8_speed~1.0_bout~15_DC~0.0_traj.bag', '/home/rhagoletis/catkin/src/World/bags/traj/2017-08-25__18~36~40_apple49_00_odour_wind_gain~8_speed~1.0_bout~20_DC~-0.0_traj.bag', '/home/rhagoletis/catkin/src/World/bags/traj/2017-08-04__16~19~31_apple39_10_gain~8_speed~1.0_bout~10_DC~0.0_traj.bag', '/home/rhagoletis/catkin/src/World/bags/traj/2017-08-21__15~16~26_apple47_00_odour_wind_gain~8_speed~1.0_bout~20_DC~0.28_traj.bag', '/home/rhagoletis/catkin/src/World/bags/traj/2017-08-18__16~30~57_apple46_01_gain~8_speed~1.0_bout~10_DC~-0.312_traj.bag', '/home/rhagoletis/catkin/src/World/bags/traj/2017-08-18__16~38~25_apple46_00_wind_gain~8_speed~1.0_bout~10_DC~-0.312_traj.bag', '/home/rhagoletis/catkin/src/World/bags/traj/2017-08-18__15~19~48_apple45_00_wind_null_gain~8_speed~1.0_bout~10_DC~-0.223_traj.bag', '/home/rhagoletis/catkin/src/World/bags/traj/2017-08-07__16~11~48_apple41_00_wind_gain~4_speed~1.0_bout~20_DC~0.03_traj.bag', '/home/rhagoletis/catkin/src/World/bags/traj/2017-08-26__17~14~59_apple50_pf_gain~8_speed~1.0_bout~20_DC~0.0_traj.bag', '/home/rhagoletis/catkin/src/World/bags/traj/2017-08-25__18~55~26_apple49_00_odour_gain~8_speed~1.0_bout~10_DC~-0.0_traj.bag', '/home/rhagoletis/catkin/src/World/bags/traj/2017-08-23__17~34~56_haw16_00_odour_wind_gain~8_speed~1.0_bout~20_DC~0.21_traj.bag', '/home/rhagoletis/catkin/src/World/bags/traj/2017-08-27__18~13~20_apple52_01_gain~8_speed~1.0_bout~10_DC~0.0_traj.bag', '/home/rhagoletis/catkin/src/World/bags/traj/2017-08-07__16~33~46_apple41_00_odour_wind_gain~4_speed~1.0_bout~20_DC~0.03_traj.bag', '/home/rhagoletis/catkin/src/World/bags/traj/2017-08-23__16~50~58_haw16_00_odour_wind_gain~8_speed~1.0_bout~20_DC~0.21_traj.bag', '/home/rhagoletis/catkin/src/World/bags/traj/2017-08-21__15~06~14_apple47_00_wind_gain~8_speed~1.0_bout~20_DC~0.28_traj.bag', '/home/rhagoletis/catkin/src/World/bags/traj/2017-08-07__16~15~09_apple41_00_wind_gain~4_speed~1.0_bout~20_DC~0.03_traj.bag', '/home/rhagoletis/catkin/src/World/bags/traj/2017-08-07__15~32~27_apple41_00_wind_gain~8_speed~1.0_bout~10_DC~0.03_traj.bag', '/home/rhagoletis/catkin/src/World/bags/traj/2017-08-07__19~19~39_apple41_00_odour_wind_gain~4_speed~1.0_bout~20_DC~0.03_traj.bag', '/home/rhagoletis/catkin/src/World/bags/traj/2017-08-25__18~20~44_apple49_00_wind_gain~8_speed~1.0_bout~20_DC~-0.0_traj.bag', '/home/rhagoletis/catkin/src/World/bags/traj/2017-08-21__16~54~39_apple47_00_odour_wind_gain~8_speed~1.0_bout~30_DC~0.05_traj.bag', '/home/rhagoletis/catkin/src/World/bags/traj/2017-08-08__18~10~31_apple42_00_wind_gain~8_speed~1.0_bout~20_DC~0.27_traj.bag', '/home/rhagoletis/catkin/src/World/bags/traj/2017-08-02__16~34~54_apple38_00_odour_wind_gain~8_speed~1.0_bout~15_DC~0.0_traj.bag', '/home/rhagoletis/catkin/src/World/bags/traj/2017-08-23__16~40~36_haw16_00_odour_gain~8_speed~1.0_bout~20_DC~0.21_traj.bag', '/home/rhagoletis/catkin/src/World/bags/traj/2017-08-08__17~32~25_apple42_pf_gain~8_speed~1.0_bout~20_DC~0.274_traj.bag', '/home/rhagoletis/catkin/src/World/bags/traj/2017-08-21__15~42~01_apple47_00_odour_gain~8_speed~1.0_bout~20_DC~0.1_traj.bag', '/home/rhagoletis/catkin/src/World/bags/traj/2017-08-17__14~15~53_apple44_01_gain~8_speed~1.0_bout~10_DC~0.19_traj.bag', '/home/rhagoletis/catkin/src/World/bags/traj/2017-08-04__16~26~49_apple39_01_gain~8_speed~1.0_bout~10_DC~0.0_traj.bag', '/home/rhagoletis/catkin/src/World/bags/traj/2017-08-04__16~41~56_apple39_pf_gain~8_speed~1.0_bout~10_DC~0.0_traj.bag', '/home/rhagoletis/catkin/src/World/bags/traj/2017-08-26__16~46~16_apple50_01_null_gain~8_speed~1.0_bout~20_DC~-0.0_traj.bag', '/home/rhagoletis/catkin/src/World/bags/traj/2017-08-02__15~07~09_apple37_00_wind_gain~8_speed~1.0_bout~15_DC~-0.4_traj.bag', '/home/rhagoletis/catkin/src/World/bags/traj/2017-08-23__14~49~49_haw16_01_gain~8_speed~1.0_bout~10_DC~0.32_traj.bag', '/home/rhagoletis/catkin/src/World/bags/traj/2017-08-08__18~06~27_apple42_00_wind_null_gain~8_speed~1.0_bout~20_DC~0.27_traj.bag', '/home/rhagoletis/catkin/src/World/bags/traj/2017-08-17__14~20~05_apple44_00_wind_gain~8_speed~1.0_bout~10_DC~0.19_traj.bag', '/home/rhagoletis/catkin/src/World/bags/traj/2017-08-02__16~49~07_apple38_00_wind_gain~8_speed~1.0_bout~15_DC~0.0_traj.bag', '/home/rhagoletis/catkin/src/World/bags/traj/2017-08-25__18~54~01_apple49_00_odour_gain~8_speed~1.0_bout~30_DC~-0.0_traj.bag', '/home/rhagoletis/catkin/src/World/bags/traj/2017-08-04__17~03~57_apple39_00_wind_gain~8_speed~1.0_bout~20_DC~0.0_traj.bag', '/home/rhagoletis/catkin/src/World/bags/traj/2017-08-21__17~14~45_apple47_00_wind_gain~8_speed~1.0_bout~30_DC~0.02_traj.bag', '/home/rhagoletis/catkin/src/World/bags/traj/2017-08-28__13~10~19_apple53_pf_gain~4_speed~1.0_bout~20_DC~0.0_traj.bag', '/home/rhagoletis/catkin/src/World/bags/traj/2017-08-23__15~39~59_haw16_00_wind_null_gain~8_speed~1.0_bout~20_DC~0.4_traj.bag', '/home/rhagoletis/catkin/src/World/bags/traj/2017-08-22__15~36~53_apple48_01_gain~16_speed~1.0_bout~10_DC~0.16_traj.bag', '/home/rhagoletis/catkin/src/World/bags/traj/2017-08-28__16~10~16_apple53_00_odour_gain~8_speed~1.0_bout~30_DC~0.1_traj.bag', '/home/rhagoletis/catkin/src/World/bags/traj/2017-08-28__12~35~05_apple53_pf_gain~4_speed~1.0_bout~20_DC~0.0_traj.bag', '/home/rhagoletis/catkin/src/World/bags/traj/2017-08-07__19~28~41_apple41_00_odour_wind_gain~4_speed~1.0_bout~20_DC~0.03_traj.bag', '/home/rhagoletis/catkin/src/World/bags/traj/2017-08-25__18~58~07_apple49_00_odour_gain~8_speed~1.0_bout~20_DC~-0.0_traj.bag', '/home/rhagoletis/catkin/src/World/bags/traj/2017-08-26__17~18~20_apple50_pf_gain~8_speed~1.0_bout~20_DC~0.0_traj.bag', '/home/rhagoletis/catkin/src/World/bags/traj/2017-08-23__18~11~21_haw16_00_odour_wind_gain~8_speed~1.0_bout~20_DC~0.21_traj.bag', '/home/rhagoletis/catkin/src/World/bags/traj/2017-08-21__15~35~09_apple47_00_odour_gain~8_speed~1.0_bout~20_DC~0.18_traj.bag', '/home/rhagoletis/catkin/src/World/bags/traj/2017-08-28__14~08~00_apple53_00_odour_gain~8_speed~1.0_bout~20_DC~-0.1_traj.bag', '/home/rhagoletis/catkin/src/World/bags/traj/2017-08-21__14~28~35_apple47_01_gain~8_speed~1.0_bout~10_DC~0.25_traj.bag', '/home/rhagoletis/catkin/src/World/bags/traj/2017-08-04__16~48~43_apple39_00_odour_gain~8_speed~1.0_bout~10_DC~0.0_traj.bag', '/home/rhagoletis/catkin/src/World/bags/traj/2017-08-23__15~12~33_haw16_00_wind_gain~8_speed~1.0_bout~20_DC~0.4_traj.bag', '/home/rhagoletis/catkin/src/World/bags/traj/2017-08-17__14~26~17_apple44_00_wind_null_gain~8_speed~1.0_bout~10_DC~0.19_traj.bag', '/home/rhagoletis/catkin/src/World/bags/traj/2017-08-07__18~40~27_apple41_pf_gain~4_speed~1.0_bout~20_DC~0.03_traj.bag', '/home/rhagoletis/catkin/src/World/bags/traj/2017-08-28__12~16~55_apple53_00_wind_gain~4_speed~1.0_bout~20_DC~0.0_traj.bag', '/home/rhagoletis/catkin/src/World/bags/traj/2017-08-21__14~37~12_apple47_00_wind_gain~8_speed~1.0_bout~20_DC~0.28_traj.bag', '/home/rhagoletis/catkin/src/World/bags/traj/2017-08-23__16~30~56_haw16_pf_gain~8_speed~1.0_bout~20_DC~0.21_traj.bag', '/home/rhagoletis/catkin/src/World/bags/traj/2017-08-07__17~35~24_apple41_00_odour_wind_gain~4_speed~1.0_bout~20_DC~0.03_traj.bag', '/home/rhagoletis/catkin/src/World/bags/traj/2017-08-28__13~58~22_apple53_00_wind_gain~4_speed~1.0_bout~20_DC~-0.1_traj.bag', '/home/rhagoletis/catkin/src/World/bags/traj/2017-08-07__16~00~08_apple41_00_wind_gain~8_speed~1.0_bout~20_DC~0.03_traj.bag', '/home/rhagoletis/catkin/src/World/bags/traj/2017-08-18__15~26~24_apple45_00_wind_null_gain~8_speed~1.0_bout~10_DC~-0.223_traj.bag', '/home/rhagoletis/catkin/src/World/bags/traj/2017-08-02__16~07~20_apple38_00_wind_gain~8_speed~1.0_bout~15_DC~0.0_traj.bag', '/home/rhagoletis/catkin/src/World/bags/traj/2017-08-28__13~33~57_apple53_00_wind_gain~4_speed~1.0_bout~20_DC~0.003_traj.bag', '/home/rhagoletis/catkin/src/World/bags/traj/2017-08-21__16~24~44_apple47_00_wind_gain~8_speed~1.0_bout~30_DC~0.1_traj.bag', '/home/rhagoletis/catkin/src/World/bags/traj/2017-07-31__17~26~42_haw15_00_wind_gain~8_speed~1.0_bout~15_DC~-0.086_traj.bag', '/home/rhagoletis/catkin/src/World/bags/traj/2017-08-26__16~50~32_apple50_01_gain~8_speed~1.0_bout~10_DC~-0.0_traj.bag', '/home/rhagoletis/catkin/src/World/bags/traj/2017-08-02__16~55~46_apple38_00_wind_gain~8_speed~1.0_bout~15_DC~0.115_traj.bag', '/home/rhagoletis/catkin/src/World/bags/traj/2017-08-28__13~36~14_apple53_00_odour_gain~4_speed~1.0_bout~20_DC~0.003_traj.bag', '/home/rhagoletis/catkin/src/World/bags/traj/2017-08-07__19~01~40_apple41_00_odour_wind_gain~4_speed~1.0_bout~20_DC~0.03_traj.bag', '/home/rhagoletis/catkin/src/World/bags/traj/2017-08-28__13~23~02_apple53_pf_gain~4_speed~1.0_bout~20_DC~-0.1_traj.bag', '/home/rhagoletis/catkin/src/World/bags/traj/2017-07-31__18~28~03_haw15_00_odour_wind_gain~8_speed~1.0_bout~30_DC~-0.086_traj.bag', '/home/rhagoletis/catkin/src/World/bags/traj/2017-08-28__12~12~10_apple53_01_gain~4_speed~1.0_bout~10_DC~0.0_traj.bag', '/home/rhagoletis/catkin/src/World/bags/traj/2017-08-21__15~21~34_apple47_00_odour_wind_gain~8_speed~1.0_bout~20_DC~0.28_traj.bag', '/home/rhagoletis/catkin/src/World/bags/traj/2017-08-07__16~34~31_apple41_00_odour_wind_gain~4_speed~1.0_bout~20_DC~0.03_traj.bag', '/home/rhagoletis/catkin/src/World/bags/traj/2017-07-31__17~20~48_haw15_00_wind_gain~8_speed~1.0_bout~15_DC~-0.086_traj.bag', '/home/rhagoletis/catkin/src/World/bags/traj/2017-08-18__15~30~40_apple45_pf_gain~25_speed~1.0_bout~10_DC~-0.223_traj.bag', '/home/rhagoletis/catkin/src/World/bags/traj/2017-08-21__14~33~26_apple47_01_gain~8_speed~1.0_bout~10_DC~0.28_traj.bag', '/home/rhagoletis/catkin/src/World/bags/traj/2017-08-25__18~46~42_apple49_00_odour_gain~8_speed~1.0_bout~20_DC~-0.0_traj.bag', '/home/rhagoletis/catkin/src/World/bags/traj/2017-08-21__15~33~04_apple47_00_odour_gain~8_speed~1.0_bout~20_DC~0.28_traj.bag', '/home/rhagoletis/catkin/src/World/bags/traj/2017-08-21__15~55~55_apple47_00_odour_wind_gain~8_speed~1.0_bout~20_DC~0.07_traj.bag', '/home/rhagoletis/catkin/src/World/bags/traj/2017-08-21__14~46~37_apple47_00_wind_null_gain~8_speed~1.0_bout~20_DC~0.28_traj.bag', '/home/rhagoletis/catkin/src/World/bags/traj/2017-08-04__16~34~23_apple39_11_gain~8_speed~1.0_bout~10_DC~0.0_traj.bag', '/home/rhagoletis/catkin/src/World/bags/traj/2017-08-02__15~44~18_apple38_00_wind_gain~8_speed~1.0_bout~15_DC~0.0_traj.bag', '/home/rhagoletis/catkin/src/World/bags/traj/2017-08-25__18~41~52_apple49_00_odour_wind_gain~8_speed~1.0_bout~20_DC~-0.0_traj.bag', '/home/rhagoletis/catkin/src/World/bags/traj/2017-08-26__16~56~30_apple50_00_wind_gain~8_speed~1.0_bout~20_DC~-0.0_traj.bag', '/home/rhagoletis/catkin/src/World/bags/traj/2017-08-26__17~12~07_apple50_00_wind_gain~8_speed~1.0_bout~20_DC~-0.0_traj.bag', '/home/rhagoletis/catkin/src/World/bags/traj/2017-08-21__16~11~00_apple47_pf_gain~8_speed~1.0_bout~30_DC~0.07_traj.bag', '/home/rhagoletis/catkin/src/World/bags/traj/2017-08-07__17~14~16_apple41_pf_gain~4_speed~1.0_bout~20_DC~0.03_traj.bag', '/home/rhagoletis/catkin/src/World/bags/traj/2017-08-08__18~18~12_apple42_00_wind_gain~8_speed~1.0_bout~20_DC~0.27_traj.bag', '/home/rhagoletis/catkin/src/World/bags/traj/2017-08-07__15~27~37_apple41_00_odour_gain~8_speed~1.0_bout~10_DC~0.03_traj.bag', '/home/rhagoletis/catkin/src/World/bags/traj/2017-08-28__13~18~57_apple53_pf_gain~4_speed~1.0_bout~20_DC~-0.1_traj.bag', '/home/rhagoletis/catkin/src/World/bags/traj/2017-07-31__17~08~44_haw15_00_wind_gain~8_speed~1.0_bout~15_DC~0.0_traj.bag', '/home/rhagoletis/catkin/src/World/bags/traj/2017-07-31__18~01~55_haw15_00_odour_gain~8_speed~1.0_bout~15_DC~-0.086_traj.bag', '/home/rhagoletis/catkin/src/World/bags/traj/2017-08-02__16~43~21_apple38_00_odour_wind_gain~8_speed~1.0_bout~15_DC~0.0_traj.bag', '/home/rhagoletis/catkin/src/World/bags/traj/2017-08-28__14~41~48_apple53_00_odour_wind_null_gain~8_speed~1.0_bout~20_DC~0.0_traj.bag', '/home/rhagoletis/catkin/src/World/bags/traj/2017-07-31__18~37~36_haw15_00_odour_wind_gain~8_speed~1.0_bout~30_DC~-0.086_traj.bag', '/home/rhagoletis/catkin/src/World/bags/traj/2017-08-07__18~54~04_apple41_00_odour_gain~4_speed~1.0_bout~20_DC~0.03_traj.bag', '/home/rhagoletis/catkin/src/World/bags/traj/2017-08-28__12~31~19_apple53_pf_gain~4_speed~1.0_bout~20_DC~0.0_traj.bag', '/home/rhagoletis/catkin/src/World/bags/traj/2017-08-23__18~47~15_haw16_00_wind_gain~8_speed~1.0_bout~20_DC~0.21_traj.bag', '/home/rhagoletis/catkin/src/World/bags/traj/2017-08-08__17~58~39_apple42_00_wind_null_gain~8_speed~1.0_bout~20_DC~0.27_traj.bag', '/home/rhagoletis/catkin/src/World/bags/traj/2017-08-02__15~37~57_apple38_01_gain~8_speed~1.0_bout~15_DC~0.0_traj.bag', '/home/rhagoletis/catkin/src/World/bags/traj/2017-08-07__15~42~59_apple41_00_odour_wind_gain~8_speed~1.0_bout~20_DC~0.03_traj.bag', '/home/rhagoletis/catkin/src/World/bags/traj/2017-08-02__16~17~21_apple38_pf_odour_gain~8_speed~1.0_bout~15_DC~0.0_traj.bag', '/home/rhagoletis/catkin/src/World/bags/traj/2017-08-08__17~43~27_apple42_00_wind_null_gain~8_speed~1.0_bout~20_DC~0.41_traj.bag', '/home/rhagoletis/catkin/src/World/bags/traj/2017-08-23__18~17~47_haw16_00_odour_wind_gain~8_speed~1.0_bout~20_DC~0.21_traj.bag', '/home/rhagoletis/catkin/src/World/bags/traj/2017-08-26__17~29~29_apple51_01_gain~8_speed~1.0_bout~10_DC~0.0_traj.bag', '/home/rhagoletis/catkin/src/World/bags/traj/2017-07-31__18~11~19_haw15_00_odour_wind_gain~8_speed~1.0_bout~15_DC~-0.086_traj.bag', '/home/rhagoletis/catkin/src/World/bags/traj/2017-08-07__17~16~39_apple41_pf_gain~4_speed~1.0_bout~20_DC~0.03_traj.bag', '/home/rhagoletis/catkin/src/World/bags/traj/2017-08-18__16~41~51_apple46_00_wind_gain~8_speed~1.0_bout~10_DC~-0.312_traj.bag', '/home/rhagoletis/catkin/src/World/bags/traj/2017-08-25__18~22~29_apple49_00_wind_gain~8_speed~1.0_bout~20_DC~-0.0_traj.bag', '/home/rhagoletis/catkin/src/World/bags/traj/2017-08-01__15~57~18_apple36_00_wind_gain~8_speed~1.0_bout~15_DC~-0.076_traj.bag', '/home/rhagoletis/catkin/src/World/bags/traj/2017-08-07__16~26~58_apple41_00_wind_null_gain~4_speed~1.0_bout~20_DC~0.03_traj.bag', '/home/rhagoletis/catkin/src/World/bags/traj/2017-08-25__18~09~35_apple49_00_wind_gain~8_speed~1.0_bout~20_DC~-0.0_traj.bag', '/home/rhagoletis/catkin/src/World/bags/traj/2017-08-08__17~52~35_apple42_00_wind_null_gain~8_speed~1.0_bout~20_DC~0.27_traj.bag', '/home/rhagoletis/catkin/src/World/bags/traj/2017-08-23__15~51~40_haw16_00_wind_gain~8_speed~1.0_bout~20_DC~0.4_traj.bag', '/home/rhagoletis/catkin/src/World/bags/traj/2017-08-21__15~38~38_apple47_00_odour_gain~8_speed~1.0_bout~20_DC~0.14_traj.bag', '/home/rhagoletis/catkin/src/World/bags/traj/2017-08-07__17~29~56_apple41_00_odour_gain~4_speed~1.0_bout~20_DC~0.03_traj.bag', '/home/rhagoletis/catkin/src/World/bags/traj/2017-08-21__14~21~09_apple47_01_gain~8_speed~1.0_bout~10_DC~0.202_traj.bag', '/home/rhagoletis/catkin/src/World/bags/traj/2017-08-23__18~13~05_haw16_00_odour_wind_gain~8_speed~1.0_bout~20_DC~0.21_traj.bag', '/home/rhagoletis/catkin/src/World/bags/traj/2017-08-21__15~45~48_apple47_00_odour_gain~8_speed~1.0_bout~20_DC~0.07_traj.bag', '/home/rhagoletis/catkin/src/World/bags/traj/2017-08-25__18~44~24_apple49_00_odour_gain~8_speed~1.0_bout~20_DC~-0.0_traj.bag', '/home/rhagoletis/catkin/src/World/bags/traj/2017-08-18__15~33~23_apple45_pf_gain~25_speed~1.0_bout~10_DC~-0.223_traj.bag', '/home/rhagoletis/catkin/src/World/bags/traj/2017-08-07__15~17~11_apple41_01_gain~8_speed~1.0_bout~10_DC~0.03_traj.bag', '/home/rhagoletis/catkin/src/World/bags/traj/2017-08-02__16~03~48_apple38_00_wind_gain~8_speed~1.0_bout~15_DC~0.0_traj.bag', '/home/rhagoletis/catkin/src/World/bags/traj/2017-08-07__15~20~41_apple41_pf_gain~8_speed~1.0_bout~10_DC~0.03_traj.bag', '/home/rhagoletis/catkin/src/World/bags/traj/2017-08-28__14~15~50_apple53_00_odour_wind_gain~8_speed~1.0_bout~20_DC~-0.1_traj.bag', '/home/rhagoletis/catkin/src/World/bags/traj/2017-08-08__18~39~33_apple42_00_wind_gain~8_speed~1.0_bout~20_DC~0.345_traj.bag', '/home/rhagoletis/catkin/src/World/bags/traj/2017-08-22__15~41~29_apple48_11_gain~16_speed~1.0_bout~10_DC~0.16_traj.bag', '/home/rhagoletis/catkin/src/World/bags/traj/2017-07-31__17~50~59_haw15_00_wind_gain~8_speed~1.0_bout~15_DC~-0.086_traj.bag', '/home/rhagoletis/catkin/src/World/bags/traj/2017-08-08__18~26~51_apple42_00_wind_gain~8_speed~1.0_bout~20_DC~0.345_traj.bag', '/home/rhagoletis/catkin/src/World/bags/traj/2017-08-08__18~34~35_apple42_00_wind_gain~8_speed~1.0_bout~20_DC~0.345_traj.bag', '/home/rhagoletis/catkin/src/World/bags/traj/2017-08-18__15~08~33_apple45_01_gain~8_speed~1.0_bout~10_DC~-0.223_traj.bag'] \n",
      "\n",
      "starting analysis of file 2017-08-18__16~45~29_apple46_00_wind_null_gain~8_speed~1.0_bout~10_DC~-0.312_traj.bag , 1 / 168 files\n",
      "no such file!, trying the pickle\n",
      "Elapsed time: 40.219866 seconds.\n",
      "\n",
      "starting analysis of file 2017-08-04__16~54~55_apple39_00_wind_gain~8_speed~1.0_bout~20_DC~0.0_traj.bag , 2 / 168 files\n",
      "Elapsed time: 4.881913 seconds.\n",
      "\n",
      "starting analysis of file 2017-08-25__18~28~11_apple49_00_odour_wind_gain~8_speed~1.0_bout~20_DC~-0.0_traj.bag , 3 / 168 files\n",
      "Elapsed time: 7.359179 seconds.\n",
      "\n",
      "starting analysis of file 2017-08-07__15~01~53_apple40_01_gain~8_speed~1.0_bout~10_DC~0.06_traj.bag , 4 / 168 files\n",
      "Elapsed time: 1.078971 seconds.\n",
      "\n",
      "starting analysis of file 2017-08-18__17~30~14_apple46_pf_gain~8_speed~1.0_bout~20_DC~-0.312_traj.bag , 5 / 168 files\n",
      "Elapsed time: 7.620572 seconds.\n",
      "\n",
      "starting analysis of file 2017-08-21__16~39~52_apple47_00_odour_wind_gain~8_speed~1.0_bout~30_DC~0.1_traj.bag , 6 / 168 files\n",
      "Elapsed time: 12.965786 seconds.\n",
      "\n",
      "starting analysis of file 2017-07-31__17~34~57_haw15_00_wind_gain~8_speed~1.0_bout~15_DC~-0.086_traj.bag , 7 / 168 files\n",
      "Elapsed time: 4.274101 seconds.\n",
      "\n",
      "starting analysis of file 2017-07-31__17~00~43_haw15_00_wind_gain~8_speed~1.0_bout~15_DC~0.0_traj.bag , 8 / 168 files\n",
      "Elapsed time: 5.583120 seconds.\n",
      "\n",
      "starting analysis of file 2017-08-21__14~56~35_apple47_00_wind_null_gain~8_speed~1.0_bout~20_DC~0.28_traj.bag , 9 / 168 files\n",
      "Elapsed time: 8.646164 seconds.\n",
      "\n",
      "starting analysis of file 2017-08-08__17~30~27_apple42_01_gain~8_speed~1.0_bout~20_DC~0.274_traj.bag , 10 / 168 files\n",
      "Elapsed time: 1.733476 seconds.\n",
      "\n",
      "starting analysis of file 2017-07-31__17~41~30_haw15_00_wind_gain~8_speed~1.0_bout~15_DC~-0.086_traj.bag , 11 / 168 files\n",
      "Elapsed time: 9.089166 seconds.\n",
      "\n",
      "starting analysis of file 2017-08-18__17~38~25_apple46_pf_gain~8_speed~1.0_bout~20_DC~-0.312_traj.bag , 12 / 168 files\n",
      "Elapsed time: 6.781727 seconds.\n",
      "\n",
      "starting analysis of file 2017-08-18__15~15~22_apple45_01_null_gain~8_speed~1.0_bout~10_DC~-0.223_traj.bag , 13 / 168 files\n",
      "Elapsed time: 3.413040 seconds.\n",
      "\n",
      "starting analysis of file 2017-08-21__16~56~13_apple47_00_odour_wind_gain~8_speed~1.0_bout~30_DC~0.02_traj.bag , 14 / 168 files\n",
      "Elapsed time: 16.999077 seconds.\n",
      "\n",
      "starting analysis of file 2017-08-08__17~47~48_apple42_00_wind_null_gain~8_speed~1.0_bout~20_DC~0.27_traj.bag , 15 / 168 files\n",
      "Elapsed time: 4.412199 seconds.\n",
      "\n",
      "starting analysis of file 2017-08-02__15~46~25_apple38_00_wind_gain~8_speed~1.0_bout~15_DC~0.0_traj.bag , 16 / 168 files\n",
      "Elapsed time: 5.728583 seconds.\n",
      "\n",
      "starting analysis of file 2017-08-21__15~58~18_apple47_00_odour_wind_gain~8_speed~1.0_bout~30_DC~0.07_traj.bag , 17 / 168 files\n",
      "Elapsed time: 12.840951 seconds.\n",
      "\n",
      "starting analysis of file 2017-08-23__15~30~12_haw16_00_wind_null_gain~8_speed~1.0_bout~20_DC~0.4_traj.bag , 18 / 168 files\n",
      "Elapsed time: 7.877986 seconds.\n",
      "\n",
      "starting analysis of file 2017-08-18__17~03~50_apple46_00_wind_null_gain~8_speed~1.0_bout~20_DC~-0.312_traj.bag , 19 / 168 files\n",
      "Elapsed time: 21.513851 seconds.\n",
      "\n",
      "starting analysis of file 2017-07-31__17~14~52_haw15_00_wind_gain~8_speed~1.0_bout~15_DC~-0.086_traj.bag , 20 / 168 files\n",
      "Elapsed time: 5.395719 seconds.\n",
      "\n",
      "starting analysis of file 2017-08-25__18~51~46_apple49_00_odour_gain~8_speed~1.0_bout~20_DC~-0.0_traj.bag , 21 / 168 files\n",
      "Elapsed time: 0.246329 seconds.\n",
      "\n",
      "starting analysis of file 2017-08-17__13~52~39_apple43_01_gain~8_speed~1.0_bout~10_DC~-0.244_traj.bag , 22 / 168 files\n",
      "Elapsed time: 2.297948 seconds.\n",
      "\n",
      "starting analysis of file 2017-08-28__13~48~21_apple53_00_odour_gain~4_speed~1.0_bout~20_DC~-0.1_traj.bag , 23 / 168 files\n",
      "Elapsed time: 10.189202 seconds.\n",
      "\n",
      "starting analysis of file 2017-08-21__14~26~27_apple47_01_gain~8_speed~1.0_bout~10_DC~0.25_traj.bag , 24 / 168 files\n",
      "Elapsed time: 1.652014 seconds.\n",
      "\n",
      "starting analysis of file 2017-08-25__18~39~05_apple49_00_odour_wind_gain~8_speed~1.0_bout~20_DC~-0.0_traj.bag , 25 / 168 files\n",
      "Elapsed time: 2.437281 seconds.\n",
      "\n",
      "starting analysis of file 2017-08-22__15~44~59_apple48_00_wind_gain~16_speed~1.0_bout~20_DC~0.16_traj.bag , 26 / 168 files\n",
      "Elapsed time: 7.300637 seconds.\n",
      "\n",
      "starting analysis of file 2017-08-26__17~04~58_apple50_00_wind_gain~8_speed~1.0_bout~20_DC~-0.0_traj.bag , 27 / 168 files\n",
      "Elapsed time: 3.306272 seconds.\n",
      "\n",
      "starting analysis of file 2017-08-23__17~39~44_haw16_00_odour_wind_gain~8_speed~1.0_bout~20_DC~0.21_traj.bag , 28 / 168 files\n",
      "Elapsed time: 6.032770 seconds.\n",
      "\n",
      "starting analysis of file 2017-08-07__16~03~31_apple41_00_wind_gain~4_speed~1.0_bout~20_DC~0.03_traj.bag , 29 / 168 files\n",
      "Elapsed time: 1.882598 seconds.\n",
      "\n",
      "starting analysis of file 2017-08-02__16~24~10_apple38_00_odour_gain~8_speed~1.0_bout~15_DC~0.0_traj.bag , 30 / 168 files\n",
      "Elapsed time: 10.883868 seconds.\n",
      "\n",
      "starting analysis of file 2017-08-08__18~19~30_apple42_00_wind_gain~8_speed~1.0_bout~20_DC~0.27_traj.bag , 31 / 168 files\n",
      "Elapsed time: 2.564504 seconds.\n",
      "\n",
      "starting analysis of file 2017-08-07__16~06~18_apple41_00_wind_gain~4_speed~1.0_bout~20_DC~0.03_traj.bag , 32 / 168 files\n",
      "Elapsed time: 3.953447 seconds.\n",
      "\n",
      "starting analysis of file 2017-08-21__14~40~35_apple47_00_wind_gain~8_speed~1.0_bout~20_DC~0.28_traj.bag , 33 / 168 files\n",
      "Elapsed time: 5.923181 seconds.\n",
      "\n",
      "starting analysis of file 2017-08-07__19~09~29_apple41_00_odour_wind_gain~4_speed~1.0_bout~20_DC~0.03_traj.bag , 34 / 168 files\n",
      "Elapsed time: 10.237571 seconds.\n",
      "\n",
      "starting analysis of file 2017-08-28__14~03~12_apple53_00_wind_gain~8_speed~1.0_bout~20_DC~-0.1_traj.bag , 35 / 168 files\n",
      "Elapsed time: 4.665928 seconds.\n",
      "\n",
      "starting analysis of file 2017-08-23__16~17~46_haw16_pf_gain~8_speed~1.0_bout~20_DC~0.21_traj.bag , 36 / 168 files\n",
      "Elapsed time: 13.339204 seconds.\n",
      "\n",
      "starting analysis of file 2017-08-04__17~13~11_apple39_00_odour_wind_gain~8_speed~1.0_bout~20_DC~0.0_traj.bag , 37 / 168 files\n",
      "Elapsed time: 4.545476 seconds.\n",
      "\n",
      "starting analysis of file 2017-08-02__15~52~10_apple38_00_wind_gain~8_speed~1.0_bout~15_DC~0.0_traj.bag , 38 / 168 files\n",
      "Elapsed time: 10.885641 seconds.\n",
      "\n",
      "starting analysis of file 2017-08-25__18~36~40_apple49_00_odour_wind_gain~8_speed~1.0_bout~20_DC~-0.0_traj.bag , 39 / 168 files\n",
      "Elapsed time: 1.870654 seconds.\n",
      "\n",
      "starting analysis of file 2017-08-04__16~19~31_apple39_10_gain~8_speed~1.0_bout~10_DC~0.0_traj.bag , 40 / 168 files\n",
      "Elapsed time: 3.817319 seconds.\n",
      "\n",
      "starting analysis of file 2017-08-21__15~16~26_apple47_00_odour_wind_gain~8_speed~1.0_bout~20_DC~0.28_traj.bag , 41 / 168 files\n",
      "Elapsed time: 4.531457 seconds.\n",
      "\n",
      "starting analysis of file 2017-08-18__16~30~57_apple46_01_gain~8_speed~1.0_bout~10_DC~-0.312_traj.bag , 42 / 168 files\n",
      "Elapsed time: 5.943505 seconds.\n",
      "\n",
      "starting analysis of file 2017-08-18__16~38~25_apple46_00_wind_gain~8_speed~1.0_bout~10_DC~-0.312_traj.bag , 43 / 168 files\n",
      "Elapsed time: 3.090790 seconds.\n",
      "\n",
      "starting analysis of file 2017-08-18__15~19~48_apple45_00_wind_null_gain~8_speed~1.0_bout~10_DC~-0.223_traj.bag , 44 / 168 files\n",
      "Elapsed time: 2.491804 seconds.\n",
      "\n",
      "starting analysis of file 2017-08-07__16~11~48_apple41_00_wind_gain~4_speed~1.0_bout~20_DC~0.03_traj.bag , 45 / 168 files\n",
      "Elapsed time: 8.364734 seconds.\n",
      "\n",
      "starting analysis of file 2017-08-26__17~14~59_apple50_pf_gain~8_speed~1.0_bout~20_DC~0.0_traj.bag , 46 / 168 files\n",
      "Elapsed time: 1.514139 seconds.\n",
      "\n",
      "starting analysis of file 2017-08-25__18~55~26_apple49_00_odour_gain~8_speed~1.0_bout~10_DC~-0.0_traj.bag , 47 / 168 files\n",
      "Elapsed time: 2.383567 seconds.\n",
      "\n",
      "starting analysis of file 2017-08-23__17~34~56_haw16_00_odour_wind_gain~8_speed~1.0_bout~20_DC~0.21_traj.bag , 48 / 168 files\n",
      "Elapsed time: 2.514961 seconds.\n",
      "\n",
      "starting analysis of file 2017-08-27__18~13~20_apple52_01_gain~8_speed~1.0_bout~10_DC~0.0_traj.bag , 49 / 168 files\n",
      "Elapsed time: 2.620996 seconds.\n",
      "\n",
      "starting analysis of file 2017-08-07__16~33~46_apple41_00_odour_wind_gain~4_speed~1.0_bout~20_DC~0.03_traj.bag , 50 / 168 files\n",
      "Elapsed time: 5.071871 seconds.\n",
      "\n",
      "starting analysis of file 2017-08-23__16~50~58_haw16_00_odour_wind_gain~8_speed~1.0_bout~20_DC~0.21_traj.bag , 51 / 168 files\n",
      "Elapsed time: 8.564010 seconds.\n",
      "\n",
      "starting analysis of file 2017-08-21__15~06~14_apple47_00_wind_gain~8_speed~1.0_bout~20_DC~0.28_traj.bag , 52 / 168 files\n",
      "Elapsed time: 10.025055 seconds.\n",
      "\n",
      "starting analysis of file 2017-08-07__16~15~09_apple41_00_wind_gain~4_speed~1.0_bout~20_DC~0.03_traj.bag , 53 / 168 files\n",
      "Elapsed time: 4.925076 seconds.\n",
      "\n",
      "starting analysis of file 2017-08-07__15~32~27_apple41_00_wind_gain~8_speed~1.0_bout~10_DC~0.03_traj.bag , 54 / 168 files\n",
      "Elapsed time: 4.626038 seconds.\n",
      "\n",
      "starting analysis of file 2017-08-07__19~19~39_apple41_00_odour_wind_gain~4_speed~1.0_bout~20_DC~0.03_traj.bag , 55 / 168 files\n",
      "Elapsed time: 2.492352 seconds.\n",
      "\n",
      "starting analysis of file 2017-08-25__18~20~44_apple49_00_wind_gain~8_speed~1.0_bout~20_DC~-0.0_traj.bag , 56 / 168 files\n",
      "Elapsed time: 1.025443 seconds.\n",
      "\n",
      "starting analysis of file 2017-08-21__16~54~39_apple47_00_odour_wind_gain~8_speed~1.0_bout~30_DC~0.05_traj.bag , 57 / 168 files\n",
      "Elapsed time: 18.544161 seconds.\n",
      "\n",
      "starting analysis of file 2017-08-08__18~10~31_apple42_00_wind_gain~8_speed~1.0_bout~20_DC~0.27_traj.bag , 58 / 168 files\n",
      "Elapsed time: 7.615891 seconds.\n",
      "\n",
      "starting analysis of file 2017-08-02__16~34~54_apple38_00_odour_wind_gain~8_speed~1.0_bout~15_DC~0.0_traj.bag , 59 / 168 files\n",
      "Elapsed time: 7.774859 seconds.\n",
      "\n",
      "starting analysis of file 2017-08-23__16~40~36_haw16_00_odour_gain~8_speed~1.0_bout~20_DC~0.21_traj.bag , 60 / 168 files\n",
      "Elapsed time: 8.577741 seconds.\n",
      "\n",
      "starting analysis of file 2017-08-08__17~32~25_apple42_pf_gain~8_speed~1.0_bout~20_DC~0.274_traj.bag , 61 / 168 files\n",
      "Elapsed time: 5.904247 seconds.\n",
      "\n",
      "starting analysis of file 2017-08-21__15~42~01_apple47_00_odour_gain~8_speed~1.0_bout~20_DC~0.1_traj.bag , 62 / 168 files\n",
      "Elapsed time: 3.353349 seconds.\n",
      "\n",
      "starting analysis of file 2017-08-17__14~15~53_apple44_01_gain~8_speed~1.0_bout~10_DC~0.19_traj.bag , 63 / 168 files\n",
      "Elapsed time: 1.041403 seconds.\n",
      "\n",
      "starting analysis of file 2017-08-04__16~26~49_apple39_01_gain~8_speed~1.0_bout~10_DC~0.0_traj.bag , 64 / 168 files\n",
      "Elapsed time: 3.949311 seconds.\n",
      "\n",
      "starting analysis of file 2017-08-04__16~41~56_apple39_pf_gain~8_speed~1.0_bout~10_DC~0.0_traj.bag , 65 / 168 files\n",
      "Elapsed time: 6.494963 seconds.\n",
      "\n",
      "starting analysis of file 2017-08-26__16~46~16_apple50_01_null_gain~8_speed~1.0_bout~20_DC~-0.0_traj.bag , 66 / 168 files\n",
      "Elapsed time: 2.594338 seconds.\n",
      "\n",
      "starting analysis of file 2017-08-02__15~07~09_apple37_00_wind_gain~8_speed~1.0_bout~15_DC~-0.4_traj.bag , 67 / 168 files\n",
      "Elapsed time: 3.364734 seconds.\n",
      "\n",
      "starting analysis of file 2017-08-23__14~49~49_haw16_01_gain~8_speed~1.0_bout~10_DC~0.32_traj.bag , 68 / 168 files\n",
      "Elapsed time: 3.785269 seconds.\n",
      "\n",
      "starting analysis of file 2017-08-08__18~06~27_apple42_00_wind_null_gain~8_speed~1.0_bout~20_DC~0.27_traj.bag , 69 / 168 files\n",
      "Elapsed time: 1.601018 seconds.\n",
      "\n",
      "starting analysis of file 2017-08-17__14~20~05_apple44_00_wind_gain~8_speed~1.0_bout~10_DC~0.19_traj.bag , 70 / 168 files\n",
      "Elapsed time: 1.628791 seconds.\n",
      "\n",
      "starting analysis of file 2017-08-02__16~49~07_apple38_00_wind_gain~8_speed~1.0_bout~15_DC~0.0_traj.bag , 71 / 168 files\n",
      "Elapsed time: 1.103445 seconds.\n",
      "\n",
      "starting analysis of file 2017-08-25__18~54~01_apple49_00_odour_gain~8_speed~1.0_bout~30_DC~-0.0_traj.bag , 72 / 168 files\n",
      "Elapsed time: 0.943667 seconds.\n",
      "\n",
      "starting analysis of file 2017-08-04__17~03~57_apple39_00_wind_gain~8_speed~1.0_bout~20_DC~0.0_traj.bag , 73 / 168 files\n",
      "Elapsed time: 6.865299 seconds.\n",
      "\n",
      "starting analysis of file 2017-08-21__17~14~45_apple47_00_wind_gain~8_speed~1.0_bout~30_DC~0.02_traj.bag , 74 / 168 files\n",
      "Elapsed time: 10.837434 seconds.\n",
      "\n",
      "starting analysis of file 2017-08-28__13~10~19_apple53_pf_gain~4_speed~1.0_bout~20_DC~0.0_traj.bag , 75 / 168 files\n",
      "Elapsed time: 6.778461 seconds.\n",
      "\n",
      "starting analysis of file 2017-08-23__15~39~59_haw16_00_wind_null_gain~8_speed~1.0_bout~20_DC~0.4_traj.bag , 76 / 168 files\n",
      "Elapsed time: 11.277726 seconds.\n",
      "\n",
      "starting analysis of file 2017-08-22__15~36~53_apple48_01_gain~16_speed~1.0_bout~10_DC~0.16_traj.bag , 77 / 168 files\n",
      "Elapsed time: 3.841751 seconds.\n",
      "\n",
      "starting analysis of file 2017-08-28__16~10~16_apple53_00_odour_gain~8_speed~1.0_bout~30_DC~0.1_traj.bag , 78 / 168 files\n",
      "Elapsed time: 21.195942 seconds.\n",
      "\n",
      "starting analysis of file 2017-08-28__12~35~05_apple53_pf_gain~4_speed~1.0_bout~20_DC~0.0_traj.bag , 79 / 168 files\n",
      "Elapsed time: 7.047679 seconds.\n",
      "\n",
      "starting analysis of file 2017-08-07__19~28~41_apple41_00_odour_wind_gain~4_speed~1.0_bout~20_DC~0.03_traj.bag , 80 / 168 files\n",
      "Elapsed time: 4.350525 seconds.\n",
      "\n",
      "starting analysis of file 2017-08-25__18~58~07_apple49_00_odour_gain~8_speed~1.0_bout~20_DC~-0.0_traj.bag , 81 / 168 files\n",
      "Elapsed time: 0.645451 seconds.\n",
      "\n",
      "starting analysis of file 2017-08-26__17~18~20_apple50_pf_gain~8_speed~1.0_bout~20_DC~0.0_traj.bag , 82 / 168 files\n",
      "Elapsed time: 1.517544 seconds.\n",
      "\n",
      "starting analysis of file 2017-08-23__18~11~21_haw16_00_odour_wind_gain~8_speed~1.0_bout~20_DC~0.21_traj.bag , 83 / 168 files\n",
      "Elapsed time: 0.636954 seconds.\n",
      "\n",
      "starting analysis of file 2017-08-21__15~35~09_apple47_00_odour_gain~8_speed~1.0_bout~20_DC~0.18_traj.bag , 84 / 168 files\n",
      "Elapsed time: 3.491282 seconds.\n",
      "\n",
      "starting analysis of file 2017-08-28__14~08~00_apple53_00_odour_gain~8_speed~1.0_bout~20_DC~-0.1_traj.bag , 85 / 168 files\n",
      "Elapsed time: 7.510978 seconds.\n",
      "\n",
      "starting analysis of file 2017-08-21__14~28~35_apple47_01_gain~8_speed~1.0_bout~10_DC~0.25_traj.bag , 86 / 168 files\n",
      "Elapsed time: 2.714947 seconds.\n",
      "\n",
      "starting analysis of file 2017-08-04__16~48~43_apple39_00_odour_gain~8_speed~1.0_bout~10_DC~0.0_traj.bag , 87 / 168 files\n",
      "Elapsed time: 3.901662 seconds.\n",
      "\n",
      "starting analysis of file 2017-08-23__15~12~33_haw16_00_wind_gain~8_speed~1.0_bout~20_DC~0.4_traj.bag , 88 / 168 files\n",
      "Elapsed time: 8.786031 seconds.\n",
      "\n",
      "starting analysis of file 2017-08-17__14~26~17_apple44_00_wind_null_gain~8_speed~1.0_bout~10_DC~0.19_traj.bag , 89 / 168 files\n",
      "Elapsed time: 4.177418 seconds.\n",
      "\n",
      "starting analysis of file 2017-08-07__18~40~27_apple41_pf_gain~4_speed~1.0_bout~20_DC~0.03_traj.bag , 90 / 168 files\n",
      "Elapsed time: 3.681356 seconds.\n",
      "\n",
      "starting analysis of file 2017-08-28__12~16~55_apple53_00_wind_gain~4_speed~1.0_bout~20_DC~0.0_traj.bag , 91 / 168 files\n",
      "Elapsed time: 5.928145 seconds.\n",
      "\n",
      "starting analysis of file 2017-08-21__14~37~12_apple47_00_wind_gain~8_speed~1.0_bout~20_DC~0.28_traj.bag , 92 / 168 files\n",
      "Elapsed time: 3.298678 seconds.\n",
      "\n",
      "starting analysis of file 2017-08-23__16~30~56_haw16_pf_gain~8_speed~1.0_bout~20_DC~0.21_traj.bag , 93 / 168 files\n",
      "Elapsed time: 2.713834 seconds.\n",
      "\n",
      "starting analysis of file 2017-08-07__17~35~24_apple41_00_odour_wind_gain~4_speed~1.0_bout~20_DC~0.03_traj.bag , 94 / 168 files\n",
      "Elapsed time: 5.226650 seconds.\n",
      "\n",
      "starting analysis of file 2017-08-28__13~58~22_apple53_00_wind_gain~4_speed~1.0_bout~20_DC~-0.1_traj.bag , 95 / 168 files\n",
      "Elapsed time: 3.429557 seconds.\n",
      "\n",
      "starting analysis of file 2017-08-07__16~00~08_apple41_00_wind_gain~8_speed~1.0_bout~20_DC~0.03_traj.bag , 96 / 168 files\n",
      "Elapsed time: 3.443268 seconds.\n",
      "\n",
      "starting analysis of file 2017-08-18__15~26~24_apple45_00_wind_null_gain~8_speed~1.0_bout~10_DC~-0.223_traj.bag , 97 / 168 files\n",
      "Elapsed time: 3.857888 seconds.\n",
      "\n",
      "starting analysis of file 2017-08-02__16~07~20_apple38_00_wind_gain~8_speed~1.0_bout~15_DC~0.0_traj.bag , 98 / 168 files\n",
      "Elapsed time: 10.275074 seconds.\n",
      "\n",
      "starting analysis of file 2017-08-28__13~33~57_apple53_00_wind_gain~4_speed~1.0_bout~20_DC~0.003_traj.bag , 99 / 168 files\n",
      "Elapsed time: 10.827297 seconds.\n",
      "\n",
      "starting analysis of file 2017-08-21__16~24~44_apple47_00_wind_gain~8_speed~1.0_bout~30_DC~0.1_traj.bag , 100 / 168 files\n",
      "Elapsed time: 11.414118 seconds.\n",
      "\n",
      "starting analysis of file 2017-07-31__17~26~42_haw15_00_wind_gain~8_speed~1.0_bout~15_DC~-0.086_traj.bag , 101 / 168 files\n",
      "Elapsed time: 6.964887 seconds.\n",
      "\n",
      "starting analysis of file 2017-08-26__16~50~32_apple50_01_gain~8_speed~1.0_bout~10_DC~-0.0_traj.bag , 102 / 168 files\n",
      "Elapsed time: 1.663565 seconds.\n",
      "\n",
      "starting analysis of file 2017-08-02__16~55~46_apple38_00_wind_gain~8_speed~1.0_bout~15_DC~0.115_traj.bag , 103 / 168 files\n",
      "Elapsed time: 1.927965 seconds.\n",
      "\n",
      "starting analysis of file 2017-08-28__13~36~14_apple53_00_odour_gain~4_speed~1.0_bout~20_DC~0.003_traj.bag , 104 / 168 files\n",
      "Elapsed time: 9.055090 seconds.\n",
      "\n",
      "starting analysis of file 2017-08-07__19~01~40_apple41_00_odour_wind_gain~4_speed~1.0_bout~20_DC~0.03_traj.bag , 105 / 168 files\n",
      "Elapsed time: 6.485960 seconds.\n",
      "\n",
      "starting analysis of file 2017-08-28__13~23~02_apple53_pf_gain~4_speed~1.0_bout~20_DC~-0.1_traj.bag , 106 / 168 files\n",
      "Elapsed time: 7.064320 seconds.\n",
      "\n",
      "starting analysis of file 2017-07-31__18~28~03_haw15_00_odour_wind_gain~8_speed~1.0_bout~30_DC~-0.086_traj.bag , 107 / 168 files\n",
      "Elapsed time: 9.103202 seconds.\n",
      "\n",
      "starting analysis of file 2017-08-28__12~12~10_apple53_01_gain~4_speed~1.0_bout~10_DC~0.0_traj.bag , 108 / 168 files\n",
      "Elapsed time: 3.683838 seconds.\n",
      "\n",
      "starting analysis of file 2017-08-21__15~21~34_apple47_00_odour_wind_gain~8_speed~1.0_bout~20_DC~0.28_traj.bag , 109 / 168 files\n",
      "Elapsed time: 11.746311 seconds.\n",
      "\n",
      "starting analysis of file 2017-08-07__16~34~31_apple41_00_odour_wind_gain~4_speed~1.0_bout~20_DC~0.03_traj.bag , 110 / 168 files\n",
      "Elapsed time: 4.623072 seconds.\n",
      "\n",
      "starting analysis of file 2017-07-31__17~20~48_haw15_00_wind_gain~8_speed~1.0_bout~15_DC~-0.086_traj.bag , 111 / 168 files\n",
      "Elapsed time: 5.384427 seconds.\n",
      "\n",
      "starting analysis of file 2017-08-18__15~30~40_apple45_pf_gain~25_speed~1.0_bout~10_DC~-0.223_traj.bag , 112 / 168 files\n",
      "Elapsed time: 1.177141 seconds.\n",
      "\n",
      "starting analysis of file 2017-08-21__14~33~26_apple47_01_gain~8_speed~1.0_bout~10_DC~0.28_traj.bag , 113 / 168 files\n",
      "Elapsed time: 2.060891 seconds.\n",
      "\n",
      "starting analysis of file 2017-08-25__18~46~42_apple49_00_odour_gain~8_speed~1.0_bout~20_DC~-0.0_traj.bag , 114 / 168 files\n",
      "Elapsed time: 0.695027 seconds.\n",
      "\n",
      "starting analysis of file 2017-08-21__15~33~04_apple47_00_odour_gain~8_speed~1.0_bout~20_DC~0.28_traj.bag , 115 / 168 files\n",
      "Elapsed time: 1.652613 seconds.\n",
      "\n",
      "starting analysis of file 2017-08-21__15~55~55_apple47_00_odour_wind_gain~8_speed~1.0_bout~20_DC~0.07_traj.bag , 116 / 168 files\n",
      "Elapsed time: 1.805914 seconds.\n",
      "\n",
      "starting analysis of file 2017-08-21__14~46~37_apple47_00_wind_null_gain~8_speed~1.0_bout~20_DC~0.28_traj.bag , 117 / 168 files\n",
      "Elapsed time: 9.246267 seconds.\n",
      "\n",
      "starting analysis of file 2017-08-04__16~34~23_apple39_11_gain~8_speed~1.0_bout~10_DC~0.0_traj.bag , 118 / 168 files\n",
      "Elapsed time: 3.829390 seconds.\n",
      "\n",
      "starting analysis of file 2017-08-02__15~44~18_apple38_00_wind_gain~8_speed~1.0_bout~15_DC~0.0_traj.bag , 119 / 168 files\n",
      "Elapsed time: 2.207988 seconds.\n",
      "\n",
      "starting analysis of file 2017-08-25__18~41~52_apple49_00_odour_wind_gain~8_speed~1.0_bout~20_DC~-0.0_traj.bag , 120 / 168 files\n",
      "Elapsed time: 1.519439 seconds.\n",
      "\n",
      "starting analysis of file 2017-08-26__16~56~30_apple50_00_wind_gain~8_speed~1.0_bout~20_DC~-0.0_traj.bag , 121 / 168 files\n",
      "Elapsed time: 6.271369 seconds.\n",
      "\n",
      "starting analysis of file 2017-08-26__17~12~07_apple50_00_wind_gain~8_speed~1.0_bout~20_DC~-0.0_traj.bag , 122 / 168 files\n",
      "Elapsed time: 1.666955 seconds.\n",
      "\n",
      "starting analysis of file 2017-08-21__16~11~00_apple47_pf_gain~8_speed~1.0_bout~30_DC~0.07_traj.bag , 123 / 168 files\n",
      "Elapsed time: 13.396097 seconds.\n",
      "\n",
      "starting analysis of file 2017-08-07__17~14~16_apple41_pf_gain~4_speed~1.0_bout~20_DC~0.03_traj.bag , 124 / 168 files\n",
      "Elapsed time: 1.661323 seconds.\n",
      "\n",
      "starting analysis of file 2017-08-08__18~18~12_apple42_00_wind_gain~8_speed~1.0_bout~20_DC~0.27_traj.bag , 125 / 168 files\n",
      "Elapsed time: 3.605447 seconds.\n",
      "\n",
      "starting analysis of file 2017-08-07__15~27~37_apple41_00_odour_gain~8_speed~1.0_bout~10_DC~0.03_traj.bag , 126 / 168 files\n",
      "Elapsed time: 3.951233 seconds.\n",
      "\n",
      "starting analysis of file 2017-08-28__13~18~57_apple53_pf_gain~4_speed~1.0_bout~20_DC~-0.1_traj.bag , 127 / 168 files\n",
      "Elapsed time: 1.711318 seconds.\n",
      "\n",
      "starting analysis of file 2017-07-31__17~08~44_haw15_00_wind_gain~8_speed~1.0_bout~15_DC~0.0_traj.bag , 128 / 168 files\n",
      "Elapsed time: 5.714571 seconds.\n",
      "\n",
      "starting analysis of file 2017-07-31__18~01~55_haw15_00_odour_gain~8_speed~1.0_bout~15_DC~-0.086_traj.bag , 129 / 168 files\n",
      "Elapsed time: 8.740319 seconds.\n",
      "\n",
      "starting analysis of file 2017-08-02__16~43~21_apple38_00_odour_wind_gain~8_speed~1.0_bout~15_DC~0.0_traj.bag , 130 / 168 files\n",
      "Elapsed time: 5.589356 seconds.\n",
      "\n",
      "starting analysis of file 2017-08-28__14~41~48_apple53_00_odour_wind_null_gain~8_speed~1.0_bout~20_DC~0.0_traj.bag , 131 / 168 files\n",
      "Elapsed time: 7.472245 seconds.\n",
      "\n",
      "starting analysis of file 2017-07-31__18~37~36_haw15_00_odour_wind_gain~8_speed~1.0_bout~30_DC~-0.086_traj.bag , 132 / 168 files\n",
      "Elapsed time: 10.745833 seconds.\n",
      "\n",
      "starting analysis of file 2017-08-07__18~54~04_apple41_00_odour_gain~4_speed~1.0_bout~20_DC~0.03_traj.bag , 133 / 168 files\n",
      "Elapsed time: 7.808464 seconds.\n",
      "\n",
      "starting analysis of file 2017-08-28__12~31~19_apple53_pf_gain~4_speed~1.0_bout~20_DC~0.0_traj.bag , 134 / 168 files\n",
      "Elapsed time: 3.929604 seconds.\n",
      "\n",
      "starting analysis of file 2017-08-23__18~47~15_haw16_00_wind_gain~8_speed~1.0_bout~20_DC~0.21_traj.bag , 135 / 168 files\n",
      "Elapsed time: 10.005720 seconds.\n",
      "\n",
      "starting analysis of file 2017-08-08__17~58~39_apple42_00_wind_null_gain~8_speed~1.0_bout~20_DC~0.27_traj.bag , 136 / 168 files\n",
      "Elapsed time: 7.817262 seconds.\n",
      "\n",
      "starting analysis of file 2017-08-02__15~37~57_apple38_01_gain~8_speed~1.0_bout~15_DC~0.0_traj.bag , 137 / 168 files\n",
      "Elapsed time: 3.665742 seconds.\n",
      "\n",
      "starting analysis of file 2017-08-07__15~42~59_apple41_00_odour_wind_gain~8_speed~1.0_bout~20_DC~0.03_traj.bag , 138 / 168 files\n",
      "Elapsed time: 1.817547 seconds.\n",
      "\n",
      "starting analysis of file 2017-08-02__16~17~21_apple38_pf_odour_gain~8_speed~1.0_bout~15_DC~0.0_traj.bag , 139 / 168 files\n",
      "Elapsed time: 6.823227 seconds.\n",
      "\n",
      "starting analysis of file 2017-08-08__17~43~27_apple42_00_wind_null_gain~8_speed~1.0_bout~20_DC~0.41_traj.bag , 140 / 168 files\n",
      "Elapsed time: 3.375990 seconds.\n",
      "\n",
      "starting analysis of file 2017-08-23__18~17~47_haw16_00_odour_wind_gain~8_speed~1.0_bout~20_DC~0.21_traj.bag , 141 / 168 files\n",
      "Elapsed time: 1.363396 seconds.\n",
      "\n",
      "starting analysis of file 2017-08-26__17~29~29_apple51_01_gain~8_speed~1.0_bout~10_DC~0.0_traj.bag , 142 / 168 files\n",
      "Elapsed time: 2.286260 seconds.\n",
      "\n",
      "starting analysis of file 2017-07-31__18~11~19_haw15_00_odour_wind_gain~8_speed~1.0_bout~15_DC~-0.086_traj.bag , 143 / 168 files\n",
      "Elapsed time: 10.940406 seconds.\n",
      "\n",
      "starting analysis of file 2017-08-07__17~16~39_apple41_pf_gain~4_speed~1.0_bout~20_DC~0.03_traj.bag , 144 / 168 files\n",
      "Elapsed time: 4.604970 seconds.\n",
      "\n",
      "starting analysis of file 2017-08-18__16~41~51_apple46_00_wind_gain~8_speed~1.0_bout~10_DC~-0.312_traj.bag , 145 / 168 files\n",
      "Elapsed time: 3.237404 seconds.\n",
      "\n",
      "starting analysis of file 2017-08-25__18~22~29_apple49_00_wind_gain~8_speed~1.0_bout~20_DC~-0.0_traj.bag , 146 / 168 files\n",
      "Elapsed time: 4.430476 seconds.\n",
      "\n",
      "starting analysis of file 2017-08-01__15~57~18_apple36_00_wind_gain~8_speed~1.0_bout~15_DC~-0.076_traj.bag , 147 / 168 files\n",
      "Elapsed time: 2.440034 seconds.\n",
      "\n",
      "starting analysis of file 2017-08-07__16~26~58_apple41_00_wind_null_gain~4_speed~1.0_bout~20_DC~0.03_traj.bag , 148 / 168 files\n",
      "Elapsed time: 4.675136 seconds.\n",
      "\n",
      "starting analysis of file 2017-08-25__18~09~35_apple49_00_wind_gain~8_speed~1.0_bout~20_DC~-0.0_traj.bag , 149 / 168 files\n",
      "Elapsed time: 7.849186 seconds.\n",
      "\n",
      "starting analysis of file 2017-08-08__17~52~35_apple42_00_wind_null_gain~8_speed~1.0_bout~20_DC~0.27_traj.bag , 150 / 168 files\n",
      "Elapsed time: 5.602295 seconds.\n",
      "\n",
      "starting analysis of file 2017-08-23__15~51~40_haw16_00_wind_gain~8_speed~1.0_bout~20_DC~0.4_traj.bag , 151 / 168 files\n",
      "Elapsed time: 11.837270 seconds.\n",
      "\n",
      "starting analysis of file 2017-08-21__15~38~38_apple47_00_odour_gain~8_speed~1.0_bout~20_DC~0.14_traj.bag , 152 / 168 files\n",
      "Elapsed time: 3.287327 seconds.\n",
      "\n",
      "starting analysis of file 2017-08-07__17~29~56_apple41_00_odour_gain~4_speed~1.0_bout~20_DC~0.03_traj.bag , 153 / 168 files\n",
      "Elapsed time: 4.743233 seconds.\n",
      "\n",
      "starting analysis of file 2017-08-21__14~21~09_apple47_01_gain~8_speed~1.0_bout~10_DC~0.202_traj.bag , 154 / 168 files\n",
      "Elapsed time: 1.688911 seconds.\n",
      "\n",
      "starting analysis of file 2017-08-23__18~13~05_haw16_00_odour_wind_gain~8_speed~1.0_bout~20_DC~0.21_traj.bag , 155 / 168 files\n",
      "Elapsed time: 4.592987 seconds.\n",
      "\n",
      "starting analysis of file 2017-08-21__15~45~48_apple47_00_odour_gain~8_speed~1.0_bout~20_DC~0.07_traj.bag , 156 / 168 files\n",
      "Elapsed time: 10.213621 seconds.\n",
      "\n",
      "starting analysis of file 2017-08-25__18~44~24_apple49_00_odour_gain~8_speed~1.0_bout~20_DC~-0.0_traj.bag , 157 / 168 files\n",
      "Elapsed time: 1.401912 seconds.\n",
      "\n",
      "starting analysis of file 2017-08-18__15~33~23_apple45_pf_gain~25_speed~1.0_bout~10_DC~-0.223_traj.bag , 158 / 168 files\n",
      "Elapsed time: 2.553781 seconds.\n",
      "\n",
      "starting analysis of file 2017-08-07__15~17~11_apple41_01_gain~8_speed~1.0_bout~10_DC~0.03_traj.bag , 159 / 168 files\n",
      "Elapsed time: 3.441443 seconds.\n",
      "\n",
      "starting analysis of file 2017-08-02__16~03~48_apple38_00_wind_gain~8_speed~1.0_bout~15_DC~0.0_traj.bag , 160 / 168 files\n",
      "Elapsed time: 3.223700 seconds.\n",
      "\n",
      "starting analysis of file 2017-08-07__15~20~41_apple41_pf_gain~8_speed~1.0_bout~10_DC~0.03_traj.bag , 161 / 168 files\n",
      "Elapsed time: 7.067101 seconds.\n",
      "\n",
      "starting analysis of file 2017-08-28__14~15~50_apple53_00_odour_wind_gain~8_speed~1.0_bout~20_DC~-0.1_traj.bag , 162 / 168 files\n",
      "Elapsed time: 1.887143 seconds.\n",
      "\n",
      "starting analysis of file 2017-08-08__18~39~33_apple42_00_wind_gain~8_speed~1.0_bout~20_DC~0.345_traj.bag , 163 / 168 files\n",
      "Elapsed time: 1.017917 seconds.\n",
      "\n",
      "starting analysis of file 2017-08-22__15~41~29_apple48_11_gain~16_speed~1.0_bout~10_DC~0.16_traj.bag , 164 / 168 files\n",
      "Elapsed time: 3.137399 seconds.\n",
      "\n",
      "starting analysis of file 2017-07-31__17~50~59_haw15_00_wind_gain~8_speed~1.0_bout~15_DC~-0.086_traj.bag , 165 / 168 files\n",
      "Elapsed time: 8.941731 seconds.\n",
      "\n",
      "starting analysis of file 2017-08-08__18~26~51_apple42_00_wind_gain~8_speed~1.0_bout~20_DC~0.345_traj.bag , 166 / 168 files\n",
      "Elapsed time: 7.828193 seconds.\n",
      "\n",
      "starting analysis of file 2017-08-08__18~34~35_apple42_00_wind_gain~8_speed~1.0_bout~20_DC~0.345_traj.bag , 167 / 168 files\n",
      "Elapsed time: 3.438632 seconds.\n",
      "\n",
      "starting analysis of file 2017-08-18__15~08~33_apple45_01_gain~8_speed~1.0_bout~10_DC~-0.223_traj.bag , 168 / 168 files\n",
      "'topics' /home/rhagoletis/catkin/src/World/bags/traj/2017-08-18__15~08~33_apple45_01_gain~8_speed~1.0_bout~10_DC~-0.223_traj.bag\n",
      "Elapsed time: 1.457598 seconds.\n",
      "\n",
      "\n",
      "analysis of 168 files complete\n"
     ]
    }
   ],
   "source": [
    "def bagDir2df():\n",
    "    \n",
    "    foldPath= easygui.diropenbox(    default=\"/home/rhagoletis/catkin/src/World/bags/\")\n",
    "    matches = []\n",
    "    for root, dirnames, filenames in os.walk(foldPath):\n",
    "        for filename in fnmatch.filter(filenames, '*.bag'):\n",
    "            matches.append(os.path.join(root, filename))\n",
    "    matches\n",
    "    bag2df(paths=matches)\n",
    "\n",
    "bagDir2df()"
   ]
  },
  {
   "cell_type": "code",
   "execution_count": null,
   "metadata": {
    "collapsed": true
   },
   "outputs": [],
   "source": [
    "import rosbag_pandas\n"
   ]
  },
  {
   "cell_type": "code",
   "execution_count": null,
   "metadata": {
    "collapsed": true
   },
   "outputs": [],
   "source": [
    "rosbag_pandas."
   ]
  },
  {
   "cell_type": "code",
   "execution_count": null,
   "metadata": {
    "collapsed": true
   },
   "outputs": [],
   "source": [
    "pick=depickler(paths[0].split('.bag')[0])\n"
   ]
  },
  {
   "cell_type": "code",
   "execution_count": null,
   "metadata": {
    "collapsed": false
   },
   "outputs": [],
   "source": [
    "df.to_csv('f.csv')"
   ]
  },
  {
   "cell_type": "code",
   "execution_count": null,
   "metadata": {
    "collapsed": false
   },
   "outputs": [],
   "source": [
    "'''\n",
    "Load  bag filesto make into respective dataframes\n",
    "1726819\n",
    "'''\n",
    "defaultPath=\"/home/rhagoletis/catkin/src/beginner/scripts/panda/world/bags/\"\n",
    "paths=easygui.fileopenbox(title=\"Bags to Dataframes\"\n",
    "                          ,default=defaultPath,\n",
    "                          multiple=True,filetypes=[\"*traj.bag\"])\n",
    "print paths, \"\\n\"\n",
    "metadata=None\n",
    "\n",
    "i=1\n",
    "for path in paths:\n",
    "    tic()\n",
    "    print \"starting analysis of file %s , %s / %s files\" %(path.split('/')[-1],i,len(paths))\n",
    "    df=rosbag_pandas.bag_to_dataframe(path,include=['/trajectory'])\n",
    "    bag=rosbag.Bag(path)\n",
    "    \n",
    "#     try:\n",
    "#         for topic,msg,t in bag.read_messages(topics='/metadata'):\n",
    "#             a=msg\n",
    "# #         parameters=json.loads(a.data)\n",
    "# #         metadata={\"meta\":parameters}\n",
    "#         metadata=json.loads(a.data)\n",
    "\n",
    "#     except :\n",
    "#         print \"no such file!\"\n",
    "            \n",
    "#     obj=dict(df=df,metadata=metadata)\n",
    "    \n",
    "#     picklepath=path+\"_df.pickle\"\n",
    "#     pickler(obj,picklepath)\n",
    "# #     df.to_pickle(picklepath)\n",
    "    \n",
    "    i+=1\n",
    "    toc()\n",
    "print \"\\nanalysis of %s files complete\" %len(paths)\n"
   ]
  },
  {
   "cell_type": "code",
   "execution_count": null,
   "metadata": {
    "collapsed": false
   },
   "outputs": [],
   "source": [
    "df"
   ]
  },
  {
   "cell_type": "code",
   "execution_count": null,
   "metadata": {
    "collapsed": false
   },
   "outputs": [],
   "source": [
    "parameters=obj['metadata']['parameters']\n",
    "print parameters"
   ]
  },
  {
   "cell_type": "code",
   "execution_count": null,
   "metadata": {
    "collapsed": false
   },
   "outputs": [],
   "source": [
    "\n",
    "df[['trajectory__object1Pos_x', 'trajectory__object1Pos_y']]"
   ]
  },
  {
   "cell_type": "code",
   "execution_count": null,
   "metadata": {
    "collapsed": false
   },
   "outputs": [],
   "source": [
    "# plt.scatter(df.trajectory__position_x,df.trajectory__position_y)\n",
    "# plt.show()\n",
    "# df.trajectory__wbad.plot()\n",
    "# df.trajectory__wbas.plot()\n",
    "a=(pd.rolling_mean(df.trajectory__wbas,30))\n",
    "a.plot()\n",
    "df.trajectory__reset.plot()\n",
    "plt.show()"
   ]
  },
  {
   "cell_type": "code",
   "execution_count": null,
   "metadata": {
    "collapsed": false
   },
   "outputs": [],
   "source": [
    "df"
   ]
  },
  {
   "cell_type": "code",
   "execution_count": null,
   "metadata": {
    "collapsed": false
   },
   "outputs": [],
   "source": [
    "\n",
    "def analyser(winTitle):\n",
    "    \n",
    "    '''\n",
    "    takes window title input and returns average \n",
    "    compensation during stimulus period for each speed as a df\n",
    "    '''\n",
    "    #unknown rare bug, shabby fix\n",
    "    df.trajectory__impose[0]=0\n",
    "    \n",
    "    impose=df.trajectory__impose.copy()\n",
    "    impose[df.trajectory__impose==0]=1 #replace impose zero with one fordiv by zero\n",
    "    compensation=df.trajectory__imposeResponse/impose\n",
    "    df.trajectory__imposeResponseSmooth=pd.rolling_mean(df.trajectory__imposeResponse,window=165)\n",
    "    compensationSmooth=df.trajectory__imposeResponseSmooth/impose\n",
    "\n",
    "    cp = pd.DataFrame(index=compensation.index,columns=['a'])\n",
    "\n",
    "    #flips are position where there is a rise or fall\n",
    "    flips=np.sign(np.diff(df.trajectory__impose))\n",
    "\n",
    "    #impose is impose df without first element\n",
    "    impose=df.trajectory__impose.drop(df.trajectory__impose.index[0])\n",
    "\n",
    "    #cw is clockWise, ccw is Counter clockwise\n",
    "    #start and stop are positions where the impose starts or stops\n",
    "    #start(stop) is zero everywhere except when there is the respective start(stop) event\n",
    "    ccwStart=np.logical_and((flips==1) , (impose>0))\n",
    "    ccwStop=np.logical_and((flips==-1) , (impose==0))\n",
    "    cwStart=np.logical_and((flips==-1) , (impose<0))\n",
    "    cwStop=np.logical_and((flips==1) , (impose==0))\n",
    "\n",
    "#     plt.plot(np.array(impose),'r')\n",
    "#     plt.plot(np.array(flips),'g')\n",
    "#     plt.plot(np.array(ccwStart)*1,'b')\n",
    "#     plt.plot(np.array(ccwStop)*1,'k')\n",
    "#     plt.plot(np.array(cwStart)*1,'m')\n",
    "#     plt.plot(np.array(cwStop)*1,'y')\n",
    "#     print ccwStart.shape,ccwStop.shape\n",
    "#     print cwStart.shape,cwStop.shape\n",
    "#     plt.show()\n",
    "\n",
    "    #(c)cwStart(stop)Index is just those positions where flips occured\n",
    "\n",
    "    ccwStartIndex= ccwStart[ccwStart==1]\n",
    "    cwStartIndex= cwStart[cwStart==1]\n",
    "    ccwStopIndex= ccwStop[ccwStop==1]\n",
    "    cwStopIndex= cwStop[cwStop==1]\n",
    "#     print ccwStartIndex.shape,ccwStopIndex.shape\n",
    "#     print cwStartIndex.shape,cwStopIndex.shape\n",
    "\n",
    "#     print ccwStartIndex,ccwStopIndex\n",
    "#     print cwStartIndex,cwStopIndex\n",
    "\n",
    "\n",
    "    #compensationMean is a df who is zero when impose is false, \n",
    "    # and has mean value of compensation during the corresponding impose\n",
    "    compensationMean = pd.DataFrame(index=compensation.index,columns=['mean']) #empty df with same index\n",
    "\n",
    "    # print compensation\n",
    "    def compMean(start,stop,compIn,compOut):\n",
    "        consol=pd.DataFrame(columns=['fly','gain','impose','compensation'])\n",
    "\n",
    "\n",
    "        print \"calculating Mean\"\n",
    "        #if there are more starts than stop because of abrupt ending while recording\n",
    "        #remove the last start event\n",
    "        \n",
    "        #remove the last events to remove noise\n",
    "        start=start[:-1]\n",
    "        stop=stop[:-1]\n",
    "\n",
    "        try: \n",
    "            assert len(start)==len(stop)\n",
    "        except AssertionError:\n",
    "            print 'assertion error'\n",
    "            start=start[:-1] \n",
    "\n",
    "        for i in range(len(stop)):\n",
    "#             print \"impose is\",df.trajectory__impose[start.index[i]]\n",
    "#             print \"gain is\",df.trajectory__gain[start.index[i]]\n",
    "\n",
    "\n",
    "#             print \"i mean is\",compIn.ix[start.index[i]:stop.index[i]].mean()\n",
    "            currCompensationMean=compIn.ix[start.index[i]:stop.index[i]].mean()\n",
    "            compOut.ix[start.index[i]:stop.index[i]]=currCompensationMean\n",
    "            curr=pd.DataFrame([{'fly':parameters['fly'],\n",
    "                                                 \"gain\":df.trajectory__gain[start.index[i]],\n",
    "                                                 \"impose\":df.trajectory__impose[start.index[i]],\n",
    "                                                 'compensation':currCompensationMean}])\n",
    "            consol=consol.append(curr,ignore_index=True)        \n",
    "        cols=['fly','gain','impose','compensation']\n",
    "        consol=consol[cols]\n",
    "#         print \"total measn were\",i+1\n",
    "        return consol\n",
    "\n",
    "    cw=compMean(cwStartIndex,cwStopIndex,compensation,cp)\n",
    "    ccw=compMean(ccwStartIndex,ccwStopIndex,compensation,cp)\n",
    "    \n",
    "    \n",
    "    \n",
    "    plt.plot(df.trajectory__imposeResponseSmooth,c=(0,0,1,0.2),label='imposeResponseSmooth')\n",
    "#     plt.plot(compensationSmooth,c=(1,0,0,0.6),label='compensationSmooth')\n",
    "    plt.plot(df.trajectory__impose,label='impose')\n",
    "    plt.plot(cp,'g',label='compensationMean')\n",
    "    plt.axhline(y=1)\n",
    "    plt.title(winTitle)\n",
    "    plt.legend()\n",
    "    plt.show()\n",
    "    \n",
    "    return ccw, cw\n"
   ]
  },
  {
   "cell_type": "code",
   "execution_count": null,
   "metadata": {
    "collapsed": false
   },
   "outputs": [],
   "source": [
    "\n",
    "def analyser2(winTitle):\n",
    "    \n",
    "    '''\n",
    "    takes window title input and returns average \n",
    "    compensation during stimulus period for each speed as a df\n",
    "    '''\n",
    "    #unknown rare bug, shabby fix\n",
    "    df.trajectory__impose[0]=0\n",
    "    \n",
    "    impose=df.trajectory__impose.copy()\n",
    "    impose[df.trajectory__impose==0]=1 #replace impose zero with one fordiv by zero\n",
    "    imposeSign=np.sign(impose)\n",
    "#     imposeSign[imposeSign==0]=1\n",
    "#     compensation=(df.trajectory__imposeResponse-df.trajectory__impose)#*imposeSign\n",
    "#     compensation=(df.trajectory__imposeResponse-df.trajectory__impose)*imposeSign/abs(impose)\n",
    "    compensation=(df.trajectory__impose-df.trajectory__imposeResponse)\n",
    "\n",
    "\n",
    "    \n",
    "    df.trajectory__imposeResponseSmooth=pd.rolling_mean(df.trajectory__imposeResponse,window=10)\n",
    "    compensationSmooth=df.trajectory__impose-df.trajectory__imposeResponseSmooth\n",
    "\n",
    "    cp = pd.DataFrame(index=compensation.index,columns=['a'])\n",
    "\n",
    "    #flips are position where there is a rise or fall\n",
    "    flips=np.sign(np.diff(df.trajectory__impose))\n",
    "\n",
    "    #impose is impose df without first element\n",
    "    impose=df.trajectory__impose.drop(df.trajectory__impose.index[0])\n",
    "\n",
    "    #cw is clockWise, ccw is Counter clockwise\n",
    "    #start and stop are positions where the impose starts or stops\n",
    "    #start(stop) is zero everywhere except when there is the respective start(stop) event\n",
    "    ccwStart=np.logical_and((flips==1) , (impose>0))\n",
    "    ccwStop=np.logical_and((flips==-1) , (impose==0))\n",
    "    cwStart=np.logical_and((flips==-1) , (impose<0))\n",
    "    cwStop=np.logical_and((flips==1) , (impose==0))\n",
    "\n",
    "#     plt.plot(np.array(impose),'r')\n",
    "#     plt.plot(np.array(flips),'g')\n",
    "#     plt.plot(np.array(ccwStart)*1,'b')\n",
    "#     plt.plot(np.array(ccwStop)*1,'k')\n",
    "#     plt.plot(np.array(cwStart)*1,'m')\n",
    "#     plt.plot(np.array(cwStop)*1,'y')\n",
    "#     print ccwStart.shape,ccwStop.shape\n",
    "#     print cwStart.shape,cwStop.shape\n",
    "#     plt.show()\n",
    "\n",
    "    #(c)cwStart(stop)Index is just those positions where flips occured\n",
    "\n",
    "    ccwStartIndex= ccwStart[ccwStart==1]\n",
    "    cwStartIndex= cwStart[cwStart==1]\n",
    "    ccwStopIndex= ccwStop[ccwStop==1]\n",
    "    cwStopIndex= cwStop[cwStop==1]\n",
    "#     print ccwStartIndex.shape,ccwStopIndex.shape\n",
    "#     print cwStartIndex.shape,cwStopIndex.shape\n",
    "\n",
    "#     print ccwStartIndex,ccwStopIndex\n",
    "#     print cwStartIndex,cwStopIndex\n",
    "\n",
    "\n",
    "    #compensationMean is a df who is zero when impose is false, \n",
    "    # and has mean value of compensation during the corresponding impose\n",
    "    compensationMean = pd.DataFrame(index=compensation.index,columns=['mean']) #empty df with same index\n",
    "\n",
    "    # print compensation\n",
    "    def compMean(start,stop,compIn,compOut):\n",
    "        consol=pd.DataFrame(columns=['fly','gain','impose','compensation','error'])\n",
    "\n",
    "\n",
    "#         print \"calculating Mean\"\n",
    "        #if there are more starts than stop because of abrupt ending while recording\n",
    "        #remove the last start event\n",
    "        \n",
    "        #remove the last events to remove noise\n",
    "        start=start[:-1]\n",
    "        stop=stop[:-1]\n",
    "\n",
    "        try: \n",
    "            assert len(start)==len(stop)\n",
    "        except AssertionError:\n",
    "#             print 'assertion error'\n",
    "            start=start[:-1] \n",
    "\n",
    "        for i in range(len(stop)):\n",
    "#             print \"impose is\",df.trajectory__impose[start.index[i]]\n",
    "#             print \"gain is\",df.trajectory__gain[start.index[i]]\n",
    "\n",
    "\n",
    "#             print \"i mean is\",compIn.ix[start.index[i]:stop.index[i]].mean()\n",
    "            currCompensationMean=compIn.ix[start.index[i]:stop.index[i]].mean()\n",
    "            currErrorMean=compIn.ix[start.index[i]:stop.index[i]].std()\n",
    "        \n",
    "            compOut.ix[start.index[i]:stop.index[i]]=currCompensationMean\n",
    "            curr=pd.DataFrame([{'fly':parameters['fly'],\n",
    "                                                 \"gain\":df.trajectory__gain[start.index[i]],\n",
    "                                                 \"impose\":df.trajectory__impose[start.index[i]],\n",
    "                                                 'compensation':currCompensationMean,\"error\":currErrorMean}])\n",
    "            consol=consol.append(curr,ignore_index=True)        \n",
    "        cols=['fly','gain','impose','compensation','error']\n",
    "        consol=consol[cols]\n",
    "#         print \"total measn were\",i+1\n",
    "        return consol\n",
    "\n",
    "    cw=compMean(cwStartIndex,cwStopIndex,compensation,cp)\n",
    "    ccw=compMean(ccwStartIndex,ccwStopIndex,compensation,cp)\n",
    "    \n",
    "    \n",
    "#     plt.figure()\n",
    "#     plt.plot(df.trajectory__imposeResponseSmooth,c=(0,0,0.7,0.3),lw=2,label='imposeResponseSmooth')\n",
    "# #     plt.plot(df.trajectory__imposeResponse,c=(0,0,1,0.2),label='imposeResponse')\n",
    "#     plt.plot(compensationSmooth,c=(1,0,0,0.5),lw=1,label='compensationSmooth')\n",
    "# #     plt.plot(compensation,c=(1,0,0,0.6),label='compensation')\n",
    "\n",
    "#     plt.plot(df.trajectory__impose,label='impose')\n",
    "#     plt.plot(cp,'g',label='compensationMean',lw=2,alpha=1)\n",
    "# #     plt.axhline(y=1)\n",
    "#     plt.title(winTitle)\n",
    "#     plt.legend()\n",
    "#     plt.show()\n",
    "    \n",
    "    return ccw, cw\n"
   ]
  },
  {
   "cell_type": "code",
   "execution_count": null,
   "metadata": {
    "collapsed": false,
    "scrolled": true
   },
   "outputs": [],
   "source": [
    "fullConsol=pd.DataFrame()\n",
    "ccw,cw=analyser2(Wtitle)\n",
    "fullConsol=fullConsol.append(ccw,ignore_index=True)\n",
    "fullConsol=fullConsol.append(cw,ignore_index=True)\n",
    "# fullConsol"
   ]
  },
  {
   "cell_type": "code",
   "execution_count": null,
   "metadata": {
    "collapsed": false,
    "scrolled": true
   },
   "outputs": [],
   "source": [
    "'''Load a dataframe from pickle and analyse impose compensation'''\n",
    "defaultPath=\"/home/rhagoletis/catkin/src/beginner/scripts/panda/world/bags/\"\n",
    "# paths=easygui.fileopenbox(title=\"Bags to Dataframes\"\n",
    "#                           ,default=defaultPath,\n",
    "#                           multiple=True,filetypes=[\"*df.pickle\"])\n",
    "\n",
    "\n",
    "# paths=['/home/rhagoletis/catkin/src/World/ipy_notebooks/impose/fly13/2016-09-03__00:08:57_fly13_quad_00_gain3.5_trial_1_traj.bag_df.pickle'] \n",
    "# paths=['/home/rhagoletis/catkin/src/World/ipy_notebooks/impose/fly13/2016-09-03__00:08:57_fly13_quad_00_gain3.5_trial_1_traj.bag_df.pickle', '/home/rhagoletis/catkin/src/World/ipy_notebooks/impose/fly13/2016-09-03__00:23:58_fly13_quad_00_gain7_trial_1_traj.bag_df.pickle', '/home/rhagoletis/catkin/src/World/ipy_notebooks/impose/fly13/2016-09-03__01:03:45_fly13_quad_00_gain10.5_trial_1_traj.bag_df.pickle', '/home/rhagoletis/catkin/src/World/ipy_notebooks/impose/fly13/2016-09-03__01:17:49_fly13_quad_00_gain14_trial_1_traj.bag_df.pickle', '/home/rhagoletis/catkin/src/World/ipy_notebooks/impose/fly13/2016-09-03__01:40:40_fly13_quad_00_gain17.5_trial_1_traj.bag_df.pickle', '/home/rhagoletis/catkin/src/World/ipy_notebooks/impose/fly13/2016-09-03__01:52:56_fly13_quad_00_gain21_trial_1_traj.bag_df.pickle', '/home/rhagoletis/catkin/src/World/ipy_notebooks/impose/fly13/2016-09-03__02:10:40_fly13_quad_00_gain28_trial_1_traj.bag_df.pickle']\n",
    "# paths=['/home/rhagoletis/catkin/src/World/ipy_notebooks/impose/fly13/2016-09-03__00:08:57_fly13_quad_00_gain3.5_trial_1_traj.bag_df.pickle'] \n",
    "paths=['/home/rhagoletis/catkin/src/analyseWorld/ipy_notebooks/impose/fly14/2016-09-04__23:37:01_fly14_impose_quad_00_gain7_trial_1_traj.bag_df.pickle'] \n",
    "fullConsol=pd.DataFrame()\n",
    "print paths, \"\\n\"\n",
    "for path in paths:\n",
    "    \n",
    "    tic()\n",
    "    print \"\\n\\ncurrentl;y analysisnh\",path\n",
    "    # picklepath=path+\"_df.pickle\"\n",
    "    data=depickler(path)\n",
    "    df=data[\"df\"]\n",
    "#     parameters=data[\"metadata\"]['meta']\n",
    "    parameters=data[\"metadata\"]['parameters']\n",
    "\n",
    "    toc()\n",
    "\n",
    "    Wtitle=path.split('/')[-1]\n",
    "    print Wtitle\n",
    "    \n",
    "#     print \"parameter keys are\", parameters.keys()\n",
    "    print \"\\nparameter keys length are\", len(parameters.keys())\n",
    "\n",
    "    df.trajectory__imposeResponse.plot(title=path.split('/')[-1],label=\"impose response\")\n",
    "    df.trajectory__impose.plot(title=path.split('/')[-1],label=\"impose\")\n",
    "    df.trajectory__compensation.plot(title=path.split('/')[-1],label=\"impose\")\n",
    "\n",
    "    plt.show()\n",
    "    \n",
    "    ccw,cw=analyser2(Wtitle)\n",
    "    fullConsol=fullConsol.append(ccw,ignore_index=True)\n",
    "    fullConsol=fullConsol.append(cw,ignore_index=True)\n",
    "\n",
    "# fullConsol[\"compensation\"]=-fullConsol[\"compensation\"]\n",
    "\n",
    "# print fullConsol"
   ]
  },
  {
   "cell_type": "code",
   "execution_count": null,
   "metadata": {
    "collapsed": true
   },
   "outputs": [],
   "source": [
    "plt.show()"
   ]
  },
  {
   "cell_type": "code",
   "execution_count": null,
   "metadata": {
    "collapsed": false
   },
   "outputs": [],
   "source": [
    "def consolidater():\n",
    "    path=easygui.filesavebox()\n",
    "    path+='_'+data['metadata']['parameters']['fly']+'_'+'consolidatedDF.pickle'\n",
    "\n",
    "    print \"save path is\",path\n",
    "    dataSet=dict(metadata=data['metadata'],fullConsol=fullConsol)\n",
    "    pickler(dataSet,path)\n",
    "consolidater()"
   ]
  },
  {
   "cell_type": "code",
   "execution_count": null,
   "metadata": {
    "collapsed": false
   },
   "outputs": [],
   "source": [
    "def unConsolidater(path=''):\n",
    "    if path is \"\":\n",
    "        path=easygui.fileopenbox()\n",
    "\n",
    "    print \"file path is\",path\n",
    "    dataset=depickler(path)\n",
    "    return dataset[\"metadata\"], dataset[\"fullConsol\"]\n",
    "met,fullConsol=unConsolidater()"
   ]
  },
  {
   "cell_type": "code",
   "execution_count": null,
   "metadata": {
    "collapsed": false
   },
   "outputs": [],
   "source": [
    "import glob\n",
    "print glob.glob('/home')"
   ]
  },
  {
   "cell_type": "code",
   "execution_count": null,
   "metadata": {
    "collapsed": false
   },
   "outputs": [],
   "source": [
    "fullConsol"
   ]
  },
  {
   "cell_type": "code",
   "execution_count": null,
   "metadata": {
    "collapsed": false,
    "scrolled": true
   },
   "outputs": [],
   "source": [
    "paths =easygui.fileopenbox(multiple=True)\n",
    "fullConsol=pd.DataFrame()\n",
    "for path in paths:\n",
    "    met,fc=unConsolidater(path)\n",
    "    fullConsol=fullConsol.append(fc,ignore_index=True)\n",
    "    print fc.shape\n",
    "print \"cOmplete\"\n"
   ]
  },
  {
   "cell_type": "code",
   "execution_count": null,
   "metadata": {
    "collapsed": false
   },
   "outputs": [],
   "source": [
    "fullConsol.fly.unique()"
   ]
  },
  {
   "cell_type": "code",
   "execution_count": null,
   "metadata": {
    "collapsed": false
   },
   "outputs": [],
   "source": [
    "fullConsol2=fullConsol[((abs(fullConsol[\"impose\"])>2) &(abs(fullConsol[\"impose\"])<7) &(abs(fullConsol[\"gain\"])>3)  )]\n",
    "# fullConsol2"
   ]
  },
  {
   "cell_type": "code",
   "execution_count": null,
   "metadata": {
    "collapsed": false
   },
   "outputs": [],
   "source": [
    "# fullConsol[\"compensation\"]=-fullConsol[\"compensation\"]\n",
    "fullConsol[\"compensation\"]=abs(fullConsol[\"compensation\"])\n",
    "fullConsol[\"impose\"]=abs(fullConsol[\"impose\"])\n",
    "\n",
    "\n"
   ]
  },
  {
   "cell_type": "code",
   "execution_count": null,
   "metadata": {
    "collapsed": false
   },
   "outputs": [],
   "source": [
    "ax=sns.regplot(x=fullConsol2['gain'], y=fullConsol2['error'],x_jitter=.15,scatter_kws={\"s\": 28},label='Maneuverability');\n",
    "ax=sns.regplot(x=fullConsol2['gain'], y=fullConsol2['compensation'],x_jitter=.15,scatter_kws={\"s\": 28},label='Stability',);\n",
    "# ax=sns.regplot(x=fullConsol['gain'], y=fullConsol['compensation'],x_jitter=.15,scatter_kws={\"s\": 28},label='Stability');\n",
    "sns.set(font_scale=1.25)  # crazy big\n",
    "ax.legend()\n",
    "ax.set(xlabel='Gain (165*deg/rad/s)', ylabel='Stability and Maneuverability (rad/s)',title='Tradeoff between Stability and Maneuverability',)\n",
    "pth=path+\"regplot.png\"\n",
    "plt.savefig(pth, dpi=400)\n",
    "\n",
    "# sns.regplot(x=fullConsol['gain'], y=fullConsol['error'],x_jitter=.5);\n",
    "# \n",
    "# sns.lmplot(x=\"total_bill\", y=\"tip\", hue=\"smoker\", data=tips);"
   ]
  },
  {
   "cell_type": "code",
   "execution_count": null,
   "metadata": {
    "collapsed": true
   },
   "outputs": [],
   "source": [
    "plt.show()"
   ]
  },
  {
   "cell_type": "code",
   "execution_count": null,
   "metadata": {
    "collapsed": false
   },
   "outputs": [],
   "source": [
    "pth"
   ]
  },
  {
   "cell_type": "code",
   "execution_count": null,
   "metadata": {
    "collapsed": false
   },
   "outputs": [],
   "source": [
    "#lm plot of 2 graphs with impose fits\n",
    "\n",
    "ax1=sns.lmplot(x=\"gain\", y=\"error\",x_jitter=.25,scatter_kws={\"s\": 28},hue=\"impose\",data=fullConsol)\n",
    "ax1.set(xlabel='Gain (165*deg/rad/s)', ylabel='S.D. of impose respone (rad/s)',title='Effect of impose speed on Maneuverability',)\n",
    "ax2=sns.lmplot(x=\"gain\", y=\"compensation\",x_jitter=.25,scatter_kws={\"s\": 28},hue=\"impose\",data=fullConsol)\n",
    "ax2.set(xlabel='Gain (165*deg/rad/s)', ylabel='Mean of impose respone (rad/s)',title='Effect of impose speed on Stability',)\n",
    "plt.tight_layout()"
   ]
  },
  {
   "cell_type": "code",
   "execution_count": null,
   "metadata": {
    "collapsed": false
   },
   "outputs": [],
   "source": [
    "ax=sns.regplot(x=\"gain\", y=\"compensation\",data=fullConsol,x_jitter=.25,scatter_kws={\"s\": 28},label='Stability');\n",
    "ax=sns.regplot(x=\"gain\", y=\"error\",data=fullConsol,x_jitter=.25,scatter_kws={\"s\": 28},label='Stability');\n",
    "ax.set(xlabel='Gain (165*deg/rad/s)', ylabel='Stability and Maneuverability (rad/s)',title='Tradeoff between Stability and Maneuverability')\n"
   ]
  },
  {
   "cell_type": "code",
   "execution_count": null,
   "metadata": {
    "collapsed": true
   },
   "outputs": [],
   "source": [
    "import seaborn as sns\n",
    "# sns.set_style(\"whitegrid\")"
   ]
  },
  {
   "cell_type": "code",
   "execution_count": null,
   "metadata": {
    "collapsed": false
   },
   "outputs": [],
   "source": [
    "plt.figure()\n",
    "\n",
    "# ax = sns.stripplot(hue=fullConsol['impose'].round(1).abs(),   jitter=0.092,\n",
    "#                    y=(1-fullConsol['compensation']),x=fullConsol['gain'],\n",
    "#                    split=True,palette=\"viridis\",linewidth=1)\n",
    "ax = sns.stripplot( jitter=0.092,hue=fullConsol['impose'].round(1).abs(),\n",
    "                   y=(abs(fullConsol['compensation'])),x=fullConsol['gain'],\n",
    "                   split=True,palette=\"viridis\",linewidth=1)\n",
    "for val in np.unique(abs(fullConsol[\"impose\"])):\n",
    "    plt.axhline(val)\n",
    "\n",
    "plt.show()"
   ]
  },
  {
   "cell_type": "code",
   "execution_count": null,
   "metadata": {
    "collapsed": false
   },
   "outputs": [],
   "source": [
    "#yay, \n",
    "plt.figure()\n",
    "#hue=fullConsol['impose'].round(1).abs(),  \n",
    "ax = sns.stripplot( jitter=0.2,\n",
    "                   y=fullConsol['error'],x=fullConsol['gain'],\n",
    "                   split=True,palette=\"viridis\",linewidth=.5,alpha=0.5)\n",
    "plt.axhline(y=1)\n",
    "\n",
    "plt.show()"
   ]
  },
  {
   "cell_type": "code",
   "execution_count": null,
   "metadata": {
    "collapsed": true
   },
   "outputs": [],
   "source": [
    "plt.figure()\n",
    "\n",
    "ax = sns.stripplot(x=fullConsol['impose'].round(1).abs(),   jitter=True,\n",
    "                   y=fullConsol['compensation'],hue=fullConsol['gain'],\n",
    "                   split=True,palette=\"viridis\",linewidth=0.5,alpha=0.5)\n",
    "plt.axhline(y=1)\n",
    "\n",
    "plt.show()"
   ]
  },
  {
   "cell_type": "code",
   "execution_count": null,
   "metadata": {
    "collapsed": true
   },
   "outputs": [],
   "source": [
    "ax = sns.stripplot(x=fullConsol['impose'].round(1).abs(),   jitter=True,\n",
    "                   y=fullConsol['error'],hue=fullConsol['gain'],\n",
    "                   split=True,palette=\"viridis\",linewidth=1)\n",
    "plt.axhline(y=1)\n",
    "\n",
    "plt.show()"
   ]
  },
  {
   "cell_type": "code",
   "execution_count": null,
   "metadata": {
    "collapsed": true
   },
   "outputs": [],
   "source": [
    "# sns.set(style=\"ticks\")\n",
    "sns.set_style(\"whitegrid\")\n",
    "# Draw a nested boxplot to show bills by day and sex\n",
    "sns.violinplot(x=fullConsol['impose'].round(1).abs() ,y=fullConsol[\"compensation\"], \n",
    "            hue=fullConsol[\"gain\"], palette=\"viridis\")\n",
    "# sns.stripplot(x=fullConsol['impose'].round(1).abs() ,y=fullConsol[\"compensation\"], \n",
    "#             hue=fullConsol[\"gain\"], palette=\"viridis\")\n",
    "plt.axhline(y=1)\n",
    "\n",
    "sns.despine(offset=1, trim=True)\n",
    "plt.show()"
   ]
  },
  {
   "cell_type": "code",
   "execution_count": null,
   "metadata": {
    "collapsed": true
   },
   "outputs": [],
   "source": [
    "# sns.set(style=\"ticks\")\n",
    "sns.set_style(\"whitegrid\")\n",
    "# Draw a nested boxplot to show bills by day and sex\n",
    "sns.violinplot(hue=fullConsol['impose'].round(1).abs() ,y=fullConsol[\"compensation\"], \n",
    "            x=fullConsol[\"gain\"], palette=\"viridis\")\n",
    "# sns.stripplot(x=fullConsol['impose'].round(1).abs() ,y=fullConsol[\"compensation\"], \n",
    "#             hue=fullConsol[\"gain\"], palette=\"viridis\")\n",
    "plt.axhline(y=1)\n",
    "\n",
    "sns.despine(offset=1, trim=True)\n",
    "plt.show()"
   ]
  },
  {
   "cell_type": "code",
   "execution_count": null,
   "metadata": {
    "collapsed": true
   },
   "outputs": [],
   "source": [
    "# sns.set(style=\"ticks\")\n",
    "sns.set_style(\"whitegrid\")\n",
    "# Draw a nested boxplot to show bills by day and sex\n",
    "sns.boxplot(hue=fullConsol['impose'].round(1).abs() ,y=fullConsol[\"compensation\"], \n",
    "            x=fullConsol[\"gain\"], palette=\"viridis\")\n",
    "# sns.stripplot(hue=fullConsol['impose'].round(1).abs() ,y=fullConsol[\"compensation\"], \n",
    "#             x=fullConsol[\"gain\"], palette=\"viridis_r\",jitter=True,split=True)\n",
    "# plt.axhline(y=1)\n",
    "\n",
    "sns.despine(offset=1, trim=True)\n",
    "plt.show()"
   ]
  },
  {
   "cell_type": "code",
   "execution_count": null,
   "metadata": {
    "collapsed": true
   },
   "outputs": [],
   "source": [
    "# sns.set(style=\"ticks\")\n",
    "sns.set_style(\"whitegrid\")\n",
    "# Draw a nested boxplot to show bills by day and sex\n",
    "sns.boxplot(x=fullConsol['impose'].round(1).abs() ,y=fullConsol[\"compensation\"], \n",
    "            hue=fullConsol[\"gain\"], palette=\"viridis\")\n",
    "# sns.stripplot(x=fullConsol['impose'].round(1).abs() ,y=fullConsol[\"compensation\"], \n",
    "#             hue=fullConsol[\"gain\"], palette=\"viridis_r\",jitter=True,split=True)\n",
    "# plt.axhline(y=1)\n",
    "\n",
    "sns.despine(offset=1, trim=True)\n",
    "plt.show()"
   ]
  },
  {
   "cell_type": "code",
   "execution_count": null,
   "metadata": {
    "collapsed": false
   },
   "outputs": [],
   "source": [
    "pickler(fullConsol,'consolidatedDF')"
   ]
  },
  {
   "cell_type": "code",
   "execution_count": null,
   "metadata": {
    "collapsed": true
   },
   "outputs": [],
   "source": [
    "a=depickler('consolidatedDF')"
   ]
  },
  {
   "cell_type": "code",
   "execution_count": null,
   "metadata": {
    "collapsed": false
   },
   "outputs": [],
   "source": [
    "a['impose']=a['impose'].abs()\n",
    "b=a.groupby(['fly','gain','impose'],as_index=False).mean()\n",
    "\n",
    "ax = sns.stripplot(hue=b['impose'].round(1).abs(),   jitter=False,\n",
    "                   y=b['compensation'],x=b['gain'],split=False,palette=\"viridis_r\",size=8)\n",
    "plt.show()"
   ]
  },
  {
   "cell_type": "code",
   "execution_count": null,
   "metadata": {
    "collapsed": true
   },
   "outputs": [],
   "source": [
    "plt.plot(b['gain'],b['compensation'])\n",
    "plt.show()"
   ]
  },
  {
   "cell_type": "code",
   "execution_count": null,
   "metadata": {
    "collapsed": false
   },
   "outputs": [],
   "source": [
    "b['gain']\n",
    "b['compensation']"
   ]
  },
  {
   "cell_type": "code",
   "execution_count": null,
   "metadata": {
    "collapsed": false
   },
   "outputs": [],
   "source": [
    "\n",
    "\n",
    "'''\n",
    "takes window title input and returns average \n",
    "compensation during stimulus period for each speed as a df\n",
    "'''\n",
    "#unknown rare bug, shabby fix\n",
    "df.trajectory__impose[0]=0\n",
    "\n",
    "impose=df.trajectory__impose.copy()\n",
    "impose[df.trajectory__impose==0]=1 #replace impose zero with one fordiv by zero\n",
    "# compensation=df.trajectory__imposeResponse/impose\n",
    "compensation=\n",
    "compensationSmooth=df.trajectory__imposeResponseSmooth/impose\n",
    "\n",
    "cp = pd.DataFrame(index=compensation.index,columns=['a'])\n",
    "\n",
    "#flips are position where there is a rise or fall\n",
    "flips=np.sign(np.diff(df.trajectory__impose))\n",
    "\n",
    "#impose is impose df without first element\n",
    "impose=df.trajectory__impose.drop(df.trajectory__impose.index[0])\n",
    "\n",
    "#cw is clockWise, ccw is Counter clockwise\n",
    "#start and stop are positions where the impose starts or stops\n",
    "#start(stop) is zero everywhere except when there is the respective start(stop) event\n",
    "ccwStart=np.logical_and((flips==1) , (impose>0))\n",
    "ccwStop=np.logical_and((flips==-1) , (impose==0))\n",
    "cwStart=np.logical_and((flips==-1) , (impose<0))\n",
    "cwStop=np.logical_and((flips==1) , (impose==0))\n",
    "\n",
    "#     plt.plot(np.array(impose),'r')\n",
    "#     plt.plot(np.array(flips),'g')\n",
    "#     plt.plot(np.array(ccwStart)*1,'b')\n",
    "#     plt.plot(np.array(ccwStop)*1,'k')\n",
    "#     plt.plot(np.array(cwStart)*1,'m')\n",
    "#     plt.plot(np.array(cwStop)*1,'y')\n",
    "#     print ccwStart.shape,ccwStop.shape\n",
    "#     print cwStart.shape,cwStop.shape\n",
    "#     plt.show()\n",
    "\n",
    "#(c)cwStart(stop)Index is just those positions where flips occured\n",
    "\n",
    "ccwStartIndex= ccwStart[ccwStart==1]\n",
    "cwStartIndex= cwStart[cwStart==1]\n",
    "ccwStopIndex= ccwStop[ccwStop==1]\n",
    "cwStopIndex= cwStop[cwStop==1]\n",
    "#     print ccwStartIndex.shape,ccwStopIndex.shape\n",
    "#     print cwStartIndex.shape,cwStopIndex.shape\n",
    "\n",
    "#     print ccwStartIndex,ccwStopIndex\n",
    "#     print cwStartIndex,cwStopIndex\n",
    "\n",
    "\n",
    "#compensationMean is a df who is zero when impose is false, \n",
    "# and has mean value of compensation during the corresponding impose\n",
    "compensationMean = pd.DataFrame(index=compensation.index,columns=['mean']) #empty df with same index\n",
    "\n",
    "# print compensation\n",
    "def compMean(start,stop,compIn,compOut):\n",
    "    consol=pd.DataFrame(columns=['fly','gain','impose','compensation'])\n",
    "\n",
    "\n",
    "    print \"calculating Mean\"\n",
    "    #if there are more starts than stop because of abrupt ending while recording\n",
    "    #remove the last start event\n",
    "    try: \n",
    "        assert len(start)==len(stop)\n",
    "    except AssertionError:\n",
    "        print 'assertion error'\n",
    "        start=start[:-1] \n",
    "\n",
    "    for i in range(len(stop)):\n",
    "#             print \"impose is\",df.trajectory__impose[start.index[i]]\n",
    "#             print \"gain is\",df.trajectory__gain[start.index[i]]\n",
    "\n",
    "\n",
    "#             print \"i mean is\",compIn.ix[start.index[i]:stop.index[i]].mean()\n",
    "        currCompensationMean=compIn.ix[start.index[i]:stop.index[i]].mean()\n",
    "        compOut.ix[start.index[i]:stop.index[i]]=currCompensationMean\n",
    "        curr=pd.DataFrame([{'fly':parameters['fly'],\n",
    "                                             \"gain\":df.trajectory__gain[start.index[i]],\n",
    "                                             \"impose\":df.trajectory__impose[start.index[i]],\n",
    "                                             'compensation':currCompensationMean}])\n",
    "        consol=consol.append(curr,ignore_index=True)        \n",
    "    cols=['fly','gain','impose','compensation']\n",
    "    consol=consol[cols]\n",
    "#         print \"total measn were\",i+1\n",
    "    return consol\n",
    "\n",
    "cw=compMean(cwStartIndex,cwStopIndex,compensation,cp)\n",
    "ccw=compMean(ccwStartIndex,ccwStopIndex,compensation,cp)\n",
    "\n",
    "\n",
    "\n",
    "#     plt.plot(df.trajectory__imposeResponseSmooth)\n",
    "#     plt.plot(compensation,c=(1,0,0,0.2))\n",
    "#     plt.plot(df.trajectory__impose)\n",
    "# #     plt.plot(cp,'g')\n",
    "#     plt.axhline(y=1)\n",
    "#     plt.title(winTitle)\n",
    "#     plt.show()\n",
    "\n"
   ]
  },
  {
   "cell_type": "code",
   "execution_count": null,
   "metadata": {
    "collapsed": true
   },
   "outputs": [],
   "source": []
  },
  {
   "cell_type": "code",
   "execution_count": null,
   "metadata": {
    "collapsed": true
   },
   "outputs": [],
   "source": []
  },
  {
   "cell_type": "code",
   "execution_count": null,
   "metadata": {
    "collapsed": true
   },
   "outputs": [],
   "source": []
  },
  {
   "cell_type": "code",
   "execution_count": null,
   "metadata": {
    "collapsed": false
   },
   "outputs": [],
   "source": [
    "impose=df.trajectory__impose.copy()\n",
    "impose[df.trajectory__impose==0]=1 #replace impose zero with one fordiv by zero\n",
    "compensation=df.trajectory__imposeResponseSmooth/impose\n",
    "# plt.plot(df.trajectory__imposeResponseSmooth)\n",
    "plt.plot(compensation,c=(1,0,0,0.2))\n",
    "plt.plot(df.trajectory__impose)\n",
    "plt.plot(cp,'g')\n",
    "plt.axhline(y=1)\n",
    "plt.show()"
   ]
  },
  {
   "cell_type": "code",
   "execution_count": null,
   "metadata": {
    "collapsed": false
   },
   "outputs": [],
   "source": [
    "'''Load a dataframe from pickle'''\n",
    "defaultPath=\"/home/rhagoletis/catkin/src/World/bags/\"\n",
    "paths=easygui.fileopenbox(title=\"Bags to Dataframes\"\n",
    "                          ,default=defaultPath,\n",
    "                          multiple=True,filetypes=[\"*df.pickle\"])\n",
    "fullConsol=pd.DataFrame()\n",
    "# print paths, \"\\n\"\n",
    "for path in paths:\n",
    "    \n",
    "    tic()\n",
    "    print \"\\n\\ncurrentl;y analysisnh\",path\n",
    "    # picklepath=path+\"_df.pickle\"\n",
    "    data=depickler(path)\n",
    "    df=data[\"df\"]\n",
    "#     parameters=data[\"metadata\"]['parameters']\n",
    "\n",
    "    toc()\n",
    "\n",
    "parameters=data['metadata']['parameters']\n",
    "parameters"
   ]
  },
  {
   "cell_type": "code",
   "execution_count": null,
   "metadata": {
    "collapsed": false
   },
   "outputs": [],
   "source": [
    "fullConsol=pd.DataFrame()\n",
    "ccw,cw=analyser('a')\n",
    "fullConsol=fullConsol.append(ccw,ignore_index=True)\n",
    "fullConsol=fullConsol.append(cw,ignore_index=True)"
   ]
  },
  {
   "cell_type": "code",
   "execution_count": null,
   "metadata": {
    "collapsed": false
   },
   "outputs": [],
   "source": [
    "df"
   ]
  },
  {
   "cell_type": "code",
   "execution_count": null,
   "metadata": {
    "collapsed": true
   },
   "outputs": [],
   "source": []
  },
  {
   "cell_type": "code",
   "execution_count": null,
   "metadata": {
    "collapsed": true
   },
   "outputs": [],
   "source": []
  },
  {
   "cell_type": "code",
   "execution_count": null,
   "metadata": {
    "collapsed": true
   },
   "outputs": [],
   "source": []
  },
  {
   "cell_type": "code",
   "execution_count": null,
   "metadata": {
    "collapsed": false
   },
   "outputs": [],
   "source": [
    "from bokeh.plotting import figure, output_file, show\n",
    "from bokeh.models.widgets import Panel, Tabs\n",
    "output_file(\"line.html\")\n",
    "\n",
    "x=df.trajectory__impose.index\n",
    "y1=df.trajectory__impose\n",
    "y2=df.trajectory__imposeResponse\n",
    "y3=df.trajectory__imposeResponseSmooth\n",
    "y4=compensationSmooth\n",
    "y5=cp.fillna(0).abs()\n",
    "# y5=cp\n",
    "\n",
    "p1 = figure(plot_width=800, plot_height=800, y_range=(-3,3),x_axis_type=\"datetime\")\n",
    "p2 = figure(plot_width=800, plot_height=800, y_range=(-3,3),x_axis_type=\"datetime\")\n",
    "p3 = figure(plot_width=800, plot_height=800, y_range=(-3,3),x_axis_type=\"datetime\")\n",
    "p4 = figure(plot_width=800, plot_height=800, y_range=(-3,3),x_axis_type=\"datetime\")\n",
    "p5 = figure(plot_width=800, plot_height=800, y_range=(-3,3),x_axis_type=\"datetime\")\n",
    "\n",
    "p1.line(x,y1, line_width=2, line_color=\"navy\")\n",
    "\n",
    "p2.line(x,y2, line_width=0.75,line_color=\"orange\",line_alpha=0.2)\n",
    "\n",
    "p3.line(x,y1, line_width=2, line_color=\"navy\")\n",
    "p3.line(x,y2, line_width=0.75,line_color=\"orange\",line_alpha=0.2)\n",
    "p3.line(x,y3, line_width=1,line_color=\"olive\",line_alpha=1)\n",
    "\n",
    "p4.line(x,y1, line_width=2, line_color=\"navy\")\n",
    "p4.line(x,y3, line_width=0.75,line_color=\"orange\",line_alpha=0.5)\n",
    "p4.line(x,y4, line_width=1,line_color=\"olive\",line_alpha=0.5)\n",
    "\n",
    "p5.line(x,y5, line_width=2,line_color=\"darkgrey\",line_alpha=1)\n",
    "p5.line(x,y1, line_width=2, line_color=\"navy\")\n",
    "p5.line(x,y3, line_width=0.75,line_color=\"orange\",line_alpha=0.5)\n",
    "p5.line(x,y4, line_width=1,line_color=\"olive\",line_alpha=0.5)\n",
    "\n",
    "\n",
    "tab1 = Panel(child=p1, title=\"impose\")\n",
    "tab2 = Panel(child=p2, title=\"imposeResponse\")\n",
    "tab3 = Panel(child=p3, title=\"imposeResponseSmooth\")\n",
    "tab4 = Panel(child=p4, title=\"compensation\")\n",
    "tab5 = Panel(child=p5, title=\"compensationMean\")\n",
    "\n",
    "\n",
    "\n",
    "\n",
    "tabs = Tabs(tabs=[tab1,tab2,tab3,tab4 ,tab5])\n",
    "\n",
    "show(tabs)\n"
   ]
  },
  {
   "cell_type": "code",
   "execution_count": null,
   "metadata": {
    "collapsed": false
   },
   "outputs": [],
   "source": [
    "''' \n",
    "Load multiple dataframe pickle file into memory and append it\n",
    "'''\n",
    "paths=easygui.fileopenbox(multiple=True,filetypes=['*.pickle'])\n",
    "i=0\n",
    "a=range(len(paths))\n",
    "for path in paths:\n",
    "    a[i]=pd.read_pickle(path)\n",
    "\n",
    "    i+=1\n",
    "    \n",
    "df=pd.concat(a)"
   ]
  },
  {
   "cell_type": "code",
   "execution_count": null,
   "metadata": {
    "collapsed": false
   },
   "outputs": [],
   "source": [
    "#load params pickle\n",
    "path=easygui.fileopenbox()\n",
    "import cPickle as pl\n",
    "import json\n",
    "a=pl.load(open( path, \"rb\" ))\n",
    "params=a[1]"
   ]
  },
  {
   "cell_type": "code",
   "execution_count": null,
   "metadata": {
    "collapsed": false
   },
   "outputs": [],
   "source": [
    "parameters\n"
   ]
  },
  {
   "cell_type": "code",
   "execution_count": null,
   "metadata": {
    "collapsed": false
   },
   "outputs": [],
   "source": [
    "df.trajectory__trial.max()"
   ]
  },
  {
   "cell_type": "code",
   "execution_count": null,
   "metadata": {
    "collapsed": false
   },
   "outputs": [],
   "source": [
    "''' \n",
    "Load multiple bag files to be converted to dataframe\n",
    "'''\n",
    "\n",
    "paths=easygui.fileopenbox(multiple=True,filetypes=['*.bag'])\n",
    "i=0\n",
    "for path in paths:\n",
    "\n",
    "    df=rosbag_pandas.bag_to_dataframe(path,include=['/trajectory'])\n",
    "    df.columns\n",
    "    bag=rosbag.Bag(path)\n",
    "    for topic,msg,t in bag.read_messages(topics='/metadata'):\n",
    "        a=msg\n",
    "    parameters=json.loads(a.data)\n",
    "    picklepath=path+\"_df.pickle\"\n",
    "    df.to_pickle(picklepath)\n",
    "    i+=1\n",
    "    \n",
    "print \"done\""
   ]
  },
  {
   "cell_type": "code",
   "execution_count": null,
   "metadata": {
    "collapsed": true
   },
   "outputs": [],
   "source": []
  },
  {
   "cell_type": "code",
   "execution_count": null,
   "metadata": {
    "collapsed": true
   },
   "outputs": [],
   "source": []
  },
  {
   "cell_type": "code",
   "execution_count": null,
   "metadata": {
    "collapsed": true
   },
   "outputs": [],
   "source": []
  },
  {
   "cell_type": "code",
   "execution_count": null,
   "metadata": {
    "collapsed": true
   },
   "outputs": [],
   "source": []
  },
  {
   "cell_type": "code",
   "execution_count": null,
   "metadata": {
    "collapsed": true
   },
   "outputs": [],
   "source": []
  },
  {
   "cell_type": "code",
   "execution_count": null,
   "metadata": {
    "collapsed": true
   },
   "outputs": [],
   "source": []
  },
  {
   "cell_type": "code",
   "execution_count": null,
   "metadata": {
    "collapsed": false,
    "scrolled": true
   },
   "outputs": [],
   "source": [
    "'''\n",
    "plot a single df\n",
    "'''\n",
    "\n",
    "from bokeh.plotting import figure, output_file, show\n",
    "from bokeh.models.widgets import Slider\n",
    "from bokeh.io import output_file, show, vform\n",
    "\n",
    "\n",
    "slider = Slider(start=0, end=10, value=1, step=.1, title=\"Stuff\")\n",
    "\n",
    "# prepare some data\n",
    "N = len(df.trajectory__pPos_x)\n",
    "x = df.trajectory__pPos_x\n",
    "y = df.trajectory__pPos_y\n",
    "h=np.deg2rad(df.trajectory__pOri_x)\n",
    "\n",
    "dec=1\n",
    "x=x[::dec]\n",
    "y=y[::dec]\n",
    "h=h[::dec]\n",
    "colors = [\n",
    "    \"#%02x%02x%02x\" % (int(r), int(g), 150) for r, g in zip(50+2*x, 30+2*y)\n",
    "]\n",
    "\n",
    "# output to static HTML file (with CDN resources)\n",
    "output_file(path+\".html\", title=\"Trajectory Quad\", mode=\"cdn\")\n",
    "\n",
    "TOOLS=\"resize,crosshair,pan,wheel_zoom,box_zoom,reset,box_select,lasso_select,undo,redo,save\"\n",
    "\n",
    "# create a new plot with the tools above, and explicit ranges\n",
    "p = figure(tools=TOOLS, x_range=(0,256), y_range=(0,256),webgl=True,plot_width=1000, plot_height=1000)\n",
    "# p.image(image=[np.flipud(np.rot90(np.invert((parameters[\"odourField\"])>0)*1))], \n",
    "#         x=0, y=0, dw=255, dh=255, palette=\"Greys9\")\n",
    "\n",
    "# add a circle renderer with vectorized colors and sizes\n",
    "p.circle(x,y,size=4  ,fill_alpha=0.5, line_color=None)\n",
    "\n",
    "# print vform(slider)\n",
    "# p.triangle(x,y,size=slider ,angle=h ,fill_alpha=0.8, line_color=None)\n",
    "# p.wedge(x, y, radius=0.2, start_angle=0.4, end_angle=4.8,\n",
    "#         color=\"firebrick\", alpha=0.6, direction=\"clock\")\n",
    "# show the results\n",
    "show(p)"
   ]
  },
  {
   "cell_type": "code",
   "execution_count": null,
   "metadata": {
    "collapsed": false
   },
   "outputs": [],
   "source": [
    "parameters['odour1']"
   ]
  },
  {
   "cell_type": "code",
   "execution_count": null,
   "metadata": {
    "collapsed": true
   },
   "outputs": [],
   "source": [
    "\n",
    "from bokeh.models.widgets import Slider\n",
    "from bokeh.io import output_file, show, vform\n",
    "\n",
    "output_file(\"slider.html\")\n",
    "\n",
    "slider = Slider(start=0, end=10, value=1, step=.1, title=\"Stuff\")\n",
    "\n",
    "show(vform(slider))\n",
    "\n",
    "\n",
    "import numpy as np\n",
    "\n",
    "from bokeh.layouts import row, widgetbox\n",
    "from bokeh.models import CustomJS, Slider\n",
    "from bokeh.plotting import figure, output_file, show, ColumnDataSource\n",
    "\n",
    "x = np.linspace(0, 10, 500)\n",
    "y = np.sin(x)\n",
    "\n",
    "source = ColumnDataSource(data=dict(x=x, y=y))\n",
    "\n",
    "plot = figure(y_range=(-10, 10), plot_width=400, plot_height=400)\n",
    "\n",
    "plot.line('x', 'y', source=source, line_width=3, line_alpha=0.6)\n",
    "\n",
    "callback = CustomJS(args=dict(source=source), code=\"\"\"\n",
    "    var data = source.get('data');\n",
    "    var A = amp.get('value')\n",
    "    var k = freq.get('value')\n",
    "    var phi = phase.get('value')\n",
    "    var B = offset.get('value')\n",
    "    x = data['x']\n",
    "    y = data['y']\n",
    "    for (i = 0; i < x.length; i++) {\n",
    "        y[i] = B + A*Math.sin(k*x[i]+phi);\n",
    "    }\n",
    "    source.trigger('change');\n",
    "\"\"\")\n",
    "\n",
    "amp_slider = Slider(start=0.1, end=10, value=1, step=.1,\n",
    "                    title=\"Amplitude\", callback=callback)\n",
    "callback.args[\"amp\"] = amp_slider\n",
    "\n",
    "freq_slider = Slider(start=0.1, end=10, value=1, step=.1,\n",
    "                     title=\"Frequency\", callback=callback)\n",
    "callback.args[\"freq\"] = freq_slider\n",
    "\n",
    "phase_slider = Slider(start=0, end=6.4, value=0, step=.1,\n",
    "                      title=\"Phase\", callback=callback)\n",
    "callback.args[\"phase\"] = phase_slider\n",
    "\n",
    "offset_slider = Slider(start=-5, end=5, value=0, step=.1,\n",
    "                       title=\"Offset\", callback=callback)\n",
    "callback.args[\"offset\"] = offset_slider\n",
    "\n",
    "layout = row(\n",
    "    plot,\n",
    "    widgetbox(amp_slider, freq_slider, phase_slider, offset_slider),\n",
    ")\n",
    "\n",
    "output_file(\"slider.html\", title=\"slider.py example\")\n",
    "\n",
    "show(layout)"
   ]
  },
  {
   "cell_type": "code",
   "execution_count": null,
   "metadata": {
    "collapsed": false
   },
   "outputs": [],
   "source": [
    "'''plotdoor field'''\n",
    "p = figure(x_range=(0, 255), y_range=(0,255))\n",
    "\n",
    "parameters[\"odourField\"]=np.array(parameters[\"odourField\"]['__ndarray__'])\n",
    "\n",
    "p.image(image=[np.flipud(np.rot90(rescale(parameters['odourField'], 10)))], x=0, y=0, dw=255, dh=255, palette=\"Greys3\")\n",
    "\n",
    "\n",
    "# must give a vector of image data for image parameter\n",
    "\n",
    "output_file(\"image.html\", title=\"image.py example\")\n",
    "\n",
    "show(p)  # open a browser"
   ]
  },
  {
   "cell_type": "code",
   "execution_count": null,
   "metadata": {
    "collapsed": false
   },
   "outputs": [],
   "source": [
    "# parameters[\"odourField\"]=parameters[\"odourField\"]['__ndarray__']\n",
    "parameters['odourField']=np.array((parameters[\"odourField\"]))\n",
    "from skimage.transform import rescale\n",
    "rescale(parameters['odourField'], 10).shape\n"
   ]
  },
  {
   "cell_type": "code",
   "execution_count": null,
   "metadata": {
    "collapsed": false
   },
   "outputs": [],
   "source": [
    "#load df pickle\n",
    "path=easygui.fileopenbox()\n",
    "df=pd.read_pickle(path)\n",
    "path=path.rstrip(\"_df.pickle\")"
   ]
  },
  {
   "cell_type": "code",
   "execution_count": null,
   "metadata": {
    "collapsed": false
   },
   "outputs": [],
   "source": [
    "files=easygui.fileopenbox(\"select the files to be dataframed and plotted\",multiple=True)"
   ]
  },
  {
   "cell_type": "code",
   "execution_count": null,
   "metadata": {
    "collapsed": false
   },
   "outputs": [],
   "source": [
    "'''\n",
    "plot a single df\n",
    "'''\n",
    "\n",
    "from bokeh.plotting import figure, output_file, show, gridplot\n",
    "params=parameters\n",
    "# prepare some data\n",
    "# N = len(df.trajectory__position_x)\n",
    "# x = df.trajectory__position_x\n",
    "# y = df.trajectory__position_y\n",
    "# h=np.deg2rad(df.trajectory__orientation_x)\n",
    "N = len(df.trajectory__pPos_x)\n",
    "x = df.trajectory__pPos_x\n",
    "y = df.trajectory__pPos_y\n",
    "h=np.deg2rad(df.trajectory__pOri_x)\n",
    "\n",
    "\n",
    "dec=6\n",
    "x=x[::dec]\n",
    "y=y[::dec]\n",
    "h=h[::dec]\n",
    "colors = [\n",
    "    \"#%02x%02x%02x\" % (int(r), int(g), 150) for r, g in zip(50+2*x, 30+2*y)\n",
    "]\n",
    "\n",
    "# output to static HTML file (with CDN resources)\n",
    "output_file(path+\".html\", title=\"Trajectory Quad\", mode=\"cdn\")\n",
    "\n",
    "TOOLS=\"pan,resize,crosshair,wheel_zoom,box_zoom,reset,box_select,lasso_select,undo,redo,save\"\n",
    "\n",
    "# create a new plot with the tools above, and explicit ranges\n",
    "w=500\n",
    "h=500 \n",
    "s=6\n",
    "xc=516\n",
    "yc=513\n",
    "xw=20\n",
    "yw=20\n",
    "xi=xc-xw/2.\n",
    "yi=yc-yw/2.\n",
    "\n",
    "bl = figure(tools=TOOLS, x_range=(xi,xi+xw), y_range=(yi,yi+yw),webgl=True,plot_width=w, plot_height=h)\n",
    "tl = figure(tools=TOOLS, x_range=bl.x_range, y_range=bl.y_range,webgl=True,plot_width=w, plot_height=h)\n",
    "br = figure(tools=TOOLS, x_range=bl.x_range, y_range=bl.y_range,webgl=True,plot_width=w, plot_height=h)\n",
    "tr = figure(tools=TOOLS, x_range=bl.x_range, y_range=bl.y_range,webgl=True,plot_width=w, plot_height=h)\n",
    "\n",
    "bl.triangle(x,y,size=s ,angle=h ,fill_alpha=1, line_color=None)\n",
    "tl.triangle(x,y,size=s ,angle=h ,fill_alpha=1, line_color=None)\n",
    "br.triangle(x,y,size=s ,angle=h ,fill_alpha=1, line_color=None)\n",
    "tr.triangle(x,y,size=s ,angle=h ,fill_alpha=1, line_color=None)\n",
    "\n",
    "# bl.image(image=[np.flipud(np.rot90(np.invert((params[\"odourField\"])>0)*1))], \n",
    "#         x=0, y=0, dw=255, dh=255, palette=\"Greys9\")\n",
    "\n",
    "\n",
    "# tl.image(image=[np.flipud(np.rot90(np.invert((params[\"odourField\"])>0)*1))], \n",
    "#         x=0, y=0, dw=255, dh=255, palette=\"Greys9\")\n",
    "\n",
    "# br.image(image=[np.flipud(np.rot90(np.invert((params[\"odourField\"])>0)*1))], \n",
    "#         x=0, y=0, dw=255, dh=255, palette=\"Greys9\")\n",
    "\n",
    "# tr.image(image=[np.flipud(np.rot90(np.invert((params[\"odourField\"])>0)*1))], \n",
    "#         x=0, y=0, dw=255, dh=255, palette=\"Greys9\")\n",
    "\n",
    "p = gridplot([[tl, tr], [bl, br]])\n",
    "\n",
    "# add a circle renderer with vectorized colors and sizes\n",
    "# p.circle(x,y,size=4  ,fill_alpha=0.5, line_color=None)\n",
    "# p.triangle(x,y,size=4 ,angle=h ,fill_alpha=1, line_color=None)\n",
    "# p.wedge(x, y, radius=0.2, start_angle=0.4, end_angle=4.8,\n",
    "#         color=\"firebrick\", alpha=0.6, direction=\"clock\")\n",
    "# show the results\n",
    "show(p)"
   ]
  },
  {
   "cell_type": "code",
   "execution_count": null,
   "metadata": {
    "collapsed": false
   },
   "outputs": [],
   "source": [
    "'''Load a dataframe from pickle'''\n",
    "defaultPath=\"/home/rhagoletis/catkin/src/World/bags/\"\n",
    "paths=easygui.fileopenbox(title=\"Bags to Dataframes\"\n",
    "                          ,default=defaultPath,\n",
    "                          multiple=True,filetypes=[\"*df.pickle\"])\n",
    "fullConsol=pd.DataFrame()\n",
    "# print paths, \"\\n\"\n",
    "for path in paths:\n",
    "    \n",
    "    tic()\n",
    "    print \"\\n\\ncurrentl;y analysisnh\",path\n",
    "    # picklepath=path+\"_df.pickle\"\n",
    "    data=depickler(path)\n",
    "    df=data[\"df\"]\n",
    "#     parameters=data[\"metadata\"]['parameters']\n",
    "\n",
    "    toc()\n",
    "\n",
    "parameters=data['metadata']['parameters']\n",
    "parameters"
   ]
  },
  {
   "cell_type": "code",
   "execution_count": null,
   "metadata": {
    "collapsed": false
   },
   "outputs": [],
   "source": [
    "'''\n",
    "plot a single df\n",
    "'''\n",
    "\n",
    "from bokeh.plotting import figure, output_file, show, gridplot\n",
    "params=parameters\n",
    "\n",
    "# colors = [\n",
    "#     \"#%02x%02x%02x\" % (int(r), int(g), 150) for r, g in zip(50+2*x, 30+2*y)\n",
    "# ]\n",
    "\n",
    "# output to static HTML file (with CDN resources)\n",
    "output_file(path+\".html\", title=\"Trajectory Quad\", mode=\"inline\")\n",
    "\n",
    "TOOLS=\"pan,wheel_zoom,box_zoom,reset,undo,redo,save\"\n",
    "\n",
    "# create a new plot with the tools above, and explicit ranges\n",
    "w=500\n",
    "h=500 \n",
    "s=6\n",
    "xc=516\n",
    "yc=513\n",
    "xw=20\n",
    "yw=20\n",
    "xi=xc-xw/2.\n",
    "yi=yc-yw/2.\n",
    "\n",
    "# bl = figure(tools=TOOLS, x_range=(xi,xi+xw), y_range=(yi,yi+yw),webgl=True,plot_width=w, plot_height=h)\n",
    "# tl = figure(tools=TOOLS, x_range=bl.x_range, y_range=bl.y_range,webgl=True,plot_width=w, plot_height=h)\n",
    "# br = figure(tools=TOOLS, x_range=bl.x_range, y_range=bl.y_range,webgl=True,plot_width=w, plot_height=h)\n",
    "# tr = figure(tools=TOOLS, x_range=bl.x_range, y_range=bl.y_range,webgl=True,plot_width=w, plot_height=h)\n",
    "\n",
    "\n",
    "def bokehPlot(df,case,TOOLS=\"pan,resize,crosshair,wheel_zoom,box_zoom,reset,box_select,lasso_select,undo,redo,save\",\n",
    "                  x_range=(506,526), y_range=(506,526),output_backend=\"webgl\",plot_width=500, plot_height=500):\n",
    "    dfc=df[df.trajectory__case==case]\n",
    "    x = dfc.trajectory__pPos_x\n",
    "    y = dfc.trajectory__pPos_y\n",
    "    h=np.deg2rad(dfc.trajectory__pOri_x)\n",
    "    \n",
    "    if 'haw' in parameters['fly']:\n",
    "        dfcv=dfc.trajectory__valve2\n",
    "        \n",
    "    elif 'apple' in parameters['fly']:\n",
    "        dfcv=dfc.trajectory__valve1\n",
    "        \n",
    "    ox=dfc[dfcv==True].trajectory__pPos_x\n",
    "    oy=dfc[dfcv==True].trajectory__pPos_y\n",
    "\n",
    "    #     opf=dfc[dfc.trajectory__valve1==True].trajectory__pOri_x\n",
    "    \n",
    "#     import matplotlib as mpl\n",
    "#     colors = [\n",
    "#         \"#%02x%02x%02x\" % (int(r), int(g), int(b)) for r, g, b, _ in 255*mpl.cm.viridis(mpl.colors.Normalize()(opf))\n",
    "#     ]\n",
    "\n",
    "    cm=bp.viridis(max(parameters['odourQuad'])+1)\n",
    "    fig = figure(tools=TOOLS, x_range=x_range, y_range=y_range,output_backend=output_backend,\n",
    "                 plot_width=plot_width, plot_height=plot_height,\n",
    "                active_scroll='wheel_zoom')\n",
    "\n",
    "    fig.triangle(x,y,size=s ,angle=h ,fill_alpha=0.5, line_color=None)\n",
    "    fig.circle(ox,oy,size=2*s ,fill_alpha=0.8, line_color=None,fill_color=cm[parameters[\"odourQuad\"][case]])\n",
    "    fig.triangle(parameters['playerInitPos'][0],parameters['playerInitPos'][1],size=3*s ,angle=0 ,fill_alpha=0.9, line_color=None,color='firebrick')\n",
    "\n",
    "    return fig\n",
    "\n",
    "\n",
    "bl=bokehPlot(df,2,TOOLS=TOOLS)\n",
    "tr=bokehPlot(df,0,x_range=bl.x_range, y_range=bl.y_range,TOOLS=TOOLS)\n",
    "tl=bokehPlot(df,1,x_range=bl.x_range, y_range=bl.y_range,TOOLS=TOOLS)\n",
    "br=bokehPlot(df,3,x_range=bl.x_range, y_range=bl.y_range,TOOLS=TOOLS)\n",
    "\n",
    "\n",
    "p = gridplot([[tl, tr], [bl, br]])\n",
    "\n",
    "show(p)"
   ]
  },
  {
   "cell_type": "code",
   "execution_count": null,
   "metadata": {
    "collapsed": false
   },
   "outputs": [],
   "source": [
    "def bokehQuadPlot(df,parameters=parameters,path=path,TOOLS=\"pan,resize,crosshair,wheel_zoom,box_zoom,reset,box_select,lasso_select,undo,redo,save\",\n",
    "                      x_range=(506,526), y_range=(506,526),output_backend=\"webgl\",plot_width=500, plot_height=500):\n",
    "    \n",
    "    '''\n",
    "    plot a single df\n",
    "    '''\n",
    "\n",
    "    from bokeh.plotting import figure, output_file, show, gridplot\n",
    "    params=parameters\n",
    "\n",
    "    # colors = [\n",
    "    #     \"#%02x%02x%02x\" % (int(r), int(g), 150) for r, g in zip(50+2*x, 30+2*y)\n",
    "    # ]\n",
    "\n",
    "    # output to static HTML file (with CDN resources)\n",
    "    output_file(path+\".html\", title=\"Trajectory Quad\", mode=\"inline\")\n",
    "\n",
    "    TOOLS=\"pan,wheel_zoom,box_zoom,reset,undo,redo,save\"\n",
    "\n",
    "    # create a new plot with the tools above, and explicit ranges\n",
    "    w=500\n",
    "    h=500 \n",
    "    s=6\n",
    "    xc=516\n",
    "    yc=513\n",
    "    xw=20\n",
    "    yw=20\n",
    "    xi=xc-xw/2.\n",
    "    yi=yc-yw/2.\n",
    "\n",
    "\n",
    "\n",
    "    def bokehPlot(df,case,TOOLS=\"pan,resize,crosshair,wheel_zoom,box_zoom,reset,box_select,lasso_select,undo,redo,save\",\n",
    "                      x_range=(506,526), y_range=(506,526),output_backend=\"webgl\",plot_width=500, plot_height=500):\n",
    "        dfc=df[df.trajectory__case==case]\n",
    "        x = dfc.trajectory__pPos_x\n",
    "        y = dfc.trajectory__pPos_y\n",
    "        h=np.deg2rad(dfc.trajectory__pOri_x)\n",
    "\n",
    "        if 'haw' in parameters['fly']:\n",
    "            dfcv=dfc.trajectory__valve2\n",
    "\n",
    "        elif 'apple' in parameters['fly']:\n",
    "            dfcv=dfc.trajectory__valve1\n",
    "\n",
    "        ox=dfc[dfcv==True].trajectory__pPos_x\n",
    "        oy=dfc[dfcv==True].trajectory__pPos_y\n",
    "\n",
    "        #     opf=dfc[dfc.trajectory__valve1==True].trajectory__pOri_x\n",
    "\n",
    "    #     import matplotlib as mpl\n",
    "    #     colors = [\n",
    "    #         \"#%02x%02x%02x\" % (int(r), int(g), int(b)) for r, g, b, _ in 255*mpl.cm.viridis(mpl.colors.Normalize()(opf))\n",
    "    #     ]\n",
    "\n",
    "    \n",
    "        try:\n",
    "            cm=bp.viridis(max(parameters['odourQuad'])+1)\n",
    "            fc=cm[parameters[\"odourQuad\"][case]]\n",
    "        except TypeError:\n",
    "            fc = bp.viridis(10)[5]\n",
    "            \n",
    "        fig = figure(tools=TOOLS, x_range=x_range, y_range=y_range,output_backend=output_backend,\n",
    "                     plot_width=plot_width, plot_height=plot_height,\n",
    "                    active_scroll='wheel_zoom')\n",
    "        \n",
    "        #Pos and heading of fly\n",
    "        fig.triangle(x,y,size=s ,angle=h ,fill_alpha=0.5, line_color=None)\n",
    "        \n",
    "        #circle at odour pos, with pf encoded in color\n",
    "        fig.circle(ox,oy,size=2*s ,fill_alpha=0.8, line_color=None,fill_color=fc)\n",
    "        \n",
    "        #triangle at init pos\n",
    "        fig.triangle(parameters['playerInitPos'][0],parameters['playerInitPos'][1],size=3*s ,angle=0 ,fill_alpha=0.9, line_color=None,color='firebrick')\n",
    "\n",
    "        return fig\n",
    "\n",
    "\n",
    "    bl=bokehPlot(df,2,TOOLS=TOOLS)\n",
    "    tr=bokehPlot(df,0,x_range=bl.x_range, y_range=bl.y_range,TOOLS=TOOLS)\n",
    "    tl=bokehPlot(df,1,x_range=bl.x_range, y_range=bl.y_range,TOOLS=TOOLS)\n",
    "    br=bokehPlot(df,3,x_range=bl.x_range, y_range=bl.y_range,TOOLS=TOOLS)\n",
    "\n",
    "\n",
    "    p = gridplot([[tl, tr], [bl, br]])\n",
    "\n",
    "    show(p)\n",
    "    return p\n",
    "# bokehQuadPlot(df)"
   ]
  },
  {
   "cell_type": "code",
   "execution_count": null,
   "metadata": {
    "collapsed": false
   },
   "outputs": [],
   "source": [
    "cm=bp.viridis(max(parameters['odourQuad'])+1)\n",
    "cm[parameters[\"odourQuad\"][0]]\n"
   ]
  },
  {
   "cell_type": "code",
   "execution_count": null,
   "metadata": {
    "collapsed": false
   },
   "outputs": [],
   "source": [
    "parameters['playerInitPos']"
   ]
  },
  {
   "cell_type": "code",
   "execution_count": null,
   "metadata": {
    "collapsed": false
   },
   "outputs": [],
   "source": [
    "def pickle2df(path=None):\n",
    "    '''Load a dataframe from pickle'''\n",
    "    defaultPath=\"/home/rhagoletis/catkin/src/World/bags/\"\n",
    "    if path is None:\n",
    "        path=easygui.fileopenbox(title=\"Bags to Dataframes\"\n",
    "                                  ,default=defaultPath,\n",
    "                                  multiple=False,filetypes=[\"*df.pickle\"])\n",
    "        \n",
    "#     print path, \"\\n\"\n",
    "#     for path in paths:\n",
    "#     tic()\n",
    "#     print \"\\n\\ncurrentl;y analysisnh\",path\n",
    "    # picklepath=path+\"_df.pickle\"\n",
    "    data=depickler(path)\n",
    "    df=data[\"df\"]\n",
    "#     parameters=data[\"metadata\"]['parameters']\n",
    "#     toc()\n",
    "\n",
    "    parameters=data['metadata']['parameters']\n",
    "    return df,parameters\n",
    "\n",
    "def dfDir2bokeh():\n",
    "    \n",
    "    from datetime import datetime\n",
    "\n",
    "    tstart = datetime.now()\n",
    "\n",
    "\n",
    "\n",
    "    foldPath= easygui.diropenbox(    default=\"/home/rhagoletis/catkin/src/World/bags/\")\n",
    "    matches = []\n",
    "    for root, dirnames, filenames in os.walk(foldPath):\n",
    "        for filename in fnmatch.filter(filenames, '*traj.bag_df.pickle'):\n",
    "            matches.append(os.path.join(root, filename))\n",
    "    print matches\n",
    "    \n",
    "    i=1\n",
    "    for path in matches:\n",
    "        \n",
    "        tic()\n",
    "        df,parameters=pickle2df(path)\n",
    "        bokehQuadPlot(df=df,parameters=parameters,path=path)\n",
    "        \n",
    "        print('\\n\\n Currently anal on {}. \\n It is {} / {} file'.format(path.split('/')[-1], i,len(matches)))\n",
    "\n",
    "#         print \"Currently analysing\", path\n",
    "        i+=1\n",
    "        toc()\n",
    "    \n",
    "    tend = datetime.now()\n",
    "    print \"Total time\",tend - tstart\n",
    "\n",
    "dfDir2bokeh()"
   ]
  },
  {
   "cell_type": "code",
   "execution_count": null,
   "metadata": {
    "collapsed": false
   },
   "outputs": [],
   "source": [
    "pickle2df()"
   ]
  },
  {
   "cell_type": "code",
   "execution_count": null,
   "metadata": {
    "collapsed": false
   },
   "outputs": [],
   "source": [
    "max(parameters['odourQuad'])"
   ]
  },
  {
   "cell_type": "code",
   "execution_count": null,
   "metadata": {
    "collapsed": false
   },
   "outputs": [],
   "source": [
    "import bokeh.palettes as bp\n",
    "bp.viridis(2)"
   ]
  },
  {
   "cell_type": "code",
   "execution_count": null,
   "metadata": {
    "collapsed": false
   },
   "outputs": [],
   "source": [
    "parameters['odourQuad']"
   ]
  },
  {
   "cell_type": "code",
   "execution_count": null,
   "metadata": {
    "collapsed": false
   },
   "outputs": [],
   "source": [
    "case = 2\n",
    "dfc=df[df.trajectory__case==case]\n",
    "x = dfc.trajectory__pPos_x\n",
    "y = dfc.trajectory__pPos_y\n",
    "h=np.deg2rad(dfc.trajectory__pOri_x)\n",
    "\n",
    "\n",
    "ox=dfc[dfc.trajectory__valve1==True].trajectory__pPos_x\n",
    "oy=dfc[dfc.trajectory__valve1==True].trajectory__pPos_y\n",
    "opf=dfc[dfc.trajectory__valve1==True].trajectory__pOri_x\n",
    "opf=parameters['odourQuad'][1]\n",
    "# opf.unique()\n",
    "# df.trajectory__packetFrequency.unique()"
   ]
  },
  {
   "cell_type": "code",
   "execution_count": null,
   "metadata": {
    "collapsed": false
   },
   "outputs": [],
   "source": [
    "import numpy as np\n",
    "\n",
    "from bokeh.plotting import figure, show, output_notebook\n",
    "import matplotlib as mpl\n",
    "\n",
    "output_notebook()\n",
    "\n",
    "N = 4000\n",
    "x = np.random.random(size=N) * 100\n",
    "y = np.random.random(size=N) * 100\n",
    "radii = np.random.random(size=N) * 1.5\n",
    "colors = [\n",
    "    \"#%02x%02x%02x\" % (int(r), int(g), int(b)) for r, g, b, _ in 255*mpl.cm.viridis(mpl.colors.Normalize()(radii))\n",
    "]\n",
    "\n",
    "p = figure(output_backend=\"webgl\")\n",
    "\n",
    "p.scatter(x, y, radius=radii,\n",
    "          fill_color=colors, fill_alpha=0.6,\n",
    "          line_color=None,)\n",
    "\n",
    "show(p)  "
   ]
  },
  {
   "cell_type": "code",
   "execution_count": null,
   "metadata": {
    "collapsed": false
   },
   "outputs": [],
   "source": [
    "import numpy as np\n",
    "\n",
    "from bokeh.layouts import row, widgetbox\n",
    "from bokeh.models import CustomJS, Slider\n",
    "from bokeh.plotting import figure, output_file, show, ColumnDataSource\n",
    "\n",
    "x = np.linspace(0, 10, 500)\n",
    "y = np.sin(x)\n",
    "\n",
    "source = ColumnDataSource(data=dict(x=x, y=y))\n",
    "\n",
    "plot = figure(y_range=(-10, 10), plot_width=400, plot_height=400)\n",
    "\n",
    "plot.line('x', 'y', source=source, line_width=3, line_alpha=0.6)\n",
    "\n",
    "callback = CustomJS(args=dict(source=source), code=\"\"\"\n",
    "    var data = source.data;\n",
    "    var A = amp.value;\n",
    "    var k = freq.value;\n",
    "    var phi = phase.value;\n",
    "    var B = offset.value;\n",
    "    x = data['x']\n",
    "    y = data['y']\n",
    "    for (i = 0; i < x.length; i++) {\n",
    "        y[i] = B + A*Math.sin(k*x[i]+phi);\n",
    "    }\n",
    "    source.change.emit();\n",
    "\"\"\")\n",
    "\n",
    "amp_slider = Slider(start=0.1, end=10, value=1, step=.1,\n",
    "                    title=\"Amplitude\", callback=callback)\n",
    "callback.args[\"amp\"] = amp_slider\n",
    "\n",
    "freq_slider = Slider(start=0.1, end=10, value=1, step=.1,\n",
    "                     title=\"Frequency\", callback=callback)\n",
    "callback.args[\"freq\"] = freq_slider\n",
    "\n",
    "phase_slider = Slider(start=0, end=6.4, value=0, step=.1,\n",
    "                      title=\"Phase\", callback=callback)\n",
    "callback.args[\"phase\"] = phase_slider\n",
    "\n",
    "offset_slider = Slider(start=-5, end=5, value=0, step=.1,\n",
    "                       title=\"Offset\", callback=callback)\n",
    "callback.args[\"offset\"] = offset_slider\n",
    "\n",
    "layout = row(\n",
    "    plot,\n",
    "    widgetbox(amp_slider, freq_slider, phase_slider, offset_slider),\n",
    ")\n",
    "\n",
    "output_file(\"slider.html\", title=\"slider.py example\")\n",
    "\n",
    "show(layout)"
   ]
  },
  {
   "cell_type": "code",
   "execution_count": null,
   "metadata": {
    "collapsed": false
   },
   "outputs": [],
   "source": [
    "case=0\n",
    "dfc=df[df.trajectory__case==case]\n",
    "x = dfc.trajectory__pPos_x.values\n",
    "y = dfc.trajectory__pPos_y.values\n",
    "h=np.deg2rad(dfc.trajectory__pOri_x).values\n",
    "\n",
    "fig = figure()\n",
    "fig.triangle(x,y,size=s ,angle=h ,fill_alpha=1, line_color=None)\n",
    "p = gridplot([[fig, fig], [bl, br]])\n"
   ]
  },
  {
   "cell_type": "code",
   "execution_count": null,
   "metadata": {
    "collapsed": false
   },
   "outputs": [],
   "source": [
    "from bokeh.io import output_file, show\n",
    "from bokeh.layouts import widgetbox\n",
    "from bokeh.models.widgets import Slider\n",
    "\n",
    "output_file(\"slider.html\")\n",
    "\n",
    "slider = Slider(start=0, end=10, value=1, step=.1, title=\"Stuff\")\n",
    "\n",
    "show(widgetbox(slider))"
   ]
  },
  {
   "cell_type": "code",
   "execution_count": null,
   "metadata": {
    "collapsed": false
   },
   "outputs": [],
   "source": [
    "slider.value"
   ]
  },
  {
   "cell_type": "code",
   "execution_count": null,
   "metadata": {
    "collapsed": false
   },
   "outputs": [],
   "source": [
    "from bokeh.io import push_notebook, show, output_notebook\n",
    "from bokeh.layouts import row\n",
    "from bokeh.plotting import figure\n",
    "output_notebook()"
   ]
  },
  {
   "cell_type": "code",
   "execution_count": null,
   "metadata": {
    "collapsed": true
   },
   "outputs": [],
   "source": [
    "opts = dict(plot_width=250, plot_height=250, min_border=0)\n"
   ]
  },
  {
   "cell_type": "code",
   "execution_count": null,
   "metadata": {
    "collapsed": false
   },
   "outputs": [],
   "source": [
    "p1 = figure(**opts)\n",
    "r1 = p1.circle([1,2,3], [4,5,6], size=20)\n",
    "\n",
    "p2 = figure(**opts)\n",
    "r2 = p2.circle([1,2,3], [4,5,6], size=20)\n",
    "\n",
    "# get a handle to update the shown cell with\n",
    "t = show(row(p1, p2), notebook_handle=True)"
   ]
  },
  {
   "cell_type": "code",
   "execution_count": null,
   "metadata": {
    "collapsed": false
   },
   "outputs": [],
   "source": [
    "\n",
    "# the comms handle repr show what cell it can be used to update\n",
    "t"
   ]
  },
  {
   "cell_type": "code",
   "execution_count": null,
   "metadata": {
    "collapsed": true
   },
   "outputs": [],
   "source": [
    "\n",
    "# this will update the left plot circle color with an explicit handle\n",
    "r1.glyph.fill_color = \"white\"\n",
    "push_notebook(handle=t)"
   ]
  },
  {
   "cell_type": "code",
   "execution_count": null,
   "metadata": {
    "collapsed": false
   },
   "outputs": [],
   "source": [
    "from ipywidgets import interact\n",
    "import numpy as np\n",
    "\n",
    "from bokeh.io import push_notebook, show, output_notebook\n",
    "from bokeh.plotting import figure\n",
    "output_notebook()"
   ]
  },
  {
   "cell_type": "code",
   "execution_count": null,
   "metadata": {
    "collapsed": true
   },
   "outputs": [],
   "source": [
    "\n",
    "x = np.linspace(0, 2*np.pi, 2000)\n",
    "y = np.sin(x)"
   ]
  },
  {
   "cell_type": "code",
   "execution_count": null,
   "metadata": {
    "collapsed": false
   },
   "outputs": [],
   "source": [
    "p = figure(title=\"simple line example\", plot_height=300, plot_width=600, y_range=(-5,5))\n",
    "r = p.line(x, y, color=\"#2222aa\", line_width=3)"
   ]
  },
  {
   "cell_type": "code",
   "execution_count": null,
   "metadata": {
    "collapsed": true
   },
   "outputs": [],
   "source": [
    "def update(f, w=1, A=1, phi=0):\n",
    "    if   f == \"sin\": func = np.sin\n",
    "    elif f == \"cos\": func = np.cos\n",
    "    elif f == \"tan\": func = np.tan\n",
    "    r.data_source.data['y'] = A * func(w * x + phi)\n",
    "    push_notebook()"
   ]
  },
  {
   "cell_type": "code",
   "execution_count": null,
   "metadata": {
    "collapsed": false
   },
   "outputs": [],
   "source": [
    "show(p, notebook_handle=True)\n"
   ]
  },
  {
   "cell_type": "code",
   "execution_count": null,
   "metadata": {
    "collapsed": false
   },
   "outputs": [],
   "source": [
    "interact(update, f=[\"sin\", \"cos\", \"tan\"], w=(0,100), A=(1,5), phi=(0, 20, 0.1))"
   ]
  },
  {
   "cell_type": "code",
   "execution_count": null,
   "metadata": {
    "collapsed": true
   },
   "outputs": [],
   "source": []
  },
  {
   "cell_type": "code",
   "execution_count": null,
   "metadata": {
    "collapsed": false
   },
   "outputs": [],
   "source": [
    "import numpy as np\n",
    "\n",
    "from bokeh.plotting import figure, show, output_file\n",
    "\n",
    "N = 1000\n",
    "x = np.linspace(0, 10, N)\n",
    "y = np.linspace(0, 10, N)\n",
    "xx, yy = np.meshgrid(x, y)\n",
    "d = np.sin(xx)*np.cos(yy)\n",
    "\n",
    "p = figure(x_range=(0, 10), y_range=(0, 10))\n",
    "\n",
    "# must give a vector of image data for image parameter\n",
    "p.image(image=[d], x=0, y=0, dw=10, dh=10, color_mapper=1)\n",
    "\n",
    "output_file(\"image.html\", title=\"image.py example\")\n",
    "\n",
    "show(p)  # open a browser"
   ]
  },
  {
   "cell_type": "code",
   "execution_count": null,
   "metadata": {
    "collapsed": false
   },
   "outputs": [],
   "source": [
    "from hcpWorldGen import WorldGen\n",
    "df.plot.scatter('trajectory__position_x',y='trajectory__position_y',s=0.01)\n",
    "# plt.show()"
   ]
  },
  {
   "cell_type": "code",
   "execution_count": null,
   "metadata": {
    "collapsed": false,
    "scrolled": true
   },
   "outputs": [],
   "source": [
    "import numpy as np\n",
    "import matplotlib.pyplot as plt\n",
    "import pickle as pl\n",
    "\n",
    "# Plot simple sinus function\n",
    "fig_handle = plt.figure()\n",
    "x = df.trajectory__position_x\n",
    "y = df.trajectory__position_y\n",
    "\n",
    "h=np.deg2rad(df.trajectory__orientation_x)\n",
    "\n",
    "dec=1\n",
    "\n",
    "x=x[::dec]\n",
    "y=y[::dec]\n",
    "h=h[::dec]\n",
    "plt.scatter(x,y,marker='o',s=5,color=(1,0,0,0.1802))\n",
    "\n",
    "# plt.scatter(initPlot.odd[:,0],initPlot.odd[:,1],color=initPlot.oddPlotColor,marker=initPlot.oddPlotMarker)\n",
    "# plt.scatter(initPlot.even[:,0],initPlot.even[:,1],color=initPlot.evenPlotColor,marker=initPlot.evenPlotMarker),marker='|',color='g')\n",
    "# plt.axis([0,255,0,255])\n",
    "\n",
    "plt.show()\n",
    "\n",
    "\n",
    "# Save figure handle to disk\n",
    "# pl.dump(fig_handle,file('sinus.pickle','w'))\n",
    "\n"
   ]
  },
  {
   "cell_type": "code",
   "execution_count": null,
   "metadata": {
    "collapsed": false
   },
   "outputs": [],
   "source": [
    "print type(fig_handle)"
   ]
  },
  {
   "cell_type": "code",
   "execution_count": null,
   "metadata": {
    "collapsed": false
   },
   "outputs": [],
   "source": [
    "p.image(image=[d], x=0, y=0, dw=10, dh=10, palette=\"Spectral11\")"
   ]
  },
  {
   "cell_type": "code",
   "execution_count": null,
   "metadata": {
    "collapsed": false
   },
   "outputs": [],
   "source": [
    "# parameters[\"odourField\"]=np.array(parameters[\"odourField\"]['__ndarray__'])\n",
    "x = df.trajectory__position_x\n",
    "y = df.trajectory__position_y\n",
    "c=df.trajectory__valve\n",
    "h=np.deg2rad(df.trajectory__orientation_x)\n",
    "\n",
    "dec=3\n",
    "\n",
    "x=x[::dec]\n",
    "y=y[::dec]\n",
    "h=h[::dec]\n",
    "c=c[::dec]\n",
    "\n",
    "plt.imshow(np.flipud(np.rot90(parameters[\"odourField\"])),cmap='Greys')\n",
    "plt.scatter(x,y,marker='o',s=5,c=c,cmap='seismic',lw=0)\n",
    "\n",
    "plt.show()"
   ]
  },
  {
   "cell_type": "code",
   "execution_count": null,
   "metadata": {
    "collapsed": false
   },
   "outputs": [],
   "source": [
    "df.trajectory__valve.hist()\n",
    "plt.show()"
   ]
  },
  {
   "cell_type": "code",
   "execution_count": null,
   "metadata": {
    "collapsed": false
   },
   "outputs": [],
   "source": []
  },
  {
   "cell_type": "code",
   "execution_count": null,
   "metadata": {
    "collapsed": false
   },
   "outputs": [],
   "source": []
  },
  {
   "cell_type": "code",
   "execution_count": null,
   "metadata": {
    "collapsed": false
   },
   "outputs": [],
   "source": []
  },
  {
   "cell_type": "code",
   "execution_count": null,
   "metadata": {
    "collapsed": false
   },
   "outputs": [],
   "source": [
    "'''plot hex bin'''\n",
    "\n",
    "df.plot.hexbin(x='trajectory__position_x',y='trajectory__position_y',gridsize=100,cmap=plt.cm.viridis,)\n",
    "plt.show()\n"
   ]
  },
  {
   "cell_type": "code",
   "execution_count": null,
   "metadata": {
    "collapsed": false
   },
   "outputs": [],
   "source": [
    "WorldGen.initPositions"
   ]
  },
  {
   "cell_type": "code",
   "execution_count": null,
   "metadata": {
    "collapsed": false
   },
   "outputs": [],
   "source": [
    "df.plot.hexbin(x='trajectory__position_x',y='trajectory__position_y',gridsize=100)"
   ]
  },
  {
   "cell_type": "code",
   "execution_count": null,
   "metadata": {
    "collapsed": false
   },
   "outputs": [],
   "source": [
    "plt.show()"
   ]
  },
  {
   "cell_type": "code",
   "execution_count": null,
   "metadata": {
    "collapsed": false
   },
   "outputs": [],
   "source": [
    "df.columns"
   ]
  },
  {
   "cell_type": "code",
   "execution_count": null,
   "metadata": {
    "collapsed": true
   },
   "outputs": [],
   "source": []
  },
  {
   "cell_type": "code",
   "execution_count": null,
   "metadata": {
    "collapsed": false
   },
   "outputs": [],
   "source": []
  },
  {
   "cell_type": "code",
   "execution_count": null,
   "metadata": {
    "collapsed": false
   },
   "outputs": [],
   "source": [
    "plt.imshow(np.flipud(np.rot90(parameters[\"odourField\"])))\n",
    "plt.show()"
   ]
  },
  {
   "cell_type": "code",
   "execution_count": null,
   "metadata": {
    "collapsed": false
   },
   "outputs": [],
   "source": [
    "params[\"odourField\"].shape"
   ]
  },
  {
   "cell_type": "code",
   "execution_count": null,
   "metadata": {
    "collapsed": false
   },
   "outputs": [],
   "source": [
    "params"
   ]
  },
  {
   "cell_type": "code",
   "execution_count": null,
   "metadata": {
    "collapsed": false
   },
   "outputs": [],
   "source": [
    "a[1]"
   ]
  },
  {
   "cell_type": "code",
   "execution_count": null,
   "metadata": {
    "collapsed": false
   },
   "outputs": [],
   "source": [
    "2+3"
   ]
  },
  {
   "cell_type": "code",
   "execution_count": null,
   "metadata": {
    "collapsed": false
   },
   "outputs": [],
   "source": [
    "print paths"
   ]
  },
  {
   "cell_type": "code",
   "execution_count": null,
   "metadata": {
    "collapsed": false
   },
   "outputs": [],
   "source": [
    "# modules\n",
    "#------------------------------------------------------------------------------\n",
    "import numpy as np\n",
    "import matplotlib.pyplot as py\n",
    "from matplotlib import animation\n",
    "\n",
    "py.close('all') # close all previous plots\n",
    "\n",
    "# create a random line to plot\n",
    "#------------------------------------------------------------------------------\n",
    "\n",
    "x = df.trajectory__position_x\n",
    "y = df.trajectory__position_y\n",
    "t = np.linspace(0,1,x.shape[0]) # your \"time\" variable\n",
    "# py.figure(1)\n",
    "# py.scatter(0, 0, s=1)\n",
    "# py.axis([0, 255, 0, 255])\n",
    "# py.show()\n",
    "\n",
    "# animation of a scatter plot using x, y from above\n",
    "#------------------------------------------------------------------------------\n",
    "\n",
    "fig = py.figure(1)\n",
    "ax = py.axes(xlim=(0, 255), ylim=(0,255))\n",
    "scat = ax.scatter([], [], s=20,marker=(3,0,0))\n",
    "\n",
    "def init():\n",
    "    scat.set_offsets([])\n",
    "    return scat,\n",
    "\n",
    "def animate(i):\n",
    "    data = np.hstack((x[:i,np.newaxis], y[:i, np.newaxis]))\n",
    "    scat.set_offsets(data)\n",
    "    scat.se\n",
    "#     scat.set_marker('o')\n",
    "    return scat,\n",
    "\n",
    "anim = animation.FuncAnimation(fig, animate, init_func=init, frames=len(x)+1, \n",
    "                               interval=1000/165., blit=True, repeat=False)\n",
    "plt.show()"
   ]
  },
  {
   "cell_type": "code",
   "execution_count": null,
   "metadata": {
    "collapsed": false
   },
   "outputs": [],
   "source": [
    "len(df.trajectory__position_x)"
   ]
  },
  {
   "cell_type": "code",
   "execution_count": null,
   "metadata": {
    "collapsed": false
   },
   "outputs": [],
   "source": [
    "i=360\n"
   ]
  },
  {
   "cell_type": "code",
   "execution_count": null,
   "metadata": {
    "collapsed": false
   },
   "outputs": [],
   "source": [
    "import matplotlib\n"
   ]
  },
  {
   "cell_type": "code",
   "execution_count": null,
   "metadata": {
    "collapsed": false
   },
   "outputs": [],
   "source": [
    "print matplotlib.__version__"
   ]
  },
  {
   "cell_type": "code",
   "execution_count": null,
   "metadata": {
    "collapsed": true
   },
   "outputs": [],
   "source": []
  }
 ],
 "metadata": {
  "kernelspec": {
   "display_name": "Python 2",
   "language": "python",
   "name": "python2"
  },
  "language_info": {
   "codemirror_mode": {
    "name": "ipython",
    "version": 2
   },
   "file_extension": ".py",
   "mimetype": "text/x-python",
   "name": "python",
   "nbconvert_exporter": "python",
   "pygments_lexer": "ipython2",
   "version": "2.7.6"
  },
  "widgets": {
   "state": {},
   "version": "1.1.2"
  }
 },
 "nbformat": 4,
 "nbformat_minor": 0
}
