{
 "cells": [
  {
   "cell_type": "code",
   "execution_count": 1,
   "metadata": {
    "collapsed": false
   },
   "outputs": [
    {
     "name": "stdout",
     "output_type": "stream",
     "text": [
      "Using matplotlib backend: Qt4Agg\n",
      "Using matplotlib backend: Qt4Agg\n"
     ]
    }
   ],
   "source": [
    "%matplotlib \n",
    "# import mpld3\n",
    "# mpld3.enable_notebook()\n",
    "import rosbag_pandas\n",
    "import pandas as pd\n",
    "import matplotlib.pyplot as plt\n",
    "import easygui\n",
    "import rosbag\n",
    "import json_tricks as json\n",
    "import numpy as np\n",
    "import cPickle as pkl\n",
    "import pickle as pl\n",
    "import time\n",
    "import seaborn as sns\n",
    "from matplotlib.patches import Rectangle, Circle\n",
    "%matplotlib\n",
    "plt.style.use('ggplot')\n",
    "# import mpld3\n",
    "# mpld3.enable_notebook()\n",
    "def TicTocGenerator():\n",
    "    # Generator that returns time differences\n",
    "    ti = 0           # initial time\n",
    "    tf = time.time() # final time\n",
    "    while True:\n",
    "        ti = tf\n",
    "        tf = time.time()\n",
    "        yield tf-ti # returns the time difference\n",
    "\n",
    "TicToc = TicTocGenerator() # create an instance of the TicTocGen generator\n",
    "\n",
    "# This will be the main function through which we define both tic() and toc()\n",
    "def toc(tempBool=True):\n",
    "    # Prints the time difference yielded by generator instance TicToc\n",
    "    tempTimeInterval = next(TicToc)\n",
    "    if tempBool:\n",
    "        print( \"Elapsed time: %f seconds.\\n\" %tempTimeInterval )\n",
    "\n",
    "def tic():\n",
    "    # Records a time in TicToc, marks the beginning of a time interval\n",
    "    toc(False)\n",
    "    \n",
    "def pickler( obj, path):\n",
    "    \"\"\"\n",
    "    Pickle a Python object\n",
    "    \"\"\"\n",
    "    with open(path, \"wb\") as pfile:\n",
    "        pkl.dump(obj, pfile)\n",
    "\n",
    "def depickler( path):\n",
    "    \"\"\"\n",
    "    Extracts a pickled Python object and returns it\n",
    "    \"\"\"\n",
    "    with open(path, \"rb\") as pfile:\n",
    "        data = pkl.load(pfile)\n",
    "    return data\n",
    "def circles(x, y, s, c='b',ax=None, vmin=None, vmax=None, **kwargs):\n",
    "    \"\"\"\n",
    "    Make a scatter of circles plot of x vs y, where x and y are sequence \n",
    "    like objects of the same lengths. The size of circles are in data scale.\n",
    "\n",
    "    Parameters\n",
    "    ----------\n",
    "    x,y : scalar or array_like, shape (n, )\n",
    "        Input data\n",
    "    s : scalar or array_like, shape (n, ) \n",
    "        Radius of circle in data unit.\n",
    "    c : color or sequence of color, optional, default : 'b'\n",
    "        `c` can be a single color format string, or a sequence of color\n",
    "        specifications of length `N`, or a sequence of `N` numbers to be\n",
    "        mapped to colors using the `cmap` and `norm` specified via kwargs.\n",
    "        Note that `c` should not be a single numeric RGB or RGBA sequence \n",
    "        because that is indistinguishable from an array of values\n",
    "        to be colormapped. (If you insist, use `color` instead.)  \n",
    "        `c` can be a 2-D array in which the rows are RGB or RGBA, however. \n",
    "    vmin, vmax : scalar, optional, default: None\n",
    "        `vmin` and `vmax` are used in conjunction with `norm` to normalize\n",
    "        luminance data.  If either are `None`, the min and max of the\n",
    "        color array is used.\n",
    "    kwargs : `~matplotlib.collections.Collection` properties\n",
    "        Eg. alpha, edgecolor(ec), facecolor(fc), linewidth(lw), linestyle(ls), \n",
    "        norm, cmap, transform, etc.\n",
    "\n",
    "    Returns\n",
    "    -------\n",
    "    paths : `~matplotlib.collections.PathCollection`\n",
    "\n",
    "    Examples\n",
    "    --------\n",
    "    a = np.arange(11)\n",
    "    circles(a, a, a*0.2, c=a, alpha=0.5, edgecolor='none')\n",
    "    plt.colorbar()\n",
    "\n",
    "    License\n",
    "    --------\n",
    "    This code is under [The BSD 3-Clause License]\n",
    "    (http://opensource.org/licenses/BSD-3-Clause)\n",
    "    \"\"\"\n",
    "    import numpy as np\n",
    "    import matplotlib.pyplot as plt\n",
    "    from matplotlib.patches import Circle\n",
    "    from matplotlib.collections import PatchCollection\n",
    "\n",
    "    if np.isscalar(c):\n",
    "        kwargs.setdefault('color', c)\n",
    "        c = None\n",
    "    if 'fc' in kwargs: kwargs.setdefault('facecolor', kwargs.pop('fc'))\n",
    "    if 'ec' in kwargs: kwargs.setdefault('edgecolor', kwargs.pop('ec'))\n",
    "    if 'ls' in kwargs: kwargs.setdefault('linestyle', kwargs.pop('ls'))\n",
    "    if 'lw' in kwargs: kwargs.setdefault('linewidth', kwargs.pop('lw'))\n",
    "\n",
    "    patches = [Circle((x_, y_), s_) for x_, y_, s_ in np.broadcast(x, y, s)]\n",
    "    collection = PatchCollection(patches, **kwargs)\n",
    "    if c is not None:\n",
    "        collection.set_array(np.asarray(c))\n",
    "        collection.set_clim(vmin, vmax)\n",
    "    if ax is not None:\n",
    "        ax = plt.gca()\n",
    "    ax.add_collection(collection)\n",
    "    ax.autoscale_view()\n",
    "    if c is not None:\n",
    "        plt.sci(collection)\n",
    "    return collection"
   ]
  },
  {
   "cell_type": "code",
   "execution_count": 4,
   "metadata": {
    "collapsed": false
   },
   "outputs": [],
   "source": [
    "import matplotlib as mpl\n",
    "# df=metadata=None\n",
    "def quadPlotter(df,metadata,pth='plot.pdf',col=[0,0,0,1],off=20,\n",
    "                xmin=500,xmax=526,ymin=500,ymax=526,rm=10,s=4,xt='X (m)',yt='Y (m)',valveOverlay=True):\n",
    "    \n",
    "    #get parameters\n",
    "    parameters=metadata['parameters']\n",
    "        \n",
    "    # row and column sharing of fig\n",
    "    fig, ((ax2, ax1), (ax3, ax4)) = plt.subplots(2, 2, sharex=True, sharey=True,figsize=(12,12))\n",
    "    \n",
    "    #make ax dictionary\n",
    "    ax={4:ax4,1:ax1,2:ax2,3:ax3}\n",
    "    \n",
    "    #loading string\n",
    "    ls=parameters['loadingString']\n",
    "\n",
    "    #max speed\n",
    "    maxS=df.trajectory__speed.max()\n",
    "    \n",
    "    \n",
    "    #plot params\n",
    "    c1=[1,0,0,0.5]\n",
    "    c2=[0,1,0,0.5]\n",
    "    sc=0.7\n",
    "    non=[0,0,0,0]\n",
    "    red=[1,0,0,0.3]\n",
    "    green=[0,1,0,0.3]\n",
    "    wf=3 #wifth fat\n",
    "    w0=0 #width thin\n",
    "    pcol=[1,0.5,0.5,1]#packet color\n",
    "    #plot marker conditions based on loading string\n",
    "    if ls=='00':\n",
    "        l=non\n",
    "        r=non\n",
    "        w1=wf\n",
    "        w2=wf\n",
    "    elif ls=='01':\n",
    "        l=non\n",
    "        r=red\n",
    "        w1=wf\n",
    "        w2=w0\n",
    "    elif ls=='10':\n",
    "        l=green\n",
    "        r=non\n",
    "        w1=w0\n",
    "        w2=wf\n",
    "    elif ls=='11':\n",
    "        l=green\n",
    "        r=red\n",
    "        w1=w0\n",
    "        w2=w0\n",
    "\n",
    "    ## ax1.set_title('lr anal')\n",
    "    \n",
    "#     #make a frame counter which counts up until hitting reset\n",
    "#     df['trajectory__frame']=df.trajectory__reset*0\n",
    "#     for i in range(len(df.trajectory__reset)):\n",
    "#         if i==0:\n",
    "#             df.trajectory__frame[i]=0\n",
    "#             continue\n",
    "\n",
    "#         elif df.trajectory__reset[i]==1:\n",
    "#             df.trajectory__frame[i]=0\n",
    "#         elif df.trajectory__reset[i]==0:\n",
    "#             df.trajectory__frame[i]=df.trajectory__frame[i-1]+1\n",
    "\n",
    "    #iterate through all the cases of the bag (typically 4 due to quadrants)\n",
    "    for i in range(int(df.trajectory__case.max()+1)):\n",
    "        #splice the df for case == i and the fly is still flying\n",
    "        df2=df[(df.trajectory__case==i) & (df.trajectory__isFlying==True) ]#(df.trajectory__runNum<20) &\n",
    "        \n",
    "        #make a frame counter which counts up until hitting reset\n",
    "#         df2['trajectory__frame']=df2['trajectory__reset'].copy()*0\n",
    "#         for i in range(len(df2.trajectory__reset)):\n",
    "#             if i==0:\n",
    "#                 df2.trajectory__frame[i]=0\n",
    "#                 continue\n",
    "\n",
    "#             elif df2.trajectory__reset[i]==1:\n",
    "#                 df2.trajectory__frame[i]=0\n",
    "#             elif df2.trajectory__reset[i]==0:\n",
    "#                 df2.trajectory__frame[i]=df2.trajectory__frame[i-1]+1\n",
    "        #plot marker scaling\n",
    "        r1=sc*parameters['obj1Scale']/2\n",
    "        r2=sc*parameters['obj2Scale']/2\n",
    "        \n",
    "        try:\n",
    "            print df2.trajectory__case[0]\n",
    "        except IndexError:\n",
    "            print 'index error in cases at ',i\n",
    "            continue\n",
    "        #set the plot markers based on the current case/quadrant\n",
    "        if df2.trajectory__case[0] == 0:\n",
    "            c1=l\n",
    "            c2=l\n",
    "            l1=w1\n",
    "            l2=w1\n",
    "        elif df2.trajectory__case[0]== 1:\n",
    "            c1=r\n",
    "            c2=l\n",
    "            l1=w2\n",
    "            l2=w1\n",
    "        elif df2.trajectory__case[0]== 2:\n",
    "            c1=l\n",
    "            c2=r\n",
    "            l1=w1\n",
    "            l2=w2\n",
    "        elif df2.trajectory__case[0] == 3:\n",
    "            c1=r\n",
    "            c2=r\n",
    "            l1=w2\n",
    "            l2=w2\n",
    "        print 'c1 c2 is',c1,c2\n",
    "        \n",
    "#         ax[i+1].add_artist(Circle(xy=(parameters['posL'][0],parameters['posL'][1]), color=c1, radius=r1)) \n",
    "#         ax[i+1].add_artist(Circle(xy=(parameters['posR'][0],parameters['posR'][1]), color=c2, radius=r2)) \n",
    "#         circles(df2.trajectory__o1Pos_x[0],df2.trajectory__o1Pos_y[0],ax=ax[i+1],color=c1,lw=0,s=parameters['obj1Scale']/2)\n",
    "#         circles(df2.trajectory__o2Pos_x[0],df2.trajectory__o2Pos_y[0],ax=ax[i+1],color=c2,lw=0,s=parameters['obj1Scale']/2)\n",
    "            \n",
    "        \n",
    "        #if speed closed loop, colorize the trajectory based on the normalized speed, else keep it constant\n",
    "        if df.trajectory__speedControl[1000]:\n",
    "            col=df2.trajectory__speed.values/maxS\n",
    "        else:\n",
    "            col=col\n",
    "            \n",
    "            \n",
    "        #scatter the trajectory coordinates\n",
    "        im=ax[i+1].scatter(df2.trajectory__pPos_x[::rm],df2.trajectory__pPos_y[::rm],lw=0,s=s,\n",
    "                        c=df2.trajectory__runNum,cmap='viridis',rasterized=True)\n",
    "        \n",
    "        \n",
    "        #scatter the points where it recieved odour\n",
    "        if valveOverlay:\n",
    "            df3=df2[(df2.trajectory__valve1==True) | (df2.trajectory__valve2==True)]\n",
    "            ax[i+1].scatter(df3.trajectory__pPos_x[::rm],df3.trajectory__pPos_y[::rm],lw=0,s=0.5*s,\n",
    "                            c=pcol,cmap='viridis',rasterized=True)\n",
    "\n",
    "        \n",
    "        #plot the initial position with a triangle\n",
    "        ax[i+1].scatter(parameters['playerInitPos'][0],parameters['playerInitPos'][1],\n",
    "                        c=np.array([62,218,0,200])/255.,  marker='^',lw=0,s=500)\n",
    "\n",
    "        \n",
    "        #plot the position of the lr objects\n",
    "        ax[i+1].scatter(parameters['posL'][0],parameters['posL'][1],c=c1,lw=l1,s=sc*parameters['obj1Scale'])\n",
    "        ax[i+1].scatter(parameters['posR'][0],parameters['posR'][1],c=c2,lw=l2,s=sc*parameters[ 'obj2Scale'])\n",
    "        \n",
    "        #set the xy lims\n",
    "        ax[i+1].set_xlim([xmin,xmax])\n",
    "        ax[i+1].set_ylim([ymin,ymax])\n",
    "\n",
    "        #make the xy aspect ratio 1:1\n",
    "        ax[i+1].set_aspect('equal', 'datalim')\n",
    "        \n",
    "        #set the title of the plot\n",
    "        ax[i+1].set_title('pf is '+str(parameters['odourQuad'][i])+'Hz',fontsize=20)\n",
    "        \n",
    "        #set the xy labels\n",
    "        ax[i+1].set_xlabel(xt,fontsize=20)\n",
    "        ax[i+1].set_ylabel(yt,fontsize=20)\n",
    "        \n",
    "        #print the current plot index, pf\n",
    "        print i,df2.trajectory__packetFrequency[500]\n",
    "    \n",
    "#     # Colorbar\n",
    "#     ax3.cax.colorbar(ax3)\n",
    "#     ax3.cax.toggle_label(True)\n",
    "#     fig.colorbar(im, ax=ax3)\n",
    "    \n",
    "#     cax,kw = mpl.colorbar.make_axes([ax1,ax2,ax3,ax4])\n",
    "#     plt.colorbar(im, cax=cax, **kw)\n",
    "    fig.suptitle(pth, fontsize=16)\n",
    "\n",
    "    fig.tight_layout()\n",
    "    fig.subplots_adjust(top=0.88)\n",
    "\n",
    "#     plt.tight_layout()\n",
    "\n",
    "#         fig.text(0.5, 0.04, xt, ha='center')\n",
    "#         fig.text(0.04, 0.5, yt, va='center', rotation='vertical')\n",
    "\n",
    "#     sns.despine()\n",
    "#     sns.set_style(\"ticks\")\n",
    "#         sns.set_style(\"white\")\n",
    "#         sns.set_style(\"whitegrid\")\n",
    "\n",
    "\n",
    "#         sns.set_style(\"ticks\", {\"xtick.major.size\": 8, \"ytick.major.size\": 8})\n",
    "#     fig.subplots_adjust(right=0.8)\n",
    "    \n",
    "    \n",
    "    \n",
    "    #if speed control, turn on a color legend\n",
    "    if df.trajectory__speedControl[0]:\n",
    "\n",
    "        cbar_ax = fig.add_axes([0.85, 0.15, 0.05, 0.7])\n",
    "        fig.colorbar(im, cax=cbar_ax)\n",
    "    \n",
    "    #save the figure\n",
    "    plt.savefig(pth+'.png', dpi=400)\n",
    "\n",
    "    plt.show()\n",
    "\n",
    "##     Save figure handle to disk\n",
    "#     pl.dump(fig,file(pth+'plot.pickle','wb'))\n",
    "    return fig\n",
    "\n",
    "def loader(path=None):\n",
    "    '''Load a dataframe from pickle and analyse lr cases'''\n",
    "\n",
    "#         defaultPath=\"/home/rhagoletis/catkin/src/World/bags/10-3/\"\n",
    "    defaultPath=\"/home/rhagoletis/catkin/src/World/bags/2017_07_20/\"\n",
    "    \n",
    "    if path is None:\n",
    "        path=easygui.fileopenbox(title=\"Choose pickle Dataframes\"\n",
    "                                  ,default=defaultPath,\n",
    "                                  multiple=False,filetypes=[\"*.pickle\"])\n",
    "        \n",
    "    print path\n",
    "\n",
    "    dff=pd.read_pickle(path)\n",
    "    df=dff['df']\n",
    "    metadata=dff['metadata']\n",
    "    return df,metadata,path\n",
    "\n",
    "def multiLoadQuadPlotter():\n",
    "    defaultPath=\"/home/rhagoletis/catkin/src/World/bags/2017_08_25/\"\n",
    "    \n",
    "    \n",
    "    paths=easygui.fileopenbox(title=\"Choose pickle Dataframes\"\n",
    "                              ,default=defaultPath,\n",
    "                              multiple=True,filetypes=[\"*.pickle\"])\n",
    "    for path in paths:\n",
    "        if 'pf' in path:\n",
    "            continue\n",
    "        df,metadata,path=loader(path=path)\n",
    "        parameters=metadata['parameters']\n",
    "        pth=path.split('/')[-1].split('.bag')[0]+'.pdf'\n",
    "        print pth\n",
    "\n",
    "\n",
    "        fig=quadPlotter(df=df,metadata=metadata,off=3,rm=1,xt='X (m)',yt='Y (m)',s=3,pth=pth,col=[0,0,0,1],valveOverlay=True)\n",
    "    \n",
    "    return fig,df,metadata,path,parameters"
   ]
  },
  {
   "cell_type": "code",
   "execution_count": 15,
   "metadata": {
    "collapsed": false
   },
   "outputs": [
    {
     "name": "stdout",
     "output_type": "stream",
     "text": [
      "/home/rhagoletis/catkin/src/World/bags/2017_08_25/2017-08-25__18~55~26_apple49_00_odour_gain~8_speed~1.0_bout~10_DC~-0.0_traj.bag_df.pickle\n",
      "2017-08-25__18~55~26_apple49_00_odour_gain~8_speed~1.0_bout~10_DC~-0.0_traj.pdf\n",
      "0.0\n",
      "c1 c2 is [0, 0, 0, 0] [0, 0, 0, 0]\n",
      "0 0.0\n",
      "1.0\n",
      "c1 c2 is [0, 0, 0, 0] [0, 0, 0, 0]\n",
      "1 0.0\n",
      "2.0\n",
      "c1 c2 is [0, 0, 0, 0] [0, 0, 0, 0]\n",
      "2 0.0\n",
      "3.0\n",
      "c1 c2 is [0, 0, 0, 0] [0, 0, 0, 0]\n",
      "3 0.0\n"
     ]
    }
   ],
   "source": [
    "fig,df,metadata,path,parameters=multiLoadQuadPlotter()"
   ]
  },
  {
   "cell_type": "code",
   "execution_count": 32,
   "metadata": {
    "collapsed": false
   },
   "outputs": [],
   "source": [
    "a=pd.read_pickle('2017-01-01__19~59~14_apple11_n_11_full.bag_df.pickle')\n"
   ]
  },
  {
   "cell_type": "code",
   "execution_count": 38,
   "metadata": {
    "collapsed": false
   },
   "outputs": [],
   "source": [
    "b=a['df'].to_csv('a.csv')"
   ]
  },
  {
   "cell_type": "code",
   "execution_count": 26,
   "metadata": {
    "collapsed": true
   },
   "outputs": [],
   "source": [
    "df2=df"
   ]
  },
  {
   "cell_type": "code",
   "execution_count": 63,
   "metadata": {
    "collapsed": true
   },
   "outputs": [],
   "source": [
    "import pyqtgraph.examples\n",
    "pyqtgraph.examples.run()"
   ]
  },
  {
   "cell_type": "code",
   "execution_count": 18,
   "metadata": {
    "collapsed": false
   },
   "outputs": [
    {
     "data": {
      "text/html": [
       "<iframe id=\"igraph\" scrolling=\"no\" style=\"border:none;\" seamless=\"seamless\" src=\"https://plot.ly/~pvnkmrksk/14.embed\" height=\"500px\" width=\"500px\"></iframe>"
      ],
      "text/plain": [
       "<plotly.tools.PlotlyDisplay object>"
      ]
     },
     "execution_count": 18,
     "metadata": {},
     "output_type": "execute_result"
    }
   ],
   "source": [
    "\n",
    "import plotly.plotly as py\n",
    "import plotly.graph_objs as go\n",
    "\n",
    "# Create random data with numpy\n",
    "import numpy as np\n",
    "\n",
    "N = 1000\n",
    "random_x = np.random.randn(N)\n",
    "random_y = np.random.randn(N)\n",
    "\n",
    "# Create a trace\n",
    "trace = go.Scattergl(\n",
    "    x = df.trajectory__pPos_x,\n",
    "    y = df.trajectory__pPos_y,\n",
    "    mode = 'markers'\n",
    "    \n",
    ")\n",
    "\n",
    "layout = go.Layout(\n",
    "\n",
    "    width=500,\n",
    "    height=500,\n",
    "\n",
    ")\n",
    "\n",
    "\n",
    "data = [trace]\n",
    "fig = go.Figure(data=data, layout=layout)\n",
    "\n",
    "# Plot and embed in ipython notebook!\n",
    "py.iplot(fig, filename='basic-scatter')\n",
    "\n",
    "# or plot with: plot_url = py.plot(data, filename='basic-line')"
   ]
  },
  {
   "cell_type": "code",
   "execution_count": 62,
   "metadata": {
    "collapsed": false
   },
   "outputs": [
    {
     "name": "stdout",
     "output_type": "stream",
     "text": [
      "This is the format of your plot grid:\n",
      "[ (1,1) x1,y1 ]  [ (1,2) x2,y1 ]\n",
      "[ (2,1) x1,y2 ]  [ (2,2) x2,y2 ]\n",
      "\n"
     ]
    },
    {
     "data": {
      "text/html": [
       "<iframe id=\"igraph\" scrolling=\"no\" style=\"border:none;\" seamless=\"seamless\" src=\"https://plot.ly/~pvnkmrksk/37.embed\" height=\"1000px\" width=\"1000px\"></iframe>"
      ],
      "text/plain": [
       "<plotly.tools.PlotlyDisplay object>"
      ]
     },
     "execution_count": 62,
     "metadata": {},
     "output_type": "execute_result"
    }
   ],
   "source": [
    "\n",
    "from plotly import tools\n",
    "import plotly.plotly as py\n",
    "import plotly.graph_objs as go\n",
    "\n",
    "w=1000\n",
    "h=1000\n",
    "\n",
    "df0=df[(df.trajectory__case==0) & (df.trajectory__isFlying)]\n",
    "df1=df[(df.trajectory__case==1) & (df.trajectory__isFlying)]\n",
    "df2=df[(df.trajectory__case==2) & (df.trajectory__isFlying)]\n",
    "df3=df[(df.trajectory__case==3) & (df.trajectory__isFlying)]\n",
    "\n",
    "trace0 = go.Scattergl(\n",
    "    x = df0.trajectory__pPos_x,\n",
    "    y = df0.trajectory__pPos_y,\n",
    "    mode = 'markers'\n",
    "\n",
    ")\n",
    "\n",
    "\n",
    "trace1 = go.Scattergl(\n",
    "    x = df1.trajectory__pPos_x,\n",
    "    y = df1.trajectory__pPos_y,\n",
    "    mode = 'markers'\n",
    ")\n",
    "\n",
    "trace2 = go.Scattergl(\n",
    "    x = df2.trajectory__pPos_x,\n",
    "    y = df2.trajectory__pPos_y,\n",
    "    mode = 'markers'\n",
    ")\n",
    "\n",
    "trace3 = go.Scattergl(\n",
    "    x = df3.trajectory__pPos_x,\n",
    "    y = df3.trajectory__pPos_y,\n",
    "    mode = 'markers'\n",
    ")\n",
    "\n",
    "\n",
    "fig = tools.make_subplots(rows=2, cols=2, shared_xaxes=True,shared_yaxes=True)\n",
    "\n",
    "fig.append_trace(trace0, 1, 1)\n",
    "fig.append_trace(trace1, 1, 2)\n",
    "fig.append_trace(trace2, 2, 1)\n",
    "fig.append_trace(trace3, 2, 2)\n",
    "\n",
    "\n",
    "\n",
    "fig['layout'].update(width =w,\n",
    "    height = h,\n",
    "\n",
    "#     xaxis = dict(\n",
    "#       domain = [0, 1],\n",
    "#       title = \"shared X axis\"\n",
    "#     ),\n",
    "#     yaxis = dict(\n",
    "#       domain = [0, 1],\n",
    "#       title = \"1:1\",\n",
    "#               scaleratio = 1,\n",
    "\n",
    "#     ),\n",
    ")\n",
    "py.iplot(fig, filename='multiple-subplots-shared-yaxes')"
   ]
  },
  {
   "cell_type": "code",
   "execution_count": 43,
   "metadata": {
    "collapsed": false
   },
   "outputs": [
    {
     "data": {
      "text/html": [
       "<iframe id=\"igraph\" scrolling=\"no\" style=\"border:none;\" seamless=\"seamless\" src=\"https://plot.ly/~pvnkmrksk/39.embed\" height=\"525px\" width=\"100%\"></iframe>"
      ],
      "text/plain": [
       "<plotly.tools.PlotlyDisplay object>"
      ]
     },
     "execution_count": 43,
     "metadata": {},
     "output_type": "execute_result"
    }
   ],
   "source": [
    "import plotly.plotly as py\n",
    "import plotly.graph_objs as go\n",
    "\n",
    "trace1 = go.Scatter(\n",
    "    x=[1, 2, 3],\n",
    "    y=[2, 3, 4]\n",
    ")\n",
    "trace2 = go.Scatter(\n",
    "    x=[20, 30, 40],\n",
    "    y=[5, 5, 5],\n",
    "    xaxis='x',\n",
    "    yaxis='y'\n",
    ")\n",
    "trace3 = go.Scatter(\n",
    "    x=[2, 3, 4],\n",
    "    y=[600, 700, 800],\n",
    "    xaxis='x',\n",
    "    yaxis='y'\n",
    ")\n",
    "trace4 = go.Scatter(\n",
    "    x=[4000, 5000, 6000],\n",
    "    y=[7000, 8000, 9000],\n",
    "    xaxis='x',\n",
    "    yaxis='y'\n",
    ")\n",
    "data = [trace1, trace2, trace3, trace4]\n",
    "layout = go.Layout(\n",
    "    xaxis=dict(\n",
    "        domain=[0, 0.45]\n",
    "    ),\n",
    "    yaxis=dict(\n",
    "        domain=[0, 0.45]\n",
    "    ),\n",
    "    xaxis2=dict(\n",
    "        domain=[0.55, 1]\n",
    "    ),\n",
    "    xaxis4=dict(\n",
    "        domain=[0.55, 1],\n",
    "        anchor='y4'\n",
    "    ),\n",
    "    yaxis3=dict(\n",
    "        domain=[0.55, 1]\n",
    "    ),\n",
    "    yaxis4=dict(\n",
    "        domain=[0.55, 1],\n",
    "        anchor='x4'\n",
    "    )\n",
    ")\n",
    "fig = go.Figure(data=data, layout=layout)\n",
    "py.iplot(fig, filename='shared-axes-subplots')"
   ]
  },
  {
   "cell_type": "code",
   "execution_count": 37,
   "metadata": {
    "collapsed": false
   },
   "outputs": [
    {
     "data": {
      "text/html": [
       "<iframe id=\"igraph\" scrolling=\"no\" style=\"border:none;\" seamless=\"seamless\" src=\"https://plot.ly/~pvnkmrksk/35.embed\" height=\"1000px\" width=\"1000px\"></iframe>"
      ],
      "text/plain": [
       "<plotly.tools.PlotlyDisplay object>"
      ]
     },
     "execution_count": 37,
     "metadata": {},
     "output_type": "execute_result"
    }
   ],
   "source": [
    "import plotly.plotly as py\n",
    "import plotly.graph_objs as go\n",
    "\n",
    "w=1000\n",
    "h=1000\n",
    "\n",
    "df0=df[df.trajectory__case==0]# && df.trajectory__isFlying]\n",
    "trace0 = go.Scatter(\n",
    "    x = df0.trajectory__pPos_x,\n",
    "    y = df0.trajectory__pPos_y,\n",
    ")\n",
    "trace2 = go.Scatter(\n",
    "    x=[20, 30, 40],\n",
    "    y=[50, 60, 70],\n",
    "    xaxis='x2',\n",
    "    yaxis='y2'\n",
    ")\n",
    "trace3 = go.Scatter(\n",
    "    x=[300, 400, 500],\n",
    "    y=[600, 700, 800],\n",
    "    xaxis='x3',\n",
    "    yaxis='y3'\n",
    ")\n",
    "trace4 = go.Scatter(\n",
    "    x=[4000, 5000, 6000],\n",
    "    y=[7000, 8000, 9000],\n",
    "    xaxis='x4',\n",
    "    yaxis='y4'\n",
    ")\n",
    "data = [trace0, trace2, trace3, trace4]\n",
    "layout = go.Layout(\n",
    "            \n",
    "    width=w,\n",
    "    height=h,\n",
    "    \n",
    "    xaxis=dict(\n",
    "        domain=[0, 0.45]\n",
    "\n",
    "    ),\n",
    "    yaxis=dict(\n",
    "        domain=[0, 0.45]\n",
    "    ),\n",
    "    xaxis2=dict(\n",
    "        domain=[0.55, 1]\n",
    "    ),\n",
    "    xaxis3=dict(\n",
    "        domain=[0, 0.45],\n",
    "        anchor='y3'\n",
    "    ),\n",
    "    xaxis4=dict(\n",
    "        domain=[0.55, 1],\n",
    "        anchor='y4'\n",
    "    ),\n",
    "    yaxis2=dict(\n",
    "        domain=[0, 0.45],\n",
    "        anchor='x2'\n",
    "    ),\n",
    "    yaxis3=dict(\n",
    "        domain=[0.55, 1]\n",
    "    ),\n",
    "    yaxis4=dict(\n",
    "        domain=[0.55, 1],\n",
    "        anchor='x4'\n",
    "    )\n",
    ")\n",
    "fig = go.Figure(data=data, layout=layout)\n",
    "py.iplot(fig)"
   ]
  },
  {
   "cell_type": "code",
   "execution_count": 90,
   "metadata": {
    "collapsed": false,
    "scrolled": false
   },
   "outputs": [
    {
     "name": "stdout",
     "output_type": "stream",
     "text": [
      "/home/rhagoletis/catkin/src/World/bags/2017_07_20/2017-07-20__15~01~35_haw13_00_wind_gain~8_speed~1.0_bout~30_DC~0.0_traj.bag_df.pickle\n",
      "2017-07-20__15~01~35_haw13_00_wind_gain~8_speed~1.0_bout~30_DC~0.0_traj.pdf\n",
      "0.0\n",
      "c1 c2 is [0, 0, 0, 0] [0, 0, 0, 0]\n",
      "0 0.0\n",
      "1.0\n",
      "c1 c2 is [0, 0, 0, 0] [0, 0, 0, 0]\n",
      "1 0.0\n",
      "2.0\n",
      "c1 c2 is [0, 0, 0, 0] [0, 0, 0, 0]\n",
      "2 0.0\n",
      "3.0\n",
      "c1 c2 is [0, 0, 0, 0] [0, 0, 0, 0]\n",
      "3 0.0\n"
     ]
    },
    {
     "ename": "NameError",
     "evalue": "name 'fig_handle' is not defined",
     "output_type": "error",
     "traceback": [
      "\u001b[1;31m--------------------------------------------------------------------------\u001b[0m",
      "\u001b[1;31mNameError\u001b[0m                                Traceback (most recent call last)",
      "\u001b[1;32m<ipython-input-90-f91efc7c3e21>\u001b[0m in \u001b[0;36m<module>\u001b[1;34m()\u001b[0m\n\u001b[0;32m      6\u001b[0m \u001b[1;33m\u001b[0m\u001b[0m\n\u001b[0;32m      7\u001b[0m \u001b[0mf\u001b[0m\u001b[1;33m=\u001b[0m\u001b[0mquadPlotter\u001b[0m\u001b[1;33m(\u001b[0m\u001b[0mdf\u001b[0m\u001b[1;33m=\u001b[0m\u001b[0mdf\u001b[0m\u001b[1;33m,\u001b[0m\u001b[0mmetadata\u001b[0m\u001b[1;33m=\u001b[0m\u001b[0mmetadata\u001b[0m\u001b[1;33m,\u001b[0m\u001b[0moff\u001b[0m\u001b[1;33m=\u001b[0m\u001b[1;36m3\u001b[0m\u001b[1;33m,\u001b[0m\u001b[0mrm\u001b[0m\u001b[1;33m=\u001b[0m\u001b[1;36m1\u001b[0m\u001b[1;33m,\u001b[0m\u001b[0mxt\u001b[0m\u001b[1;33m=\u001b[0m\u001b[1;34m'X (m)'\u001b[0m\u001b[1;33m,\u001b[0m\u001b[0myt\u001b[0m\u001b[1;33m=\u001b[0m\u001b[1;34m'Y (m)'\u001b[0m\u001b[1;33m,\u001b[0m\u001b[0ms\u001b[0m\u001b[1;33m=\u001b[0m\u001b[1;36m3\u001b[0m\u001b[1;33m,\u001b[0m\u001b[0mpth\u001b[0m\u001b[1;33m=\u001b[0m\u001b[0mpth\u001b[0m\u001b[1;33m,\u001b[0m\u001b[0mcol\u001b[0m\u001b[1;33m=\u001b[0m\u001b[1;33m[\u001b[0m\u001b[1;36m0\u001b[0m\u001b[1;33m,\u001b[0m\u001b[1;36m0\u001b[0m\u001b[1;33m,\u001b[0m\u001b[1;36m0\u001b[0m\u001b[1;33m,\u001b[0m\u001b[1;36m1\u001b[0m\u001b[1;33m]\u001b[0m\u001b[1;33m,\u001b[0m\u001b[0mvalveOverlay\u001b[0m\u001b[1;33m=\u001b[0m\u001b[0mTrue\u001b[0m\u001b[1;33m)\u001b[0m\u001b[1;33m\u001b[0m\u001b[0m\n\u001b[1;32m----> 8\u001b[1;33m \u001b[0mpl\u001b[0m\u001b[1;33m.\u001b[0m\u001b[0mdump\u001b[0m\u001b[1;33m(\u001b[0m\u001b[0mfig_handle\u001b[0m\u001b[1;33m,\u001b[0m\u001b[0mfile\u001b[0m\u001b[1;33m(\u001b[0m\u001b[1;34m'sinus.pickle'\u001b[0m\u001b[1;33m,\u001b[0m\u001b[1;34m'wb'\u001b[0m\u001b[1;33m)\u001b[0m\u001b[1;33m)\u001b[0m\u001b[1;33m\u001b[0m\u001b[0m\n\u001b[0m",
      "\u001b[1;31mNameError\u001b[0m: name 'fig_handle' is not defined"
     ]
    }
   ],
   "source": [
    "df,metadata,path=loader()\n",
    "parameters=metadata['parameters']\n",
    "pth=path.split('/')[-1].split('.bag')[0]+'.pdf'\n",
    "print pth\n",
    "\n",
    "\n",
    "f=quadPlotter(df=df,metadata=metadata,off=3,rm=1,xt='X (m)',yt='Y (m)',s=3,pth=pth,col=[0,0,0,1],valveOverlay=True)\n",
    "# pl.dump(f,file('sinus.pickle','w'))"
   ]
  },
  {
   "cell_type": "code",
   "execution_count": 104,
   "metadata": {
    "collapsed": true
   },
   "outputs": [],
   "source": [
    "pl.dump(f,file('sinus.pickle','w'))"
   ]
  },
  {
   "cell_type": "code",
   "execution_count": 108,
   "metadata": {
    "collapsed": false
   },
   "outputs": [
    {
     "ename": "AttributeError",
     "evalue": "'NoneType' object has no attribute 'manager'\nFigure.show works only for figures managed by pyplot, normally created by pyplot.figure().",
     "output_type": "error",
     "traceback": [
      "\u001b[1;31m--------------------------------------------------------------------------\u001b[0m",
      "\u001b[1;31mAttributeError\u001b[0m                           Traceback (most recent call last)",
      "\u001b[1;32m<ipython-input-108-ac27ad8e3f1d>\u001b[0m in \u001b[0;36m<module>\u001b[1;34m()\u001b[0m\n\u001b[0;32m      1\u001b[0m \u001b[1;31m# plt.ioff()\u001b[0m\u001b[1;33m\u001b[0m\u001b[1;33m\u001b[0m\u001b[0m\n\u001b[0;32m      2\u001b[0m \u001b[0ma\u001b[0m\u001b[1;33m=\u001b[0m\u001b[0mpl\u001b[0m\u001b[1;33m.\u001b[0m\u001b[0mload\u001b[0m\u001b[1;33m(\u001b[0m\u001b[0mopen\u001b[0m\u001b[1;33m(\u001b[0m\u001b[1;34m'sinus.pickle'\u001b[0m\u001b[1;33m,\u001b[0m\u001b[1;34m'rb'\u001b[0m\u001b[1;33m)\u001b[0m\u001b[1;33m)\u001b[0m\u001b[1;33m\u001b[0m\u001b[0m\n\u001b[1;32m----> 3\u001b[1;33m \u001b[0ma\u001b[0m\u001b[1;33m.\u001b[0m\u001b[0mshow\u001b[0m\u001b[1;33m(\u001b[0m\u001b[1;33m)\u001b[0m\u001b[1;33m\u001b[0m\u001b[0m\n\u001b[0m",
      "\u001b[1;32m/usr/local/lib/python2.7/dist-packages/matplotlib/figure.pyc\u001b[0m in \u001b[0;36mshow\u001b[1;34m(self, warn)\u001b[0m\n\u001b[0;32m    389\u001b[0m                                  \u001b[1;34m\"Figure.show works only \"\u001b[0m\u001b[1;33m\u001b[0m\u001b[0m\n\u001b[0;32m    390\u001b[0m                                  \u001b[1;34m\"for figures managed by pyplot, normally \"\u001b[0m\u001b[1;33m\u001b[0m\u001b[0m\n\u001b[1;32m--> 391\u001b[1;33m                                  \"created by pyplot.figure().\" % err)\n\u001b[0m\u001b[0;32m    392\u001b[0m \u001b[1;33m\u001b[0m\u001b[0m\n\u001b[0;32m    393\u001b[0m         \u001b[1;32mif\u001b[0m \u001b[0mmanager\u001b[0m \u001b[1;32mis\u001b[0m \u001b[1;32mnot\u001b[0m \u001b[0mNone\u001b[0m\u001b[1;33m:\u001b[0m\u001b[1;33m\u001b[0m\u001b[0m\n",
      "\u001b[1;31mAttributeError\u001b[0m: 'NoneType' object has no attribute 'manager'\nFigure.show works only for figures managed by pyplot, normally created by pyplot.figure()."
     ]
    }
   ],
   "source": [
    "# plt.ioff()\n",
    "a=pl.load(open('sinus.pickle','rb'))\n",
    "a.show()"
   ]
  },
  {
   "cell_type": "code",
   "execution_count": 66,
   "metadata": {
    "collapsed": false
   },
   "outputs": [],
   "source": [
    "df2=df[['trajectory__pOri_x','trajectory__wbad']][df.trajectory__case==1][:40000]\n",
    "# df2.trajectory__wbad.plot()"
   ]
  },
  {
   "cell_type": "code",
   "execution_count": 67,
   "metadata": {
    "collapsed": false
   },
   "outputs": [
    {
     "data": {
      "text/plain": [
       "<matplotlib.axes._subplots.AxesSubplot at 0x7fcc5a4dd210>"
      ]
     },
     "execution_count": 67,
     "metadata": {},
     "output_type": "execute_result"
    }
   ],
   "source": [
    "df2.trajectory__wbad.plot()"
   ]
  },
  {
   "cell_type": "code",
   "execution_count": 68,
   "metadata": {
    "collapsed": false
   },
   "outputs": [
    {
     "data": {
      "text/plain": [
       "312"
      ]
     },
     "execution_count": 68,
     "metadata": {},
     "output_type": "execute_result"
    }
   ],
   "source": [
    "len(df.trajectory__wbad.unique())"
   ]
  },
  {
   "cell_type": "code",
   "execution_count": 74,
   "metadata": {
    "collapsed": false
   },
   "outputs": [
    {
     "data": {
      "text/plain": [
       "<matplotlib.lines.Line2D at 0x7fcc585b7b50>"
      ]
     },
     "execution_count": 74,
     "metadata": {},
     "output_type": "execute_result"
    }
   ],
   "source": [
    "plt.scatter((((df2.trajectory__pOri_x-180)%360)-180),df2.trajectory__wbad,s=400,alpha=0.01)\n",
    "plt.axhline(0,c='k')"
   ]
  },
  {
   "cell_type": "code",
   "execution_count": 81,
   "metadata": {
    "collapsed": false
   },
   "outputs": [
    {
     "data": {
      "text/plain": [
       "<matplotlib.collections.PathCollection at 0x7fcc8a043dd0>"
      ]
     },
     "execution_count": 81,
     "metadata": {},
     "output_type": "execute_result"
    }
   ],
   "source": [
    "plt.scatter(df.trajectory__wbad,df.trajectory__wbas,alpha=0.01)"
   ]
  },
  {
   "cell_type": "code",
   "execution_count": 10,
   "metadata": {
    "collapsed": false
   },
   "outputs": [
    {
     "data": {
      "text/plain": [
       "{u'DCoffset': 0.138,\n",
       " u'DCoffsetIncrement': 0.002,\n",
       " u'area': 8,\n",
       " u'areaMode': True,\n",
       " u'bagFileName': u'bags/2017_03_12/2017-03-12__20:51:25_apple24_11_gain:8_speed:1.0_bout:20_DC:0.138_full',\n",
       " u'bagFullTopics': u'/rhag_camera/image_raw/compressed /kinefly/image_output /servo_camera/image_raw/compressed /kinefly/flystate /trajectory  ',\n",
       " u'bagTrajTopics': u'/kinefly/flystate /trajectory ',\n",
       " u'bboxDist': 1.0,\n",
       " u'beepPath': u'/home/rhagoletis/catkin/src/World/models/sounds/beep.wav',\n",
       " u'boutNum': 1,\n",
       " u'camFOV': [120, 140],\n",
       " u'camHpr': [0, 0, 0],\n",
       " u'captureScale': 1.0,\n",
       " u'captureStart': 0,\n",
       " u'durList': [3, 3, 3, 3, 3, 3],\n",
       " u'durListGen': False,\n",
       " u'emergence': u'2017-02-03',\n",
       " u'factorDur': 0.65,\n",
       " u'fly': u'apple24',\n",
       " u'fps': 165,\n",
       " u'frameNum': 0,\n",
       " u'frameRecord': False,\n",
       " u'frameRecordPath': u'/home/rhagoletis/catkin/src/World/frames/test/test1',\n",
       " u'gain': 8,\n",
       " u'gainIncrement': 0.02,\n",
       " u'generateWorld': True,\n",
       " u'gpMode': True,\n",
       " u'greenTexPath': u'/home/transire/catkin/src/world/models/green.tga',\n",
       " u'headingListGen': False,\n",
       " u'headingRate': [0.25, 0.5, 1, 2, 4, 8],\n",
       " u'humanDisplay': False,\n",
       " u'imposeStimulus': False,\n",
       " u'interTrial': 3,\n",
       " u'intraTrial': 3,\n",
       " u'loadNullModels': False,\n",
       " u'loadOdour': False,\n",
       " u'loadTrajectory': False,\n",
       " u'loadWind': False,\n",
       " u'loadWorld': True,\n",
       " u'loadingString': u'11',\n",
       " u'lockFps': True,\n",
       " u'maxBoutDur': 20,\n",
       " u'maxDistance': 99,\n",
       " u'maxFlightSpeed': 1.0,\n",
       " u'maxSpeed': 1.0,\n",
       " u'maxWbas': 2.5,\n",
       " u'minFlightSpeed': 0.5,\n",
       " u'minWbas': 1.2,\n",
       " u'modelHeightMap': u'models/height2570.png',\n",
       " u'modelSizeSuffix': u'1025',\n",
       " u'modelTextureMap': u'models/3D_Models/terrain/terrain.egg',\n",
       " u'modelTextureMapNull': u'/home/transire/catkin/src/world/models/texture257_quadrant_t2_sym_null.png',\n",
       " u'mouseMode': False,\n",
       " u'nReps': 20,\n",
       " u'nSteps': 5,\n",
       " u'numObj': 4,\n",
       " u'obj1Scale': 4.0,\n",
       " u'obj1Z': 0.0,\n",
       " u'obj2Scale': 4.0,\n",
       " u'obj2Z': 0.0,\n",
       " u'object1': u'models/3D_Models/appletree/appletree_mp.egg',\n",
       " u'object2': u'models/3D_Models/appletree/appletree_mp_a.egg',\n",
       " u'odour1': u'models/odour/1.png',\n",
       " u'odour1Mask': u'models/odour/s.png',\n",
       " u'odour2': u'models/odour/2.png',\n",
       " u'odour2Mask': u'models/odour/s.png',\n",
       " u'odour3': u'models/odour/3.png',\n",
       " u'odour3Mask': u'models/odour/s.png',\n",
       " u'odour4': u'models/odour/4.png',\n",
       " u'odour4Mask': u'models/odour/s.png',\n",
       " u'odourQuad': [0, 1, 4, 16],\n",
       " u'orderFlip': True,\n",
       " u'origin': [0, 0, 0],\n",
       " u'packetDur': 0.018,\n",
       " u'pausePlot': False,\n",
       " u'pfGenTimeSeries': True,\n",
       " u'pfMode': u'ordered',\n",
       " u'pfNReps': 14,\n",
       " u'pfPreStim': 0,\n",
       " u'pfPreStimDur': 20.0,\n",
       " u'pfStimDur': 20.0,\n",
       " u'pfStimList': [1.0, 2.0, 4.0, 8.0, 16.0, 8, 4, 2, 1],\n",
       " u'phi': 0.0,\n",
       " u'playbackIncrement': 1,\n",
       " u'playerInitH': 0,\n",
       " u'playerInitPos': [513, 510, 1.3],\n",
       " u'plotOdourQuad': False,\n",
       " u'posL': [510, 516, 0],\n",
       " u'posR': [516, 516, 0],\n",
       " u'quad': False,\n",
       " u'race': u'apple',\n",
       " u'radius': 6.0,\n",
       " u'randPos': True,\n",
       " u'recordDur': 10.0,\n",
       " u'recordFps': 30,\n",
       " u'redTexPath': u'/home/transire/catkin/src/world/models/red.tga',\n",
       " u'replayWorld': False,\n",
       " u'resetObject': False,\n",
       " u'signFlip': True,\n",
       " u'skyMap': u'models/sky.egg',\n",
       " u'skyMapNull': u'models/sky_null.egg',\n",
       " u'speed': 0.0,\n",
       " u'speedIncrement': 0.05,\n",
       " u'startDur': 12,\n",
       " u'startHeading': 2.1,\n",
       " u'stepDur': -1,\n",
       " u'stepMode': True,\n",
       " u'stopDur': 2,\n",
       " u'toTuplify': [u'camHpr',\n",
       "  u'posL',\n",
       "  u'posR',\n",
       "  u'origin',\n",
       "  u'camFOV',\n",
       "  u'playerInitPos'],\n",
       " u'trajectoryUpdateInterval': 30,\n",
       " u'treeTexPath': u'/home/transire/catkin/src/world/models/BarkBrown.tga',\n",
       " u'useOdourMask': False,\n",
       " u'useValve1': False,\n",
       " u'useValve2': True,\n",
       " u'wbad': 0,\n",
       " u'wbas': 0,\n",
       " u'windDirection': 90,\n",
       " u'windQuad': [-1, 180, 135, 225],\n",
       " u'windowHeight': 2560,\n",
       " u'windowWidth': 4320,\n",
       " u'worldSize': 1025,\n",
       " u'zipFileName': u'bags/2017_03_12/2017-03-12__20:51:25_apple24_11_gain:8_speed:1.0_bout:20_DC:0.138_full.zip'}"
      ]
     },
     "execution_count": 10,
     "metadata": {},
     "output_type": "execute_result"
    }
   ],
   "source": [
    "parameters"
   ]
  },
  {
   "cell_type": "code",
   "execution_count": 9,
   "metadata": {
    "collapsed": false
   },
   "outputs": [
    {
     "name": "stdout",
     "output_type": "stream",
     "text": [
      "['/home/rhagoletis/catkin/src/World/bags/10-3/dfpick/2017-03-30__21:53:22_apple28_00_odour_gain:8_speed:1.0_bout:15_DC:-0.112_traj.bag_df.pickle', '/home/rhagoletis/catkin/src/World/bags/10-3/dfpick/2017-03-30__22:10:17_apple28_00_odour_gain:8_speed:1.0_bout:15_DC:-0.112_traj.bag_df.pickle', '/home/rhagoletis/catkin/src/World/bags/10-3/dfpick/2017-03-30__22:32:35_apple28_00_odour_gain:8_speed:1.0_bout:15_DC:-0.356_traj.bag_df.pickle', '/home/rhagoletis/catkin/src/World/bags/10-3/dfpick/2017-03-30__22:51:51_apple28_00_odour_gain:8_speed:1.0_bout:15_DC:-0.356_traj.bag_df.pickle', '/home/rhagoletis/catkin/src/World/bags/10-3/dfpick/2017-03-30__23:18:45_apple28_00_odour_gain:8_speed:1.0_bout:15_DC:-0.278_traj.bag_df.pickle', '/home/rhagoletis/catkin/src/World/bags/10-3/dfpick/2017-04-04__22:35:24_apple29_00_odour_gain:8_speed:1.0_bout:15_DC:0.018_traj.bag_df.pickle', '/home/rhagoletis/catkin/src/World/bags/10-3/dfpick/2017-04-04__23:32:41_apple29_00_odour_gain:8_speed:1.0_bout:15_DC:0.018_traj.bag_df.pickle', '/home/rhagoletis/catkin/src/World/bags/10-3/dfpick/2017-04-12__14:19:55_apple31_00_odour_gain:8_speed:1.0_bout:30_DC:0.08_traj.bag_df.pickle', '/home/rhagoletis/catkin/src/World/bags/10-3/dfpick/2017-04-12__22:47:28_apple32_00_odour_gain:8_speed:1.0_bout:30_DC:0.021_traj.bag_df.pickle', '/home/rhagoletis/catkin/src/World/bags/10-3/dfpick/2017-04-17__21:40:29_apple34_00_odour_gain:8_speed:1.0_bout:30_DC:-0.128_traj.bag_df.pickle', '/home/rhagoletis/catkin/src/World/bags/10-3/dfpick/2017-04-17__22:03:42_apple34_00_odour_gain:8_speed:1.0_bout:30_DC:-0.128_traj.bag_df.pickle', '/home/rhagoletis/catkin/src/World/bags/10-3/dfpick/2017-04-17__22:34:50_apple34_00_odour_gain:8_speed:1.0_bout:30_DC:-0.128_traj.bag_df.pickle', '/home/rhagoletis/catkin/src/World/bags/10-3/dfpick/2017-04-17__22:40:02_apple34_00_odour_gain:8_speed:1.0_bout:30_DC:-0.128_traj.bag_df.pickle', '/home/rhagoletis/catkin/src/World/bags/10-3/dfpick/2017-04-17__23:05:43_apple34_00_odour_gain:8_speed:1.0_bout:30_DC:-0.128_traj.bag_df.pickle', '/home/rhagoletis/catkin/src/World/bags/10-3/dfpick/2017-04-18__10:53:16_apple34_00_odour_gain:8_speed:1.0_bout:60_DC:-0.128_traj.bag_df.pickle', '/home/rhagoletis/catkin/src/World/bags/10-3/dfpick/2017-04-18__11:01:35_apple34_00_odour_gain:8_speed:1.0_bout:60_DC:-0.128_traj.bag_df.pickle', '/home/rhagoletis/catkin/src/World/bags/10-3/dfpick/2017-04-18__12:00:33_apple34_00_odour_gain:8_speed:1.0_bout:60_DC:-0.128_traj.bag_df.pickle', '/home/rhagoletis/catkin/src/World/bags/10-3/dfpick/2017-04-18__16:01:12_apple35_00_odour_gain:8_speed:1.0_bout:60_DC:0.2_traj.bag_df.pickle']\n",
      "2017-03-30__21:53:22_apple28_00_odour_gain:8_speed:1.0_bout:15_DC:-0.112_traj.pdf\n",
      "0.0\n",
      "c1 c2 is [0, 0, 0, 0] [0, 0, 0, 0]\n",
      "0 0.0\n",
      "1.0\n",
      "c1 c2 is [0, 0, 0, 0] [0, 0, 0, 0]\n",
      "1 1.0\n",
      "2.0\n",
      "c1 c2 is [0, 0, 0, 0] [0, 0, 0, 0]\n",
      "2 2.0\n",
      "3.0\n",
      "c1 c2 is [0, 0, 0, 0] [0, 0, 0, 0]\n",
      "3 4.0\n",
      "2017-03-30__22:10:17_apple28_00_odour_gain:8_speed:1.0_bout:15_DC:-0.112_traj.pdf\n",
      "0.0\n",
      "c1 c2 is [0, 0, 0, 0] [0, 0, 0, 0]\n",
      "0 0.0\n",
      "1.0\n",
      "c1 c2 is [0, 0, 0, 0] [0, 0, 0, 0]\n",
      "1 1.0\n",
      "2.0\n",
      "c1 c2 is [0, 0, 0, 0] [0, 0, 0, 0]\n",
      "2 8.0\n",
      "3.0\n",
      "c1 c2 is [0, 0, 0, 0] [0, 0, 0, 0]\n",
      "3 16.0\n",
      "2017-03-30__22:32:35_apple28_00_odour_gain:8_speed:1.0_bout:15_DC:-0.356_traj.pdf\n",
      "0.0\n",
      "c1 c2 is [0, 0, 0, 0] [0, 0, 0, 0]\n",
      "0 8.0\n",
      "1.0\n",
      "c1 c2 is [0, 0, 0, 0] [0, 0, 0, 0]\n",
      "1 1.0\n",
      "2.0\n",
      "c1 c2 is [0, 0, 0, 0] [0, 0, 0, 0]\n",
      "2 8.0\n",
      "3.0\n",
      "c1 c2 is [0, 0, 0, 0] [0, 0, 0, 0]\n",
      "3 16.0\n",
      "2017-03-30__22:51:51_apple28_00_odour_gain:8_speed:1.0_bout:15_DC:-0.356_traj.pdf\n",
      "0.0\n",
      "c1 c2 is [0, 0, 0, 0] [0, 0, 0, 0]\n",
      "0 0.0\n",
      "1.0\n",
      "c1 c2 is [0, 0, 0, 0] [0, 0, 0, 0]\n",
      "1 1.0\n",
      "2.0\n",
      "c1 c2 is [0, 0, 0, 0] [0, 0, 0, 0]\n",
      "2 0.0\n",
      "3.0\n",
      "c1 c2 is [0, 0, 0, 0] [0, 0, 0, 0]\n",
      "3 0.0\n",
      "2017-03-30__23:18:45_apple28_00_odour_gain:8_speed:1.0_bout:15_DC:-0.278_traj.pdf\n",
      "0.0\n",
      "c1 c2 is [0, 0, 0, 0] [0, 0, 0, 0]\n",
      "0 0.0\n",
      "1.0\n",
      "c1 c2 is [0, 0, 0, 0] [0, 0, 0, 0]\n",
      "1 1.0\n",
      "2.0\n",
      "c1 c2 is [0, 0, 0, 0] [0, 0, 0, 0]\n",
      "2 2.0\n",
      "3.0\n",
      "c1 c2 is [0, 0, 0, 0] [0, 0, 0, 0]\n",
      "3 4.0\n",
      "2017-04-04__22:35:24_apple29_00_odour_gain:8_speed:1.0_bout:15_DC:0.018_traj.pdf\n",
      "0.0\n",
      "c1 c2 is [0, 0, 0, 0] [0, 0, 0, 0]\n",
      "0 1.0\n",
      "1.0\n",
      "c1 c2 is [0, 0, 0, 0] [0, 0, 0, 0]\n",
      "1 0.0\n",
      "2.0\n",
      "c1 c2 is [0, 0, 0, 0] [0, 0, 0, 0]\n",
      "2 0.0\n",
      "3.0\n",
      "c1 c2 is [0, 0, 0, 0] [0, 0, 0, 0]\n",
      "3 0.0\n",
      "2017-04-04__23:32:41_apple29_00_odour_gain:8_speed:1.0_bout:15_DC:0.018_traj.pdf\n",
      "0.0\n",
      "c1 c2 is [0, 0, 0, 0] [0, 0, 0, 0]\n",
      "0 0.0\n",
      "1.0\n",
      "c1 c2 is [0, 0, 0, 0] [0, 0, 0, 0]\n",
      "1 1.0\n",
      "2.0\n",
      "c1 c2 is [0, 0, 0, 0] [0, 0, 0, 0]\n",
      "2 0.0\n",
      "3.0\n",
      "c1 c2 is [0, 0, 0, 0] [0, 0, 0, 0]\n",
      "3 0.0\n",
      "2017-04-12__14:19:55_apple31_00_odour_gain:8_speed:1.0_bout:30_DC:0.08_traj.pdf\n",
      "0.0\n",
      "c1 c2 is [0, 0, 0, 0] [0, 0, 0, 0]\n",
      "0 0.0\n",
      "1.0\n",
      "c1 c2 is [0, 0, 0, 0] [0, 0, 0, 0]\n",
      "1 0.0\n",
      "2.0\n",
      "c1 c2 is [0, 0, 0, 0] [0, 0, 0, 0]\n",
      "2 8.0\n",
      "3.0\n",
      "c1 c2 is [0, 0, 0, 0] [0, 0, 0, 0]\n",
      "3 0.0\n",
      "2017-04-12__22:47:28_apple32_00_odour_gain:8_speed:1.0_bout:30_DC:0.021_traj.pdf\n",
      "0.0\n",
      "c1 c2 is [0, 0, 0, 0] [0, 0, 0, 0]\n",
      "0 0.0\n",
      "1.0\n",
      "c1 c2 is [0, 0, 0, 0] [0, 0, 0, 0]\n",
      "1 0.0\n",
      "2.0\n",
      "c1 c2 is [0, 0, 0, 0] [0, 0, 0, 0]\n",
      "2 0.0\n",
      "3.0\n",
      "c1 c2 is [0, 0, 0, 0] [0, 0, 0, 0]\n",
      "3 0.0\n",
      "2017-04-17__21:40:29_apple34_00_odour_gain:8_speed:1.0_bout:30_DC:-0.128_traj.pdf\n",
      "0.0\n",
      "c1 c2 is [0, 0, 0, 0] [0, 0, 0, 0]\n",
      "0 0.0\n",
      "1.0\n",
      "c1 c2 is [0, 0, 0, 0] [0, 0, 0, 0]\n",
      "1 0.0\n",
      "2.0\n",
      "c1 c2 is [0, 0, 0, 0] [0, 0, 0, 0]\n",
      "2 0.0\n",
      "3.0\n",
      "c1 c2 is [0, 0, 0, 0] [0, 0, 0, 0]\n",
      "3 16.0\n",
      "2017-04-17__22:03:42_apple34_00_odour_gain:8_speed:1.0_bout:30_DC:-0.128_traj.pdf\n",
      "0.0\n",
      "c1 c2 is [0, 0, 0, 0] [0, 0, 0, 0]\n",
      "0 0.0\n",
      "1.0\n",
      "c1 c2 is [0, 0, 0, 0] [0, 0, 0, 0]\n",
      "1 0.0\n",
      "2.0\n",
      "c1 c2 is [0, 0, 0, 0] [0, 0, 0, 0]\n",
      "2 0.0\n",
      "3.0\n",
      "c1 c2 is [0, 0, 0, 0] [0, 0, 0, 0]\n",
      "3 0.0\n",
      "2017-04-17__22:34:50_apple34_00_odour_gain:8_speed:1.0_bout:30_DC:-0.128_traj.pdf\n",
      "0.0\n",
      "c1 c2 is [0, 0, 0, 0] [0, 0, 0, 0]\n",
      "0 0.0\n",
      "1.0\n",
      "c1 c2 is [0, 0, 0, 0] [0, 0, 0, 0]\n",
      "1 0.0\n",
      "2.0\n",
      "c1 c2 is [0, 0, 0, 0] [0, 0, 0, 0]\n",
      "2 0.0\n",
      "3.0\n",
      "c1 c2 is [0, 0, 0, 0] [0, 0, 0, 0]\n",
      "3 0.0\n",
      "2017-04-17__22:40:02_apple34_00_odour_gain:8_speed:1.0_bout:30_DC:-0.128_traj.pdf\n",
      "0.0\n",
      "c1 c2 is [0, 0, 0, 0] [0, 0, 0, 0]\n",
      "0 0.0\n",
      "1.0\n",
      "c1 c2 is [0, 0, 0, 0] [0, 0, 0, 0]\n",
      "1 1.0\n",
      "2.0\n",
      "c1 c2 is [0, 0, 0, 0] [0, 0, 0, 0]\n",
      "2 0.0\n",
      "3.0\n",
      "c1 c2 is [0, 0, 0, 0] [0, 0, 0, 0]\n",
      "3 16.0\n",
      "2017-04-17__23:05:43_apple34_00_odour_gain:8_speed:1.0_bout:30_DC:-0.128_traj.pdf\n",
      "0.0\n",
      "c1 c2 is [0, 0, 0, 0] [0, 0, 0, 0]\n",
      "0 1.0\n",
      "1.0\n",
      "c1 c2 is [0, 0, 0, 0] [0, 0, 0, 0]\n",
      "1 1.0\n",
      "2.0\n",
      "c1 c2 is [0, 0, 0, 0] [0, 0, 0, 0]\n",
      "2 8.0\n",
      "3.0\n",
      "c1 c2 is [0, 0, 0, 0] [0, 0, 0, 0]\n",
      "3 16.0\n",
      "2017-04-18__10:53:16_apple34_00_odour_gain:8_speed:1.0_bout:60_DC:-0.128_traj.pdf\n",
      "0.0\n",
      "c1 c2 is [0, 0, 0, 0] [0, 0, 0, 0]\n",
      "0 8.0\n",
      "1.0\n",
      "c1 c2 is [0, 0, 0, 0] [0, 0, 0, 0]\n",
      "1 1.0\n",
      "2017-04-18__11:01:35_apple34_00_odour_gain:8_speed:1.0_bout:60_DC:-0.128_traj.pdf\n",
      "0.0\n",
      "c1 c2 is [0, 0, 0, 0] [0, 0, 0, 0]\n",
      "0 8.0\n",
      "1.0\n",
      "c1 c2 is [0, 0, 0, 0] [0, 0, 0, 0]\n",
      "1 1.0\n",
      "2.0\n",
      "c1 c2 is [0, 0, 0, 0] [0, 0, 0, 0]\n",
      "2 8.0\n",
      "3.0\n",
      "c1 c2 is [0, 0, 0, 0] [0, 0, 0, 0]\n",
      "3 16.0\n",
      "2017-04-18__12:00:33_apple34_00_odour_gain:8_speed:1.0_bout:60_DC:-0.128_traj.pdf\n",
      "0.0\n",
      "c1 c2 is [0, 0, 0, 0] [0, 0, 0, 0]\n",
      "0 0.0\n",
      "1.0\n",
      "c1 c2 is [0, 0, 0, 0] [0, 0, 0, 0]\n",
      "1 1.0\n",
      "2.0\n",
      "c1 c2 is [0, 0, 0, 0] [0, 0, 0, 0]\n",
      "2 8.0\n",
      "3.0\n",
      "c1 c2 is [0, 0, 0, 0] [0, 0, 0, 0]\n",
      "3 0.0\n",
      "2017-04-18__16:01:12_apple35_00_odour_gain:8_speed:1.0_bout:60_DC:0.2_traj.pdf\n",
      "0.0\n",
      "c1 c2 is [0, 0, 0, 0] [0, 0, 0, 0]\n",
      "0 8.0\n",
      "1.0\n",
      "c1 c2 is [0, 0, 0, 0] [0, 0, 0, 0]\n",
      "1 1.0\n",
      "2.0\n",
      "c1 c2 is [0, 0, 0, 0] [0, 0, 0, 0]\n",
      "2 8.0\n",
      "3.0\n",
      "c1 c2 is [0, 0, 0, 0] [0, 0, 0, 0]\n",
      "3 16.0\n"
     ]
    }
   ],
   "source": [
    "'''Load a dataframe from pickle and analyse lr cases'''\n",
    "\n",
    "defaultPath=\"/home/rhagoletis/catkin/src/World/bags/\"\n",
    "paths=easygui.fileopenbox(title=\"Choose pickle Dataframes\"\n",
    "                          ,default=defaultPath,\n",
    "                          multiple=True,filetypes=[\"*.pickle\"])\n",
    "print paths\n",
    "for path in paths:\n",
    "#     plt.close('all')\n",
    "\n",
    "    dff=pd.read_pickle(path)\n",
    "    df=dff['df']\n",
    "    metadata=dff['metadata']\n",
    "\n",
    "    # df,metadata,path=loader()\n",
    "    parameters=metadata['parameters']\n",
    "    pth=path.split('/')[-1].split('.bag')[0]+'.pdf'\n",
    "    print pth\n",
    "\n",
    "    quadPlotter(df=df,metadata=metadata,off=3,rm=1,xt='X (m)',yt='Y (m)',s=3,pth=pth,col=[0,0,0,1])"
   ]
  },
  {
   "cell_type": "code",
   "execution_count": null,
   "metadata": {
    "collapsed": false
   },
   "outputs": [],
   "source": [
    "plt.scatter(df[(df.trajectory__case==0) & (df.trajectory__isFlying==True)].index,df[(df.trajectory__case==0) & (df.trajectory__isFlying==True)].trajectory__packetFrequency)\n",
    "plt.show()"
   ]
  },
  {
   "cell_type": "code",
   "execution_count": 7,
   "metadata": {
    "collapsed": false
   },
   "outputs": [
    {
     "name": "stderr",
     "output_type": "stream",
     "text": [
      "Traceback (most recent call last):\n",
      "  File \"/usr/local/lib/python2.7/dist-packages/matplotlib/backends/backend_qt5agg.py\", line 197, in __draw_idle_agg\n",
      "    FigureCanvasAgg.draw(self)\n",
      "  File \"/usr/local/lib/python2.7/dist-packages/matplotlib/backends/backend_agg.py\", line 464, in draw\n",
      "    self.figure.draw(self.renderer)\n",
      "  File \"/usr/local/lib/python2.7/dist-packages/matplotlib/artist.py\", line 63, in draw_wrapper\n",
      "    draw(artist, renderer, *args, **kwargs)\n",
      "  File \"/usr/local/lib/python2.7/dist-packages/matplotlib/figure.py\", line 1143, in draw\n",
      "    renderer, self, dsu, self.suppressComposite)\n",
      "  File \"/usr/local/lib/python2.7/dist-packages/matplotlib/image.py\", line 139, in _draw_list_compositing_images\n",
      "    a.draw(renderer)\n",
      "  File \"/usr/local/lib/python2.7/dist-packages/matplotlib/artist.py\", line 63, in draw_wrapper\n",
      "    draw(artist, renderer, *args, **kwargs)\n",
      "  File \"/usr/local/lib/python2.7/dist-packages/matplotlib/axes/_base.py\", line 2347, in draw\n",
      "    self.apply_aspect()\n",
      "  File \"/usr/local/lib/python2.7/dist-packages/matplotlib/axes/_base.py\", line 1509, in apply_aspect\n",
      "    self.set_ybound((y0, y1))\n",
      "  File \"/usr/local/lib/python2.7/dist-packages/matplotlib/axes/_base.py\", line 3075, in set_ybound\n",
      "    self.set_ylim(lower, upper, auto=None)\n",
      "  File \"/usr/local/lib/python2.7/dist-packages/matplotlib/axes/_base.py\", line 3189, in set_ylim\n",
      "    self.callbacks.process('ylim_changed', self)\n",
      "  File \"/usr/local/lib/python2.7/dist-packages/matplotlib/cbook.py\", line 546, in process\n",
      "    if s in self.callbacks:\n",
      "AttributeError: 'CallbackRegistry' object has no attribute 'callbacks'\n",
      "Traceback (most recent call last):\n",
      "  File \"/usr/local/lib/python2.7/dist-packages/matplotlib/backends/backend_qt5agg.py\", line 197, in __draw_idle_agg\n",
      "    FigureCanvasAgg.draw(self)\n",
      "  File \"/usr/local/lib/python2.7/dist-packages/matplotlib/backends/backend_agg.py\", line 464, in draw\n",
      "    self.figure.draw(self.renderer)\n",
      "  File \"/usr/local/lib/python2.7/dist-packages/matplotlib/artist.py\", line 63, in draw_wrapper\n",
      "    draw(artist, renderer, *args, **kwargs)\n",
      "  File \"/usr/local/lib/python2.7/dist-packages/matplotlib/figure.py\", line 1143, in draw\n",
      "    renderer, self, dsu, self.suppressComposite)\n",
      "  File \"/usr/local/lib/python2.7/dist-packages/matplotlib/image.py\", line 139, in _draw_list_compositing_images\n",
      "    a.draw(renderer)\n",
      "  File \"/usr/local/lib/python2.7/dist-packages/matplotlib/artist.py\", line 63, in draw_wrapper\n",
      "    draw(artist, renderer, *args, **kwargs)\n",
      "  File \"/usr/local/lib/python2.7/dist-packages/matplotlib/axes/_base.py\", line 2347, in draw\n",
      "    self.apply_aspect()\n",
      "  File \"/usr/local/lib/python2.7/dist-packages/matplotlib/axes/_base.py\", line 1517, in apply_aspect\n",
      "    self.set_xbound((x0, x1))\n",
      "  File \"/usr/local/lib/python2.7/dist-packages/matplotlib/axes/_base.py\", line 2799, in set_xbound\n",
      "    self.set_xlim(lower, upper, auto=None)\n",
      "  File \"/usr/local/lib/python2.7/dist-packages/matplotlib/axes/_base.py\", line 2912, in set_xlim\n",
      "    self.callbacks.process('xlim_changed', self)\n",
      "  File \"/usr/local/lib/python2.7/dist-packages/matplotlib/cbook.py\", line 546, in process\n",
      "    if s in self.callbacks:\n",
      "AttributeError: 'CallbackRegistry' object has no attribute 'callbacks'\n"
     ]
    }
   ],
   "source": [
    "import matplotlib.pyplot as plt\n",
    "import pickle as pl\n",
    "import numpy as np\n",
    "\n",
    "# Load figure from disk and display\n",
    "p='/home/rhagoletis/catkin/src/World/ipy_notebooks/2017-02-01__22:00:20_apple16_00_odour_gain:8_speed:1.0_bout:30_DC:-0.192_traj.pdfplot.pickle'\n",
    "fig_handle = pl.load(open(p,'rb'))\n",
    "# fig_handle.show()"
   ]
  },
  {
   "cell_type": "code",
   "execution_count": null,
   "metadata": {
    "collapsed": false
   },
   "outputs": [],
   "source": [
    "df['trajectory__frame']=df.trajectory__reset*0\n",
    "\n",
    "df2=df.copy()#[(df.trajectory__isFlying==True) ]#(df.trajectory__runNum<20) &\n",
    "# df2.trajectory__frame.plot()\n",
    "# plt.show()\n",
    "df.trajectory__frame.plot()\n",
    "df2.trajectory__frame.plot()\n",
    "\n",
    "\n",
    "# plt.show()"
   ]
  },
  {
   "cell_type": "code",
   "execution_count": null,
   "metadata": {
    "collapsed": false
   },
   "outputs": [],
   "source": [
    "df2=df.copy()#[(df.trajectory__isFlying==True) ]#(df.trajectory__runNum<20) &\n",
    "\n",
    "df2.trajectory__frame"
   ]
  },
  {
   "cell_type": "code",
   "execution_count": null,
   "metadata": {
    "collapsed": false
   },
   "outputs": [],
   "source": [
    "df.trajectory__frame=df.trajectory__reset*0\n",
    "for i in range(len(df.trajectory__reset)):\n",
    "    if i==0:\n",
    "        df.trajectory__frame[i]=0\n",
    "        continue\n",
    "\n",
    "    elif df.trajectory__reset[i]==1:\n",
    "        df.trajectory__frame[i]=0\n",
    "    elif df.trajectory__reset[i]==0:\n",
    "        df.trajectory__frame[i]=df.trajectory__frame[i-1]+1\n"
   ]
  },
  {
   "cell_type": "code",
   "execution_count": null,
   "metadata": {
    "collapsed": true
   },
   "outputs": [],
   "source": []
  },
  {
   "cell_type": "code",
   "execution_count": null,
   "metadata": {
    "collapsed": true
   },
   "outputs": [],
   "source": [
    "df.trajectory__frame=df.trajectory__reset"
   ]
  },
  {
   "cell_type": "code",
   "execution_count": null,
   "metadata": {
    "collapsed": false
   },
   "outputs": [],
   "source": [
    "df.trajectory__frame[0]"
   ]
  },
  {
   "cell_type": "code",
   "execution_count": null,
   "metadata": {
    "collapsed": true
   },
   "outputs": [],
   "source": []
  },
  {
   "cell_type": "code",
   "execution_count": null,
   "metadata": {
    "collapsed": true
   },
   "outputs": [],
   "source": [
    "import matplotlib as mpl\n",
    "# df=metadata=None\n",
    "def quadDistPlotter(pth='plot.pdf',col=[0,0,0,1],off=20,\n",
    "                xmin=506,xmax=520,ymin=508,ymax=522,rm=10,s=4,xt='X (m)',yt='Y (m)'):\n",
    "    \n",
    "        # row and column sharing\n",
    "    fig, ((ax2, ax1), (ax3, ax4)) = plt.subplots(2, 2, sharex=True, sharey=True,figsize=(14,14))\n",
    "    ax={4:ax4,1:ax1,2:ax2,3:ax3}\n",
    "#     maxS=df.trajectory__speed.max()\n",
    "    # ax1.set_title('lr anal')\n",
    "    dfD,metadataD,paths=multLoader()\n",
    "    for i in range(int(4)):\n",
    "#         df,metadata,path=loader()\n",
    "        df=dfD[i]\n",
    "        metadata=metadataD[i]\n",
    "        parameters=metadata['parameters']\n",
    "        df2=df[(df.trajectory__case==2) &(df.trajectory__isFlying==True)]\n",
    "        c1=[1,0,0,0.5]\n",
    "        c2=[0,1,0,0.5]\n",
    "\n",
    "#         circles(df2.trajectory__o1Pos_x[0],df2.trajectory__o1Pos_y[0],ax=ax[i+1],color=c1,lw=0,s=parameters['obj1Scale']/2)\n",
    "#         circles(df2.trajectory__o2Pos_x[0],df2.trajectory__o2Pos_y[0],ax=ax[i+1],color=c2,lw=0,s=parameters['obj1Scale']/2)\n",
    "        sc=0.7\n",
    "        r1=sc*parameters['obj1Scale']/2\n",
    "        r2=sc*parameters['obj2Scale']/2\n",
    "        \n",
    "        ls=parameters['loadingString']\n",
    "        non=[0,0,0,0]\n",
    "        red=[1,0,0,0.3]\n",
    "        green=[0,1,0,0.3]\n",
    "        wf=3 #wifth fat\n",
    "        w0=0 #width thin\n",
    "        \n",
    "        if ls=='00':\n",
    "            l=non\n",
    "            r=non\n",
    "            w1=wf\n",
    "            w2=wf\n",
    "        elif ls=='01':\n",
    "            l=non\n",
    "            r=red\n",
    "            w1=wf\n",
    "            w2=w0\n",
    "        elif ls=='10':\n",
    "            l=green\n",
    "            r=non\n",
    "            w1=w0\n",
    "            w2=wf\n",
    "        elif ls=='11':\n",
    "            l=green\n",
    "            r=red\n",
    "            w1=w0\n",
    "            w2=w0\n",
    "\n",
    "        if df2.trajectory__case[0] == 0:\n",
    "            c1=l\n",
    "            c2=l\n",
    "            l1=w1\n",
    "            l2=w1\n",
    "        elif df2.trajectory__case[0]== 1:\n",
    "            c1=r\n",
    "            c2=l\n",
    "            l1=w2\n",
    "            l2=w1\n",
    "        elif df2.trajectory__case[0]== 2:\n",
    "            c1=l\n",
    "            c2=r\n",
    "            l1=w1\n",
    "            l2=w2\n",
    "        elif df2.trajectory__case[0] == 3:\n",
    "            c1=r\n",
    "            c2=r\n",
    "            l1=w2\n",
    "            l2=w2\n",
    "        print 'c1 c2 is',c1,c2\n",
    "        \n",
    "#         ax[i+1].add_artist(Circle(xy=(parameters['posL'][0],parameters['posL'][1]), color=c1, radius=r1)) \n",
    "\n",
    "#         ax[i+1].add_artist(Circle(xy=(parameters['posR'][0],parameters['posR'][1]), color=c2, radius=r2)) \n",
    "            \n",
    "        \n",
    "        if df.trajectory__speedControl[0]:\n",
    "            col=df2.trajectory__speed.values/maxS\n",
    "        else:\n",
    "            col=col\n",
    "            \n",
    "        im=ax[i+1].scatter(df2.trajectory__pPos_x[::rm],df2.trajectory__pPos_y[::rm],lw=0,s=s\n",
    "                        ,c=col,cmap='viridis',rasterized=True)\n",
    "        \n",
    "        parameters['playerInitPos']=(df2.trajectory__pPos_x[0],df2.trajectory__pPos_y[0])\n",
    "        print \"init pos\",parameters['playerInitPos'][0]\n",
    "        ax[i+1].scatter(parameters['playerInitPos'][0],parameters['playerInitPos'][1],c=np.array([62,218,0,200])/255.,\n",
    "                        marker='^',lw=0,s=500)\n",
    "\n",
    "        ax[i+1].scatter(parameters['posL'][0],parameters['posL'][1],c=c1,lw=l1,s=sc*parameters['obj1Scale'])\n",
    "        ax[i+1].scatter(parameters['posR'][0],parameters['posR'][1],c=c2,lw=l2,s=sc*parameters[ 'obj2Scale'])\n",
    "\n",
    "        ax[i+1].set_xlim([xmin,xmax])\n",
    "        ax[i+1].set_ylim([ymin,ymax])\n",
    "\n",
    "        ax[i+1].set_aspect('equal', 'datalim')\n",
    "#         ax[i+1].set_title(i)\n",
    "        \n",
    "        ax[i+1].set_xlabel(xt)\n",
    "        ax[i+1].set_ylabel(yt)\n",
    "\n",
    "        print i\n",
    "    \n",
    "#     # Colorbar\n",
    "#     ax3.cax.colorbar(ax3)\n",
    "#     ax3.cax.toggle_label(True)\n",
    "#     fig.colorbar(im, ax=ax3)\n",
    "    \n",
    "#     cax,kw = mpl.colorbar.make_axes([ax1,ax2,ax3,ax4])\n",
    "#     plt.colorbar(im, cax=cax, **kw)\n",
    "        plt.tight_layout()\n",
    "#         fig.text(0.5, 0.04, xt, ha='center')\n",
    "#         fig.text(0.04, 0.5, yt, va='center', rotation='vertical')\n",
    "\n",
    "#     sns.despine()\n",
    "#     sns.set_style(\"ticks\")\n",
    "#         sns.set_style(\"white\")\n",
    "#         sns.set_style(\"whitegrid\")\n",
    "\n",
    "\n",
    "#         sns.set_style(\"ticks\", {\"xtick.major.size\": 8, \"ytick.major.size\": 8})\n",
    "#     fig.subplots_adjust(right=0.8)\n",
    "    \n",
    "    if df.trajectory__speedControl[0]:\n",
    "\n",
    "        cbar_ax = fig.add_axes([0.85, 0.15, 0.05, 0.7])\n",
    "        fig.colorbar(im, cax=cbar_ax)\n",
    "    \n",
    "    plt.savefig(pth, dpi=400)\n",
    "\n",
    "    plt.show()\n",
    "    return fig\n",
    "\n",
    "def multLoader():\n",
    "    '''Load a dataframe from pickle and analyse lr cases'''\n",
    "\n",
    "    defaultPath=\"/home/rhagoletis/catkin/src/World/bags/\"\n",
    "#     paths=easygui.fileopenbox(title=\"Choose pickle Dataframes\"\n",
    "#                               ,default=defaultPath,\n",
    "#                               multiple=True,filetypes=[\"*.pickle\"])\n",
    "    paths=['/home/rhagoletis/catkin/src/World/bags/2017_01_02/2017-01-02__15:54:36_apple11_01_traj.bag_df.pickle', '/home/rhagoletis/catkin/src/World/bags/2017_01_02/2017-01-02__17:01:04_apple11_01_traj.bag_df.pickle', '/home/rhagoletis/catkin/src/World/bags/2017_01_02/2017-01-02__17:18:07_apple11_01_traj.bag_df.pickle', '/home/rhagoletis/catkin/src/World/bags/2017_01_02/2017-01-02__18:07:00_apple11_01_traj.bag_df.pickle']\n",
    "    print paths\n",
    "    \n",
    "    df={}\n",
    "    metadata={}\n",
    "    \n",
    "    i=0\n",
    "    for path in paths:\n",
    "        dff=pd.read_pickle(path)\n",
    "        df[i]=dff['df']\n",
    "        metadata[i]=dff['metadata']\n",
    "        i+=1\n",
    "    return df,metadata,paths\n"
   ]
  },
  {
   "cell_type": "code",
   "execution_count": null,
   "metadata": {
    "collapsed": false,
    "scrolled": true
   },
   "outputs": [],
   "source": [
    "# df,metadata,path=loader()\n",
    "# parameters=metadata['parameters']\n",
    "# pth=path.split('/')[-1].split('.bag')[0]+'.pdf'\n",
    "quadDistPlotter(off=3,rm=2,xt='X (m)',yt='Y (m)',s=3,col=[0,0,0,1],ymin=490,ymax=520,xmin=498,xmax=528)"
   ]
  },
  {
   "cell_type": "code",
   "execution_count": null,
   "metadata": {
    "collapsed": true
   },
   "outputs": [],
   "source": [
    "plt.show()"
   ]
  },
  {
   "cell_type": "code",
   "execution_count": null,
   "metadata": {
    "collapsed": false
   },
   "outputs": [],
   "source": [
    "np.array([1,2,3])/2."
   ]
  },
  {
   "cell_type": "code",
   "execution_count": null,
   "metadata": {
    "collapsed": false
   },
   "outputs": [],
   "source": [
    "df.trajectory__case.plot()\n",
    "plt.show()"
   ]
  },
  {
   "cell_type": "code",
   "execution_count": null,
   "metadata": {
    "collapsed": false
   },
   "outputs": [],
   "source": [
    "import matplotlib.pyplot as plt, mpld3\n",
    "plt.plot([3,1,4,1,5], 'ks-', mec='w', mew=5, ms=20)\n",
    "mpld3.show()"
   ]
  },
  {
   "cell_type": "code",
   "execution_count": null,
   "metadata": {
    "collapsed": false
   },
   "outputs": [],
   "source": [
    "# row and column sharing\n",
    "f, ((ax2, ax1), (ax3, ax4)) = plt.subplots(2, 2, sharex=True, sharey=True,figsize=(16,16))\n",
    "ax={4:ax4,1:ax1,2:ax2,3:ax3}\n",
    "# ax1.set_title('lr anal')\n",
    "for i in range(int(df.trajectory__case.max()+1)):\n",
    "    df2=df[(df.trajectory__case==i) & (df.trajectory__runNum<20) &(df.trajectory__isFlying==True)]\n",
    "    ax[i+1].scatter(df2.trajectory__pPos_x,df2.trajectory__pPos_y,lw=0,alpha=1,s=0.2,c=(df2.trajectory__speed,df2.trajectory__speed,1))\n",
    "    ax[i+1].set_aspect('equal', 'datalim')\n",
    "    ax[i+1].set_title(i)\n",
    "    print i\n",
    "plt.tight_layout()\n",
    "plt.show()\n",
    "\n"
   ]
  },
  {
   "cell_type": "code",
   "execution_count": null,
   "metadata": {
    "collapsed": true
   },
   "outputs": [],
   "source": []
  },
  {
   "cell_type": "code",
   "execution_count": null,
   "metadata": {
    "collapsed": false
   },
   "outputs": [],
   "source": [
    "'''Load a dataframe from pickle and analyse lr cases'''\n",
    "\n",
    "defaultPath=\"/home/rhagoletis/catkin/src/World/bags/\"\n",
    "path=easygui.fileopenbox(title=\"Choose pickle Dataframes\"\n",
    "                          ,default=defaultPath,\n",
    "                          multiple=False,filetypes=[\"*.pickle\"])\n",
    "print path\n",
    "\n",
    "dff=pd.read_pickle(path)\n",
    "df=dff['df']\n",
    "dff"
   ]
  },
  {
   "cell_type": "code",
   "execution_count": null,
   "metadata": {
    "collapsed": false
   },
   "outputs": [],
   "source": [
    "print df2.trajectory__o1Pos_x[0],df2.trajectory__o1Pos_y[0]\n",
    "print df2.trajectory__o2Pos_x[0],df2.trajectory__o2Pos_y[0]"
   ]
  },
  {
   "cell_type": "code",
   "execution_count": null,
   "metadata": {
    "collapsed": true
   },
   "outputs": [],
   "source": [
    "df2.trajectory__o1Pos_x.plot()\n",
    "df2.trajectory__o2Pos_x.plot()\n",
    "df2.trajectory__o1Pos_y.plot()\n",
    "df2.trajectory__o2Pos_y.plot()\n",
    "plt.show()"
   ]
  },
  {
   "cell_type": "code",
   "execution_count": null,
   "metadata": {
    "collapsed": false
   },
   "outputs": [],
   "source": [
    "df2=df[df.trajectory__case==3]\n",
    "# df2"
   ]
  },
  {
   "cell_type": "code",
   "execution_count": null,
   "metadata": {
    "collapsed": false
   },
   "outputs": [],
   "source": [
    "plt.scatter(df2.trajectory__pPos_x,df2.trajectory__pPos_y,lw=0)\n",
    "plt.show()"
   ]
  },
  {
   "cell_type": "code",
   "execution_count": null,
   "metadata": {
    "collapsed": false
   },
   "outputs": [],
   "source": [
    "range(3)"
   ]
  },
  {
   "cell_type": "code",
   "execution_count": null,
   "metadata": {
    "collapsed": false
   },
   "outputs": [],
   "source": [
    "df.trajectory__case.max()"
   ]
  },
  {
   "cell_type": "code",
   "execution_count": null,
   "metadata": {
    "collapsed": false
   },
   "outputs": [],
   "source": [
    "jsonPath=paths[0].split('.bag')[0]+'.json'\n",
    "jsonPath"
   ]
  },
  {
   "cell_type": "code",
   "execution_count": null,
   "metadata": {
    "collapsed": false
   },
   "outputs": [],
   "source": [
    "with open(jsonPath,'r') as js:\n",
    "    a= js.read()"
   ]
  },
  {
   "cell_type": "code",
   "execution_count": null,
   "metadata": {
    "collapsed": false
   },
   "outputs": [],
   "source": [
    "json.loads(a)"
   ]
  },
  {
   "cell_type": "code",
   "execution_count": null,
   "metadata": {
    "collapsed": true
   },
   "outputs": [],
   "source": []
  }
 ],
 "metadata": {
  "kernelspec": {
   "display_name": "Python 2",
   "language": "python",
   "name": "python2"
  },
  "language_info": {
   "codemirror_mode": {
    "name": "ipython",
    "version": 2
   },
   "file_extension": ".py",
   "mimetype": "text/x-python",
   "name": "python",
   "nbconvert_exporter": "python",
   "pygments_lexer": "ipython2",
   "version": "2.7.6"
  },
  "widgets": {
   "state": {},
   "version": "1.1.2"
  }
 },
 "nbformat": 4,
 "nbformat_minor": 0
}
