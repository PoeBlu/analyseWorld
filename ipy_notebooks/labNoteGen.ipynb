{
 "cells": [
  {
   "cell_type": "raw",
   "metadata": {
    "collapsed": true
   },
   "source": [
    "import numpy as np\n",
    "import pandas as pd\n",
    "import easygui as gui\n",
    "\n",
    "def fileList(foldPath,included=['*traj.bag_df.pickle'],excluded=[]):\n",
    "    import os\n",
    "    import fnmatch\n",
    "\n",
    "    matches = []\n",
    "    for root, dirnames, filenames in os.walk(foldPath):\n",
    "        \n",
    "        for include in included:\n",
    "            for filename in fnmatch.filter(filenames, include):\n",
    "                toKeep=True\n",
    "                \n",
    "                for exclude in excluded:\n",
    "                    if exclude in filename:\n",
    "                        toKeep=False\n",
    "                    \n",
    "                if toKeep:\n",
    "                    matches.append(os.path.join(root, filename))\n",
    "                    \n",
    "    matches.sort()\n",
    "                \n",
    "    return matches\n"
   ]
  },
  {
   "cell_type": "code",
   "execution_count": 8,
   "metadata": {
    "collapsed": false
   },
   "outputs": [],
   "source": [
    "foldPath=gui.diropenbox()\n",
    "# foldPath='/media/rhagoletis/6db8b2b2-ebe2-4555-9b79-93b10ef9dec3/2017_09/2017_09_11'"
   ]
  },
  {
   "cell_type": "code",
   "execution_count": 11,
   "metadata": {
    "collapsed": false
   },
   "outputs": [],
   "source": [
    "files=fileList(foldPath,included=['*.html'])"
   ]
  },
  {
   "cell_type": "code",
   "execution_count": 12,
   "metadata": {
    "collapsed": false
   },
   "outputs": [
    {
     "data": {
      "text/plain": [
       "['/media/rhagoletis/6db8b2b2-ebe2-4555-9b79-93b10ef9dec31/2017_09/2017_09_05/2017-09-05__11~55~50_apple56_00_odour_wind_gain~16_speed~1.0_bout~30_DC~0.13_traj.bag_df.pickle.html',\n",
       " '/media/rhagoletis/6db8b2b2-ebe2-4555-9b79-93b10ef9dec31/2017_09/2017_09_05/2017-09-05__12~39~45_apple56_00_odour_wind_gain~16_speed~1.0_bout~30_DC~-0.109_traj.bag_df.pickle.html',\n",
       " '/media/rhagoletis/6db8b2b2-ebe2-4555-9b79-93b10ef9dec31/2017_09/2017_09_05/2017-09-05__12~56~25_apple56_00_odour_wind_gain~16_speed~1.0_bout~60_DC~-0.109_traj.bag_df.pickle.html',\n",
       " '/media/rhagoletis/6db8b2b2-ebe2-4555-9b79-93b10ef9dec31/2017_09/2017_09_05/2017-09-05__14~09~50_apple56_00_odour_wind_gain~16_speed~1.0_bout~60_DC~0.017_traj.bag_df.pickle.html',\n",
       " '/media/rhagoletis/6db8b2b2-ebe2-4555-9b79-93b10ef9dec31/2017_09/2017_09_05/2017-09-05__14~16~51_apple56_00_odour_wind_gain~16_speed~1.0_bout~60_DC~-0.176_traj.bag_df.pickle.html',\n",
       " '/media/rhagoletis/6db8b2b2-ebe2-4555-9b79-93b10ef9dec31/2017_09/2017_09_05/2017-09-05__14~26~06_apple56_00_odour_wind_gain~16_speed~1.0_bout~60_DC~-0.176_traj.bag_df.pickle.html',\n",
       " '/media/rhagoletis/6db8b2b2-ebe2-4555-9b79-93b10ef9dec31/2017_09/2017_09_05/2017-09-05__14~26~42_apple56_00_odour_wind_gain~16_speed~1.0_bout~60_DC~-0.176_traj.bag_df.pickle.html',\n",
       " '/media/rhagoletis/6db8b2b2-ebe2-4555-9b79-93b10ef9dec31/2017_09/2017_09_05/2017-09-05__15~24~59_apple56_00_odour_wind_gain~16_speed~1.0_bout~60_DC~0.07_traj.bag_df.pickle.html',\n",
       " '/media/rhagoletis/6db8b2b2-ebe2-4555-9b79-93b10ef9dec31/2017_09/2017_09_05/2017-09-05__15~38~21_apple56_00_odour_wind_gain~16_speed~1.0_bout~60_DC~0.07_traj.bag_df.pickle.html',\n",
       " '/media/rhagoletis/6db8b2b2-ebe2-4555-9b79-93b10ef9dec31/2017_09/2017_09_05/2017-09-05__15~51~19_apple56_00_odour_wind_gain~16_speed~1.0_bout~60_DC~0.07_traj.bag_df.pickle.html',\n",
       " '/media/rhagoletis/6db8b2b2-ebe2-4555-9b79-93b10ef9dec31/2017_09/2017_09_05/2017-09-05__20~02~49_apple56_00_odour_wind_gain~16_speed~1.0_bout~60_DC~0.07_traj.bag_df.pickle.html',\n",
       " '/media/rhagoletis/6db8b2b2-ebe2-4555-9b79-93b10ef9dec31/2017_09/2017_09_05/2017-09-05__23~47~52_apple55_00_odour_wind_nullSky_gain~16_speed~1.0_bout~30_DC~0.25_traj.bag_df.pickle.html']"
      ]
     },
     "execution_count": 12,
     "metadata": {},
     "output_type": "execute_result"
    }
   ],
   "source": [
    "files"
   ]
  },
  {
   "cell_type": "code",
   "execution_count": 21,
   "metadata": {
    "collapsed": false
   },
   "outputs": [
    {
     "data": {
      "text/plain": [
       "'<iframe frameborder=\"1\" height=\"1100\" scrolling=\"yes\" src=\"https://labnotes.ncbs.res.in/files/users/pavankk/2017/2017_08/2017-08-01__15~57~18_apple36_00_wind_gain~8_speed~1.0_bout~15_DC~-0.076_traj.bag_df.pickle.html\" width=\"1100\"></iframe>'"
      ]
     },
     "execution_count": 21,
     "metadata": {},
     "output_type": "execute_result"
    }
   ],
   "source": [
    "start='<ol>'\n",
    "stop='</ol>'\n",
    "\n",
    "bstart='<li>'\n",
    "bstop='</li>'\n",
    "\n",
    "lstart='<a href=\"'\n",
    "lstop='</a>'\n",
    "lpre='https://labnotes.ncbs.res.in/files/users/pavankk/2017/2017_09/'\n",
    "lpost='\">'\n",
    "\n",
    "istart='<iframe '\n",
    "istop='</iframe>'\n",
    "h=1100\n",
    "w=1100\n",
    "scroll='yes'\n",
    "ipre='frameborder=\"1\" height=\"'+str(h)+'\" width=\"'+str(w)+'\" scrolling=\"'+scroll+'\" src=\"'+lpre\n",
    "ipost='\">'\n",
    "\n"
   ]
  },
  {
   "cell_type": "code",
   "execution_count": 13,
   "metadata": {
    "collapsed": false,
    "scrolled": true
   },
   "outputs": [
    {
     "ename": "TypeError",
     "evalue": "coercing to Unicode: need string or buffer, NoneType found",
     "output_type": "error",
     "traceback": [
      "\u001b[1;31m---------------------------------------------------------------------------\u001b[0m",
      "\u001b[1;31mTypeError\u001b[0m                                 Traceback (most recent call last)",
      "\u001b[1;32m<ipython-input-13-d4ce1a85e6e8>\u001b[0m in \u001b[0;36m<module>\u001b[1;34m()\u001b[0m\n\u001b[0;32m     23\u001b[0m     \u001b[0mtxt\u001b[0m\u001b[1;33m+=\u001b[0m\u001b[0mstop\u001b[0m\u001b[1;33m\u001b[0m\u001b[0m\n\u001b[0;32m     24\u001b[0m     \u001b[1;32mreturn\u001b[0m \u001b[0mtxt\u001b[0m\u001b[1;33m\u001b[0m\u001b[0m\n\u001b[1;32m---> 25\u001b[1;33m \u001b[0mhtmlGen\u001b[0m\u001b[1;33m(\u001b[0m\u001b[1;33m)\u001b[0m\u001b[1;33m\u001b[0m\u001b[0m\n\u001b[0m",
      "\u001b[1;32m<ipython-input-13-d4ce1a85e6e8>\u001b[0m in \u001b[0;36mhtmlGen\u001b[1;34m(foldPath, defaultPath, start, stop, bstart, bstop, lstart, lstop, lpre, lpost, istart, istop, h, w, scroll, ipost)\u001b[0m\n\u001b[0;32m     10\u001b[0m     \u001b[1;32mif\u001b[0m \u001b[0mfoldPath\u001b[0m \u001b[1;32mis\u001b[0m \u001b[0mNone\u001b[0m\u001b[1;33m:\u001b[0m\u001b[1;33m\u001b[0m\u001b[0m\n\u001b[0;32m     11\u001b[0m         \u001b[0mfoldPath\u001b[0m\u001b[1;33m=\u001b[0m\u001b[0mgui\u001b[0m\u001b[1;33m.\u001b[0m\u001b[0mdiropenbox\u001b[0m\u001b[1;33m(\u001b[0m\u001b[0mdefault\u001b[0m\u001b[1;33m=\u001b[0m\u001b[0mdefaultPath\u001b[0m\u001b[1;33m)\u001b[0m\u001b[1;33m\u001b[0m\u001b[0m\n\u001b[1;32m---> 12\u001b[1;33m     \u001b[0mfiles\u001b[0m\u001b[1;33m=\u001b[0m\u001b[0mfileList\u001b[0m\u001b[1;33m(\u001b[0m\u001b[0mfoldPath\u001b[0m\u001b[1;33m,\u001b[0m\u001b[0mincluded\u001b[0m\u001b[1;33m=\u001b[0m\u001b[1;33m[\u001b[0m\u001b[1;34m'*.html'\u001b[0m\u001b[1;33m]\u001b[0m\u001b[1;33m)\u001b[0m\u001b[1;33m\u001b[0m\u001b[0m\n\u001b[0m\u001b[0;32m     13\u001b[0m \u001b[1;33m\u001b[0m\u001b[0m\n\u001b[0;32m     14\u001b[0m     \u001b[0mtxt\u001b[0m\u001b[1;33m=\u001b[0m\u001b[0mstart\u001b[0m\u001b[1;33m\u001b[0m\u001b[0m\n",
      "\u001b[1;32m<ipython-input-10-fe316dbf333f>\u001b[0m in \u001b[0;36mfileList\u001b[1;34m(foldPath, included, excluded)\u001b[0m\n\u001b[0;32m      8\u001b[0m \u001b[1;33m\u001b[0m\u001b[0m\n\u001b[0;32m      9\u001b[0m     \u001b[0mmatches\u001b[0m \u001b[1;33m=\u001b[0m \u001b[1;33m[\u001b[0m\u001b[1;33m]\u001b[0m\u001b[1;33m\u001b[0m\u001b[0m\n\u001b[1;32m---> 10\u001b[1;33m     \u001b[1;32mfor\u001b[0m \u001b[0mroot\u001b[0m\u001b[1;33m,\u001b[0m \u001b[0mdirnames\u001b[0m\u001b[1;33m,\u001b[0m \u001b[0mfilenames\u001b[0m \u001b[1;32min\u001b[0m \u001b[0mos\u001b[0m\u001b[1;33m.\u001b[0m\u001b[0mwalk\u001b[0m\u001b[1;33m(\u001b[0m\u001b[0mfoldPath\u001b[0m\u001b[1;33m)\u001b[0m\u001b[1;33m:\u001b[0m\u001b[1;33m\u001b[0m\u001b[0m\n\u001b[0m\u001b[0;32m     11\u001b[0m \u001b[1;33m\u001b[0m\u001b[0m\n\u001b[0;32m     12\u001b[0m         \u001b[1;32mfor\u001b[0m \u001b[0minclude\u001b[0m \u001b[1;32min\u001b[0m \u001b[0mincluded\u001b[0m\u001b[1;33m:\u001b[0m\u001b[1;33m\u001b[0m\u001b[0m\n",
      "\u001b[1;32m/usr/lib/python2.7/os.pyc\u001b[0m in \u001b[0;36mwalk\u001b[1;34m(top, topdown, onerror, followlinks)\u001b[0m\n\u001b[0;32m    274\u001b[0m         \u001b[1;31m# Note that listdir and error are globals in this module due\u001b[0m\u001b[1;33m\u001b[0m\u001b[1;33m\u001b[0m\u001b[0m\n\u001b[0;32m    275\u001b[0m         \u001b[1;31m# to earlier import-*.\u001b[0m\u001b[1;33m\u001b[0m\u001b[1;33m\u001b[0m\u001b[0m\n\u001b[1;32m--> 276\u001b[1;33m         \u001b[0mnames\u001b[0m \u001b[1;33m=\u001b[0m \u001b[0mlistdir\u001b[0m\u001b[1;33m(\u001b[0m\u001b[0mtop\u001b[0m\u001b[1;33m)\u001b[0m\u001b[1;33m\u001b[0m\u001b[0m\n\u001b[0m\u001b[0;32m    277\u001b[0m     \u001b[1;32mexcept\u001b[0m \u001b[0merror\u001b[0m\u001b[1;33m,\u001b[0m \u001b[0merr\u001b[0m\u001b[1;33m:\u001b[0m\u001b[1;33m\u001b[0m\u001b[0m\n\u001b[0;32m    278\u001b[0m         \u001b[1;32mif\u001b[0m \u001b[0monerror\u001b[0m \u001b[1;32mis\u001b[0m \u001b[1;32mnot\u001b[0m \u001b[0mNone\u001b[0m\u001b[1;33m:\u001b[0m\u001b[1;33m\u001b[0m\u001b[0m\n",
      "\u001b[1;31mTypeError\u001b[0m: coercing to Unicode: need string or buffer, NoneType found"
     ]
    }
   ],
   "source": [
    "def htmlGen(foldPath=None,defaultPath='/media/rhagoletis/6db8b2b2-ebe2-4555-9b79-93b10ef9dec3/2017_09/',\n",
    "            start='<ol>',stop='</ol>',bstart='<li>',bstop='</li>',\n",
    "            lstart='<a href=\"',lstop='</a>',\n",
    "            lpre='https://labnotes.ncbs.res.in/files/users/pavankk/2017/2017_09/',lpost='\">',\n",
    "            istart='<iframe ',istop='</iframe>',\n",
    "            h=1100,w=1100,scroll='yes',ipost='\">'):\n",
    "\n",
    "    ipre='frameborder=\"1\" height=\"'+str(h)+'\" width=\"'+str(w)+\\\n",
    "        '\" scrolling=\"'+scroll+'\" src=\"'+lpre\n",
    "            \n",
    "    if foldPath is None:\n",
    "        foldPath=gui.diropenbox(default=defaultPath)\n",
    "    files=fileList(foldPath,included=['*.html'])\n",
    "    \n",
    "    txt=start\n",
    "    for item in files:\n",
    "        pth=item.split('/')[-1]\n",
    "        txt+=(bstart+\n",
    "                  lstart+\n",
    "                      lpre+pth+lpost+pth+lstop+\n",
    "                  istart+ipre+pth+ipost+istop+\n",
    "              bstop)\n",
    "\n",
    "    txt+=stop\n",
    "    return txt\n",
    "htmlGen()"
   ]
  },
  {
   "cell_type": "raw",
   "metadata": {},
   "source": [
    "<ol>\n",
    "\t<li><a href=\"https://labnotes.ncbs.res.in/files/users/pavankk/2017/2017_08/2017-08-01__15~57~18_apple36_00_wind_gain~8_speed~1.0_bout~15_DC~-0.076_traj.bag_df.pickle.html\">2017-08-01__15~57~18_apple36_00_wind_gain~8_speed~1.0_bout~15_DC~-0.076_traj.bag_df.pickle.html</a><iframe frameborder=\"1\" height=\"1100\" scrolling=\"yes\" src=\"https://labnotes.ncbs.res.in/files/users/pavankk/2017/2017_08/2017-08-01__15~57~18_apple36_00_wind_gain~8_speed~1.0_bout~15_DC~-0.076_traj.bag_df.pickle.html\" width=\"1100\"></iframe></li>\n",
    "\t<li><a href=\"https://labnotes.ncbs.res.in/files/users/pavankk/2017/2017_08/2017-08-02__15~37~57_apple38_01_gain~8_speed~1.0_bout~15_DC~0.0_traj.bag_df.pickle.html\">2017-08-02__15~37~57_apple38_01_gain~8_speed~1.0_bout~15_DC~0.0_traj.bag_df.pickle.html</a><iframe frameborder=\"1\" height=\"1100\" scrolling=\"yes\" src=\"https://labnotes.ncbs.res.in/files/users/pavankk/2017/2017_08/2017-08-02__15~37~57_apple38_01_gain~8_speed~1.0_bout~15_DC~0.0_traj.bag_df.pickle.html\" width=\"1100\"></iframe></li>\n",
    "</ol>\n"
   ]
  },
  {
   "cell_type": "markdown",
   "metadata": {},
   "source": [
    "<ol>\n",
    "\t<li><a href=\"https://labnotes.ncbs.res.in/files/users/pavankk/2017/2017_08/2017-08-01__15~57~18_apple36_00_wind_gain~8_speed~1.0_bout~15_DC~-0.076_traj.bag_df.pickle.html\">2017-08-01__15~57~18_apple36_00_wind_gain~8_speed~1.0_bout~15_DC~-0.076_traj.bag_df.pickle.html</a><iframe frameborder=\"1\" height=\"1100\" scrolling=\"yes\" src=\"https://labnotes.ncbs.res.in/files/users/pavankk/2017/2017_08/2017-08-01__15~57~18_apple36_00_wind_gain~8_speed~1.0_bout~15_DC~-0.076_traj.bag_df.pickle.html\" width=\"1100\"></iframe></li>\n",
    "\t<li><a href=\"https://labnotes.ncbs.res.in/files/users/pavankk/2017/2017_08/2017-08-02__15~37~57_apple38_01_gain~8_speed~1.0_bout~15_DC~0.0_traj.bag_df.pickle.html\">2017-08-02__15~37~57_apple38_01_gain~8_speed~1.0_bout~15_DC~0.0_traj.bag_df.pickle.html</a><iframe frameborder=\"1\" height=\"1100\" scrolling=\"yes\" src=\"https://labnotes.ncbs.res.in/files/users/pavankk/2017/2017_08/2017-08-02__15~37~57_apple38_01_gain~8_speed~1.0_bout~15_DC~0.0_traj.bag_df.pickle.html\" width=\"1100\"></iframe></li>\n",
    "</ol>\n"
   ]
  },
  {
   "cell_type": "code",
   "execution_count": null,
   "metadata": {
    "collapsed": true
   },
   "outputs": [],
   "source": []
  }
 ],
 "metadata": {
  "kernelspec": {
   "display_name": "Python 2",
   "language": "python",
   "name": "python2"
  },
  "language_info": {
   "codemirror_mode": {
    "name": "ipython",
    "version": 2
   },
   "file_extension": ".py",
   "mimetype": "text/x-python",
   "name": "python",
   "nbconvert_exporter": "python",
   "pygments_lexer": "ipython2",
   "version": "2.7.6"
  },
  "widgets": {
   "state": {},
   "version": "1.1.2"
  }
 },
 "nbformat": 4,
 "nbformat_minor": 2
}
