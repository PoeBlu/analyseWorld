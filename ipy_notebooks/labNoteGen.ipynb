{
 "cells": [
  {
   "cell_type": "code",
   "execution_count": null,
   "metadata": {
    "collapsed": false,
    "scrolled": true
   },
   "outputs": [],
   "source": [
    "import numpy as np\n",
    "import pandas as pd\n",
    "import easygui as gui\n",
    "\n",
    "def fileList(foldPath,included=['*traj.bag_df.pickle'],excluded=[]):\n",
    "    import os\n",
    "    import fnmatch\n",
    "\n",
    "    matches = []\n",
    "    for root, dirnames, filenames in os.walk(foldPath):\n",
    "        \n",
    "        for include in included:\n",
    "            for filename in fnmatch.filter(filenames, include):\n",
    "                toKeep=True\n",
    "                \n",
    "                for exclude in excluded:\n",
    "                    if exclude in filename:\n",
    "                        toKeep=False\n",
    "                    \n",
    "                if toKeep:\n",
    "                    matches.append(os.path.join(root, filename))\n",
    "                    \n",
    "    matches.sort()\n",
    "                \n",
    "    return matches\n",
    "def htmlGen(foldPath=None,defaultPath='/home/rhagoletis/catkin/src/World/bags/',\n",
    "            start='<ol>',stop='</ol>',bstart='<li>',bstop='</li>',\n",
    "            lstart='<a href=\"',lstop='</a>',\n",
    "            lpre='https://labnotes.ncbs.res.in/files/users/pavankk/2018/2018_07/',lpost='\">',\n",
    "            istart='<iframe ',istop='</iframe>',\n",
    "            h=1100,w=1100,scroll='yes',ipost='\">',addBag_=True):\n",
    "\n",
    "    ipre='frameborder=\"1\" height=\"'+str(h)+'\" width=\"'+str(w)+\\\n",
    "        '\" scrolling=\"'+scroll+'\" src=\"'+lpre\n",
    "            \n",
    "    if foldPath is None:\n",
    "        foldPath=gui.diropenbox(default=defaultPath)\n",
    "    files=fileList(foldPath,included=['*.html'])\n",
    "    \n",
    "    txt=start\n",
    "    for item in files:\n",
    "        pth=item.split('/')[-1]\n",
    "        \n",
    "        pth2=pth.split('.h5.html')[0]+'_.h5.html'\n",
    "        \n",
    "        if addBag_:\n",
    "            pth=pth2\n",
    "        txt+=(bstart+\n",
    "                  lstart+\n",
    "                      lpre+pth+lpost+pth+lstop+\n",
    "                  istart+ipre+pth+ipost+istop+\n",
    "              bstop)\n",
    "\n",
    "    txt+=stop\n",
    "    return txt\n"
   ]
  },
  {
   "cell_type": "code",
   "execution_count": null,
   "metadata": {
    "collapsed": false,
    "scrolled": true
   },
   "outputs": [],
   "source": [
    "htmlGen()"
   ]
  },
  {
   "cell_type": "code",
   "execution_count": null,
   "metadata": {
    "collapsed": false
   },
   "outputs": [],
   "source": [
    "foldPath=gui.diropenbox()\n",
    "# foldPath='/media/rhagoletis/6db8b2b2-ebe2-4555-9b79-93b10ef9dec3/2017_09/2017_09_11'"
   ]
  },
  {
   "cell_type": "code",
   "execution_count": null,
   "metadata": {
    "collapsed": false
   },
   "outputs": [],
   "source": [
    "files=fileList(foldPath,included=['*.html'])"
   ]
  },
  {
   "cell_type": "code",
   "execution_count": null,
   "metadata": {
    "collapsed": false
   },
   "outputs": [],
   "source": [
    "files"
   ]
  },
  {
   "cell_type": "code",
   "execution_count": null,
   "metadata": {
    "collapsed": false
   },
   "outputs": [],
   "source": [
    "start='<ol>'\n",
    "stop='</ol>'\n",
    "\n",
    "bstart='<li>'\n",
    "bstop='</li>'\n",
    "\n",
    "lstart='<a href=\"'\n",
    "lstop='</a>'\n",
    "lpre='https://labnotes.ncbs.res.in/files/users/pavankk/2017/2017_09/'\n",
    "lpost='\">'\n",
    "\n",
    "istart='<iframe '\n",
    "istop='</iframe>'\n",
    "h=1100\n",
    "w=1100\n",
    "scroll='yes'\n",
    "ipre='frameborder=\"1\" height=\"'+str(h)+'\" width=\"'+str(w)+'\" scrolling=\"'+scroll+'\" src=\"'+lpre\n",
    "ipost='\">'\n",
    "\n"
   ]
  },
  {
   "cell_type": "code",
   "execution_count": null,
   "metadata": {
    "collapsed": true
   },
   "outputs": [],
   "source": [
    "2018-07-04__12~31~50_apple94_01_gain~8_speed~0.5_bout~15_DC~0.0_traj.bag_.h5.html"
   ]
  },
  {
   "cell_type": "raw",
   "metadata": {},
   "source": [
    "<ol><li><a href=\"https://labnotes.ncbs.res.in/files/users/pavankk/2017/2017_09/2018-07-04__12~31~50_apple94_01_gain~8_speed~0.5_bout~15_DC~0.0_traj.bag.h5.html\">2018-07-04__12~31~50_apple94_01_gain~8_speed~0.5_bout~15_DC~0.0_traj.bag.h5.html</a><iframe frameborder=\"1\" height=\"1100\" width=\"1100\" scrolling=\"yes\" src=\"https://labnotes.ncbs.res.in/files/users/pavankk/2017/2017_09/2018-07-04__12~31~50_apple94_01_gain~8_speed~0.5_bout~15_DC~0.0_traj.bag.h5.html\"></iframe></li><li><a href=\"https://labnotes.ncbs.res.in/files/users/pavankk/2017/2017_09/2018-07-04__12~58~23_apple81_pf_odour_wind_gain~8_speed~1.0_bout~20_DC~0.0_traj.bag.h5.html\">2018-07-04__12~58~23_apple81_pf_odour_wind_gain~8_speed~1.0_bout~20_DC~0.0_traj.bag.h5.html</a><iframe frameborder=\"1\" height=\"1100\" width=\"1100\" scrolling=\"yes\" src=\"https://labnotes.ncbs.res.in/files/users/pavankk/2017/2017_09/2018-07-04__12~58~23_apple81_pf_odour_wind_gain~8_speed~1.0_bout~20_DC~0.0_traj.bag.h5.html\"></iframe></li><li><a href=\"https://labnotes.ncbs.res.in/files/users/pavankk/2017/2017_09/2018-07-04__13~12~24_apple81_00_odour_wind_gain~8_speed~0.5_bout~20_DC~0.0_traj.bag.h5.html\">2018-07-04__13~12~24_apple81_00_odour_wind_gain~8_speed~0.5_bout~20_DC~0.0_traj.bag.h5.html</a><iframe frameborder=\"1\" height=\"1100\" width=\"1100\" scrolling=\"yes\" src=\"https://labnotes.ncbs.res.in/files/users/pavankk/2017/2017_09/2018-07-04__13~12~24_apple81_00_odour_wind_gain~8_speed~0.5_bout~20_DC~0.0_traj.bag.h5.html\"></iframe></li><li><a href=\"https://labnotes.ncbs.res.in/files/users/pavankk/2017/2017_09/2018-07-04__13~18~47_apple81_00_odour_wind_gain~8_speed~0.5_bout~30_DC~0.0_traj.bag.h5.html\">2018-07-04__13~18~47_apple81_00_odour_wind_gain~8_speed~0.5_bout~30_DC~0.0_traj.bag.h5.html</a><iframe frameborder=\"1\" height=\"1100\" width=\"1100\" scrolling=\"yes\" src=\"https://labnotes.ncbs.res.in/files/users/pavankk/2017/2017_09/2018-07-04__13~18~47_apple81_00_odour_wind_gain~8_speed~0.5_bout~30_DC~0.0_traj.bag.h5.html\"></iframe></li><li><a href=\"https://labnotes.ncbs.res.in/files/users/pavankk/2017/2017_09/2018-07-04__13~28~23_apple81_00_odour_wind_gain~8_speed~0.5_bout~30_DC~0.0_traj.bag.h5.html\">2018-07-04__13~28~23_apple81_00_odour_wind_gain~8_speed~0.5_bout~30_DC~0.0_traj.bag.h5.html</a><iframe frameborder=\"1\" height=\"1100\" width=\"1100\" scrolling=\"yes\" src=\"https://labnotes.ncbs.res.in/files/users/pavankk/2017/2017_09/2018-07-04__13~28~23_apple81_00_odour_wind_gain~8_speed~0.5_bout~30_DC~0.0_traj.bag.h5.html\"></iframe></li><li><a href=\"https://labnotes.ncbs.res.in/files/users/pavankk/2017/2017_09/2018-07-04__13~32~19_apple81_00_odour_wind_gain~8_speed~0.5_bout~30_DC~0.0_traj.bag.h5.html\">2018-07-04__13~32~19_apple81_00_odour_wind_gain~8_speed~0.5_bout~30_DC~0.0_traj.bag.h5.html</a><iframe frameborder=\"1\" height=\"1100\" width=\"1100\" scrolling=\"yes\" src=\"https://labnotes.ncbs.res.in/files/users/pavankk/2017/2017_09/2018-07-04__13~32~19_apple81_00_odour_wind_gain~8_speed~0.5_bout~30_DC~0.0_traj.bag.h5.html\"></iframe></li><li><a href=\"https://labnotes.ncbs.res.in/files/users/pavankk/2017/2017_09/2018-07-04__14~39~46_apple81_00_odour_wind_gain~8_speed~0.5_bout~30_DC~0.0_traj.bag.h5.html\">2018-07-04__14~39~46_apple81_00_odour_wind_gain~8_speed~0.5_bout~30_DC~0.0_traj.bag.h5.html</a><iframe frameborder=\"1\" height=\"1100\" width=\"1100\" scrolling=\"yes\" src=\"https://labnotes.ncbs.res.in/files/users/pavankk/2017/2017_09/2018-07-04__14~39~46_apple81_00_odour_wind_gain~8_speed~0.5_bout~30_DC~0.0_traj.bag.h5.html\"></iframe></li><li><a href=\"https://labnotes.ncbs.res.in/files/users/pavankk/2017/2017_09/2018-07-04__15~00~05_apple81_00_odour_wind_gain~8_speed~0.5_bout~30_DC~0.0_traj.bag.h5.html\">2018-07-04__15~00~05_apple81_00_odour_wind_gain~8_speed~0.5_bout~30_DC~0.0_traj.bag.h5.html</a><iframe frameborder=\"1\" height=\"1100\" width=\"1100\" scrolling=\"yes\" src=\"https://labnotes.ncbs.res.in/files/users/pavankk/2017/2017_09/2018-07-04__15~00~05_apple81_00_odour_wind_gain~8_speed~0.5_bout~30_DC~0.0_traj.bag.h5.html\"></iframe></li><li><a href=\"https://labnotes.ncbs.res.in/files/users/pavankk/2017/2017_09/2018-07-04__15~43~18_apple81_11_odour_wind_gain~8_speed~0.5_bout~30_DC~0.0_traj.bag.h5.html\">2018-07-04__15~43~18_apple81_11_odour_wind_gain~8_speed~0.5_bout~30_DC~0.0_traj.bag.h5.html</a><iframe frameborder=\"1\" height=\"1100\" width=\"1100\" scrolling=\"yes\" src=\"https://labnotes.ncbs.res.in/files/users/pavankk/2017/2017_09/2018-07-04__15~43~18_apple81_11_odour_wind_gain~8_speed~0.5_bout~30_DC~0.0_traj.bag.h5.html\"></iframe></li><li><a href=\"https://labnotes.ncbs.res.in/files/users/pavankk/2017/2017_09/2018-07-04__16~07~46_apple95_pf_wind_gain~8_speed~0.5_bout~30_DC~-0.26_traj.bag.h5.html\">2018-07-04__16~07~46_apple95_pf_wind_gain~8_speed~0.5_bout~30_DC~-0.26_traj.bag.h5.html</a><iframe frameborder=\"1\" height=\"1100\" width=\"1100\" scrolling=\"yes\" src=\"https://labnotes.ncbs.res.in/files/users/pavankk/2017/2017_09/2018-07-04__16~07~46_apple95_pf_wind_gain~8_speed~0.5_bout~30_DC~-0.26_traj.bag.h5.html\"></iframe></li><li><a href=\"https://labnotes.ncbs.res.in/files/users/pavankk/2017/2017_09/2018-07-04__16~14~02_apple95_pf_wind_gain~8_speed~0.5_bout~30_DC~-0.26_traj.bag.h5.html\">2018-07-04__16~14~02_apple95_pf_wind_gain~8_speed~0.5_bout~30_DC~-0.26_traj.bag.h5.html</a><iframe frameborder=\"1\" height=\"1100\" width=\"1100\" scrolling=\"yes\" src=\"https://labnotes.ncbs.res.in/files/users/pavankk/2017/2017_09/2018-07-04__16~14~02_apple95_pf_wind_gain~8_speed~0.5_bout~30_DC~-0.26_traj.bag.h5.html\"></iframe></li></ol>"
   ]
  },
  {
   "cell_type": "markdown",
   "metadata": {},
   "source": [
    "<ol>\n",
    "\t<li><a href=\"https://labnotes.ncbs.res.in/files/users/pavankk/2017/2017_08/2017-08-01__15~57~18_apple36_00_wind_gain~8_speed~1.0_bout~15_DC~-0.076_traj.bag_df.pickle.html\">2017-08-01__15~57~18_apple36_00_wind_gain~8_speed~1.0_bout~15_DC~-0.076_traj.bag_df.pickle.html</a><iframe frameborder=\"1\" height=\"1100\" scrolling=\"yes\" src=\"https://labnotes.ncbs.res.in/files/users/pavankk/2017/2017_08/2017-08-01__15~57~18_apple36_00_wind_gain~8_speed~1.0_bout~15_DC~-0.076_traj.bag_df.pickle.html\" width=\"1100\"></iframe></li>\n",
    "\t<li><a href=\"https://labnotes.ncbs.res.in/files/users/pavankk/2017/2017_08/2017-08-02__15~37~57_apple38_01_gain~8_speed~1.0_bout~15_DC~0.0_traj.bag_df.pickle.html\">2017-08-02__15~37~57_apple38_01_gain~8_speed~1.0_bout~15_DC~0.0_traj.bag_df.pickle.html</a><iframe frameborder=\"1\" height=\"1100\" scrolling=\"yes\" src=\"https://labnotes.ncbs.res.in/files/users/pavankk/2017/2017_08/2017-08-02__15~37~57_apple38_01_gain~8_speed~1.0_bout~15_DC~0.0_traj.bag_df.pickle.html\" width=\"1100\"></iframe></li>\n",
    "</ol>\n"
   ]
  },
  {
   "cell_type": "code",
   "execution_count": null,
   "metadata": {
    "collapsed": true
   },
   "outputs": [],
   "source": []
  }
 ],
 "metadata": {
  "kernelspec": {
   "display_name": "Python 2",
   "language": "python",
   "name": "python2"
  },
  "language_info": {
   "codemirror_mode": {
    "name": "ipython",
    "version": 2
   },
   "file_extension": ".py",
   "mimetype": "text/x-python",
   "name": "python",
   "nbconvert_exporter": "python",
   "pygments_lexer": "ipython2",
   "version": "2.7.6"
  },
  "widgets": {
   "state": {},
   "version": "1.1.2"
  }
 },
 "nbformat": 4,
 "nbformat_minor": 2
}
