{
 "cells": [
  {
   "cell_type": "code",
   "execution_count": 27,
   "metadata": {
    "collapsed": false
   },
   "outputs": [],
   "source": [
    "import requests\n",
    "from bs4 import BeautifulSoup as bsoup\n",
    "import pandas as pd\n",
    "import os\n",
    "from ipyimports import *\n",
    "from selenium import webdriver\n",
    "from selenium.webdriver.common.keys import Keys\n",
    "import time\n",
    "\n",
    "\n",
    "def inputCollector(soup,verbose=False):\n",
    "    coll={}\n",
    "\n",
    "    for item in soup.findAll('input'):\n",
    "        try:\n",
    "            if (item['name']):\n",
    "                coll[item['name']]=item['value']\n",
    "        except KeyError:\n",
    "            if verbose:\n",
    "                print '\\n\\npass',item\n",
    "            pass\n",
    "        \n",
    "    return coll\n",
    "\n",
    "def iframeInput(iframe,content):\n",
    "    driver.switch_to.frame(iframe)\n",
    "    driver.find_element_by_css_selector('body').send_keys(content)\n",
    "    driver.switch_to_default_content()\n",
    "    \n",
    "def wakey():\n",
    "    try: \n",
    "        driver.find_element_by_tag_name('div')\n",
    "    except:\n",
    "        pass"
   ]
  },
  {
   "cell_type": "code",
   "execution_count": 28,
   "metadata": {
    "collapsed": false
   },
   "outputs": [],
   "source": [
    "Username='pavankk'\n",
    "Password='Pa1@ncbs'\n",
    "labnote={\n",
    "        'title': 'geetha is idiot',\n",
    "        'tags': 'geetha,wag',\n",
    "        'startDate': '10/06/2010',\n",
    "        'stopDate': '10/06/2018',\n",
    "   \n",
    "        'aims': 'this is my aim, boring',\n",
    "        'design':'my design \\t is awe\\nome',\n",
    "        'detail':'it is boring',\n",
    "        'observations':'noting much',\n",
    "\n",
    "}\n",
    "# driver.execute_script('arguments[0].innerHTML = \"'+labnote['aims']+'\";', driver.find_element_by_tag_name('p'))\n",
    "# labnote=dict(title='test',startDate='10/06/2012',stopDate='10/06/2018',tags='asd,def',aims='this is my aim',)"
   ]
  },
  {
   "cell_type": "code",
   "execution_count": 3,
   "metadata": {
    "collapsed": false
   },
   "outputs": [],
   "source": [
    "driver = webdriver.Firefox()\n",
    "\n",
    "\n",
    "# driver.find_element_by_id('edit-draft').click()\n",
    "# driver.find_element_by_id('edit-preview').click()\n",
    "# driver.close()"
   ]
  },
  {
   "cell_type": "code",
   "execution_count": 33,
   "metadata": {
    "collapsed": true
   },
   "outputs": [],
   "source": [
    "sfp=easygui.fileopenbox()"
   ]
  },
  {
   "cell_type": "code",
   "execution_count": 26,
   "metadata": {
    "collapsed": false
   },
   "outputs": [
    {
     "name": "stderr",
     "output_type": "stream",
     "text": [
      "/usr/local/lib/python2.7/dist-packages/urllib3/util/ssl_.py:137: InsecurePlatformWarning: A true SSLContext object is not available. This prevents urllib3 from configuring SSL appropriately and may cause certain SSL connections to fail. You can upgrade to a newer version of Python to solve this. For more information, see https://urllib3.readthedocs.io/en/latest/advanced-usage.html#ssl-warnings\n",
      "  InsecurePlatformWarning\n",
      "/usr/local/lib/python2.7/dist-packages/urllib3/util/ssl_.py:137: InsecurePlatformWarning: A true SSLContext object is not available. This prevents urllib3 from configuring SSL appropriately and may cause certain SSL connections to fail. You can upgrade to a newer version of Python to solve this. For more information, see https://urllib3.readthedocs.io/en/latest/advanced-usage.html#ssl-warnings\n",
      "  InsecurePlatformWarning\n"
     ]
    }
   ],
   "source": [
    "import gspread\n",
    "from oauth2client.service_account import ServiceAccountCredentials\n",
    "\n",
    "\n",
    "# use creds to create a client to interact with the Google Drive API\n",
    "scope = ['https://spreadsheets.google.com/feeds',\n",
    "         'https://www.googleapis.com/auth/drive']\n",
    "creds = ServiceAccountCredentials.from_json_keyfile_name('/home/rhagoletis/Downloads/Labnote-acessor-0411bf882161.json', scope)\n",
    "client = gspread.authorize(creds)\n",
    "\n",
    "# Find a workbook by name and open the first sheet\n",
    "# Make sure you use the right name here.\n",
    "sheets=client.open(\"LabnoteList\")\n",
    "sheet = sheets.sheet1\n",
    "expand=pd.DataFrame(sheets.worksheets()[1].get_all_values()).set_index(0).to_dict()[1]\n",
    "dfSheet=pd.DataFrame(sheet.get_all_values(),columns=sheet.row_values(1))[1:]\n",
    "# # Extract and print all of the values\n",
    "# list_of_hashes = sheet.get_all_records()\n",
    "# print(list_of_hashes)"
   ]
  },
  {
   "cell_type": "code",
   "execution_count": 25,
   "metadata": {
    "collapsed": false
   },
   "outputs": [],
   "source": [
    "dfSheet=pd.DataFrame(sheet.get_all_values(),columns=sheet.row_values(1))[1:]"
   ]
  },
  {
   "cell_type": "code",
   "execution_count": 21,
   "metadata": {
    "collapsed": false
   },
   "outputs": [
    {
     "data": {
      "text/plain": [
       "<Worksheet u'Sheet1' id:0>"
      ]
     },
     "execution_count": 21,
     "metadata": {},
     "output_type": "execute_result"
    }
   ],
   "source": [
    "sheet"
   ]
  },
  {
   "cell_type": "code",
   "execution_count": 5,
   "metadata": {
    "collapsed": true
   },
   "outputs": [],
   "source": [
    "a=client.open(\"LabnoteList\")"
   ]
  },
  {
   "cell_type": "code",
   "execution_count": 15,
   "metadata": {
    "collapsed": false
   },
   "outputs": [
    {
     "data": {
      "text/plain": [
       "u'I just wrote to a spreadsheet using Python!'"
      ]
     },
     "execution_count": 15,
     "metadata": {},
     "output_type": "execute_result"
    }
   ],
   "source": [
    "sheet.cell(10, 10).value"
   ]
  },
  {
   "cell_type": "code",
   "execution_count": null,
   "metadata": {
    "collapsed": true
   },
   "outputs": [],
   "source": []
  },
  {
   "cell_type": "code",
   "execution_count": 14,
   "metadata": {
    "collapsed": false
   },
   "outputs": [
    {
     "data": {
      "text/plain": [
       "{u'spreadsheetId': u'1o13pI-aRxUvMVSYyp34poGSC-s5_5aOI_lI-o2jCBFk',\n",
       " u'updatedCells': 1,\n",
       " u'updatedColumns': 1,\n",
       " u'updatedRange': u'Sheet1!J10',\n",
       " u'updatedRows': 1}"
      ]
     },
     "execution_count": 14,
     "metadata": {},
     "output_type": "execute_result"
    }
   ],
   "source": [
    "sheet.update_cell(10, 10, \"I just wrote to a spreadsheet using Python!\")"
   ]
  },
  {
   "cell_type": "code",
   "execution_count": 7,
   "metadata": {
    "collapsed": false
   },
   "outputs": [
    {
     "data": {
      "text/plain": [
       "[u'path',\n",
       " u'race',\n",
       " u'numFlies',\n",
       " u'title',\n",
       " u'tags',\n",
       " u'aims',\n",
       " u'design',\n",
       " u'detail',\n",
       " u'observations',\n",
       " u'labnoteURL']"
      ]
     },
     "execution_count": 7,
     "metadata": {},
     "output_type": "execute_result"
    }
   ],
   "source": [
    "sheet.row_values(1)"
   ]
  },
  {
   "cell_type": "code",
   "execution_count": 19,
   "metadata": {
    "collapsed": false
   },
   "outputs": [],
   "source": []
  },
  {
   "cell_type": "code",
   "execution_count": null,
   "metadata": {
    "collapsed": true
   },
   "outputs": [],
   "source": []
  },
  {
   "cell_type": "code",
   "execution_count": 4,
   "metadata": {
    "collapsed": true
   },
   "outputs": [],
   "source": [
    "def login():\n",
    "    driver = webdriver.Firefox()\n",
    "    driver.get(\"https://labnotes.ncbs.res.in/\")\n",
    "    driver.find_element_by_id('edit-name').send_keys(Username)\n",
    "    driver.find_element_by_id('edit-pass').send_keys(Password+Keys.RETURN)\n",
    "    time.sleep(1)\n",
    "    return driver\n",
    "    \n",
    "def fillNote(driver,labnote,embedPlots=True,sleepTime=10,foldPath=None,lpre='https://labnotes.ncbs.res.in/files/users/pavankk/2018/2018_07/'):\n",
    "    \n",
    "    wakey()\n",
    "    driver.get(\"https://labnotes.ncbs.res.in/node/add/shannon-lab-note\")\n",
    "\n",
    "    driver.find_element_by_id('edit-title').send_keys(labnote['title'])\n",
    "    driver.find_element_by_id('edit-field-bhalla-keywords-und').send_keys(labnote['tags'])\n",
    "\n",
    "    elem=driver.find_element_by_id('edit-field-exp-duration-und-0-value-datepicker-popup-0')\n",
    "    elem.clear()\n",
    "    \n",
    "    elem.send_keys(labnote['startDate'])\n",
    "\n",
    "    elem=driver.find_element_by_id('edit-field-exp-duration-und-0-value2-datepicker-popup-0')\n",
    "    elem.clear()\n",
    "    elem.send_keys(labnote['stopDate'])\n",
    "\n",
    "    time.sleep(sleepTime)\n",
    "    wakey()\n",
    "    \n",
    "    if embedPlots:\n",
    "        driver.find_element_by_id('cke_100').click()#click on source\n",
    "        elem=driver.find_element_by_xpath('/html/body/div[3]/div[2]/div/div[1]/div/section/div/div/form/div/div[5]/div/div/div/div/div[1]/div/div/textarea')\n",
    "        elem.clear()\n",
    "        elem.send_keys(htmlGen(foldPath,lpre=lpre))\n",
    "        driver.find_element_by_id('cke_100').click()#click on source\n",
    "\n",
    "    wakey()\n",
    "    iframes=driver.find_elements_by_tag_name('iframe')\n",
    "    iframeInput(iframes[0],labnote['aims'])\n",
    "    iframeInput(iframes[1],labnote['design'])\n",
    "    iframeInput(iframes[2],labnote['detail'])\n",
    "    iframeInput(iframes[3],labnote['observations'])\n",
    "\n",
    "\n",
    "    driver.find_element_by_id('edit-field-what-next-und-0-value').send_keys('dunno')\n",
    "    driver.find_element_by_id('edit-field-additional-notes-und-0-value').send_keys('dunno2')\n",
    "\n"
   ]
  },
  {
   "cell_type": "code",
   "execution_count": 29,
   "metadata": {
    "collapsed": true
   },
   "outputs": [],
   "source": [
    "labnote={\n",
    "        'title': 'geetha is idiot',\n",
    "        'tags': 'geetha,wag',\n",
    "        'startDate': '10/06/2010',\n",
    "        'stopDate': '10/06/2018',\n",
    "   \n",
    "        'aims': 'this is my aim, boring',\n",
    "        'design':'my design \\t is awe\\nome',\n",
    "        'detail':'it is boring',\n",
    "        'observations':'noting much',\n",
    "\n",
    "}"
   ]
  },
  {
   "cell_type": "code",
   "execution_count": 14,
   "metadata": {
    "collapsed": false
   },
   "outputs": [
    {
     "data": {
      "text/plain": [
       "<generator object walk at 0x7f3e5408af50>"
      ]
     },
     "execution_count": 14,
     "metadata": {},
     "output_type": "execute_result"
    }
   ],
   "source": [
    "os.walk('/media/rhagoletis/Traj/data/2018/')"
   ]
  },
  {
   "cell_type": "code",
   "execution_count": 21,
   "metadata": {
    "collapsed": true
   },
   "outputs": [],
   "source": [
    "def deepestDir(dirPath=None):\n",
    "    if dirPath is None:\n",
    "        dirPath=easygui.diropenbox()\n",
    "    \n",
    "    lowest_dirs = []\n",
    "\n",
    "    for root,dirs,files in os.walk(dirPath):\n",
    "        if not dirs:\n",
    "            lowest_dirs.append(root)\n",
    "            \n",
    "    return lowest_dirs\n",
    "    "
   ]
  },
  {
   "cell_type": "code",
   "execution_count": 23,
   "metadata": {
    "collapsed": true
   },
   "outputs": [],
   "source": [
    "a=[1,23]"
   ]
  },
  {
   "cell_type": "code",
   "execution_count": 24,
   "metadata": {
    "collapsed": true
   },
   "outputs": [],
   "source": [
    "b=np.array(a)"
   ]
  },
  {
   "cell_type": "code",
   "execution_count": 27,
   "metadata": {
    "collapsed": false
   },
   "outputs": [
    {
     "data": {
      "text/plain": [
       "array([ 1, 23])"
      ]
     },
     "execution_count": 27,
     "metadata": {},
     "output_type": "execute_result"
    }
   ],
   "source": [
    "b"
   ]
  },
  {
   "cell_type": "code",
   "execution_count": 25,
   "metadata": {
    "collapsed": true
   },
   "outputs": [],
   "source": [
    "b.tofile('tse.csv',sep=',')"
   ]
  },
  {
   "cell_type": "code",
   "execution_count": 28,
   "metadata": {
    "collapsed": false
   },
   "outputs": [
    {
     "data": {
      "text/plain": [
       "array([ 1., 23.])"
      ]
     },
     "execution_count": 28,
     "metadata": {},
     "output_type": "execute_result"
    }
   ],
   "source": [
    "np.fromfile('tse.csv',sep=',')"
   ]
  },
  {
   "cell_type": "code",
   "execution_count": 31,
   "metadata": {
    "collapsed": false
   },
   "outputs": [
    {
     "data": {
      "text/plain": [
       "['/media/rhagoletis/Traj/data/2018/2018_01/2018_01_17',\n",
       " '/media/rhagoletis/Traj/data/2018/2018_01/2018_01_18',\n",
       " '/media/rhagoletis/Traj/data/2018/2018_01/2018_01_24',\n",
       " '/media/rhagoletis/Traj/data/2018/2018_02/2018_02_08',\n",
       " '/media/rhagoletis/Traj/data/2018/2018_03/2018_03_19',\n",
       " '/media/rhagoletis/Traj/data/2018/2018_03/2018_03_21',\n",
       " '/media/rhagoletis/Traj/data/2018/2018_03/2018_03_22',\n",
       " '/media/rhagoletis/Traj/data/2018/2018_03/2018_03_28',\n",
       " '/media/rhagoletis/Traj/data/2018/2018_03/2018_03_29',\n",
       " '/media/rhagoletis/Traj/data/2018/2018_03/2018_03_30',\n",
       " '/media/rhagoletis/Traj/data/2018/2018_04/2018_04_02',\n",
       " '/media/rhagoletis/Traj/data/2018/2018_04/2018_04_03',\n",
       " '/media/rhagoletis/Traj/data/2018/2018_04/2018_04_06',\n",
       " '/media/rhagoletis/Traj/data/2018/2018_04/2018_04_23',\n",
       " '/media/rhagoletis/Traj/data/2018/2018_05/2018_05_01']"
      ]
     },
     "execution_count": 31,
     "metadata": {},
     "output_type": "execute_result"
    }
   ],
   "source": [
    "deepestDir('/media/rhagoletis/Traj/data/2018/')"
   ]
  },
  {
   "cell_type": "code",
   "execution_count": 30,
   "metadata": {
    "collapsed": false
   },
   "outputs": [],
   "source": [
    "np.array(deepestDir('/media/rhagoletis/Traj/data/2018/')).tofile('tse.csv',sep='\\n')"
   ]
  },
  {
   "cell_type": "code",
   "execution_count": 17,
   "metadata": {
    "collapsed": true
   },
   "outputs": [],
   "source": [
    "lowest_dirs = list()\n",
    "\n",
    "for root,dirs,files in os.walk('/media/rhagoletis/Traj/data/2018/'):\n",
    "    if not dirs:\n",
    "        lowest_dirs.append(root)"
   ]
  },
  {
   "cell_type": "code",
   "execution_count": 18,
   "metadata": {
    "collapsed": false
   },
   "outputs": [
    {
     "data": {
      "text/plain": [
       "['/media/rhagoletis/Traj/data/2018/2018_01/2018_01_17',\n",
       " '/media/rhagoletis/Traj/data/2018/2018_01/2018_01_18',\n",
       " '/media/rhagoletis/Traj/data/2018/2018_01/2018_01_24',\n",
       " '/media/rhagoletis/Traj/data/2018/2018_02/2018_02_08',\n",
       " '/media/rhagoletis/Traj/data/2018/2018_03/2018_03_19',\n",
       " '/media/rhagoletis/Traj/data/2018/2018_03/2018_03_21',\n",
       " '/media/rhagoletis/Traj/data/2018/2018_03/2018_03_22',\n",
       " '/media/rhagoletis/Traj/data/2018/2018_03/2018_03_28',\n",
       " '/media/rhagoletis/Traj/data/2018/2018_03/2018_03_29',\n",
       " '/media/rhagoletis/Traj/data/2018/2018_03/2018_03_30',\n",
       " '/media/rhagoletis/Traj/data/2018/2018_04/2018_04_02',\n",
       " '/media/rhagoletis/Traj/data/2018/2018_04/2018_04_03',\n",
       " '/media/rhagoletis/Traj/data/2018/2018_04/2018_04_06',\n",
       " '/media/rhagoletis/Traj/data/2018/2018_04/2018_04_23',\n",
       " '/media/rhagoletis/Traj/data/2018/2018_05/2018_05_01']"
      ]
     },
     "execution_count": 18,
     "metadata": {},
     "output_type": "execute_result"
    }
   ],
   "source": [
    "lowest_dirs"
   ]
  },
  {
   "cell_type": "code",
   "execution_count": 16,
   "metadata": {
    "collapsed": false
   },
   "outputs": [
    {
     "data": {
      "text/plain": [
       "['/media/rhagoletis/Traj/data/2018/',\n",
       " '/media/rhagoletis/Traj/data/2018/2018_01',\n",
       " '/media/rhagoletis/Traj/data/2018/2018_01/2018_01_17',\n",
       " '/media/rhagoletis/Traj/data/2018/2018_01/2018_01_18',\n",
       " '/media/rhagoletis/Traj/data/2018/2018_01/2018_01_24',\n",
       " '/media/rhagoletis/Traj/data/2018/2018_02',\n",
       " '/media/rhagoletis/Traj/data/2018/2018_02/2018_02_08',\n",
       " '/media/rhagoletis/Traj/data/2018/2018_03',\n",
       " '/media/rhagoletis/Traj/data/2018/2018_03/2018_03_19',\n",
       " '/media/rhagoletis/Traj/data/2018/2018_03/2018_03_21',\n",
       " '/media/rhagoletis/Traj/data/2018/2018_03/2018_03_22',\n",
       " '/media/rhagoletis/Traj/data/2018/2018_03/2018_03_28',\n",
       " '/media/rhagoletis/Traj/data/2018/2018_03/2018_03_29',\n",
       " '/media/rhagoletis/Traj/data/2018/2018_03/2018_03_30',\n",
       " '/media/rhagoletis/Traj/data/2018/2018_04',\n",
       " '/media/rhagoletis/Traj/data/2018/2018_04/2018_04_02',\n",
       " '/media/rhagoletis/Traj/data/2018/2018_04/2018_04_03',\n",
       " '/media/rhagoletis/Traj/data/2018/2018_04/2018_04_06',\n",
       " '/media/rhagoletis/Traj/data/2018/2018_04/2018_04_23',\n",
       " '/media/rhagoletis/Traj/data/2018/2018_05',\n",
       " '/media/rhagoletis/Traj/data/2018/2018_05/2018_05_01']"
      ]
     },
     "execution_count": 16,
     "metadata": {},
     "output_type": "execute_result"
    }
   ],
   "source": [
    "[x[0] for x in os.walk('/media/rhagoletis/Traj/data/2018/')]"
   ]
  },
  {
   "cell_type": "code",
   "execution_count": 13,
   "metadata": {
    "collapsed": false
   },
   "outputs": [
    {
     "data": {
      "text/plain": [
       "['/media/rhagoletis/Traj/data/2018/2018_01',\n",
       " '/media/rhagoletis/Traj/data/2018/2018_02',\n",
       " '/media/rhagoletis/Traj/data/2018/2018_03',\n",
       " '/media/rhagoletis/Traj/data/2018/2018_04',\n",
       " '/media/rhagoletis/Traj/data/2018/2018_05']"
      ]
     },
     "execution_count": 13,
     "metadata": {},
     "output_type": "execute_result"
    }
   ],
   "source": [
    "from glob import glob\n",
    "glob('/media/rhagoletis/Traj/data/2018/**')"
   ]
  },
  {
   "cell_type": "code",
   "execution_count": 7,
   "metadata": {
    "collapsed": false,
    "scrolled": true
   },
   "outputs": [
    {
     "name": "stdout",
     "output_type": "stream",
     "text": [
      "2018-01-17__12~01~29_apple69_00_wind_nullSky_nullGrass_gain~8_speed~1.0_bout~15_DC~-0.02_traj.bag_.h5.html\n",
      "2018-01-17__12~06~58_apple69_00_wind_nullSky_nullGrass_gain~8_speed~1.0_bout~15_DC~-0.02_traj.bag_.h5.html\n",
      "2018-01-17__12~12~40_apple69_00_wind_nullSky_nullGrass_gain~8_speed~1.0_bout~15_DC~-0.02_traj.bag_.h5.html\n",
      "2018-01-17__12~19~17_apple69_00_wind_nullSky_nullGrass_gain~8_speed~1.0_bout~15_DC~-0.02_traj.bag_.h5.html\n",
      "2018-01-17__12~21~48_apple69_00_wind_nullSky_nullGrass_gain~8_speed~1.0_bout~15_DC~-0.02_traj.bag_.h5.html\n",
      "2018-01-17__12~27~21_apple69_00_wind_nullSky_nullGrass_gain~8_speed~1.0_bout~15_DC~-0.02_traj.bag_.h5.html\n",
      "2018-01-17__12~32~54_apple69_00_wind_nullSky_nullGrass_gain~8_speed~1.0_bout~15_DC~-0.02_traj.bag_.h5.html\n",
      "2018-01-17__14~38~15_apple69_00_wind_gain~8_speed~1.0_bout~15_DC~-0.02_traj.bag_.h5.html\n",
      "2018-01-17__14~43~47_apple69_00_wind_gain~8_speed~1.0_bout~15_DC~-0.02_traj.bag_.h5.html\n",
      "2018-01-17__14~52~38_apple69_00_wind_gain~8_speed~1.0_bout~15_DC~-0.02_traj.bag_.h5.html\n",
      "2018-01-17__14~58~16_apple69_00_wind_gain~8_speed~1.0_bout~15_DC~-0.02_traj.bag_.h5.html\n",
      "2018-01-17__15~04~44_apple69_00_wind_gain~8_speed~1.0_bout~15_DC~-0.02_traj.bag_.h5.html\n",
      "2018-01-17__17~54~40_apple69_00_wind_gain~8_speed~1.0_bout~15_DC~-0.02_traj.bag_.h5.html\n",
      "2018-01-17__18~12~12_apple69_00_wind_gain~8_speed~1.0_bout~15_DC~-0.02_traj.bag_.h5.html\n",
      "2018-01-17__18~19~48_apple69_00_wind_gain~8_speed~1.0_bout~15_DC~-0.02_traj.bag_.h5.html\n",
      "2018-01-17__18~39~31_apple69_00_wind_nullSky_gain~8_speed~1.0_bout~15_DC~-0.219_traj.bag_.h5.html\n",
      "2018-01-17__18~50~01_apple69_00_wind_nullSky_gain~8_speed~1.0_bout~15_DC~-0.219_traj.bag_.h5.html\n",
      "2018-01-17__18~54~11_apple69_00_wind_nullSky_gain~8_speed~1.0_bout~15_DC~-0.219_traj.bag_.h5.html\n",
      "2018-01-17__19~01~14_apple69_00_wind_nullSky_gain~8_speed~1.0_bout~15_DC~-0.219_traj.bag_.h5.html\n",
      "2018-01-17__19~07~48_apple69_00_wind_nullSky_gain~8_speed~1.0_bout~15_DC~-0.219_traj.bag_.h5.html\n",
      "2018-01-17__19~14~52_apple69_00_wind_nullSky_gain~8_speed~1.0_bout~15_DC~-0.219_traj.bag_.h5.html\n",
      "2018-01-17__19~22~32_apple69_00_wind_nullSky_gain~8_speed~1.0_bout~15_DC~-0.219_traj.bag_.h5.html\n",
      "2018-01-17__19~24~26_apple69_00_wind_nullSky_gain~8_speed~1.0_bout~15_DC~-0.219_traj.bag_.h5.html\n",
      "2018-01-17__19~27~06_apple69_00_wind_nullSky_gain~8_speed~1.0_bout~15_DC~-0.219_traj.bag_.h5.html\n",
      "2018-01-17__19~33~19_apple69_00_wind_nullSky_gain~8_speed~1.0_bout~15_DC~-0.219_traj.bag_.h5.html\n",
      "2018-01-17__19~40~05_apple69_00_wind_nullSky_gain~8_speed~1.0_bout~15_DC~-0.219_traj.bag_.h5.html\n",
      "2018-01-17__19~47~21_apple69_00_wind_nullSky_gain~8_speed~1.0_bout~15_DC~-0.219_traj.bag_.h5.html\n",
      "2018-01-17__19~54~53_apple69_00_wind_nullSky_gain~8_speed~1.0_bout~15_DC~-0.219_traj.bag_.h5.html\n",
      "2018-01-17__20~04~03_apple69_00_wind_nullSky_gain~8_speed~1.0_bout~15_DC~-0.219_traj.bag_.h5.html\n",
      "2018-01-17__20~13~09_apple69_00_wind_nullSky_gain~8_speed~1.0_bout~15_DC~-0.219_traj.bag_.h5.html\n"
     ]
    }
   ],
   "source": [
    "driver=login()\n",
    "fillNote(driver,labnote,embedPlots=True,foldPath='/media/rhagoletis/Traj/data/2018/2018_01/2018_01_17',lpre='https://labnotes.ncbs.res.in/files/users/pavankk/2018/2018_01/')"
   ]
  },
  {
   "cell_type": "code",
   "execution_count": 5,
   "metadata": {
    "collapsed": false
   },
   "outputs": [
    {
     "data": {
      "text/plain": [
       "['/media/rhagoletis/Traj/data/2018/2018_01/2018_01_17/2018-01-17__12~01~29_apple69_00_wind_nullSky_nullGrass_gain~8_speed~1.0_bout~15_DC~-0.02_traj.bag.h5.html',\n",
       " '/media/rhagoletis/Traj/data/2018/2018_01/2018_01_17/2018-01-17__12~06~58_apple69_00_wind_nullSky_nullGrass_gain~8_speed~1.0_bout~15_DC~-0.02_traj.bag.h5.html',\n",
       " '/media/rhagoletis/Traj/data/2018/2018_01/2018_01_17/2018-01-17__12~12~40_apple69_00_wind_nullSky_nullGrass_gain~8_speed~1.0_bout~15_DC~-0.02_traj.bag.h5.html',\n",
       " '/media/rhagoletis/Traj/data/2018/2018_01/2018_01_17/2018-01-17__12~19~17_apple69_00_wind_nullSky_nullGrass_gain~8_speed~1.0_bout~15_DC~-0.02_traj.bag.h5.html',\n",
       " '/media/rhagoletis/Traj/data/2018/2018_01/2018_01_17/2018-01-17__12~21~48_apple69_00_wind_nullSky_nullGrass_gain~8_speed~1.0_bout~15_DC~-0.02_traj.bag.h5.html',\n",
       " '/media/rhagoletis/Traj/data/2018/2018_01/2018_01_17/2018-01-17__12~27~21_apple69_00_wind_nullSky_nullGrass_gain~8_speed~1.0_bout~15_DC~-0.02_traj.bag.h5.html',\n",
       " '/media/rhagoletis/Traj/data/2018/2018_01/2018_01_17/2018-01-17__12~32~54_apple69_00_wind_nullSky_nullGrass_gain~8_speed~1.0_bout~15_DC~-0.02_traj.bag.h5.html',\n",
       " '/media/rhagoletis/Traj/data/2018/2018_01/2018_01_17/2018-01-17__14~38~15_apple69_00_wind_gain~8_speed~1.0_bout~15_DC~-0.02_traj.bag.h5.html',\n",
       " '/media/rhagoletis/Traj/data/2018/2018_01/2018_01_17/2018-01-17__14~43~47_apple69_00_wind_gain~8_speed~1.0_bout~15_DC~-0.02_traj.bag.h5.html',\n",
       " '/media/rhagoletis/Traj/data/2018/2018_01/2018_01_17/2018-01-17__14~52~38_apple69_00_wind_gain~8_speed~1.0_bout~15_DC~-0.02_traj.bag.h5.html',\n",
       " '/media/rhagoletis/Traj/data/2018/2018_01/2018_01_17/2018-01-17__14~58~16_apple69_00_wind_gain~8_speed~1.0_bout~15_DC~-0.02_traj.bag.h5.html',\n",
       " '/media/rhagoletis/Traj/data/2018/2018_01/2018_01_17/2018-01-17__15~04~44_apple69_00_wind_gain~8_speed~1.0_bout~15_DC~-0.02_traj.bag.h5.html',\n",
       " '/media/rhagoletis/Traj/data/2018/2018_01/2018_01_17/2018-01-17__17~54~40_apple69_00_wind_gain~8_speed~1.0_bout~15_DC~-0.02_traj.bag.h5.html',\n",
       " '/media/rhagoletis/Traj/data/2018/2018_01/2018_01_17/2018-01-17__18~12~12_apple69_00_wind_gain~8_speed~1.0_bout~15_DC~-0.02_traj.bag.h5.html',\n",
       " '/media/rhagoletis/Traj/data/2018/2018_01/2018_01_17/2018-01-17__18~19~48_apple69_00_wind_gain~8_speed~1.0_bout~15_DC~-0.02_traj.bag.h5.html',\n",
       " '/media/rhagoletis/Traj/data/2018/2018_01/2018_01_17/2018-01-17__18~39~31_apple69_00_wind_nullSky_gain~8_speed~1.0_bout~15_DC~-0.219_traj.bag.h5.html',\n",
       " '/media/rhagoletis/Traj/data/2018/2018_01/2018_01_17/2018-01-17__18~50~01_apple69_00_wind_nullSky_gain~8_speed~1.0_bout~15_DC~-0.219_traj.bag.h5.html',\n",
       " '/media/rhagoletis/Traj/data/2018/2018_01/2018_01_17/2018-01-17__18~54~11_apple69_00_wind_nullSky_gain~8_speed~1.0_bout~15_DC~-0.219_traj.bag.h5.html',\n",
       " '/media/rhagoletis/Traj/data/2018/2018_01/2018_01_17/2018-01-17__19~01~14_apple69_00_wind_nullSky_gain~8_speed~1.0_bout~15_DC~-0.219_traj.bag.h5.html',\n",
       " '/media/rhagoletis/Traj/data/2018/2018_01/2018_01_17/2018-01-17__19~07~48_apple69_00_wind_nullSky_gain~8_speed~1.0_bout~15_DC~-0.219_traj.bag.h5.html',\n",
       " '/media/rhagoletis/Traj/data/2018/2018_01/2018_01_17/2018-01-17__19~14~52_apple69_00_wind_nullSky_gain~8_speed~1.0_bout~15_DC~-0.219_traj.bag.h5.html',\n",
       " '/media/rhagoletis/Traj/data/2018/2018_01/2018_01_17/2018-01-17__19~22~32_apple69_00_wind_nullSky_gain~8_speed~1.0_bout~15_DC~-0.219_traj.bag.h5.html',\n",
       " '/media/rhagoletis/Traj/data/2018/2018_01/2018_01_17/2018-01-17__19~24~26_apple69_00_wind_nullSky_gain~8_speed~1.0_bout~15_DC~-0.219_traj.bag.h5.html',\n",
       " '/media/rhagoletis/Traj/data/2018/2018_01/2018_01_17/2018-01-17__19~27~06_apple69_00_wind_nullSky_gain~8_speed~1.0_bout~15_DC~-0.219_traj.bag.h5.html',\n",
       " '/media/rhagoletis/Traj/data/2018/2018_01/2018_01_17/2018-01-17__19~33~19_apple69_00_wind_nullSky_gain~8_speed~1.0_bout~15_DC~-0.219_traj.bag.h5.html',\n",
       " '/media/rhagoletis/Traj/data/2018/2018_01/2018_01_17/2018-01-17__19~40~05_apple69_00_wind_nullSky_gain~8_speed~1.0_bout~15_DC~-0.219_traj.bag.h5.html',\n",
       " '/media/rhagoletis/Traj/data/2018/2018_01/2018_01_17/2018-01-17__19~47~21_apple69_00_wind_nullSky_gain~8_speed~1.0_bout~15_DC~-0.219_traj.bag.h5.html',\n",
       " '/media/rhagoletis/Traj/data/2018/2018_01/2018_01_17/2018-01-17__19~54~53_apple69_00_wind_nullSky_gain~8_speed~1.0_bout~15_DC~-0.219_traj.bag.h5.html',\n",
       " '/media/rhagoletis/Traj/data/2018/2018_01/2018_01_17/2018-01-17__20~04~03_apple69_00_wind_nullSky_gain~8_speed~1.0_bout~15_DC~-0.219_traj.bag.h5.html',\n",
       " '/media/rhagoletis/Traj/data/2018/2018_01/2018_01_17/2018-01-17__20~13~09_apple69_00_wind_nullSky_gain~8_speed~1.0_bout~15_DC~-0.219_traj.bag.h5.html']"
      ]
     },
     "execution_count": 5,
     "metadata": {},
     "output_type": "execute_result"
    }
   ],
   "source": [
    "fileList(foldPath='/media/rhagoletis/Traj/data/2018/2018_01/2018_01_17',included=['*.h5.html'])"
   ]
  },
  {
   "cell_type": "code",
   "execution_count": 4,
   "metadata": {
    "collapsed": false
   },
   "outputs": [
    {
     "name": "stdout",
     "output_type": "stream",
     "text": [
      "2018-01-17__12~01~29_apple69_00_wind_nullSky_nullGrass_gain~8_speed~1.0_bout~15_DC~-0.02_traj.bag.dfpickle.html_.h5.html\n",
      "2018-01-17__12~01~29_apple69_00_wind_nullSky_nullGrass_gain~8_speed~1.0_bout~15_DC~-0.02_traj.bag_.h5.html\n",
      "2018-01-17__12~01~29_apple69_00_wind_nullSky_nullGrass_gain~8_speed~1.0_bout~15_DC~-0.02_traj.bag_df.pickle.html_.h5.html\n",
      "2018-01-17__12~06~58_apple69_00_wind_nullSky_nullGrass_gain~8_speed~1.0_bout~15_DC~-0.02_traj.bag.dfpickle.html_.h5.html\n",
      "2018-01-17__12~06~58_apple69_00_wind_nullSky_nullGrass_gain~8_speed~1.0_bout~15_DC~-0.02_traj.bag_.h5.html\n",
      "2018-01-17__12~06~58_apple69_00_wind_nullSky_nullGrass_gain~8_speed~1.0_bout~15_DC~-0.02_traj.bag_df.pickle.html_.h5.html\n",
      "2018-01-17__12~12~40_apple69_00_wind_nullSky_nullGrass_gain~8_speed~1.0_bout~15_DC~-0.02_traj.bag.dfpickle.html_.h5.html\n",
      "2018-01-17__12~12~40_apple69_00_wind_nullSky_nullGrass_gain~8_speed~1.0_bout~15_DC~-0.02_traj.bag_.h5.html\n",
      "2018-01-17__12~12~40_apple69_00_wind_nullSky_nullGrass_gain~8_speed~1.0_bout~15_DC~-0.02_traj.bag_df.pickle.html_.h5.html\n",
      "2018-01-17__12~19~17_apple69_00_wind_nullSky_nullGrass_gain~8_speed~1.0_bout~15_DC~-0.02_traj.bag.dfpickle.html_.h5.html\n",
      "2018-01-17__12~19~17_apple69_00_wind_nullSky_nullGrass_gain~8_speed~1.0_bout~15_DC~-0.02_traj.bag_.h5.html\n",
      "2018-01-17__12~19~17_apple69_00_wind_nullSky_nullGrass_gain~8_speed~1.0_bout~15_DC~-0.02_traj.bag_df.pickle.html_.h5.html\n",
      "2018-01-17__12~21~48_apple69_00_wind_nullSky_nullGrass_gain~8_speed~1.0_bout~15_DC~-0.02_traj.bag.dfpickle.html_.h5.html\n",
      "2018-01-17__12~21~48_apple69_00_wind_nullSky_nullGrass_gain~8_speed~1.0_bout~15_DC~-0.02_traj.bag_.h5.html\n",
      "2018-01-17__12~21~48_apple69_00_wind_nullSky_nullGrass_gain~8_speed~1.0_bout~15_DC~-0.02_traj.bag_df.pickle.html_.h5.html\n",
      "2018-01-17__12~27~21_apple69_00_wind_nullSky_nullGrass_gain~8_speed~1.0_bout~15_DC~-0.02_traj.bag.dfpickle.html_.h5.html\n",
      "2018-01-17__12~27~21_apple69_00_wind_nullSky_nullGrass_gain~8_speed~1.0_bout~15_DC~-0.02_traj.bag_.h5.html\n",
      "2018-01-17__12~27~21_apple69_00_wind_nullSky_nullGrass_gain~8_speed~1.0_bout~15_DC~-0.02_traj.bag_df.pickle.html_.h5.html\n",
      "2018-01-17__12~32~54_apple69_00_wind_nullSky_nullGrass_gain~8_speed~1.0_bout~15_DC~-0.02_traj.bag.dfpickle.html_.h5.html\n",
      "2018-01-17__12~32~54_apple69_00_wind_nullSky_nullGrass_gain~8_speed~1.0_bout~15_DC~-0.02_traj.bag_.h5.html\n",
      "2018-01-17__12~32~54_apple69_00_wind_nullSky_nullGrass_gain~8_speed~1.0_bout~15_DC~-0.02_traj.bag_df.pickle.html_.h5.html\n",
      "2018-01-17__14~38~15_apple69_00_wind_gain~8_speed~1.0_bout~15_DC~-0.02_traj.bag.dfpickle.html_.h5.html\n",
      "2018-01-17__14~38~15_apple69_00_wind_gain~8_speed~1.0_bout~15_DC~-0.02_traj.bag_.h5.html\n",
      "2018-01-17__14~38~15_apple69_00_wind_gain~8_speed~1.0_bout~15_DC~-0.02_traj.bag_df.pickle.html_.h5.html\n",
      "2018-01-17__14~43~47_apple69_00_wind_gain~8_speed~1.0_bout~15_DC~-0.02_traj.bag.dfpickle.html_.h5.html\n",
      "2018-01-17__14~43~47_apple69_00_wind_gain~8_speed~1.0_bout~15_DC~-0.02_traj.bag_.h5.html\n",
      "2018-01-17__14~43~47_apple69_00_wind_gain~8_speed~1.0_bout~15_DC~-0.02_traj.bag_df.pickle.html_.h5.html\n",
      "2018-01-17__14~52~38_apple69_00_wind_gain~8_speed~1.0_bout~15_DC~-0.02_traj.bag.dfpickle.html_.h5.html\n",
      "2018-01-17__14~52~38_apple69_00_wind_gain~8_speed~1.0_bout~15_DC~-0.02_traj.bag_.h5.html\n",
      "2018-01-17__14~52~38_apple69_00_wind_gain~8_speed~1.0_bout~15_DC~-0.02_traj.bag_df.pickle.html_.h5.html\n",
      "2018-01-17__14~58~16_apple69_00_wind_gain~8_speed~1.0_bout~15_DC~-0.02_traj.bag.dfpickle.html_.h5.html\n",
      "2018-01-17__14~58~16_apple69_00_wind_gain~8_speed~1.0_bout~15_DC~-0.02_traj.bag_.h5.html\n",
      "2018-01-17__14~58~16_apple69_00_wind_gain~8_speed~1.0_bout~15_DC~-0.02_traj.bag_df.pickle.html_.h5.html\n",
      "2018-01-17__15~04~44_apple69_00_wind_gain~8_speed~1.0_bout~15_DC~-0.02_traj.bag.dfpickle.html_.h5.html\n",
      "2018-01-17__15~04~44_apple69_00_wind_gain~8_speed~1.0_bout~15_DC~-0.02_traj.bag_.h5.html\n",
      "2018-01-17__15~04~44_apple69_00_wind_gain~8_speed~1.0_bout~15_DC~-0.02_traj.bag_df.pickle.html_.h5.html\n",
      "2018-01-17__17~54~40_apple69_00_wind_gain~8_speed~1.0_bout~15_DC~-0.02_traj.bag.dfpickle.html_.h5.html\n",
      "2018-01-17__17~54~40_apple69_00_wind_gain~8_speed~1.0_bout~15_DC~-0.02_traj.bag_.h5.html\n",
      "2018-01-17__17~54~40_apple69_00_wind_gain~8_speed~1.0_bout~15_DC~-0.02_traj.bag_df.pickle.html_.h5.html\n",
      "2018-01-17__18~12~12_apple69_00_wind_gain~8_speed~1.0_bout~15_DC~-0.02_traj.bag.dfpickle.html_.h5.html\n",
      "2018-01-17__18~12~12_apple69_00_wind_gain~8_speed~1.0_bout~15_DC~-0.02_traj.bag_.h5.html\n",
      "2018-01-17__18~12~12_apple69_00_wind_gain~8_speed~1.0_bout~15_DC~-0.02_traj.bag_df.pickle.html_.h5.html\n",
      "2018-01-17__18~19~48_apple69_00_wind_gain~8_speed~1.0_bout~15_DC~-0.02_traj.bag.dfpickle.html_.h5.html\n",
      "2018-01-17__18~19~48_apple69_00_wind_gain~8_speed~1.0_bout~15_DC~-0.02_traj.bag_.h5.html\n",
      "2018-01-17__18~19~48_apple69_00_wind_gain~8_speed~1.0_bout~15_DC~-0.02_traj.bag_df.pickle.html_.h5.html\n",
      "2018-01-17__18~39~31_apple69_00_wind_nullSky_gain~8_speed~1.0_bout~15_DC~-0.219_traj.bag.dfpickle.html_.h5.html\n",
      "2018-01-17__18~39~31_apple69_00_wind_nullSky_gain~8_speed~1.0_bout~15_DC~-0.219_traj.bag_.h5.html\n",
      "2018-01-17__18~39~31_apple69_00_wind_nullSky_gain~8_speed~1.0_bout~15_DC~-0.219_traj.bag_df.pickle.html_.h5.html\n",
      "2018-01-17__18~50~01_apple69_00_wind_nullSky_gain~8_speed~1.0_bout~15_DC~-0.219_traj.bag.dfpickle.html_.h5.html\n",
      "2018-01-17__18~50~01_apple69_00_wind_nullSky_gain~8_speed~1.0_bout~15_DC~-0.219_traj.bag_.h5.html\n",
      "2018-01-17__18~50~01_apple69_00_wind_nullSky_gain~8_speed~1.0_bout~15_DC~-0.219_traj.bag_df.pickle.html_.h5.html\n",
      "2018-01-17__18~54~11_apple69_00_wind_nullSky_gain~8_speed~1.0_bout~15_DC~-0.219_traj.bag.dfpickle.html_.h5.html\n",
      "2018-01-17__18~54~11_apple69_00_wind_nullSky_gain~8_speed~1.0_bout~15_DC~-0.219_traj.bag_.h5.html\n",
      "2018-01-17__18~54~11_apple69_00_wind_nullSky_gain~8_speed~1.0_bout~15_DC~-0.219_traj.bag_df.pickle.html_.h5.html\n",
      "2018-01-17__19~01~14_apple69_00_wind_nullSky_gain~8_speed~1.0_bout~15_DC~-0.219_traj.bag.dfpickle.html_.h5.html\n",
      "2018-01-17__19~01~14_apple69_00_wind_nullSky_gain~8_speed~1.0_bout~15_DC~-0.219_traj.bag_.h5.html\n",
      "2018-01-17__19~01~14_apple69_00_wind_nullSky_gain~8_speed~1.0_bout~15_DC~-0.219_traj.bag_df.pickle.html_.h5.html\n",
      "2018-01-17__19~07~48_apple69_00_wind_nullSky_gain~8_speed~1.0_bout~15_DC~-0.219_traj.bag.dfpickle.html_.h5.html\n",
      "2018-01-17__19~07~48_apple69_00_wind_nullSky_gain~8_speed~1.0_bout~15_DC~-0.219_traj.bag_.h5.html\n",
      "2018-01-17__19~07~48_apple69_00_wind_nullSky_gain~8_speed~1.0_bout~15_DC~-0.219_traj.bag_df.pickle.html_.h5.html\n",
      "2018-01-17__19~14~52_apple69_00_wind_nullSky_gain~8_speed~1.0_bout~15_DC~-0.219_traj.bag.dfpickle.html_.h5.html\n",
      "2018-01-17__19~14~52_apple69_00_wind_nullSky_gain~8_speed~1.0_bout~15_DC~-0.219_traj.bag_.h5.html\n",
      "2018-01-17__19~14~52_apple69_00_wind_nullSky_gain~8_speed~1.0_bout~15_DC~-0.219_traj.bag_df.pickle.html_.h5.html\n",
      "2018-01-17__19~22~32_apple69_00_wind_nullSky_gain~8_speed~1.0_bout~15_DC~-0.219_traj.bag.dfpickle.html_.h5.html\n",
      "2018-01-17__19~22~32_apple69_00_wind_nullSky_gain~8_speed~1.0_bout~15_DC~-0.219_traj.bag_.h5.html\n",
      "2018-01-17__19~22~32_apple69_00_wind_nullSky_gain~8_speed~1.0_bout~15_DC~-0.219_traj.bag_df.pickle.html_.h5.html\n",
      "2018-01-17__19~24~26_apple69_00_wind_nullSky_gain~8_speed~1.0_bout~15_DC~-0.219_traj.bag.dfpickle.html_.h5.html\n",
      "2018-01-17__19~24~26_apple69_00_wind_nullSky_gain~8_speed~1.0_bout~15_DC~-0.219_traj.bag_.h5.html\n",
      "2018-01-17__19~24~26_apple69_00_wind_nullSky_gain~8_speed~1.0_bout~15_DC~-0.219_traj.bag_df.pickle.html_.h5.html\n",
      "2018-01-17__19~27~06_apple69_00_wind_nullSky_gain~8_speed~1.0_bout~15_DC~-0.219_traj.bag.dfpickle.html_.h5.html\n",
      "2018-01-17__19~27~06_apple69_00_wind_nullSky_gain~8_speed~1.0_bout~15_DC~-0.219_traj.bag_.h5.html\n",
      "2018-01-17__19~27~06_apple69_00_wind_nullSky_gain~8_speed~1.0_bout~15_DC~-0.219_traj.bag_df.pickle.html_.h5.html\n",
      "2018-01-17__19~33~19_apple69_00_wind_nullSky_gain~8_speed~1.0_bout~15_DC~-0.219_traj.bag.dfpickle.html_.h5.html\n",
      "2018-01-17__19~33~19_apple69_00_wind_nullSky_gain~8_speed~1.0_bout~15_DC~-0.219_traj.bag_.h5.html\n",
      "2018-01-17__19~33~19_apple69_00_wind_nullSky_gain~8_speed~1.0_bout~15_DC~-0.219_traj.bag_df.pickle.html_.h5.html\n",
      "2018-01-17__19~40~05_apple69_00_wind_nullSky_gain~8_speed~1.0_bout~15_DC~-0.219_traj.bag.dfpickle.html_.h5.html\n",
      "2018-01-17__19~40~05_apple69_00_wind_nullSky_gain~8_speed~1.0_bout~15_DC~-0.219_traj.bag_.h5.html\n",
      "2018-01-17__19~40~05_apple69_00_wind_nullSky_gain~8_speed~1.0_bout~15_DC~-0.219_traj.bag_df.pickle.html_.h5.html\n",
      "2018-01-17__19~47~21_apple69_00_wind_nullSky_gain~8_speed~1.0_bout~15_DC~-0.219_traj.bag.dfpickle.html_.h5.html\n",
      "2018-01-17__19~47~21_apple69_00_wind_nullSky_gain~8_speed~1.0_bout~15_DC~-0.219_traj.bag_.h5.html\n",
      "2018-01-17__19~47~21_apple69_00_wind_nullSky_gain~8_speed~1.0_bout~15_DC~-0.219_traj.bag_df.pickle.html_.h5.html\n",
      "2018-01-17__19~54~53_apple69_00_wind_nullSky_gain~8_speed~1.0_bout~15_DC~-0.219_traj.bag.dfpickle.html_.h5.html\n",
      "2018-01-17__19~54~53_apple69_00_wind_nullSky_gain~8_speed~1.0_bout~15_DC~-0.219_traj.bag_.h5.html\n",
      "2018-01-17__19~54~53_apple69_00_wind_nullSky_gain~8_speed~1.0_bout~15_DC~-0.219_traj.bag_df.pickle.html_.h5.html\n",
      "2018-01-17__20~04~03_apple69_00_wind_nullSky_gain~8_speed~1.0_bout~15_DC~-0.219_traj.bag.dfpickle.html_.h5.html\n",
      "2018-01-17__20~04~03_apple69_00_wind_nullSky_gain~8_speed~1.0_bout~15_DC~-0.219_traj.bag_.h5.html\n",
      "2018-01-17__20~04~03_apple69_00_wind_nullSky_gain~8_speed~1.0_bout~15_DC~-0.219_traj.bag_df.pickle.html_.h5.html\n",
      "2018-01-17__20~13~09_apple69_00_wind_nullSky_gain~8_speed~1.0_bout~15_DC~-0.219_traj.bag.dfpickle.html_.h5.html\n",
      "2018-01-17__20~13~09_apple69_00_wind_nullSky_gain~8_speed~1.0_bout~15_DC~-0.219_traj.bag_.h5.html\n",
      "2018-01-17__20~13~09_apple69_00_wind_nullSky_gain~8_speed~1.0_bout~15_DC~-0.219_traj.bag_df.pickle.html_.h5.html\n"
     ]
    },
    {
     "data": {
      "text/plain": [
       "'<ol><li><a href=\"https://labnotes.ncbs.res.in/files/users/pavankk/2018/2018_01/2018-01-17__12~01~29_apple69_00_wind_nullSky_nullGrass_gain~8_speed~1.0_bout~15_DC~-0.02_traj.bag.dfpickle.html_.h5.html\">2018-01-17__12~01~29_apple69_00_wind_nullSky_nullGrass_gain~8_speed~1.0_bout~15_DC~-0.02_traj.bag.dfpickle.html_.h5.html</a><iframe frameborder=\"1\" height=\"1100\" width=\"1100\" scrolling=\"yes\" src=\"https://labnotes.ncbs.res.in/files/users/pavankk/2018/2018_01/2018-01-17__12~01~29_apple69_00_wind_nullSky_nullGrass_gain~8_speed~1.0_bout~15_DC~-0.02_traj.bag.dfpickle.html_.h5.html\"></iframe></li><li><a href=\"https://labnotes.ncbs.res.in/files/users/pavankk/2018/2018_01/2018-01-17__12~01~29_apple69_00_wind_nullSky_nullGrass_gain~8_speed~1.0_bout~15_DC~-0.02_traj.bag_.h5.html\">2018-01-17__12~01~29_apple69_00_wind_nullSky_nullGrass_gain~8_speed~1.0_bout~15_DC~-0.02_traj.bag_.h5.html</a><iframe frameborder=\"1\" height=\"1100\" width=\"1100\" scrolling=\"yes\" src=\"https://labnotes.ncbs.res.in/files/users/pavankk/2018/2018_01/2018-01-17__12~01~29_apple69_00_wind_nullSky_nullGrass_gain~8_speed~1.0_bout~15_DC~-0.02_traj.bag_.h5.html\"></iframe></li><li><a href=\"https://labnotes.ncbs.res.in/files/users/pavankk/2018/2018_01/2018-01-17__12~01~29_apple69_00_wind_nullSky_nullGrass_gain~8_speed~1.0_bout~15_DC~-0.02_traj.bag_df.pickle.html_.h5.html\">2018-01-17__12~01~29_apple69_00_wind_nullSky_nullGrass_gain~8_speed~1.0_bout~15_DC~-0.02_traj.bag_df.pickle.html_.h5.html</a><iframe frameborder=\"1\" height=\"1100\" width=\"1100\" scrolling=\"yes\" src=\"https://labnotes.ncbs.res.in/files/users/pavankk/2018/2018_01/2018-01-17__12~01~29_apple69_00_wind_nullSky_nullGrass_gain~8_speed~1.0_bout~15_DC~-0.02_traj.bag_df.pickle.html_.h5.html\"></iframe></li><li><a href=\"https://labnotes.ncbs.res.in/files/users/pavankk/2018/2018_01/2018-01-17__12~06~58_apple69_00_wind_nullSky_nullGrass_gain~8_speed~1.0_bout~15_DC~-0.02_traj.bag.dfpickle.html_.h5.html\">2018-01-17__12~06~58_apple69_00_wind_nullSky_nullGrass_gain~8_speed~1.0_bout~15_DC~-0.02_traj.bag.dfpickle.html_.h5.html</a><iframe frameborder=\"1\" height=\"1100\" width=\"1100\" scrolling=\"yes\" src=\"https://labnotes.ncbs.res.in/files/users/pavankk/2018/2018_01/2018-01-17__12~06~58_apple69_00_wind_nullSky_nullGrass_gain~8_speed~1.0_bout~15_DC~-0.02_traj.bag.dfpickle.html_.h5.html\"></iframe></li><li><a href=\"https://labnotes.ncbs.res.in/files/users/pavankk/2018/2018_01/2018-01-17__12~06~58_apple69_00_wind_nullSky_nullGrass_gain~8_speed~1.0_bout~15_DC~-0.02_traj.bag_.h5.html\">2018-01-17__12~06~58_apple69_00_wind_nullSky_nullGrass_gain~8_speed~1.0_bout~15_DC~-0.02_traj.bag_.h5.html</a><iframe frameborder=\"1\" height=\"1100\" width=\"1100\" scrolling=\"yes\" src=\"https://labnotes.ncbs.res.in/files/users/pavankk/2018/2018_01/2018-01-17__12~06~58_apple69_00_wind_nullSky_nullGrass_gain~8_speed~1.0_bout~15_DC~-0.02_traj.bag_.h5.html\"></iframe></li><li><a href=\"https://labnotes.ncbs.res.in/files/users/pavankk/2018/2018_01/2018-01-17__12~06~58_apple69_00_wind_nullSky_nullGrass_gain~8_speed~1.0_bout~15_DC~-0.02_traj.bag_df.pickle.html_.h5.html\">2018-01-17__12~06~58_apple69_00_wind_nullSky_nullGrass_gain~8_speed~1.0_bout~15_DC~-0.02_traj.bag_df.pickle.html_.h5.html</a><iframe frameborder=\"1\" height=\"1100\" width=\"1100\" scrolling=\"yes\" src=\"https://labnotes.ncbs.res.in/files/users/pavankk/2018/2018_01/2018-01-17__12~06~58_apple69_00_wind_nullSky_nullGrass_gain~8_speed~1.0_bout~15_DC~-0.02_traj.bag_df.pickle.html_.h5.html\"></iframe></li><li><a href=\"https://labnotes.ncbs.res.in/files/users/pavankk/2018/2018_01/2018-01-17__12~12~40_apple69_00_wind_nullSky_nullGrass_gain~8_speed~1.0_bout~15_DC~-0.02_traj.bag.dfpickle.html_.h5.html\">2018-01-17__12~12~40_apple69_00_wind_nullSky_nullGrass_gain~8_speed~1.0_bout~15_DC~-0.02_traj.bag.dfpickle.html_.h5.html</a><iframe frameborder=\"1\" height=\"1100\" width=\"1100\" scrolling=\"yes\" src=\"https://labnotes.ncbs.res.in/files/users/pavankk/2018/2018_01/2018-01-17__12~12~40_apple69_00_wind_nullSky_nullGrass_gain~8_speed~1.0_bout~15_DC~-0.02_traj.bag.dfpickle.html_.h5.html\"></iframe></li><li><a href=\"https://labnotes.ncbs.res.in/files/users/pavankk/2018/2018_01/2018-01-17__12~12~40_apple69_00_wind_nullSky_nullGrass_gain~8_speed~1.0_bout~15_DC~-0.02_traj.bag_.h5.html\">2018-01-17__12~12~40_apple69_00_wind_nullSky_nullGrass_gain~8_speed~1.0_bout~15_DC~-0.02_traj.bag_.h5.html</a><iframe frameborder=\"1\" height=\"1100\" width=\"1100\" scrolling=\"yes\" src=\"https://labnotes.ncbs.res.in/files/users/pavankk/2018/2018_01/2018-01-17__12~12~40_apple69_00_wind_nullSky_nullGrass_gain~8_speed~1.0_bout~15_DC~-0.02_traj.bag_.h5.html\"></iframe></li><li><a href=\"https://labnotes.ncbs.res.in/files/users/pavankk/2018/2018_01/2018-01-17__12~12~40_apple69_00_wind_nullSky_nullGrass_gain~8_speed~1.0_bout~15_DC~-0.02_traj.bag_df.pickle.html_.h5.html\">2018-01-17__12~12~40_apple69_00_wind_nullSky_nullGrass_gain~8_speed~1.0_bout~15_DC~-0.02_traj.bag_df.pickle.html_.h5.html</a><iframe frameborder=\"1\" height=\"1100\" width=\"1100\" scrolling=\"yes\" src=\"https://labnotes.ncbs.res.in/files/users/pavankk/2018/2018_01/2018-01-17__12~12~40_apple69_00_wind_nullSky_nullGrass_gain~8_speed~1.0_bout~15_DC~-0.02_traj.bag_df.pickle.html_.h5.html\"></iframe></li><li><a href=\"https://labnotes.ncbs.res.in/files/users/pavankk/2018/2018_01/2018-01-17__12~19~17_apple69_00_wind_nullSky_nullGrass_gain~8_speed~1.0_bout~15_DC~-0.02_traj.bag.dfpickle.html_.h5.html\">2018-01-17__12~19~17_apple69_00_wind_nullSky_nullGrass_gain~8_speed~1.0_bout~15_DC~-0.02_traj.bag.dfpickle.html_.h5.html</a><iframe frameborder=\"1\" height=\"1100\" width=\"1100\" scrolling=\"yes\" src=\"https://labnotes.ncbs.res.in/files/users/pavankk/2018/2018_01/2018-01-17__12~19~17_apple69_00_wind_nullSky_nullGrass_gain~8_speed~1.0_bout~15_DC~-0.02_traj.bag.dfpickle.html_.h5.html\"></iframe></li><li><a href=\"https://labnotes.ncbs.res.in/files/users/pavankk/2018/2018_01/2018-01-17__12~19~17_apple69_00_wind_nullSky_nullGrass_gain~8_speed~1.0_bout~15_DC~-0.02_traj.bag_.h5.html\">2018-01-17__12~19~17_apple69_00_wind_nullSky_nullGrass_gain~8_speed~1.0_bout~15_DC~-0.02_traj.bag_.h5.html</a><iframe frameborder=\"1\" height=\"1100\" width=\"1100\" scrolling=\"yes\" src=\"https://labnotes.ncbs.res.in/files/users/pavankk/2018/2018_01/2018-01-17__12~19~17_apple69_00_wind_nullSky_nullGrass_gain~8_speed~1.0_bout~15_DC~-0.02_traj.bag_.h5.html\"></iframe></li><li><a href=\"https://labnotes.ncbs.res.in/files/users/pavankk/2018/2018_01/2018-01-17__12~19~17_apple69_00_wind_nullSky_nullGrass_gain~8_speed~1.0_bout~15_DC~-0.02_traj.bag_df.pickle.html_.h5.html\">2018-01-17__12~19~17_apple69_00_wind_nullSky_nullGrass_gain~8_speed~1.0_bout~15_DC~-0.02_traj.bag_df.pickle.html_.h5.html</a><iframe frameborder=\"1\" height=\"1100\" width=\"1100\" scrolling=\"yes\" src=\"https://labnotes.ncbs.res.in/files/users/pavankk/2018/2018_01/2018-01-17__12~19~17_apple69_00_wind_nullSky_nullGrass_gain~8_speed~1.0_bout~15_DC~-0.02_traj.bag_df.pickle.html_.h5.html\"></iframe></li><li><a href=\"https://labnotes.ncbs.res.in/files/users/pavankk/2018/2018_01/2018-01-17__12~21~48_apple69_00_wind_nullSky_nullGrass_gain~8_speed~1.0_bout~15_DC~-0.02_traj.bag.dfpickle.html_.h5.html\">2018-01-17__12~21~48_apple69_00_wind_nullSky_nullGrass_gain~8_speed~1.0_bout~15_DC~-0.02_traj.bag.dfpickle.html_.h5.html</a><iframe frameborder=\"1\" height=\"1100\" width=\"1100\" scrolling=\"yes\" src=\"https://labnotes.ncbs.res.in/files/users/pavankk/2018/2018_01/2018-01-17__12~21~48_apple69_00_wind_nullSky_nullGrass_gain~8_speed~1.0_bout~15_DC~-0.02_traj.bag.dfpickle.html_.h5.html\"></iframe></li><li><a href=\"https://labnotes.ncbs.res.in/files/users/pavankk/2018/2018_01/2018-01-17__12~21~48_apple69_00_wind_nullSky_nullGrass_gain~8_speed~1.0_bout~15_DC~-0.02_traj.bag_.h5.html\">2018-01-17__12~21~48_apple69_00_wind_nullSky_nullGrass_gain~8_speed~1.0_bout~15_DC~-0.02_traj.bag_.h5.html</a><iframe frameborder=\"1\" height=\"1100\" width=\"1100\" scrolling=\"yes\" src=\"https://labnotes.ncbs.res.in/files/users/pavankk/2018/2018_01/2018-01-17__12~21~48_apple69_00_wind_nullSky_nullGrass_gain~8_speed~1.0_bout~15_DC~-0.02_traj.bag_.h5.html\"></iframe></li><li><a href=\"https://labnotes.ncbs.res.in/files/users/pavankk/2018/2018_01/2018-01-17__12~21~48_apple69_00_wind_nullSky_nullGrass_gain~8_speed~1.0_bout~15_DC~-0.02_traj.bag_df.pickle.html_.h5.html\">2018-01-17__12~21~48_apple69_00_wind_nullSky_nullGrass_gain~8_speed~1.0_bout~15_DC~-0.02_traj.bag_df.pickle.html_.h5.html</a><iframe frameborder=\"1\" height=\"1100\" width=\"1100\" scrolling=\"yes\" src=\"https://labnotes.ncbs.res.in/files/users/pavankk/2018/2018_01/2018-01-17__12~21~48_apple69_00_wind_nullSky_nullGrass_gain~8_speed~1.0_bout~15_DC~-0.02_traj.bag_df.pickle.html_.h5.html\"></iframe></li><li><a href=\"https://labnotes.ncbs.res.in/files/users/pavankk/2018/2018_01/2018-01-17__12~27~21_apple69_00_wind_nullSky_nullGrass_gain~8_speed~1.0_bout~15_DC~-0.02_traj.bag.dfpickle.html_.h5.html\">2018-01-17__12~27~21_apple69_00_wind_nullSky_nullGrass_gain~8_speed~1.0_bout~15_DC~-0.02_traj.bag.dfpickle.html_.h5.html</a><iframe frameborder=\"1\" height=\"1100\" width=\"1100\" scrolling=\"yes\" src=\"https://labnotes.ncbs.res.in/files/users/pavankk/2018/2018_01/2018-01-17__12~27~21_apple69_00_wind_nullSky_nullGrass_gain~8_speed~1.0_bout~15_DC~-0.02_traj.bag.dfpickle.html_.h5.html\"></iframe></li><li><a href=\"https://labnotes.ncbs.res.in/files/users/pavankk/2018/2018_01/2018-01-17__12~27~21_apple69_00_wind_nullSky_nullGrass_gain~8_speed~1.0_bout~15_DC~-0.02_traj.bag_.h5.html\">2018-01-17__12~27~21_apple69_00_wind_nullSky_nullGrass_gain~8_speed~1.0_bout~15_DC~-0.02_traj.bag_.h5.html</a><iframe frameborder=\"1\" height=\"1100\" width=\"1100\" scrolling=\"yes\" src=\"https://labnotes.ncbs.res.in/files/users/pavankk/2018/2018_01/2018-01-17__12~27~21_apple69_00_wind_nullSky_nullGrass_gain~8_speed~1.0_bout~15_DC~-0.02_traj.bag_.h5.html\"></iframe></li><li><a href=\"https://labnotes.ncbs.res.in/files/users/pavankk/2018/2018_01/2018-01-17__12~27~21_apple69_00_wind_nullSky_nullGrass_gain~8_speed~1.0_bout~15_DC~-0.02_traj.bag_df.pickle.html_.h5.html\">2018-01-17__12~27~21_apple69_00_wind_nullSky_nullGrass_gain~8_speed~1.0_bout~15_DC~-0.02_traj.bag_df.pickle.html_.h5.html</a><iframe frameborder=\"1\" height=\"1100\" width=\"1100\" scrolling=\"yes\" src=\"https://labnotes.ncbs.res.in/files/users/pavankk/2018/2018_01/2018-01-17__12~27~21_apple69_00_wind_nullSky_nullGrass_gain~8_speed~1.0_bout~15_DC~-0.02_traj.bag_df.pickle.html_.h5.html\"></iframe></li><li><a href=\"https://labnotes.ncbs.res.in/files/users/pavankk/2018/2018_01/2018-01-17__12~32~54_apple69_00_wind_nullSky_nullGrass_gain~8_speed~1.0_bout~15_DC~-0.02_traj.bag.dfpickle.html_.h5.html\">2018-01-17__12~32~54_apple69_00_wind_nullSky_nullGrass_gain~8_speed~1.0_bout~15_DC~-0.02_traj.bag.dfpickle.html_.h5.html</a><iframe frameborder=\"1\" height=\"1100\" width=\"1100\" scrolling=\"yes\" src=\"https://labnotes.ncbs.res.in/files/users/pavankk/2018/2018_01/2018-01-17__12~32~54_apple69_00_wind_nullSky_nullGrass_gain~8_speed~1.0_bout~15_DC~-0.02_traj.bag.dfpickle.html_.h5.html\"></iframe></li><li><a href=\"https://labnotes.ncbs.res.in/files/users/pavankk/2018/2018_01/2018-01-17__12~32~54_apple69_00_wind_nullSky_nullGrass_gain~8_speed~1.0_bout~15_DC~-0.02_traj.bag_.h5.html\">2018-01-17__12~32~54_apple69_00_wind_nullSky_nullGrass_gain~8_speed~1.0_bout~15_DC~-0.02_traj.bag_.h5.html</a><iframe frameborder=\"1\" height=\"1100\" width=\"1100\" scrolling=\"yes\" src=\"https://labnotes.ncbs.res.in/files/users/pavankk/2018/2018_01/2018-01-17__12~32~54_apple69_00_wind_nullSky_nullGrass_gain~8_speed~1.0_bout~15_DC~-0.02_traj.bag_.h5.html\"></iframe></li><li><a href=\"https://labnotes.ncbs.res.in/files/users/pavankk/2018/2018_01/2018-01-17__12~32~54_apple69_00_wind_nullSky_nullGrass_gain~8_speed~1.0_bout~15_DC~-0.02_traj.bag_df.pickle.html_.h5.html\">2018-01-17__12~32~54_apple69_00_wind_nullSky_nullGrass_gain~8_speed~1.0_bout~15_DC~-0.02_traj.bag_df.pickle.html_.h5.html</a><iframe frameborder=\"1\" height=\"1100\" width=\"1100\" scrolling=\"yes\" src=\"https://labnotes.ncbs.res.in/files/users/pavankk/2018/2018_01/2018-01-17__12~32~54_apple69_00_wind_nullSky_nullGrass_gain~8_speed~1.0_bout~15_DC~-0.02_traj.bag_df.pickle.html_.h5.html\"></iframe></li><li><a href=\"https://labnotes.ncbs.res.in/files/users/pavankk/2018/2018_01/2018-01-17__14~38~15_apple69_00_wind_gain~8_speed~1.0_bout~15_DC~-0.02_traj.bag.dfpickle.html_.h5.html\">2018-01-17__14~38~15_apple69_00_wind_gain~8_speed~1.0_bout~15_DC~-0.02_traj.bag.dfpickle.html_.h5.html</a><iframe frameborder=\"1\" height=\"1100\" width=\"1100\" scrolling=\"yes\" src=\"https://labnotes.ncbs.res.in/files/users/pavankk/2018/2018_01/2018-01-17__14~38~15_apple69_00_wind_gain~8_speed~1.0_bout~15_DC~-0.02_traj.bag.dfpickle.html_.h5.html\"></iframe></li><li><a href=\"https://labnotes.ncbs.res.in/files/users/pavankk/2018/2018_01/2018-01-17__14~38~15_apple69_00_wind_gain~8_speed~1.0_bout~15_DC~-0.02_traj.bag_.h5.html\">2018-01-17__14~38~15_apple69_00_wind_gain~8_speed~1.0_bout~15_DC~-0.02_traj.bag_.h5.html</a><iframe frameborder=\"1\" height=\"1100\" width=\"1100\" scrolling=\"yes\" src=\"https://labnotes.ncbs.res.in/files/users/pavankk/2018/2018_01/2018-01-17__14~38~15_apple69_00_wind_gain~8_speed~1.0_bout~15_DC~-0.02_traj.bag_.h5.html\"></iframe></li><li><a href=\"https://labnotes.ncbs.res.in/files/users/pavankk/2018/2018_01/2018-01-17__14~38~15_apple69_00_wind_gain~8_speed~1.0_bout~15_DC~-0.02_traj.bag_df.pickle.html_.h5.html\">2018-01-17__14~38~15_apple69_00_wind_gain~8_speed~1.0_bout~15_DC~-0.02_traj.bag_df.pickle.html_.h5.html</a><iframe frameborder=\"1\" height=\"1100\" width=\"1100\" scrolling=\"yes\" src=\"https://labnotes.ncbs.res.in/files/users/pavankk/2018/2018_01/2018-01-17__14~38~15_apple69_00_wind_gain~8_speed~1.0_bout~15_DC~-0.02_traj.bag_df.pickle.html_.h5.html\"></iframe></li><li><a href=\"https://labnotes.ncbs.res.in/files/users/pavankk/2018/2018_01/2018-01-17__14~43~47_apple69_00_wind_gain~8_speed~1.0_bout~15_DC~-0.02_traj.bag.dfpickle.html_.h5.html\">2018-01-17__14~43~47_apple69_00_wind_gain~8_speed~1.0_bout~15_DC~-0.02_traj.bag.dfpickle.html_.h5.html</a><iframe frameborder=\"1\" height=\"1100\" width=\"1100\" scrolling=\"yes\" src=\"https://labnotes.ncbs.res.in/files/users/pavankk/2018/2018_01/2018-01-17__14~43~47_apple69_00_wind_gain~8_speed~1.0_bout~15_DC~-0.02_traj.bag.dfpickle.html_.h5.html\"></iframe></li><li><a href=\"https://labnotes.ncbs.res.in/files/users/pavankk/2018/2018_01/2018-01-17__14~43~47_apple69_00_wind_gain~8_speed~1.0_bout~15_DC~-0.02_traj.bag_.h5.html\">2018-01-17__14~43~47_apple69_00_wind_gain~8_speed~1.0_bout~15_DC~-0.02_traj.bag_.h5.html</a><iframe frameborder=\"1\" height=\"1100\" width=\"1100\" scrolling=\"yes\" src=\"https://labnotes.ncbs.res.in/files/users/pavankk/2018/2018_01/2018-01-17__14~43~47_apple69_00_wind_gain~8_speed~1.0_bout~15_DC~-0.02_traj.bag_.h5.html\"></iframe></li><li><a href=\"https://labnotes.ncbs.res.in/files/users/pavankk/2018/2018_01/2018-01-17__14~43~47_apple69_00_wind_gain~8_speed~1.0_bout~15_DC~-0.02_traj.bag_df.pickle.html_.h5.html\">2018-01-17__14~43~47_apple69_00_wind_gain~8_speed~1.0_bout~15_DC~-0.02_traj.bag_df.pickle.html_.h5.html</a><iframe frameborder=\"1\" height=\"1100\" width=\"1100\" scrolling=\"yes\" src=\"https://labnotes.ncbs.res.in/files/users/pavankk/2018/2018_01/2018-01-17__14~43~47_apple69_00_wind_gain~8_speed~1.0_bout~15_DC~-0.02_traj.bag_df.pickle.html_.h5.html\"></iframe></li><li><a href=\"https://labnotes.ncbs.res.in/files/users/pavankk/2018/2018_01/2018-01-17__14~52~38_apple69_00_wind_gain~8_speed~1.0_bout~15_DC~-0.02_traj.bag.dfpickle.html_.h5.html\">2018-01-17__14~52~38_apple69_00_wind_gain~8_speed~1.0_bout~15_DC~-0.02_traj.bag.dfpickle.html_.h5.html</a><iframe frameborder=\"1\" height=\"1100\" width=\"1100\" scrolling=\"yes\" src=\"https://labnotes.ncbs.res.in/files/users/pavankk/2018/2018_01/2018-01-17__14~52~38_apple69_00_wind_gain~8_speed~1.0_bout~15_DC~-0.02_traj.bag.dfpickle.html_.h5.html\"></iframe></li><li><a href=\"https://labnotes.ncbs.res.in/files/users/pavankk/2018/2018_01/2018-01-17__14~52~38_apple69_00_wind_gain~8_speed~1.0_bout~15_DC~-0.02_traj.bag_.h5.html\">2018-01-17__14~52~38_apple69_00_wind_gain~8_speed~1.0_bout~15_DC~-0.02_traj.bag_.h5.html</a><iframe frameborder=\"1\" height=\"1100\" width=\"1100\" scrolling=\"yes\" src=\"https://labnotes.ncbs.res.in/files/users/pavankk/2018/2018_01/2018-01-17__14~52~38_apple69_00_wind_gain~8_speed~1.0_bout~15_DC~-0.02_traj.bag_.h5.html\"></iframe></li><li><a href=\"https://labnotes.ncbs.res.in/files/users/pavankk/2018/2018_01/2018-01-17__14~52~38_apple69_00_wind_gain~8_speed~1.0_bout~15_DC~-0.02_traj.bag_df.pickle.html_.h5.html\">2018-01-17__14~52~38_apple69_00_wind_gain~8_speed~1.0_bout~15_DC~-0.02_traj.bag_df.pickle.html_.h5.html</a><iframe frameborder=\"1\" height=\"1100\" width=\"1100\" scrolling=\"yes\" src=\"https://labnotes.ncbs.res.in/files/users/pavankk/2018/2018_01/2018-01-17__14~52~38_apple69_00_wind_gain~8_speed~1.0_bout~15_DC~-0.02_traj.bag_df.pickle.html_.h5.html\"></iframe></li><li><a href=\"https://labnotes.ncbs.res.in/files/users/pavankk/2018/2018_01/2018-01-17__14~58~16_apple69_00_wind_gain~8_speed~1.0_bout~15_DC~-0.02_traj.bag.dfpickle.html_.h5.html\">2018-01-17__14~58~16_apple69_00_wind_gain~8_speed~1.0_bout~15_DC~-0.02_traj.bag.dfpickle.html_.h5.html</a><iframe frameborder=\"1\" height=\"1100\" width=\"1100\" scrolling=\"yes\" src=\"https://labnotes.ncbs.res.in/files/users/pavankk/2018/2018_01/2018-01-17__14~58~16_apple69_00_wind_gain~8_speed~1.0_bout~15_DC~-0.02_traj.bag.dfpickle.html_.h5.html\"></iframe></li><li><a href=\"https://labnotes.ncbs.res.in/files/users/pavankk/2018/2018_01/2018-01-17__14~58~16_apple69_00_wind_gain~8_speed~1.0_bout~15_DC~-0.02_traj.bag_.h5.html\">2018-01-17__14~58~16_apple69_00_wind_gain~8_speed~1.0_bout~15_DC~-0.02_traj.bag_.h5.html</a><iframe frameborder=\"1\" height=\"1100\" width=\"1100\" scrolling=\"yes\" src=\"https://labnotes.ncbs.res.in/files/users/pavankk/2018/2018_01/2018-01-17__14~58~16_apple69_00_wind_gain~8_speed~1.0_bout~15_DC~-0.02_traj.bag_.h5.html\"></iframe></li><li><a href=\"https://labnotes.ncbs.res.in/files/users/pavankk/2018/2018_01/2018-01-17__14~58~16_apple69_00_wind_gain~8_speed~1.0_bout~15_DC~-0.02_traj.bag_df.pickle.html_.h5.html\">2018-01-17__14~58~16_apple69_00_wind_gain~8_speed~1.0_bout~15_DC~-0.02_traj.bag_df.pickle.html_.h5.html</a><iframe frameborder=\"1\" height=\"1100\" width=\"1100\" scrolling=\"yes\" src=\"https://labnotes.ncbs.res.in/files/users/pavankk/2018/2018_01/2018-01-17__14~58~16_apple69_00_wind_gain~8_speed~1.0_bout~15_DC~-0.02_traj.bag_df.pickle.html_.h5.html\"></iframe></li><li><a href=\"https://labnotes.ncbs.res.in/files/users/pavankk/2018/2018_01/2018-01-17__15~04~44_apple69_00_wind_gain~8_speed~1.0_bout~15_DC~-0.02_traj.bag.dfpickle.html_.h5.html\">2018-01-17__15~04~44_apple69_00_wind_gain~8_speed~1.0_bout~15_DC~-0.02_traj.bag.dfpickle.html_.h5.html</a><iframe frameborder=\"1\" height=\"1100\" width=\"1100\" scrolling=\"yes\" src=\"https://labnotes.ncbs.res.in/files/users/pavankk/2018/2018_01/2018-01-17__15~04~44_apple69_00_wind_gain~8_speed~1.0_bout~15_DC~-0.02_traj.bag.dfpickle.html_.h5.html\"></iframe></li><li><a href=\"https://labnotes.ncbs.res.in/files/users/pavankk/2018/2018_01/2018-01-17__15~04~44_apple69_00_wind_gain~8_speed~1.0_bout~15_DC~-0.02_traj.bag_.h5.html\">2018-01-17__15~04~44_apple69_00_wind_gain~8_speed~1.0_bout~15_DC~-0.02_traj.bag_.h5.html</a><iframe frameborder=\"1\" height=\"1100\" width=\"1100\" scrolling=\"yes\" src=\"https://labnotes.ncbs.res.in/files/users/pavankk/2018/2018_01/2018-01-17__15~04~44_apple69_00_wind_gain~8_speed~1.0_bout~15_DC~-0.02_traj.bag_.h5.html\"></iframe></li><li><a href=\"https://labnotes.ncbs.res.in/files/users/pavankk/2018/2018_01/2018-01-17__15~04~44_apple69_00_wind_gain~8_speed~1.0_bout~15_DC~-0.02_traj.bag_df.pickle.html_.h5.html\">2018-01-17__15~04~44_apple69_00_wind_gain~8_speed~1.0_bout~15_DC~-0.02_traj.bag_df.pickle.html_.h5.html</a><iframe frameborder=\"1\" height=\"1100\" width=\"1100\" scrolling=\"yes\" src=\"https://labnotes.ncbs.res.in/files/users/pavankk/2018/2018_01/2018-01-17__15~04~44_apple69_00_wind_gain~8_speed~1.0_bout~15_DC~-0.02_traj.bag_df.pickle.html_.h5.html\"></iframe></li><li><a href=\"https://labnotes.ncbs.res.in/files/users/pavankk/2018/2018_01/2018-01-17__17~54~40_apple69_00_wind_gain~8_speed~1.0_bout~15_DC~-0.02_traj.bag.dfpickle.html_.h5.html\">2018-01-17__17~54~40_apple69_00_wind_gain~8_speed~1.0_bout~15_DC~-0.02_traj.bag.dfpickle.html_.h5.html</a><iframe frameborder=\"1\" height=\"1100\" width=\"1100\" scrolling=\"yes\" src=\"https://labnotes.ncbs.res.in/files/users/pavankk/2018/2018_01/2018-01-17__17~54~40_apple69_00_wind_gain~8_speed~1.0_bout~15_DC~-0.02_traj.bag.dfpickle.html_.h5.html\"></iframe></li><li><a href=\"https://labnotes.ncbs.res.in/files/users/pavankk/2018/2018_01/2018-01-17__17~54~40_apple69_00_wind_gain~8_speed~1.0_bout~15_DC~-0.02_traj.bag_.h5.html\">2018-01-17__17~54~40_apple69_00_wind_gain~8_speed~1.0_bout~15_DC~-0.02_traj.bag_.h5.html</a><iframe frameborder=\"1\" height=\"1100\" width=\"1100\" scrolling=\"yes\" src=\"https://labnotes.ncbs.res.in/files/users/pavankk/2018/2018_01/2018-01-17__17~54~40_apple69_00_wind_gain~8_speed~1.0_bout~15_DC~-0.02_traj.bag_.h5.html\"></iframe></li><li><a href=\"https://labnotes.ncbs.res.in/files/users/pavankk/2018/2018_01/2018-01-17__17~54~40_apple69_00_wind_gain~8_speed~1.0_bout~15_DC~-0.02_traj.bag_df.pickle.html_.h5.html\">2018-01-17__17~54~40_apple69_00_wind_gain~8_speed~1.0_bout~15_DC~-0.02_traj.bag_df.pickle.html_.h5.html</a><iframe frameborder=\"1\" height=\"1100\" width=\"1100\" scrolling=\"yes\" src=\"https://labnotes.ncbs.res.in/files/users/pavankk/2018/2018_01/2018-01-17__17~54~40_apple69_00_wind_gain~8_speed~1.0_bout~15_DC~-0.02_traj.bag_df.pickle.html_.h5.html\"></iframe></li><li><a href=\"https://labnotes.ncbs.res.in/files/users/pavankk/2018/2018_01/2018-01-17__18~12~12_apple69_00_wind_gain~8_speed~1.0_bout~15_DC~-0.02_traj.bag.dfpickle.html_.h5.html\">2018-01-17__18~12~12_apple69_00_wind_gain~8_speed~1.0_bout~15_DC~-0.02_traj.bag.dfpickle.html_.h5.html</a><iframe frameborder=\"1\" height=\"1100\" width=\"1100\" scrolling=\"yes\" src=\"https://labnotes.ncbs.res.in/files/users/pavankk/2018/2018_01/2018-01-17__18~12~12_apple69_00_wind_gain~8_speed~1.0_bout~15_DC~-0.02_traj.bag.dfpickle.html_.h5.html\"></iframe></li><li><a href=\"https://labnotes.ncbs.res.in/files/users/pavankk/2018/2018_01/2018-01-17__18~12~12_apple69_00_wind_gain~8_speed~1.0_bout~15_DC~-0.02_traj.bag_.h5.html\">2018-01-17__18~12~12_apple69_00_wind_gain~8_speed~1.0_bout~15_DC~-0.02_traj.bag_.h5.html</a><iframe frameborder=\"1\" height=\"1100\" width=\"1100\" scrolling=\"yes\" src=\"https://labnotes.ncbs.res.in/files/users/pavankk/2018/2018_01/2018-01-17__18~12~12_apple69_00_wind_gain~8_speed~1.0_bout~15_DC~-0.02_traj.bag_.h5.html\"></iframe></li><li><a href=\"https://labnotes.ncbs.res.in/files/users/pavankk/2018/2018_01/2018-01-17__18~12~12_apple69_00_wind_gain~8_speed~1.0_bout~15_DC~-0.02_traj.bag_df.pickle.html_.h5.html\">2018-01-17__18~12~12_apple69_00_wind_gain~8_speed~1.0_bout~15_DC~-0.02_traj.bag_df.pickle.html_.h5.html</a><iframe frameborder=\"1\" height=\"1100\" width=\"1100\" scrolling=\"yes\" src=\"https://labnotes.ncbs.res.in/files/users/pavankk/2018/2018_01/2018-01-17__18~12~12_apple69_00_wind_gain~8_speed~1.0_bout~15_DC~-0.02_traj.bag_df.pickle.html_.h5.html\"></iframe></li><li><a href=\"https://labnotes.ncbs.res.in/files/users/pavankk/2018/2018_01/2018-01-17__18~19~48_apple69_00_wind_gain~8_speed~1.0_bout~15_DC~-0.02_traj.bag.dfpickle.html_.h5.html\">2018-01-17__18~19~48_apple69_00_wind_gain~8_speed~1.0_bout~15_DC~-0.02_traj.bag.dfpickle.html_.h5.html</a><iframe frameborder=\"1\" height=\"1100\" width=\"1100\" scrolling=\"yes\" src=\"https://labnotes.ncbs.res.in/files/users/pavankk/2018/2018_01/2018-01-17__18~19~48_apple69_00_wind_gain~8_speed~1.0_bout~15_DC~-0.02_traj.bag.dfpickle.html_.h5.html\"></iframe></li><li><a href=\"https://labnotes.ncbs.res.in/files/users/pavankk/2018/2018_01/2018-01-17__18~19~48_apple69_00_wind_gain~8_speed~1.0_bout~15_DC~-0.02_traj.bag_.h5.html\">2018-01-17__18~19~48_apple69_00_wind_gain~8_speed~1.0_bout~15_DC~-0.02_traj.bag_.h5.html</a><iframe frameborder=\"1\" height=\"1100\" width=\"1100\" scrolling=\"yes\" src=\"https://labnotes.ncbs.res.in/files/users/pavankk/2018/2018_01/2018-01-17__18~19~48_apple69_00_wind_gain~8_speed~1.0_bout~15_DC~-0.02_traj.bag_.h5.html\"></iframe></li><li><a href=\"https://labnotes.ncbs.res.in/files/users/pavankk/2018/2018_01/2018-01-17__18~19~48_apple69_00_wind_gain~8_speed~1.0_bout~15_DC~-0.02_traj.bag_df.pickle.html_.h5.html\">2018-01-17__18~19~48_apple69_00_wind_gain~8_speed~1.0_bout~15_DC~-0.02_traj.bag_df.pickle.html_.h5.html</a><iframe frameborder=\"1\" height=\"1100\" width=\"1100\" scrolling=\"yes\" src=\"https://labnotes.ncbs.res.in/files/users/pavankk/2018/2018_01/2018-01-17__18~19~48_apple69_00_wind_gain~8_speed~1.0_bout~15_DC~-0.02_traj.bag_df.pickle.html_.h5.html\"></iframe></li><li><a href=\"https://labnotes.ncbs.res.in/files/users/pavankk/2018/2018_01/2018-01-17__18~39~31_apple69_00_wind_nullSky_gain~8_speed~1.0_bout~15_DC~-0.219_traj.bag.dfpickle.html_.h5.html\">2018-01-17__18~39~31_apple69_00_wind_nullSky_gain~8_speed~1.0_bout~15_DC~-0.219_traj.bag.dfpickle.html_.h5.html</a><iframe frameborder=\"1\" height=\"1100\" width=\"1100\" scrolling=\"yes\" src=\"https://labnotes.ncbs.res.in/files/users/pavankk/2018/2018_01/2018-01-17__18~39~31_apple69_00_wind_nullSky_gain~8_speed~1.0_bout~15_DC~-0.219_traj.bag.dfpickle.html_.h5.html\"></iframe></li><li><a href=\"https://labnotes.ncbs.res.in/files/users/pavankk/2018/2018_01/2018-01-17__18~39~31_apple69_00_wind_nullSky_gain~8_speed~1.0_bout~15_DC~-0.219_traj.bag_.h5.html\">2018-01-17__18~39~31_apple69_00_wind_nullSky_gain~8_speed~1.0_bout~15_DC~-0.219_traj.bag_.h5.html</a><iframe frameborder=\"1\" height=\"1100\" width=\"1100\" scrolling=\"yes\" src=\"https://labnotes.ncbs.res.in/files/users/pavankk/2018/2018_01/2018-01-17__18~39~31_apple69_00_wind_nullSky_gain~8_speed~1.0_bout~15_DC~-0.219_traj.bag_.h5.html\"></iframe></li><li><a href=\"https://labnotes.ncbs.res.in/files/users/pavankk/2018/2018_01/2018-01-17__18~39~31_apple69_00_wind_nullSky_gain~8_speed~1.0_bout~15_DC~-0.219_traj.bag_df.pickle.html_.h5.html\">2018-01-17__18~39~31_apple69_00_wind_nullSky_gain~8_speed~1.0_bout~15_DC~-0.219_traj.bag_df.pickle.html_.h5.html</a><iframe frameborder=\"1\" height=\"1100\" width=\"1100\" scrolling=\"yes\" src=\"https://labnotes.ncbs.res.in/files/users/pavankk/2018/2018_01/2018-01-17__18~39~31_apple69_00_wind_nullSky_gain~8_speed~1.0_bout~15_DC~-0.219_traj.bag_df.pickle.html_.h5.html\"></iframe></li><li><a href=\"https://labnotes.ncbs.res.in/files/users/pavankk/2018/2018_01/2018-01-17__18~50~01_apple69_00_wind_nullSky_gain~8_speed~1.0_bout~15_DC~-0.219_traj.bag.dfpickle.html_.h5.html\">2018-01-17__18~50~01_apple69_00_wind_nullSky_gain~8_speed~1.0_bout~15_DC~-0.219_traj.bag.dfpickle.html_.h5.html</a><iframe frameborder=\"1\" height=\"1100\" width=\"1100\" scrolling=\"yes\" src=\"https://labnotes.ncbs.res.in/files/users/pavankk/2018/2018_01/2018-01-17__18~50~01_apple69_00_wind_nullSky_gain~8_speed~1.0_bout~15_DC~-0.219_traj.bag.dfpickle.html_.h5.html\"></iframe></li><li><a href=\"https://labnotes.ncbs.res.in/files/users/pavankk/2018/2018_01/2018-01-17__18~50~01_apple69_00_wind_nullSky_gain~8_speed~1.0_bout~15_DC~-0.219_traj.bag_.h5.html\">2018-01-17__18~50~01_apple69_00_wind_nullSky_gain~8_speed~1.0_bout~15_DC~-0.219_traj.bag_.h5.html</a><iframe frameborder=\"1\" height=\"1100\" width=\"1100\" scrolling=\"yes\" src=\"https://labnotes.ncbs.res.in/files/users/pavankk/2018/2018_01/2018-01-17__18~50~01_apple69_00_wind_nullSky_gain~8_speed~1.0_bout~15_DC~-0.219_traj.bag_.h5.html\"></iframe></li><li><a href=\"https://labnotes.ncbs.res.in/files/users/pavankk/2018/2018_01/2018-01-17__18~50~01_apple69_00_wind_nullSky_gain~8_speed~1.0_bout~15_DC~-0.219_traj.bag_df.pickle.html_.h5.html\">2018-01-17__18~50~01_apple69_00_wind_nullSky_gain~8_speed~1.0_bout~15_DC~-0.219_traj.bag_df.pickle.html_.h5.html</a><iframe frameborder=\"1\" height=\"1100\" width=\"1100\" scrolling=\"yes\" src=\"https://labnotes.ncbs.res.in/files/users/pavankk/2018/2018_01/2018-01-17__18~50~01_apple69_00_wind_nullSky_gain~8_speed~1.0_bout~15_DC~-0.219_traj.bag_df.pickle.html_.h5.html\"></iframe></li><li><a href=\"https://labnotes.ncbs.res.in/files/users/pavankk/2018/2018_01/2018-01-17__18~54~11_apple69_00_wind_nullSky_gain~8_speed~1.0_bout~15_DC~-0.219_traj.bag.dfpickle.html_.h5.html\">2018-01-17__18~54~11_apple69_00_wind_nullSky_gain~8_speed~1.0_bout~15_DC~-0.219_traj.bag.dfpickle.html_.h5.html</a><iframe frameborder=\"1\" height=\"1100\" width=\"1100\" scrolling=\"yes\" src=\"https://labnotes.ncbs.res.in/files/users/pavankk/2018/2018_01/2018-01-17__18~54~11_apple69_00_wind_nullSky_gain~8_speed~1.0_bout~15_DC~-0.219_traj.bag.dfpickle.html_.h5.html\"></iframe></li><li><a href=\"https://labnotes.ncbs.res.in/files/users/pavankk/2018/2018_01/2018-01-17__18~54~11_apple69_00_wind_nullSky_gain~8_speed~1.0_bout~15_DC~-0.219_traj.bag_.h5.html\">2018-01-17__18~54~11_apple69_00_wind_nullSky_gain~8_speed~1.0_bout~15_DC~-0.219_traj.bag_.h5.html</a><iframe frameborder=\"1\" height=\"1100\" width=\"1100\" scrolling=\"yes\" src=\"https://labnotes.ncbs.res.in/files/users/pavankk/2018/2018_01/2018-01-17__18~54~11_apple69_00_wind_nullSky_gain~8_speed~1.0_bout~15_DC~-0.219_traj.bag_.h5.html\"></iframe></li><li><a href=\"https://labnotes.ncbs.res.in/files/users/pavankk/2018/2018_01/2018-01-17__18~54~11_apple69_00_wind_nullSky_gain~8_speed~1.0_bout~15_DC~-0.219_traj.bag_df.pickle.html_.h5.html\">2018-01-17__18~54~11_apple69_00_wind_nullSky_gain~8_speed~1.0_bout~15_DC~-0.219_traj.bag_df.pickle.html_.h5.html</a><iframe frameborder=\"1\" height=\"1100\" width=\"1100\" scrolling=\"yes\" src=\"https://labnotes.ncbs.res.in/files/users/pavankk/2018/2018_01/2018-01-17__18~54~11_apple69_00_wind_nullSky_gain~8_speed~1.0_bout~15_DC~-0.219_traj.bag_df.pickle.html_.h5.html\"></iframe></li><li><a href=\"https://labnotes.ncbs.res.in/files/users/pavankk/2018/2018_01/2018-01-17__19~01~14_apple69_00_wind_nullSky_gain~8_speed~1.0_bout~15_DC~-0.219_traj.bag.dfpickle.html_.h5.html\">2018-01-17__19~01~14_apple69_00_wind_nullSky_gain~8_speed~1.0_bout~15_DC~-0.219_traj.bag.dfpickle.html_.h5.html</a><iframe frameborder=\"1\" height=\"1100\" width=\"1100\" scrolling=\"yes\" src=\"https://labnotes.ncbs.res.in/files/users/pavankk/2018/2018_01/2018-01-17__19~01~14_apple69_00_wind_nullSky_gain~8_speed~1.0_bout~15_DC~-0.219_traj.bag.dfpickle.html_.h5.html\"></iframe></li><li><a href=\"https://labnotes.ncbs.res.in/files/users/pavankk/2018/2018_01/2018-01-17__19~01~14_apple69_00_wind_nullSky_gain~8_speed~1.0_bout~15_DC~-0.219_traj.bag_.h5.html\">2018-01-17__19~01~14_apple69_00_wind_nullSky_gain~8_speed~1.0_bout~15_DC~-0.219_traj.bag_.h5.html</a><iframe frameborder=\"1\" height=\"1100\" width=\"1100\" scrolling=\"yes\" src=\"https://labnotes.ncbs.res.in/files/users/pavankk/2018/2018_01/2018-01-17__19~01~14_apple69_00_wind_nullSky_gain~8_speed~1.0_bout~15_DC~-0.219_traj.bag_.h5.html\"></iframe></li><li><a href=\"https://labnotes.ncbs.res.in/files/users/pavankk/2018/2018_01/2018-01-17__19~01~14_apple69_00_wind_nullSky_gain~8_speed~1.0_bout~15_DC~-0.219_traj.bag_df.pickle.html_.h5.html\">2018-01-17__19~01~14_apple69_00_wind_nullSky_gain~8_speed~1.0_bout~15_DC~-0.219_traj.bag_df.pickle.html_.h5.html</a><iframe frameborder=\"1\" height=\"1100\" width=\"1100\" scrolling=\"yes\" src=\"https://labnotes.ncbs.res.in/files/users/pavankk/2018/2018_01/2018-01-17__19~01~14_apple69_00_wind_nullSky_gain~8_speed~1.0_bout~15_DC~-0.219_traj.bag_df.pickle.html_.h5.html\"></iframe></li><li><a href=\"https://labnotes.ncbs.res.in/files/users/pavankk/2018/2018_01/2018-01-17__19~07~48_apple69_00_wind_nullSky_gain~8_speed~1.0_bout~15_DC~-0.219_traj.bag.dfpickle.html_.h5.html\">2018-01-17__19~07~48_apple69_00_wind_nullSky_gain~8_speed~1.0_bout~15_DC~-0.219_traj.bag.dfpickle.html_.h5.html</a><iframe frameborder=\"1\" height=\"1100\" width=\"1100\" scrolling=\"yes\" src=\"https://labnotes.ncbs.res.in/files/users/pavankk/2018/2018_01/2018-01-17__19~07~48_apple69_00_wind_nullSky_gain~8_speed~1.0_bout~15_DC~-0.219_traj.bag.dfpickle.html_.h5.html\"></iframe></li><li><a href=\"https://labnotes.ncbs.res.in/files/users/pavankk/2018/2018_01/2018-01-17__19~07~48_apple69_00_wind_nullSky_gain~8_speed~1.0_bout~15_DC~-0.219_traj.bag_.h5.html\">2018-01-17__19~07~48_apple69_00_wind_nullSky_gain~8_speed~1.0_bout~15_DC~-0.219_traj.bag_.h5.html</a><iframe frameborder=\"1\" height=\"1100\" width=\"1100\" scrolling=\"yes\" src=\"https://labnotes.ncbs.res.in/files/users/pavankk/2018/2018_01/2018-01-17__19~07~48_apple69_00_wind_nullSky_gain~8_speed~1.0_bout~15_DC~-0.219_traj.bag_.h5.html\"></iframe></li><li><a href=\"https://labnotes.ncbs.res.in/files/users/pavankk/2018/2018_01/2018-01-17__19~07~48_apple69_00_wind_nullSky_gain~8_speed~1.0_bout~15_DC~-0.219_traj.bag_df.pickle.html_.h5.html\">2018-01-17__19~07~48_apple69_00_wind_nullSky_gain~8_speed~1.0_bout~15_DC~-0.219_traj.bag_df.pickle.html_.h5.html</a><iframe frameborder=\"1\" height=\"1100\" width=\"1100\" scrolling=\"yes\" src=\"https://labnotes.ncbs.res.in/files/users/pavankk/2018/2018_01/2018-01-17__19~07~48_apple69_00_wind_nullSky_gain~8_speed~1.0_bout~15_DC~-0.219_traj.bag_df.pickle.html_.h5.html\"></iframe></li><li><a href=\"https://labnotes.ncbs.res.in/files/users/pavankk/2018/2018_01/2018-01-17__19~14~52_apple69_00_wind_nullSky_gain~8_speed~1.0_bout~15_DC~-0.219_traj.bag.dfpickle.html_.h5.html\">2018-01-17__19~14~52_apple69_00_wind_nullSky_gain~8_speed~1.0_bout~15_DC~-0.219_traj.bag.dfpickle.html_.h5.html</a><iframe frameborder=\"1\" height=\"1100\" width=\"1100\" scrolling=\"yes\" src=\"https://labnotes.ncbs.res.in/files/users/pavankk/2018/2018_01/2018-01-17__19~14~52_apple69_00_wind_nullSky_gain~8_speed~1.0_bout~15_DC~-0.219_traj.bag.dfpickle.html_.h5.html\"></iframe></li><li><a href=\"https://labnotes.ncbs.res.in/files/users/pavankk/2018/2018_01/2018-01-17__19~14~52_apple69_00_wind_nullSky_gain~8_speed~1.0_bout~15_DC~-0.219_traj.bag_.h5.html\">2018-01-17__19~14~52_apple69_00_wind_nullSky_gain~8_speed~1.0_bout~15_DC~-0.219_traj.bag_.h5.html</a><iframe frameborder=\"1\" height=\"1100\" width=\"1100\" scrolling=\"yes\" src=\"https://labnotes.ncbs.res.in/files/users/pavankk/2018/2018_01/2018-01-17__19~14~52_apple69_00_wind_nullSky_gain~8_speed~1.0_bout~15_DC~-0.219_traj.bag_.h5.html\"></iframe></li><li><a href=\"https://labnotes.ncbs.res.in/files/users/pavankk/2018/2018_01/2018-01-17__19~14~52_apple69_00_wind_nullSky_gain~8_speed~1.0_bout~15_DC~-0.219_traj.bag_df.pickle.html_.h5.html\">2018-01-17__19~14~52_apple69_00_wind_nullSky_gain~8_speed~1.0_bout~15_DC~-0.219_traj.bag_df.pickle.html_.h5.html</a><iframe frameborder=\"1\" height=\"1100\" width=\"1100\" scrolling=\"yes\" src=\"https://labnotes.ncbs.res.in/files/users/pavankk/2018/2018_01/2018-01-17__19~14~52_apple69_00_wind_nullSky_gain~8_speed~1.0_bout~15_DC~-0.219_traj.bag_df.pickle.html_.h5.html\"></iframe></li><li><a href=\"https://labnotes.ncbs.res.in/files/users/pavankk/2018/2018_01/2018-01-17__19~22~32_apple69_00_wind_nullSky_gain~8_speed~1.0_bout~15_DC~-0.219_traj.bag.dfpickle.html_.h5.html\">2018-01-17__19~22~32_apple69_00_wind_nullSky_gain~8_speed~1.0_bout~15_DC~-0.219_traj.bag.dfpickle.html_.h5.html</a><iframe frameborder=\"1\" height=\"1100\" width=\"1100\" scrolling=\"yes\" src=\"https://labnotes.ncbs.res.in/files/users/pavankk/2018/2018_01/2018-01-17__19~22~32_apple69_00_wind_nullSky_gain~8_speed~1.0_bout~15_DC~-0.219_traj.bag.dfpickle.html_.h5.html\"></iframe></li><li><a href=\"https://labnotes.ncbs.res.in/files/users/pavankk/2018/2018_01/2018-01-17__19~22~32_apple69_00_wind_nullSky_gain~8_speed~1.0_bout~15_DC~-0.219_traj.bag_.h5.html\">2018-01-17__19~22~32_apple69_00_wind_nullSky_gain~8_speed~1.0_bout~15_DC~-0.219_traj.bag_.h5.html</a><iframe frameborder=\"1\" height=\"1100\" width=\"1100\" scrolling=\"yes\" src=\"https://labnotes.ncbs.res.in/files/users/pavankk/2018/2018_01/2018-01-17__19~22~32_apple69_00_wind_nullSky_gain~8_speed~1.0_bout~15_DC~-0.219_traj.bag_.h5.html\"></iframe></li><li><a href=\"https://labnotes.ncbs.res.in/files/users/pavankk/2018/2018_01/2018-01-17__19~22~32_apple69_00_wind_nullSky_gain~8_speed~1.0_bout~15_DC~-0.219_traj.bag_df.pickle.html_.h5.html\">2018-01-17__19~22~32_apple69_00_wind_nullSky_gain~8_speed~1.0_bout~15_DC~-0.219_traj.bag_df.pickle.html_.h5.html</a><iframe frameborder=\"1\" height=\"1100\" width=\"1100\" scrolling=\"yes\" src=\"https://labnotes.ncbs.res.in/files/users/pavankk/2018/2018_01/2018-01-17__19~22~32_apple69_00_wind_nullSky_gain~8_speed~1.0_bout~15_DC~-0.219_traj.bag_df.pickle.html_.h5.html\"></iframe></li><li><a href=\"https://labnotes.ncbs.res.in/files/users/pavankk/2018/2018_01/2018-01-17__19~24~26_apple69_00_wind_nullSky_gain~8_speed~1.0_bout~15_DC~-0.219_traj.bag.dfpickle.html_.h5.html\">2018-01-17__19~24~26_apple69_00_wind_nullSky_gain~8_speed~1.0_bout~15_DC~-0.219_traj.bag.dfpickle.html_.h5.html</a><iframe frameborder=\"1\" height=\"1100\" width=\"1100\" scrolling=\"yes\" src=\"https://labnotes.ncbs.res.in/files/users/pavankk/2018/2018_01/2018-01-17__19~24~26_apple69_00_wind_nullSky_gain~8_speed~1.0_bout~15_DC~-0.219_traj.bag.dfpickle.html_.h5.html\"></iframe></li><li><a href=\"https://labnotes.ncbs.res.in/files/users/pavankk/2018/2018_01/2018-01-17__19~24~26_apple69_00_wind_nullSky_gain~8_speed~1.0_bout~15_DC~-0.219_traj.bag_.h5.html\">2018-01-17__19~24~26_apple69_00_wind_nullSky_gain~8_speed~1.0_bout~15_DC~-0.219_traj.bag_.h5.html</a><iframe frameborder=\"1\" height=\"1100\" width=\"1100\" scrolling=\"yes\" src=\"https://labnotes.ncbs.res.in/files/users/pavankk/2018/2018_01/2018-01-17__19~24~26_apple69_00_wind_nullSky_gain~8_speed~1.0_bout~15_DC~-0.219_traj.bag_.h5.html\"></iframe></li><li><a href=\"https://labnotes.ncbs.res.in/files/users/pavankk/2018/2018_01/2018-01-17__19~24~26_apple69_00_wind_nullSky_gain~8_speed~1.0_bout~15_DC~-0.219_traj.bag_df.pickle.html_.h5.html\">2018-01-17__19~24~26_apple69_00_wind_nullSky_gain~8_speed~1.0_bout~15_DC~-0.219_traj.bag_df.pickle.html_.h5.html</a><iframe frameborder=\"1\" height=\"1100\" width=\"1100\" scrolling=\"yes\" src=\"https://labnotes.ncbs.res.in/files/users/pavankk/2018/2018_01/2018-01-17__19~24~26_apple69_00_wind_nullSky_gain~8_speed~1.0_bout~15_DC~-0.219_traj.bag_df.pickle.html_.h5.html\"></iframe></li><li><a href=\"https://labnotes.ncbs.res.in/files/users/pavankk/2018/2018_01/2018-01-17__19~27~06_apple69_00_wind_nullSky_gain~8_speed~1.0_bout~15_DC~-0.219_traj.bag.dfpickle.html_.h5.html\">2018-01-17__19~27~06_apple69_00_wind_nullSky_gain~8_speed~1.0_bout~15_DC~-0.219_traj.bag.dfpickle.html_.h5.html</a><iframe frameborder=\"1\" height=\"1100\" width=\"1100\" scrolling=\"yes\" src=\"https://labnotes.ncbs.res.in/files/users/pavankk/2018/2018_01/2018-01-17__19~27~06_apple69_00_wind_nullSky_gain~8_speed~1.0_bout~15_DC~-0.219_traj.bag.dfpickle.html_.h5.html\"></iframe></li><li><a href=\"https://labnotes.ncbs.res.in/files/users/pavankk/2018/2018_01/2018-01-17__19~27~06_apple69_00_wind_nullSky_gain~8_speed~1.0_bout~15_DC~-0.219_traj.bag_.h5.html\">2018-01-17__19~27~06_apple69_00_wind_nullSky_gain~8_speed~1.0_bout~15_DC~-0.219_traj.bag_.h5.html</a><iframe frameborder=\"1\" height=\"1100\" width=\"1100\" scrolling=\"yes\" src=\"https://labnotes.ncbs.res.in/files/users/pavankk/2018/2018_01/2018-01-17__19~27~06_apple69_00_wind_nullSky_gain~8_speed~1.0_bout~15_DC~-0.219_traj.bag_.h5.html\"></iframe></li><li><a href=\"https://labnotes.ncbs.res.in/files/users/pavankk/2018/2018_01/2018-01-17__19~27~06_apple69_00_wind_nullSky_gain~8_speed~1.0_bout~15_DC~-0.219_traj.bag_df.pickle.html_.h5.html\">2018-01-17__19~27~06_apple69_00_wind_nullSky_gain~8_speed~1.0_bout~15_DC~-0.219_traj.bag_df.pickle.html_.h5.html</a><iframe frameborder=\"1\" height=\"1100\" width=\"1100\" scrolling=\"yes\" src=\"https://labnotes.ncbs.res.in/files/users/pavankk/2018/2018_01/2018-01-17__19~27~06_apple69_00_wind_nullSky_gain~8_speed~1.0_bout~15_DC~-0.219_traj.bag_df.pickle.html_.h5.html\"></iframe></li><li><a href=\"https://labnotes.ncbs.res.in/files/users/pavankk/2018/2018_01/2018-01-17__19~33~19_apple69_00_wind_nullSky_gain~8_speed~1.0_bout~15_DC~-0.219_traj.bag.dfpickle.html_.h5.html\">2018-01-17__19~33~19_apple69_00_wind_nullSky_gain~8_speed~1.0_bout~15_DC~-0.219_traj.bag.dfpickle.html_.h5.html</a><iframe frameborder=\"1\" height=\"1100\" width=\"1100\" scrolling=\"yes\" src=\"https://labnotes.ncbs.res.in/files/users/pavankk/2018/2018_01/2018-01-17__19~33~19_apple69_00_wind_nullSky_gain~8_speed~1.0_bout~15_DC~-0.219_traj.bag.dfpickle.html_.h5.html\"></iframe></li><li><a href=\"https://labnotes.ncbs.res.in/files/users/pavankk/2018/2018_01/2018-01-17__19~33~19_apple69_00_wind_nullSky_gain~8_speed~1.0_bout~15_DC~-0.219_traj.bag_.h5.html\">2018-01-17__19~33~19_apple69_00_wind_nullSky_gain~8_speed~1.0_bout~15_DC~-0.219_traj.bag_.h5.html</a><iframe frameborder=\"1\" height=\"1100\" width=\"1100\" scrolling=\"yes\" src=\"https://labnotes.ncbs.res.in/files/users/pavankk/2018/2018_01/2018-01-17__19~33~19_apple69_00_wind_nullSky_gain~8_speed~1.0_bout~15_DC~-0.219_traj.bag_.h5.html\"></iframe></li><li><a href=\"https://labnotes.ncbs.res.in/files/users/pavankk/2018/2018_01/2018-01-17__19~33~19_apple69_00_wind_nullSky_gain~8_speed~1.0_bout~15_DC~-0.219_traj.bag_df.pickle.html_.h5.html\">2018-01-17__19~33~19_apple69_00_wind_nullSky_gain~8_speed~1.0_bout~15_DC~-0.219_traj.bag_df.pickle.html_.h5.html</a><iframe frameborder=\"1\" height=\"1100\" width=\"1100\" scrolling=\"yes\" src=\"https://labnotes.ncbs.res.in/files/users/pavankk/2018/2018_01/2018-01-17__19~33~19_apple69_00_wind_nullSky_gain~8_speed~1.0_bout~15_DC~-0.219_traj.bag_df.pickle.html_.h5.html\"></iframe></li><li><a href=\"https://labnotes.ncbs.res.in/files/users/pavankk/2018/2018_01/2018-01-17__19~40~05_apple69_00_wind_nullSky_gain~8_speed~1.0_bout~15_DC~-0.219_traj.bag.dfpickle.html_.h5.html\">2018-01-17__19~40~05_apple69_00_wind_nullSky_gain~8_speed~1.0_bout~15_DC~-0.219_traj.bag.dfpickle.html_.h5.html</a><iframe frameborder=\"1\" height=\"1100\" width=\"1100\" scrolling=\"yes\" src=\"https://labnotes.ncbs.res.in/files/users/pavankk/2018/2018_01/2018-01-17__19~40~05_apple69_00_wind_nullSky_gain~8_speed~1.0_bout~15_DC~-0.219_traj.bag.dfpickle.html_.h5.html\"></iframe></li><li><a href=\"https://labnotes.ncbs.res.in/files/users/pavankk/2018/2018_01/2018-01-17__19~40~05_apple69_00_wind_nullSky_gain~8_speed~1.0_bout~15_DC~-0.219_traj.bag_.h5.html\">2018-01-17__19~40~05_apple69_00_wind_nullSky_gain~8_speed~1.0_bout~15_DC~-0.219_traj.bag_.h5.html</a><iframe frameborder=\"1\" height=\"1100\" width=\"1100\" scrolling=\"yes\" src=\"https://labnotes.ncbs.res.in/files/users/pavankk/2018/2018_01/2018-01-17__19~40~05_apple69_00_wind_nullSky_gain~8_speed~1.0_bout~15_DC~-0.219_traj.bag_.h5.html\"></iframe></li><li><a href=\"https://labnotes.ncbs.res.in/files/users/pavankk/2018/2018_01/2018-01-17__19~40~05_apple69_00_wind_nullSky_gain~8_speed~1.0_bout~15_DC~-0.219_traj.bag_df.pickle.html_.h5.html\">2018-01-17__19~40~05_apple69_00_wind_nullSky_gain~8_speed~1.0_bout~15_DC~-0.219_traj.bag_df.pickle.html_.h5.html</a><iframe frameborder=\"1\" height=\"1100\" width=\"1100\" scrolling=\"yes\" src=\"https://labnotes.ncbs.res.in/files/users/pavankk/2018/2018_01/2018-01-17__19~40~05_apple69_00_wind_nullSky_gain~8_speed~1.0_bout~15_DC~-0.219_traj.bag_df.pickle.html_.h5.html\"></iframe></li><li><a href=\"https://labnotes.ncbs.res.in/files/users/pavankk/2018/2018_01/2018-01-17__19~47~21_apple69_00_wind_nullSky_gain~8_speed~1.0_bout~15_DC~-0.219_traj.bag.dfpickle.html_.h5.html\">2018-01-17__19~47~21_apple69_00_wind_nullSky_gain~8_speed~1.0_bout~15_DC~-0.219_traj.bag.dfpickle.html_.h5.html</a><iframe frameborder=\"1\" height=\"1100\" width=\"1100\" scrolling=\"yes\" src=\"https://labnotes.ncbs.res.in/files/users/pavankk/2018/2018_01/2018-01-17__19~47~21_apple69_00_wind_nullSky_gain~8_speed~1.0_bout~15_DC~-0.219_traj.bag.dfpickle.html_.h5.html\"></iframe></li><li><a href=\"https://labnotes.ncbs.res.in/files/users/pavankk/2018/2018_01/2018-01-17__19~47~21_apple69_00_wind_nullSky_gain~8_speed~1.0_bout~15_DC~-0.219_traj.bag_.h5.html\">2018-01-17__19~47~21_apple69_00_wind_nullSky_gain~8_speed~1.0_bout~15_DC~-0.219_traj.bag_.h5.html</a><iframe frameborder=\"1\" height=\"1100\" width=\"1100\" scrolling=\"yes\" src=\"https://labnotes.ncbs.res.in/files/users/pavankk/2018/2018_01/2018-01-17__19~47~21_apple69_00_wind_nullSky_gain~8_speed~1.0_bout~15_DC~-0.219_traj.bag_.h5.html\"></iframe></li><li><a href=\"https://labnotes.ncbs.res.in/files/users/pavankk/2018/2018_01/2018-01-17__19~47~21_apple69_00_wind_nullSky_gain~8_speed~1.0_bout~15_DC~-0.219_traj.bag_df.pickle.html_.h5.html\">2018-01-17__19~47~21_apple69_00_wind_nullSky_gain~8_speed~1.0_bout~15_DC~-0.219_traj.bag_df.pickle.html_.h5.html</a><iframe frameborder=\"1\" height=\"1100\" width=\"1100\" scrolling=\"yes\" src=\"https://labnotes.ncbs.res.in/files/users/pavankk/2018/2018_01/2018-01-17__19~47~21_apple69_00_wind_nullSky_gain~8_speed~1.0_bout~15_DC~-0.219_traj.bag_df.pickle.html_.h5.html\"></iframe></li><li><a href=\"https://labnotes.ncbs.res.in/files/users/pavankk/2018/2018_01/2018-01-17__19~54~53_apple69_00_wind_nullSky_gain~8_speed~1.0_bout~15_DC~-0.219_traj.bag.dfpickle.html_.h5.html\">2018-01-17__19~54~53_apple69_00_wind_nullSky_gain~8_speed~1.0_bout~15_DC~-0.219_traj.bag.dfpickle.html_.h5.html</a><iframe frameborder=\"1\" height=\"1100\" width=\"1100\" scrolling=\"yes\" src=\"https://labnotes.ncbs.res.in/files/users/pavankk/2018/2018_01/2018-01-17__19~54~53_apple69_00_wind_nullSky_gain~8_speed~1.0_bout~15_DC~-0.219_traj.bag.dfpickle.html_.h5.html\"></iframe></li><li><a href=\"https://labnotes.ncbs.res.in/files/users/pavankk/2018/2018_01/2018-01-17__19~54~53_apple69_00_wind_nullSky_gain~8_speed~1.0_bout~15_DC~-0.219_traj.bag_.h5.html\">2018-01-17__19~54~53_apple69_00_wind_nullSky_gain~8_speed~1.0_bout~15_DC~-0.219_traj.bag_.h5.html</a><iframe frameborder=\"1\" height=\"1100\" width=\"1100\" scrolling=\"yes\" src=\"https://labnotes.ncbs.res.in/files/users/pavankk/2018/2018_01/2018-01-17__19~54~53_apple69_00_wind_nullSky_gain~8_speed~1.0_bout~15_DC~-0.219_traj.bag_.h5.html\"></iframe></li><li><a href=\"https://labnotes.ncbs.res.in/files/users/pavankk/2018/2018_01/2018-01-17__19~54~53_apple69_00_wind_nullSky_gain~8_speed~1.0_bout~15_DC~-0.219_traj.bag_df.pickle.html_.h5.html\">2018-01-17__19~54~53_apple69_00_wind_nullSky_gain~8_speed~1.0_bout~15_DC~-0.219_traj.bag_df.pickle.html_.h5.html</a><iframe frameborder=\"1\" height=\"1100\" width=\"1100\" scrolling=\"yes\" src=\"https://labnotes.ncbs.res.in/files/users/pavankk/2018/2018_01/2018-01-17__19~54~53_apple69_00_wind_nullSky_gain~8_speed~1.0_bout~15_DC~-0.219_traj.bag_df.pickle.html_.h5.html\"></iframe></li><li><a href=\"https://labnotes.ncbs.res.in/files/users/pavankk/2018/2018_01/2018-01-17__20~04~03_apple69_00_wind_nullSky_gain~8_speed~1.0_bout~15_DC~-0.219_traj.bag.dfpickle.html_.h5.html\">2018-01-17__20~04~03_apple69_00_wind_nullSky_gain~8_speed~1.0_bout~15_DC~-0.219_traj.bag.dfpickle.html_.h5.html</a><iframe frameborder=\"1\" height=\"1100\" width=\"1100\" scrolling=\"yes\" src=\"https://labnotes.ncbs.res.in/files/users/pavankk/2018/2018_01/2018-01-17__20~04~03_apple69_00_wind_nullSky_gain~8_speed~1.0_bout~15_DC~-0.219_traj.bag.dfpickle.html_.h5.html\"></iframe></li><li><a href=\"https://labnotes.ncbs.res.in/files/users/pavankk/2018/2018_01/2018-01-17__20~04~03_apple69_00_wind_nullSky_gain~8_speed~1.0_bout~15_DC~-0.219_traj.bag_.h5.html\">2018-01-17__20~04~03_apple69_00_wind_nullSky_gain~8_speed~1.0_bout~15_DC~-0.219_traj.bag_.h5.html</a><iframe frameborder=\"1\" height=\"1100\" width=\"1100\" scrolling=\"yes\" src=\"https://labnotes.ncbs.res.in/files/users/pavankk/2018/2018_01/2018-01-17__20~04~03_apple69_00_wind_nullSky_gain~8_speed~1.0_bout~15_DC~-0.219_traj.bag_.h5.html\"></iframe></li><li><a href=\"https://labnotes.ncbs.res.in/files/users/pavankk/2018/2018_01/2018-01-17__20~04~03_apple69_00_wind_nullSky_gain~8_speed~1.0_bout~15_DC~-0.219_traj.bag_df.pickle.html_.h5.html\">2018-01-17__20~04~03_apple69_00_wind_nullSky_gain~8_speed~1.0_bout~15_DC~-0.219_traj.bag_df.pickle.html_.h5.html</a><iframe frameborder=\"1\" height=\"1100\" width=\"1100\" scrolling=\"yes\" src=\"https://labnotes.ncbs.res.in/files/users/pavankk/2018/2018_01/2018-01-17__20~04~03_apple69_00_wind_nullSky_gain~8_speed~1.0_bout~15_DC~-0.219_traj.bag_df.pickle.html_.h5.html\"></iframe></li><li><a href=\"https://labnotes.ncbs.res.in/files/users/pavankk/2018/2018_01/2018-01-17__20~13~09_apple69_00_wind_nullSky_gain~8_speed~1.0_bout~15_DC~-0.219_traj.bag.dfpickle.html_.h5.html\">2018-01-17__20~13~09_apple69_00_wind_nullSky_gain~8_speed~1.0_bout~15_DC~-0.219_traj.bag.dfpickle.html_.h5.html</a><iframe frameborder=\"1\" height=\"1100\" width=\"1100\" scrolling=\"yes\" src=\"https://labnotes.ncbs.res.in/files/users/pavankk/2018/2018_01/2018-01-17__20~13~09_apple69_00_wind_nullSky_gain~8_speed~1.0_bout~15_DC~-0.219_traj.bag.dfpickle.html_.h5.html\"></iframe></li><li><a href=\"https://labnotes.ncbs.res.in/files/users/pavankk/2018/2018_01/2018-01-17__20~13~09_apple69_00_wind_nullSky_gain~8_speed~1.0_bout~15_DC~-0.219_traj.bag_.h5.html\">2018-01-17__20~13~09_apple69_00_wind_nullSky_gain~8_speed~1.0_bout~15_DC~-0.219_traj.bag_.h5.html</a><iframe frameborder=\"1\" height=\"1100\" width=\"1100\" scrolling=\"yes\" src=\"https://labnotes.ncbs.res.in/files/users/pavankk/2018/2018_01/2018-01-17__20~13~09_apple69_00_wind_nullSky_gain~8_speed~1.0_bout~15_DC~-0.219_traj.bag_.h5.html\"></iframe></li><li><a href=\"https://labnotes.ncbs.res.in/files/users/pavankk/2018/2018_01/2018-01-17__20~13~09_apple69_00_wind_nullSky_gain~8_speed~1.0_bout~15_DC~-0.219_traj.bag_df.pickle.html_.h5.html\">2018-01-17__20~13~09_apple69_00_wind_nullSky_gain~8_speed~1.0_bout~15_DC~-0.219_traj.bag_df.pickle.html_.h5.html</a><iframe frameborder=\"1\" height=\"1100\" width=\"1100\" scrolling=\"yes\" src=\"https://labnotes.ncbs.res.in/files/users/pavankk/2018/2018_01/2018-01-17__20~13~09_apple69_00_wind_nullSky_gain~8_speed~1.0_bout~15_DC~-0.219_traj.bag_df.pickle.html_.h5.html\"></iframe></li></ol>'"
      ]
     },
     "execution_count": 4,
     "metadata": {},
     "output_type": "execute_result"
    }
   ],
   "source": [
    "htmlGen(foldPath='/media/rhagoletis/Traj/data/2018/2018_01/2018_01_17',lpre='https://labnotes.ncbs.res.in/files/users/pavankk/2018/2018_01/')"
   ]
  },
  {
   "cell_type": "code",
   "execution_count": null,
   "metadata": {
    "collapsed": true
   },
   "outputs": [],
   "source": []
  },
  {
   "cell_type": "code",
   "execution_count": null,
   "metadata": {
    "collapsed": true
   },
   "outputs": [],
   "source": []
  },
  {
   "cell_type": "code",
   "execution_count": null,
   "metadata": {
    "collapsed": true
   },
   "outputs": [],
   "source": []
  },
  {
   "cell_type": "code",
   "execution_count": null,
   "metadata": {
    "collapsed": true
   },
   "outputs": [],
   "source": []
  },
  {
   "cell_type": "code",
   "execution_count": null,
   "metadata": {
    "collapsed": true
   },
   "outputs": [],
   "source": []
  },
  {
   "cell_type": "code",
   "execution_count": 286,
   "metadata": {
    "collapsed": false
   },
   "outputs": [],
   "source": [
    "#upload files attemp. Fails at drag and drop\n",
    "\n",
    "driver.switch_to_default_content()\n",
    "driver.get(\"https://labnotes.ncbs.res.in/user/me/imce\")\n",
    "\n",
    "driver.switch_to.frame(driver.find_element_by_class_name('imce-frame'))\n",
    "tree=driver.find_element_by_id('navigation-tree')\n",
    "yr=tree.find_element_by_link_text('2018')\n",
    "yr.click()\n",
    "time.sleep(1)\n",
    "wakey()\n",
    "tree.find_element_by_link_text('2018_01').click()\n",
    "driver.find_element_by_id('op-item-upload').click()\n",
    "driver.find_element_by_id('edit-imce_browse').click()\n",
    "# tree.find_element_by_link_text('pavankk').click()"
   ]
  },
  {
   "cell_type": "code",
   "execution_count": 275,
   "metadata": {
    "collapsed": false
   },
   "outputs": [],
   "source": []
  },
  {
   "cell_type": "code",
   "execution_count": 278,
   "metadata": {
    "collapsed": false
   },
   "outputs": [],
   "source": []
  },
  {
   "cell_type": "code",
   "execution_count": null,
   "metadata": {
    "collapsed": true
   },
   "outputs": [],
   "source": []
  },
  {
   "cell_type": "code",
   "execution_count": 65,
   "metadata": {
    "collapsed": false
   },
   "outputs": [],
   "source": [
    "upload=driver.find_element_by_id('edit-field-file-attachment-und-0-upload')\n",
    "upload.clear()\n",
    "upload.send_keys(os.getcwd()+'/2017-01-02_10~24~39_plt.png')\n",
    "driver.find_element_by_id('edit-field-file-attachment-und-0-upload-button').click()"
   ]
  },
  {
   "cell_type": "code",
   "execution_count": 52,
   "metadata": {
    "collapsed": false
   },
   "outputs": [
    {
     "data": {
      "text/plain": [
       "3"
      ]
     },
     "execution_count": 52,
     "metadata": {},
     "output_type": "execute_result"
    }
   ],
   "source": [
    "len(list('asd'))"
   ]
  },
  {
   "cell_type": "code",
   "execution_count": 60,
   "metadata": {
    "collapsed": false
   },
   "outputs": [],
   "source": [
    "def uploadFiles(paths=None):\n",
    "    if paths is None:\n",
    "        paths=fileList(included=['*.h5'])\n",
    "    for i,path in enumerate(paths):\n",
    "        upload=driver.find_element_by_id('edit-field-file-attachment-und-'+str(i)+'-upload')\n",
    "        upload.clear()\n",
    "        upload.send_keys(os.getcwd()+'/2017-01-02_10~24~39_plt.png')\n",
    "        driver.find_element_by_id('edit-field-file-attachment-und-'+str(i)+'-upload-button').click()"
   ]
  },
  {
   "cell_type": "code",
   "execution_count": 63,
   "metadata": {
    "collapsed": false,
    "scrolled": true
   },
   "outputs": [
    {
     "ename": "NoSuchElementException",
     "evalue": "Message: Unable to locate element: [id=\"edit-field-file-attachment-und-1-upload\"]\n",
     "output_type": "error",
     "traceback": [
      "\u001b[1;31m---------------------------------------------------------------------------\u001b[0m",
      "\u001b[1;31mNoSuchElementException\u001b[0m                    Traceback (most recent call last)",
      "\u001b[1;32m<ipython-input-63-244d90d47352>\u001b[0m in \u001b[0;36m<module>\u001b[1;34m()\u001b[0m\n\u001b[1;32m----> 1\u001b[1;33m \u001b[0muploadFiles\u001b[0m\u001b[1;33m(\u001b[0m\u001b[1;33m)\u001b[0m\u001b[1;33m\u001b[0m\u001b[0m\n\u001b[0m",
      "\u001b[1;32m<ipython-input-60-8ff7786d11a6>\u001b[0m in \u001b[0;36muploadFiles\u001b[1;34m(paths)\u001b[0m\n\u001b[0;32m      3\u001b[0m         \u001b[0mpaths\u001b[0m\u001b[1;33m=\u001b[0m\u001b[0mfileList\u001b[0m\u001b[1;33m(\u001b[0m\u001b[0mincluded\u001b[0m\u001b[1;33m=\u001b[0m\u001b[1;33m[\u001b[0m\u001b[1;34m'*.h5'\u001b[0m\u001b[1;33m]\u001b[0m\u001b[1;33m)\u001b[0m\u001b[1;33m\u001b[0m\u001b[0m\n\u001b[0;32m      4\u001b[0m     \u001b[1;32mfor\u001b[0m \u001b[0mi\u001b[0m\u001b[1;33m,\u001b[0m\u001b[0mpath\u001b[0m \u001b[1;32min\u001b[0m \u001b[0menumerate\u001b[0m\u001b[1;33m(\u001b[0m\u001b[0mpaths\u001b[0m\u001b[1;33m)\u001b[0m\u001b[1;33m:\u001b[0m\u001b[1;33m\u001b[0m\u001b[0m\n\u001b[1;32m----> 5\u001b[1;33m         \u001b[0mupload\u001b[0m\u001b[1;33m=\u001b[0m\u001b[0mdriver\u001b[0m\u001b[1;33m.\u001b[0m\u001b[0mfind_element_by_id\u001b[0m\u001b[1;33m(\u001b[0m\u001b[1;34m'edit-field-file-attachment-und-'\u001b[0m\u001b[1;33m+\u001b[0m\u001b[0mstr\u001b[0m\u001b[1;33m(\u001b[0m\u001b[0mi\u001b[0m\u001b[1;33m)\u001b[0m\u001b[1;33m+\u001b[0m\u001b[1;34m'-upload'\u001b[0m\u001b[1;33m)\u001b[0m\u001b[1;33m\u001b[0m\u001b[0m\n\u001b[0m\u001b[0;32m      6\u001b[0m         \u001b[0mupload\u001b[0m\u001b[1;33m.\u001b[0m\u001b[0mclear\u001b[0m\u001b[1;33m(\u001b[0m\u001b[1;33m)\u001b[0m\u001b[1;33m\u001b[0m\u001b[0m\n\u001b[0;32m      7\u001b[0m         \u001b[0mupload\u001b[0m\u001b[1;33m.\u001b[0m\u001b[0msend_keys\u001b[0m\u001b[1;33m(\u001b[0m\u001b[0mos\u001b[0m\u001b[1;33m.\u001b[0m\u001b[0mgetcwd\u001b[0m\u001b[1;33m(\u001b[0m\u001b[1;33m)\u001b[0m\u001b[1;33m+\u001b[0m\u001b[1;34m'/2017-01-02_10~24~39_plt.png'\u001b[0m\u001b[1;33m)\u001b[0m\u001b[1;33m\u001b[0m\u001b[0m\n",
      "\u001b[1;32m/usr/local/lib/python2.7/dist-packages/selenium/webdriver/remote/webdriver.pyc\u001b[0m in \u001b[0;36mfind_element_by_id\u001b[1;34m(self, id_)\u001b[0m\n\u001b[0;32m    328\u001b[0m             \u001b[0mdriver\u001b[0m\u001b[1;33m.\u001b[0m\u001b[0mfind_element_by_id\u001b[0m\u001b[1;33m(\u001b[0m\u001b[1;34m'foo'\u001b[0m\u001b[1;33m)\u001b[0m\u001b[1;33m\u001b[0m\u001b[0m\n\u001b[0;32m    329\u001b[0m         \"\"\"\n\u001b[1;32m--> 330\u001b[1;33m         \u001b[1;32mreturn\u001b[0m \u001b[0mself\u001b[0m\u001b[1;33m.\u001b[0m\u001b[0mfind_element\u001b[0m\u001b[1;33m(\u001b[0m\u001b[0mby\u001b[0m\u001b[1;33m=\u001b[0m\u001b[0mBy\u001b[0m\u001b[1;33m.\u001b[0m\u001b[0mID\u001b[0m\u001b[1;33m,\u001b[0m \u001b[0mvalue\u001b[0m\u001b[1;33m=\u001b[0m\u001b[0mid_\u001b[0m\u001b[1;33m)\u001b[0m\u001b[1;33m\u001b[0m\u001b[0m\n\u001b[0m\u001b[0;32m    331\u001b[0m \u001b[1;33m\u001b[0m\u001b[0m\n\u001b[0;32m    332\u001b[0m     \u001b[1;32mdef\u001b[0m \u001b[0mfind_elements_by_id\u001b[0m\u001b[1;33m(\u001b[0m\u001b[0mself\u001b[0m\u001b[1;33m,\u001b[0m \u001b[0mid_\u001b[0m\u001b[1;33m)\u001b[0m\u001b[1;33m:\u001b[0m\u001b[1;33m\u001b[0m\u001b[0m\n",
      "\u001b[1;32m/usr/local/lib/python2.7/dist-packages/selenium/webdriver/remote/webdriver.pyc\u001b[0m in \u001b[0;36mfind_element\u001b[1;34m(self, by, value)\u001b[0m\n\u001b[0;32m    830\u001b[0m         return self.execute(Command.FIND_ELEMENT, {\n\u001b[0;32m    831\u001b[0m             \u001b[1;34m'using'\u001b[0m\u001b[1;33m:\u001b[0m \u001b[0mby\u001b[0m\u001b[1;33m,\u001b[0m\u001b[1;33m\u001b[0m\u001b[0m\n\u001b[1;32m--> 832\u001b[1;33m             'value': value})['value']\n\u001b[0m\u001b[0;32m    833\u001b[0m \u001b[1;33m\u001b[0m\u001b[0m\n\u001b[0;32m    834\u001b[0m     \u001b[1;32mdef\u001b[0m \u001b[0mfind_elements\u001b[0m\u001b[1;33m(\u001b[0m\u001b[0mself\u001b[0m\u001b[1;33m,\u001b[0m \u001b[0mby\u001b[0m\u001b[1;33m=\u001b[0m\u001b[0mBy\u001b[0m\u001b[1;33m.\u001b[0m\u001b[0mID\u001b[0m\u001b[1;33m,\u001b[0m \u001b[0mvalue\u001b[0m\u001b[1;33m=\u001b[0m\u001b[0mNone\u001b[0m\u001b[1;33m)\u001b[0m\u001b[1;33m:\u001b[0m\u001b[1;33m\u001b[0m\u001b[0m\n",
      "\u001b[1;32m/usr/local/lib/python2.7/dist-packages/selenium/webdriver/remote/webdriver.pyc\u001b[0m in \u001b[0;36mexecute\u001b[1;34m(self, driver_command, params)\u001b[0m\n\u001b[0;32m    295\u001b[0m         \u001b[0mresponse\u001b[0m \u001b[1;33m=\u001b[0m \u001b[0mself\u001b[0m\u001b[1;33m.\u001b[0m\u001b[0mcommand_executor\u001b[0m\u001b[1;33m.\u001b[0m\u001b[0mexecute\u001b[0m\u001b[1;33m(\u001b[0m\u001b[0mdriver_command\u001b[0m\u001b[1;33m,\u001b[0m \u001b[0mparams\u001b[0m\u001b[1;33m)\u001b[0m\u001b[1;33m\u001b[0m\u001b[0m\n\u001b[0;32m    296\u001b[0m         \u001b[1;32mif\u001b[0m \u001b[0mresponse\u001b[0m\u001b[1;33m:\u001b[0m\u001b[1;33m\u001b[0m\u001b[0m\n\u001b[1;32m--> 297\u001b[1;33m             \u001b[0mself\u001b[0m\u001b[1;33m.\u001b[0m\u001b[0merror_handler\u001b[0m\u001b[1;33m.\u001b[0m\u001b[0mcheck_response\u001b[0m\u001b[1;33m(\u001b[0m\u001b[0mresponse\u001b[0m\u001b[1;33m)\u001b[0m\u001b[1;33m\u001b[0m\u001b[0m\n\u001b[0m\u001b[0;32m    298\u001b[0m             response['value'] = self._unwrap_value(\n\u001b[0;32m    299\u001b[0m                 response.get('value', None))\n",
      "\u001b[1;32m/usr/local/lib/python2.7/dist-packages/selenium/webdriver/remote/errorhandler.pyc\u001b[0m in \u001b[0;36mcheck_response\u001b[1;34m(self, response)\u001b[0m\n\u001b[0;32m    192\u001b[0m         \u001b[1;32melif\u001b[0m \u001b[0mexception_class\u001b[0m \u001b[1;33m==\u001b[0m \u001b[0mUnexpectedAlertPresentException\u001b[0m \u001b[1;32mand\u001b[0m \u001b[1;34m'alert'\u001b[0m \u001b[1;32min\u001b[0m \u001b[0mvalue\u001b[0m\u001b[1;33m:\u001b[0m\u001b[1;33m\u001b[0m\u001b[0m\n\u001b[0;32m    193\u001b[0m             \u001b[1;32mraise\u001b[0m \u001b[0mexception_class\u001b[0m\u001b[1;33m(\u001b[0m\u001b[0mmessage\u001b[0m\u001b[1;33m,\u001b[0m \u001b[0mscreen\u001b[0m\u001b[1;33m,\u001b[0m \u001b[0mstacktrace\u001b[0m\u001b[1;33m,\u001b[0m \u001b[0mvalue\u001b[0m\u001b[1;33m[\u001b[0m\u001b[1;34m'alert'\u001b[0m\u001b[1;33m]\u001b[0m\u001b[1;33m.\u001b[0m\u001b[0mget\u001b[0m\u001b[1;33m(\u001b[0m\u001b[1;34m'text'\u001b[0m\u001b[1;33m)\u001b[0m\u001b[1;33m)\u001b[0m\u001b[1;33m\u001b[0m\u001b[0m\n\u001b[1;32m--> 194\u001b[1;33m         \u001b[1;32mraise\u001b[0m \u001b[0mexception_class\u001b[0m\u001b[1;33m(\u001b[0m\u001b[0mmessage\u001b[0m\u001b[1;33m,\u001b[0m \u001b[0mscreen\u001b[0m\u001b[1;33m,\u001b[0m \u001b[0mstacktrace\u001b[0m\u001b[1;33m)\u001b[0m\u001b[1;33m\u001b[0m\u001b[0m\n\u001b[0m\u001b[0;32m    195\u001b[0m \u001b[1;33m\u001b[0m\u001b[0m\n\u001b[0;32m    196\u001b[0m     \u001b[1;32mdef\u001b[0m \u001b[0m_value_or_default\u001b[0m\u001b[1;33m(\u001b[0m\u001b[0mself\u001b[0m\u001b[1;33m,\u001b[0m \u001b[0mobj\u001b[0m\u001b[1;33m,\u001b[0m \u001b[0mkey\u001b[0m\u001b[1;33m,\u001b[0m \u001b[0mdefault\u001b[0m\u001b[1;33m)\u001b[0m\u001b[1;33m:\u001b[0m\u001b[1;33m\u001b[0m\u001b[0m\n",
      "\u001b[1;31mNoSuchElementException\u001b[0m: Message: Unable to locate element: [id=\"edit-field-file-attachment-und-1-upload\"]\n"
     ]
    }
   ],
   "source": [
    "uploadFiles()"
   ]
  },
  {
   "cell_type": "code",
   "execution_count": null,
   "metadata": {
    "collapsed": true
   },
   "outputs": [],
   "source": [
    "fileList()"
   ]
  },
  {
   "cell_type": "code",
   "execution_count": null,
   "metadata": {
    "collapsed": true
   },
   "outputs": [],
   "source": [
    "edit-field-file-attachment-und-1-upload-button\n",
    "edit-field-file-attachment-und-1-upload"
   ]
  },
  {
   "cell_type": "code",
   "execution_count": null,
   "metadata": {
    "collapsed": true
   },
   "outputs": [],
   "source": []
  },
  {
   "cell_type": "code",
   "execution_count": null,
   "metadata": {
    "collapsed": true
   },
   "outputs": [],
   "source": []
  },
  {
   "cell_type": "code",
   "execution_count": null,
   "metadata": {
    "collapsed": true
   },
   "outputs": [],
   "source": []
  },
  {
   "cell_type": "code",
   "execution_count": null,
   "metadata": {
    "collapsed": true
   },
   "outputs": [],
   "source": []
  },
  {
   "cell_type": "code",
   "execution_count": null,
   "metadata": {
    "collapsed": true
   },
   "outputs": [],
   "source": []
  },
  {
   "cell_type": "code",
   "execution_count": null,
   "metadata": {
    "collapsed": false
   },
   "outputs": [],
   "source": [
    "driver.get(\"https://labnotes.ncbs.res.in/\")\n",
    "driver.find_element_by_id('edit-name').send_keys(Username)\n",
    "driver.find_element_by_id('edit-pass').send_keys(Password+Keys.RETURN)\n",
    "time.sleep(1)\n",
    "\n",
    "\n",
    "# driver.find_element_by_id('edit-preview').click()\n",
    "# driver.find_element_by_id('edit-draft').click()"
   ]
  },
  {
   "cell_type": "code",
   "execution_count": null,
   "metadata": {
    "collapsed": false
   },
   "outputs": [],
   "source": [
    "driver.get(\"https://labnotes.ncbs.res.in/node/add/shannon-lab-note\")\n",
    "\n",
    "driver.find_element_by_id('edit-title').send_keys(labnote['title'])\n",
    "driver.find_element_by_id('edit-field-bhalla-keywords-und').send_keys(labnote['tags'])\n",
    "\n",
    "elem=driver.find_element_by_id('edit-field-exp-duration-und-0-value-datepicker-popup-0')\n",
    "elem.clear()\n",
    "elem.send_keys(labnote['startDate'])\n",
    "\n",
    "elem=driver.find_element_by_id('edit-field-exp-duration-und-0-value2-datepicker-popup-0')\n",
    "elem.clear()\n",
    "elem.send_keys(labnote['stopDate'])\n",
    "\n",
    "time.sleep(10)\n",
    "\n",
    "wakey()\n",
    "\n",
    "driver.find_element_by_id('cke_100').click()#click on source\n",
    "elem=driver.find_element_by_xpath('/html/body/div[3]/div[2]/div/div[1]/div/section/div/div/form/div/div[5]/div/div/div/div/div[1]/div/div/textarea')\n",
    "elem.clear()\n",
    "elem.send_keys(htm)\n",
    "driver.find_element_by_id('cke_100').click()#click on source\n",
    "\n",
    "wakey()\n",
    "iframes=driver.find_elements_by_tag_name('iframe')\n",
    "iframeInput(iframes[0],labnote['aims'])\n",
    "iframeInput(iframes[1],labnote['design'])\n",
    "iframeInput(iframes[2],labnote['detail'])\n",
    "iframeInput(iframes[3],labnote['observations'])\n",
    "\n",
    "\n",
    "driver.find_element_by_id('edit-field-what-next-und-0-value').send_keys('dunno')\n",
    "driver.find_element_by_id('edit-field-additional-notes-und-0-value').send_keys('dunno2')\n",
    "\n"
   ]
  },
  {
   "cell_type": "code",
   "execution_count": null,
   "metadata": {
    "collapsed": false
   },
   "outputs": [],
   "source": [
    "driver.switch_to_default_content()"
   ]
  },
  {
   "cell_type": "code",
   "execution_count": null,
   "metadata": {
    "collapsed": false
   },
   "outputs": [],
   "source": [
    "driver.switch_to_frame(iframes[1])"
   ]
  },
  {
   "cell_type": "code",
   "execution_count": null,
   "metadata": {
    "collapsed": false
   },
   "outputs": [],
   "source": [
    "driver.find_element_by_id('cke_100').click()#click on source\n",
    "elem=driver.find_element_by_xpath('/html/body/div[3]/div[2]/div/div[1]/div/section/div/div/form/div/div[5]/div/div/div/div/div[1]/div/div/textarea')\n",
    "elem.clear()\n",
    "elem.send_keys(htm)\n",
    "driver.find_element_by_id('cke_100').click()#click on source\n"
   ]
  },
  {
   "cell_type": "code",
   "execution_count": null,
   "metadata": {
    "collapsed": false
   },
   "outputs": [],
   "source": [
    "iframes=driver.find_elements_by_tag_name('iframe')\n",
    "\n",
    "iframeInput(iframes[1],labnote['design'])\n"
   ]
  },
  {
   "cell_type": "code",
   "execution_count": null,
   "metadata": {
    "collapsed": false
   },
   "outputs": [],
   "source": [
    "driver.find_element_by_tag_name('textarea')#.send_keys('asd')"
   ]
  },
  {
   "cell_type": "code",
   "execution_count": null,
   "metadata": {
    "collapsed": false
   },
   "outputs": [],
   "source": [
    "driver.find_element_by_id('cke_2_contents')"
   ]
  },
  {
   "cell_type": "code",
   "execution_count": null,
   "metadata": {
    "collapsed": false
   },
   "outputs": [],
   "source": []
  },
  {
   "cell_type": "code",
   "execution_count": null,
   "metadata": {
    "collapsed": false
   },
   "outputs": [],
   "source": [
    "\n",
    "window_before = driver.window_handles[0]\n",
    "window_after = driver.window_handles[1]"
   ]
  },
  {
   "cell_type": "code",
   "execution_count": null,
   "metadata": {
    "collapsed": false
   },
   "outputs": [],
   "source": [
    "driver.switch_to_window(window_before)"
   ]
  },
  {
   "cell_type": "code",
   "execution_count": null,
   "metadata": {
    "collapsed": true
   },
   "outputs": [],
   "source": [
    "driver.switch_to_window(window_after)"
   ]
  },
  {
   "cell_type": "code",
   "execution_count": null,
   "metadata": {
    "collapsed": false
   },
   "outputs": [],
   "source": [
    "driver.find_element_by_id('op-item-upload').click()"
   ]
  },
  {
   "cell_type": "code",
   "execution_count": null,
   "metadata": {
    "collapsed": false
   },
   "outputs": [],
   "source": [
    "driver.find_element_by_id('edit-imce_browse').click()"
   ]
  },
  {
   "cell_type": "code",
   "execution_count": null,
   "metadata": {
    "collapsed": false
   },
   "outputs": [],
   "source": [
    "htm='<ol><li><a href=\"https://labnotes.ncbs.res.in/files/users/pavankk/2018/2018_07/2018-07-04__12~31~50_apple94_01_gain~8_speed~0.5_bout~15_DC~0.0_traj.bag_.h5.html\">2018-07-04__12~31~50_apple94_01_gain~8_speed~0.5_bout~15_DC~0.0_traj.bag_.h5.html</a><iframe frameborder=\"1\" height=\"1100\" width=\"1100\" scrolling=\"yes\" src=\"https://labnotes.ncbs.res.in/files/users/pavankk/2018/2018_07/2018-07-04__12~31~50_apple94_01_gain~8_speed~0.5_bout~15_DC~0.0_traj.bag_.h5.html\"></iframe></li><li><a href=\"https://labnotes.ncbs.res.in/files/users/pavankk/2018/2018_07/2018-07-04__12~58~23_apple81_pf_odour_wind_gain~8_speed~1.0_bout~20_DC~0.0_traj.bag_.h5.html\">2018-07-04__12~58~23_apple81_pf_odour_wind_gain~8_speed~1.0_bout~20_DC~0.0_traj.bag_.h5.html</a><iframe frameborder=\"1\" height=\"1100\" width=\"1100\" scrolling=\"yes\" src=\"https://labnotes.ncbs.res.in/files/users/pavankk/2018/2018_07/2018-07-04__12~58~23_apple81_pf_odour_wind_gain~8_speed~1.0_bout~20_DC~0.0_traj.bag_.h5.html\"></iframe></li><li><a href=\"https://labnotes.ncbs.res.in/files/users/pavankk/2018/2018_07/2018-07-04__13~12~24_apple81_00_odour_wind_gain~8_speed~0.5_bout~20_DC~0.0_traj.bag_.h5.html\">2018-07-04__13~12~24_apple81_00_odour_wind_gain~8_speed~0.5_bout~20_DC~0.0_traj.bag_.h5.html</a><iframe frameborder=\"1\" height=\"1100\" width=\"1100\" scrolling=\"yes\" src=\"https://labnotes.ncbs.res.in/files/users/pavankk/2018/2018_07/2018-07-04__13~12~24_apple81_00_odour_wind_gain~8_speed~0.5_bout~20_DC~0.0_traj.bag_.h5.html\"></iframe></li><li><a href=\"https://labnotes.ncbs.res.in/files/users/pavankk/2018/2018_07/2018-07-04__13~18~47_apple81_00_odour_wind_gain~8_speed~0.5_bout~30_DC~0.0_traj.bag_.h5.html\">2018-07-04__13~18~47_apple81_00_odour_wind_gain~8_speed~0.5_bout~30_DC~0.0_traj.bag_.h5.html</a><iframe frameborder=\"1\" height=\"1100\" width=\"1100\" scrolling=\"yes\" src=\"https://labnotes.ncbs.res.in/files/users/pavankk/2018/2018_07/2018-07-04__13~18~47_apple81_00_odour_wind_gain~8_speed~0.5_bout~30_DC~0.0_traj.bag_.h5.html\"></iframe></li><li><a href=\"https://labnotes.ncbs.res.in/files/users/pavankk/2018/2018_07/2018-07-04__13~28~23_apple81_00_odour_wind_gain~8_speed~0.5_bout~30_DC~0.0_traj.bag_.h5.html\">2018-07-04__13~28~23_apple81_00_odour_wind_gain~8_speed~0.5_bout~30_DC~0.0_traj.bag_.h5.html</a><iframe frameborder=\"1\" height=\"1100\" width=\"1100\" scrolling=\"yes\" src=\"https://labnotes.ncbs.res.in/files/users/pavankk/2018/2018_07/2018-07-04__13~28~23_apple81_00_odour_wind_gain~8_speed~0.5_bout~30_DC~0.0_traj.bag_.h5.html\"></iframe></li><li><a href=\"https://labnotes.ncbs.res.in/files/users/pavankk/2018/2018_07/2018-07-04__13~32~19_apple81_00_odour_wind_gain~8_speed~0.5_bout~30_DC~0.0_traj.bag_.h5.html\">2018-07-04__13~32~19_apple81_00_odour_wind_gain~8_speed~0.5_bout~30_DC~0.0_traj.bag_.h5.html</a><iframe frameborder=\"1\" height=\"1100\" width=\"1100\" scrolling=\"yes\" src=\"https://labnotes.ncbs.res.in/files/users/pavankk/2018/2018_07/2018-07-04__13~32~19_apple81_00_odour_wind_gain~8_speed~0.5_bout~30_DC~0.0_traj.bag_.h5.html\"></iframe></li><li><a href=\"https://labnotes.ncbs.res.in/files/users/pavankk/2018/2018_07/2018-07-04__14~39~46_apple81_00_odour_wind_gain~8_speed~0.5_bout~30_DC~0.0_traj.bag_.h5.html\">2018-07-04__14~39~46_apple81_00_odour_wind_gain~8_speed~0.5_bout~30_DC~0.0_traj.bag_.h5.html</a><iframe frameborder=\"1\" height=\"1100\" width=\"1100\" scrolling=\"yes\" src=\"https://labnotes.ncbs.res.in/files/users/pavankk/2018/2018_07/2018-07-04__14~39~46_apple81_00_odour_wind_gain~8_speed~0.5_bout~30_DC~0.0_traj.bag_.h5.html\"></iframe></li><li><a href=\"https://labnotes.ncbs.res.in/files/users/pavankk/2018/2018_07/2018-07-04__15~00~05_apple81_00_odour_wind_gain~8_speed~0.5_bout~30_DC~0.0_traj.bag_.h5.html\">2018-07-04__15~00~05_apple81_00_odour_wind_gain~8_speed~0.5_bout~30_DC~0.0_traj.bag_.h5.html</a><iframe frameborder=\"1\" height=\"1100\" width=\"1100\" scrolling=\"yes\" src=\"https://labnotes.ncbs.res.in/files/users/pavankk/2018/2018_07/2018-07-04__15~00~05_apple81_00_odour_wind_gain~8_speed~0.5_bout~30_DC~0.0_traj.bag_.h5.html\"></iframe></li><li><a href=\"https://labnotes.ncbs.res.in/files/users/pavankk/2018/2018_07/2018-07-04__15~43~18_apple81_11_odour_wind_gain~8_speed~0.5_bout~30_DC~0.0_traj.bag_.h5.html\">2018-07-04__15~43~18_apple81_11_odour_wind_gain~8_speed~0.5_bout~30_DC~0.0_traj.bag_.h5.html</a><iframe frameborder=\"1\" height=\"1100\" width=\"1100\" scrolling=\"yes\" src=\"https://labnotes.ncbs.res.in/files/users/pavankk/2018/2018_07/2018-07-04__15~43~18_apple81_11_odour_wind_gain~8_speed~0.5_bout~30_DC~0.0_traj.bag_.h5.html\"></iframe></li><li><a href=\"https://labnotes.ncbs.res.in/files/users/pavankk/2018/2018_07/2018-07-04__16~07~46_apple95_pf_wind_gain~8_speed~0.5_bout~30_DC~-0.26_traj.bag_.h5.html\">2018-07-04__16~07~46_apple95_pf_wind_gain~8_speed~0.5_bout~30_DC~-0.26_traj.bag_.h5.html</a><iframe frameborder=\"1\" height=\"1100\" width=\"1100\" scrolling=\"yes\" src=\"https://labnotes.ncbs.res.in/files/users/pavankk/2018/2018_07/2018-07-04__16~07~46_apple95_pf_wind_gain~8_speed~0.5_bout~30_DC~-0.26_traj.bag_.h5.html\"></iframe></li><li><a href=\"https://labnotes.ncbs.res.in/files/users/pavankk/2018/2018_07/2018-07-04__16~14~02_apple95_pf_wind_gain~8_speed~0.5_bout~30_DC~-0.26_traj.bag_.h5.html\">2018-07-04__16~14~02_apple95_pf_wind_gain~8_speed~0.5_bout~30_DC~-0.26_traj.bag_.h5.html</a><iframe frameborder=\"1\" height=\"1100\" width=\"1100\" scrolling=\"yes\" src=\"https://labnotes.ncbs.res.in/files/users/pavankk/2018/2018_07/2018-07-04__16~14~02_apple95_pf_wind_gain~8_speed~0.5_bout~30_DC~-0.26_traj.bag_.h5.html\"></iframe></li></ol>'"
   ]
  },
  {
   "cell_type": "code",
   "execution_count": null,
   "metadata": {
    "collapsed": true
   },
   "outputs": [],
   "source": []
  },
  {
   "cell_type": "code",
   "execution_count": null,
   "metadata": {
    "collapsed": true
   },
   "outputs": [],
   "source": []
  },
  {
   "cell_type": "code",
   "execution_count": null,
   "metadata": {
    "collapsed": true
   },
   "outputs": [],
   "source": []
  },
  {
   "cell_type": "code",
   "execution_count": null,
   "metadata": {
    "collapsed": true
   },
   "outputs": [],
   "source": []
  },
  {
   "cell_type": "code",
   "execution_count": null,
   "metadata": {
    "collapsed": true
   },
   "outputs": [],
   "source": []
  },
  {
   "cell_type": "code",
   "execution_count": null,
   "metadata": {
    "collapsed": true
   },
   "outputs": [],
   "source": []
  },
  {
   "cell_type": "code",
   "execution_count": null,
   "metadata": {
    "collapsed": true
   },
   "outputs": [],
   "source": []
  },
  {
   "cell_type": "code",
   "execution_count": null,
   "metadata": {
    "collapsed": true
   },
   "outputs": [],
   "source": []
  },
  {
   "cell_type": "code",
   "execution_count": null,
   "metadata": {
    "collapsed": true
   },
   "outputs": [],
   "source": []
  },
  {
   "cell_type": "code",
   "execution_count": null,
   "metadata": {
    "collapsed": false,
    "scrolled": true
   },
   "outputs": [],
   "source": [
    "s = requests.Session()\n",
    "r = s.get('https://labnotes.ncbs.res.in/',verify=False)\n",
    "soup = bsoup(r.text, 'html.parser')\n",
    "\n",
    "coll=inputCollector(soup)\n",
    "\n",
    "payload={u'form_build_id': coll['form_build_id'],\n",
    "         u'form_id': u'user_login',\n",
    "         u'op': u'Log in',\n",
    "         u'name': Username,\n",
    "         u'pass':Password\n",
    "        }\n",
    "\n",
    "r = s.post('https://labnotes.ncbs.res.in/', data=payload,verify=False)\n",
    "\n",
    "soup = bsoup(r.text, 'html.parser')\n",
    "print soup.text\n"
   ]
  },
  {
   "cell_type": "code",
   "execution_count": null,
   "metadata": {
    "collapsed": false
   },
   "outputs": [],
   "source": [
    "coll"
   ]
  },
  {
   "cell_type": "code",
   "execution_count": null,
   "metadata": {
    "collapsed": false,
    "scrolled": true
   },
   "outputs": [],
   "source": [
    "# Create a new blog and obtain the form parent\n",
    "r = s.get('https://labnotes.ncbs.res.in/node/add/shannon-lab-note',verify=False)\n",
    "soup = bsoup(r.text, 'html.parser')\n",
    "coll=inputCollector(soup)\n",
    "\n",
    "payload={\n",
    "#             u'op': 'Publish',\n",
    "            u'op': 'Save as draft',\n",
    "\n",
    "            u'title': 'test12',\n",
    "            u'field_bhalla_keywords[und]': u'asdf',\n",
    "            u'field_exp_duration[und][0][value2][date]': u'10/07/2018',\n",
    "            u'field_exp_duration[und][0][value][date]': u'10/07/2017',\n",
    "\n",
    "            u'field_exp_duration[und][0][show_todate]': u'1',\n",
    "            u'additional_settings__active_tab': u'',\n",
    "            u'changed': u'',\n",
    "\n",
    "            u'form_build_id': coll['form_build_id'],\n",
    "            u'form_id': u'shannon_lab_note_node_form',\n",
    "            u'form_token': coll['form_token'],\n",
    "}\n",
    "\n",
    "r = s.post(\n",
    "            'https://labnotes.ncbs.res.in/node/add/shannon-lab-note',\n",
    "            data=payload,verify=False)\n",
    "\n",
    "soup = bsoup(r.text, 'html.parser')\n",
    "print soup.text\n"
   ]
  },
  {
   "cell_type": "code",
   "execution_count": null,
   "metadata": {
    "collapsed": false
   },
   "outputs": [],
   "source": [
    "inputCollector={}\n",
    "\n",
    "for item in soup.findAll('input'):\n",
    "    try:\n",
    "        if (item['name']):\n",
    "            inputCollector[item['name']]=item['value']\n",
    "    except KeyError:\n",
    "        print '\\n\\npass',item\n",
    "        pass\n",
    "\n",
    "payload={u'form_build_id': u'form-cWGPX7ahriI1XDSZbfKbJZmy47qzvlqtPElid4bbtOk',\n",
    " u'form_id': u'user_login',\n",
    " u'name': Username,\n",
    " u'op': u'Log in'}"
   ]
  },
  {
   "cell_type": "code",
   "execution_count": null,
   "metadata": {
    "collapsed": false
   },
   "outputs": [],
   "source": [
    "# Find the necessary form build id\n",
    "form_build_id_result = soup.find_all(\"input\", {\"name\": \"form_build_id\"})\n",
    "if len(form_build_id_result) != 1:\n",
    "    print('Warning: Found more than one form_build_id.'\n",
    "          ' Using the first one')\n",
    "\n",
    "form_build_id = form_build_id_result[0]['value']\n",
    "\n",
    "# Create payload and log in\n",
    "payload = {'name': Username,\n",
    "           'pass': Password,\n",
    "           'form_build_id': form_build_id,\n",
    "           'form_id': 'user_login',\n",
    "           'op': 'Log+in'\n",
    "          }\n",
    "r = s.post('https://labnotes.ncbs.res.in/', data=payload,verify=False)"
   ]
  },
  {
   "cell_type": "code",
   "execution_count": null,
   "metadata": {
    "collapsed": false
   },
   "outputs": [],
   "source": [
    "\n",
    "# Create a new blog and obtain the form parent\n",
    "r = s.get('https://labnotes.ncbs.res.in/node/add/shannon-lab-note',verify=False)\n",
    "soup = bsoup(r.text, 'html.parser')"
   ]
  },
  {
   "cell_type": "code",
   "execution_count": null,
   "metadata": {
    "collapsed": false,
    "scrolled": true
   },
   "outputs": [],
   "source": [
    "soup.findAll('input')\n"
   ]
  },
  {
   "cell_type": "code",
   "execution_count": null,
   "metadata": {
    "collapsed": true
   },
   "outputs": [],
   "source": [
    "inputCollector={}\n",
    "\n",
    "for item in soup.findAll('input'):\n",
    "    try:\n",
    "        if (item['name']):\n",
    "            inputCollector[item['name']]=item['value']\n",
    "    except KeyError:\n",
    "#         print '\\n\\npass',item\n",
    "        pass\n",
    "\n",
    "\n",
    "payload={u'additional_settings__active_tab': u'',\n",
    " u'changed': u'',\n",
    " u'field_bhalla_keywords[und]': u'',\n",
    " u'field_exp_duration[und][0][show_todate]': u'1',\n",
    " u'field_exp_duration[und][0][value2][date]': u'10/07/2018',\n",
    " u'field_exp_duration[und][0][value][date]': u'10/07/2018',\n",
    " u'form_build_id': inputCollector['form_build_id'],\n",
    " u'form_id': u'shannon_lab_note_node_form',\n",
    " u'form_token': inputCollector['form_token'],\n",
    " u'op': 'Publish',\n",
    " u'title': 'test123'}\n"
   ]
  },
  {
   "cell_type": "code",
   "execution_count": null,
   "metadata": {
    "collapsed": false
   },
   "outputs": [],
   "source": [
    "A={}\n",
    "\n",
    "for item in soup.findAll('input'):\n",
    "    try:\n",
    "        if (item['name']):\n",
    "            A[item['name']]=item['value']\n",
    "    except KeyError:\n",
    "#         print '\\n\\npass',item\n",
    "        pass\n",
    "\n",
    "\n",
    "A['title']='test123'\n",
    "A['op']='Publish'\n",
    "del A['search_block_form']\n",
    "del A['field_file_attachment[und][0][_weight]']\n",
    "del A['field_file_attachment[und][0][display]']\n",
    "del A['field_file_attachment[und][0][fid]']\n",
    "del A['field_file_attachment_und_0_upload_button']\n",
    "del A['field_shares_data_location[und][0][value]']\n",
    "A"
   ]
  },
  {
   "cell_type": "code",
   "execution_count": null,
   "metadata": {
    "collapsed": false,
    "scrolled": true
   },
   "outputs": [],
   "source": [
    "r = s.post(\n",
    "            'https://labnotes.ncbs.res.in/node/add/shannon-lab-note',\n",
    "            data=A,verify=False)\n",
    "\n",
    "soup = bsoup(r.text, 'html.parser')\n",
    "print soup.text"
   ]
  },
  {
   "cell_type": "code",
   "execution_count": null,
   "metadata": {
    "collapsed": false
   },
   "outputs": [],
   "source": [
    "\n",
    "\n",
    "\n",
    "# form token\n",
    "form_token_result = form_parent.find_all(\"input\", {\"name\": \"form_token\"})\n",
    "if len(form_token_result) != 1:\n",
    "    print('Warning: Found more than one form_token. Using the first one')\n",
    "form_token = form_token_result[0]['value']\n",
    "\n",
    "blog_title='tessdt'\n",
    "blog_content='asdf'\n",
    "# blog_metadata=dict(blog_dates)\n",
    "# Create payload and send\n",
    "payload = {\"title\": blog_title,\n",
    "           \"changed\": \"\",\n",
    "           \"form_build_id\": form_build_id,\n",
    "           \"form_token\": form_token,\n",
    "           \"form_id\": \"shannon-lab-note-node-form\",\n",
    "           \"field_exp_duration[und][0][show_todate]\": \"1\",\n",
    "#            \"field_exp_duration[und][0][value][date]\":A\n",
    "#            blog_metadata['blog_dates'][0],\n",
    "#            \"field_exp_duration[und][0][value2][date]\":\n",
    "#            blog_metadata['blog_dates'][1],\n",
    "#            \"field_bhalla_keywords[und]\": blog_metadata['tag'],\n",
    "#            \"body[und][0][summary]\": \"\",\n",
    "#            \"body[und][0][value]\": blog_content,\n",
    "#            \"body[und][0][format]\": \"html\",\n",
    "#            \"book[bid]\": blog_metadata['book_id'],\n",
    "#            \"book[plid]\": blog_metadata['pbook_id'],\n",
    "#            \"book[weight]\": \"0\",\n",
    "           \"additional_settings__active_tab\": \"edit-book\",\n",
    "           \"op\": \"Publish\"}\n",
    "\n",
    "r = s.post(\n",
    "            'https://labnotes.ncbs.res.in/node/add/shannon-lab-note',\n",
    "            data=A,verify=False)\n"
   ]
  },
  {
   "cell_type": "code",
   "execution_count": null,
   "metadata": {
    "collapsed": true
   },
   "outputs": [],
   "source": []
  },
  {
   "cell_type": "code",
   "execution_count": null,
   "metadata": {
    "collapsed": false
   },
   "outputs": [],
   "source": [
    "\n",
    "form_id = soup.find_all('input',\n",
    "                        {\"name\": \"form_id\",\n",
    "                         \"value\": \"shannon_lab_note_node_form\"})[0]\n",
    "form_parent = form_id.parent\n",
    "\n",
    "# Obtain necessary form details\n",
    "# form build id\n",
    "form_build_id_result = form_parent.find_all(\n",
    "                                            \"input\",\n",
    "                                            {\"name\": \"form_build_id\"})\n",
    "if len(form_build_id_result) != 1:\n",
    "    print('Warning: Found more than one form_build_id.'\n",
    "          'Using the first one')\n",
    "form_build_id = form_build_id_result[0]['value']\n",
    "form_build_id"
   ]
  },
  {
   "cell_type": "code",
   "execution_count": null,
   "metadata": {
    "collapsed": false,
    "scrolled": false
   },
   "outputs": [],
   "source": [
    "soup.findAll('input',{\"name\":'title'})[0].text"
   ]
  },
  {
   "cell_type": "code",
   "execution_count": null,
   "metadata": {
    "collapsed": false
   },
   "outputs": [],
   "source": [
    "soup.find_all('input',{\"name\": \"form_id\",\"value\": \"shannon_lab_note_node_form\"})[0].parent.find_all(\"input\",{\"name\": \"form_build_id\"})[0]['value']"
   ]
  },
  {
   "cell_type": "code",
   "execution_count": null,
   "metadata": {
    "collapsed": true
   },
   "outputs": [],
   "source": [
    "\n",
    "def upload_as_blog(login_details, blog_title, blog_metadata, blog_content):\n",
    "    ''' Extracts login details from the pickled login file, uses it to\n",
    "        login in to the labnotes and uploads the blog'''\n",
    "\n",
    "    # Obtain login details\n",
    "    Username = login_details['name']\n",
    "    Password = base64.b64decode(login_details['pass']) if (\n",
    "        login_details['base64']) else login_details['pass']\n",
    "\n",
    "    # Obtain url details and soup it\n",
    "    s = requests.Session()\n",
    "    r = s.get('https://labnotes.ncbs.res.in/')\n",
    "    soup = bsoup.BeautifulSoup(r.text, 'html.parser')\n",
    "\n",
    "    # Find the necessary form build id\n",
    "    form_build_id_result = soup.find_all(\"input\", {\"name\": \"form_build_id\"})\n",
    "    if len(form_build_id_result) != 1:\n",
    "        print('Warning: Found more than one form_build_id.'\n",
    "              ' Using the first one')\n",
    "\n",
    "    form_build_id = form_build_id_result[0]['value']\n",
    "\n",
    "    # Create payload and log in\n",
    "    payload = {'name': Username,\n",
    "               'pass': Password,\n",
    "               'form_build_id': form_build_id,\n",
    "               'form_id': 'user_login',\n",
    "               'op': 'Log+in'}\n",
    "    r = s.post('https://labnotes.ncbs.res.in/', data=payload)\n",
    "\n",
    "    \n",
    "    \n",
    "    \n",
    "    # Create a new blog and obtain the form parent\n",
    "    r = s.get('https://labnotes.ncbs.res.in/node/add/blog-sane-lab')\n",
    "    soup = bsoup.BeautifulSoup(r.text, 'html.parser')\n",
    "    form_id = soup.find_all('input',\n",
    "                            {\"name\": \"form_id\",\n",
    "                             \"value\": \"blog_sane_lab_node_form\"})[0]\n",
    "    form_parent = form_id.parent\n",
    "\n",
    "    # Obtain necessary form details\n",
    "    # form build id\n",
    "    form_build_id_result = form_parent.find_all(\n",
    "                                                \"input\",\n",
    "                                                {\"name\": \"form_build_id\"})\n",
    "    if len(form_build_id_result) != 1:\n",
    "        print('Warning: Found more than one form_build_id.'\n",
    "              'Using the first one')\n",
    "    form_build_id = form_build_id_result[0]['value']\n",
    "    \n",
    "    \n",
    "    # form token\n",
    "    form_token_result = form_parent.find_all(\"input\", {\"name\": \"form_token\"})\n",
    "    if len(form_token_result) != 1:\n",
    "        print('Warning: Found more than one form_token. Using the first one')\n",
    "    form_token = form_token_result[0]['value']\n",
    "\n",
    "    # Create payload and send\n",
    "    payload = {\"title\": blog_title,\n",
    "               \"changed\": \"\",\n",
    "               \"form_build_id\": form_build_id,\n",
    "               \"form_token\": form_token,\n",
    "               \"form_id\": \"blog_sane_lab_node_form\",\n",
    "               \"field_exp_duration[und][0][show_todate]\": \"1\",\n",
    "               \"field_exp_duration[und][0][value][date]\":\n",
    "               blog_metadata['blog_dates'][0],\n",
    "               \"field_exp_duration[und][0][value2][date]\":\n",
    "               blog_metadata['blog_dates'][1],\n",
    "               \"field_bhalla_keywords[und]\": blog_metadata['tag'],\n",
    "               \"body[und][0][summary]\": \"\",\n",
    "               \"body[und][0][value]\": blog_content,\n",
    "               \"body[und][0][format]\": \"html\",\n",
    "               \"book[bid]\": blog_metadata['book_id'],\n",
    "               \"book[plid]\": blog_metadata['pbook_id'],\n",
    "               \"book[weight]\": \"0\",\n",
    "               \"additional_settings__active_tab\": \"edit-book\",\n",
    "               \"op\": \"Publish\"}\n",
    "    r = s.post(\n",
    "                'https://labnotes.ncbs.res.in/node/add/blog-sane-lab',\n",
    "                data=payload)\n"
   ]
  },
  {
   "cell_type": "code",
   "execution_count": null,
   "metadata": {
    "collapsed": true
   },
   "outputs": [],
   "source": []
  },
  {
   "cell_type": "code",
   "execution_count": null,
   "metadata": {
    "collapsed": false
   },
   "outputs": [],
   "source": [
    "#!/usr/bin/env python3\n",
    "import bs4 as bsoup\n",
    "import requests\n",
    "import base64\n",
    "from glob import glob\n",
    "import re\n",
    "import os\n",
    "from datetime import datetime\n",
    "import subprocess\n",
    "import shutil\n",
    "from yaml import load as ymload\n",
    "from yaml import dump as ymdump\n",
    "import argparse\n",
    "from collections import defaultdict\n",
    "from collections import OrderedDict\n",
    "\n",
    "\n",
    "def upload_images(\n",
    "                 image_dir, move_dir,\n",
    "                 log_file, login_details, image_metadata):\n",
    "    ''' Uploades daily physical labnote images into the online labnotes'''\n",
    "    # Search and sort jpg files\n",
    "    jpg_list = sorted(glob(os.path.join(image_dir, '*.jpg')))\n",
    "    jpgs_dict = defaultdict(list)\n",
    "    for jpg_file in jpg_list:\n",
    "        jpg_date = re.findall('Scan (\\d\\d\\d\\d-\\d\\d-\\d\\d)',\n",
    "                              os.path.basename(jpg_file))\n",
    "        jpgs_dict[jpg_date[0]].append(jpg_file)\n",
    "    # Sort the dictionary based on key name\n",
    "    sorted_jpgs = OrderedDict(\n",
    "        [(key, jpgs_dict[key]) for key in sorted(jpgs_dict.keys())])\n",
    "\n",
    "    img_tag = []\n",
    "    for date in sorted_jpgs.keys():\n",
    "        blog_title = 'Labnote: %s' % date\n",
    "        image_metadata['blog_dates'] = []\n",
    "        image_metadata['blog_dates'].append(datetime.strptime(\n",
    "            date, '%Y-%m-%d').strftime('%m/%d/%Y'))\n",
    "        image_metadata['blog_dates'].append(image_metadata['blog_dates'][0])\n",
    "\n",
    "        img_tag = []\n",
    "        for i, jpg in enumerate(sorted_jpgs[date]):\n",
    "            # Obtain data uri\n",
    "            data_uri = base64.b64encode(\n",
    "                open(jpg, 'rb').read()).decode('utf-8').replace('\\n', '')\n",
    "            img_tag.append(\n",
    "                '<img src=\"data:image/jpg;base64,{0}\">'.format(data_uri))\n",
    "            # Move file to move dir\n",
    "            shutil.move(jpg, os.path.join(move_dir, '%s-(%d).jpg' % (date, i)))\n",
    "\n",
    "        # Save image data as blog content\n",
    "        blog_content = '\\n'.join(img_tag)\n",
    "\n",
    "        # Upload to blog\n",
    "        upload_as_blog(\n",
    "            login_details, blog_title, image_metadata, blog_content)\n",
    "\n",
    "        # Write into log_file\n",
    "        with open(log_file, 'a') as f:\n",
    "            f.write('[%s] Images for %s successfully uploaded. \\n'\n",
    "                    % (datetime.now().strftime('%Y-%m-%d %H:%M:%S'),\n",
    "                        date))\n",
    "\n",
    "\n",
    "def upload_pdf(pdf_dir, log_file, login_details, pdf_metadata):\n",
    "    ''' Finds the latest pdf and uploades it to the labnotebook '''\n",
    "    # Load status yml to obtain the last uploaded pdf (if it exists)\n",
    "    if os.path.isfile(os.path.join(pdf_dir, 'status.yml')):\n",
    "        with open(os.path.join(pdf_dir, 'status.yml'), 'r') as f:\n",
    "            read_data = f.read()\n",
    "        status = ymload(read_data)\n",
    "        uploaded_pdf = status['uploaded_pdf']\n",
    "    else:\n",
    "        uploaded_pdf = False\n",
    "\n",
    "    # Search through the files and select the pdf\n",
    "    pdf_list = glob(os.path.join(pdf_dir, '*.pdf'))\n",
    "    selected_pdf = sorted(pdf_list)[-1]\n",
    "    pdf_name = os.path.basename(selected_pdf)\n",
    "    if not ((uploaded_pdf) and (selected_pdf == uploaded_pdf)):\n",
    "        # Obtain blog contents\n",
    "        blog_title, blog_dates = get_blog_title_dates_pdf(selected_pdf)\n",
    "        blog_content = convert_pdf_to_data_uri(pdf_dir, selected_pdf)\n",
    "        pdf_metadata['blog_dates'] = blog_dates\n",
    "\n",
    "        # Upload to blog\n",
    "        upload_as_blog(\n",
    "            login_details, blog_title, pdf_metadata, blog_content)\n",
    "\n",
    "        # Save the current file as yml file\n",
    "        status = {}\n",
    "        status['uploaded_pdf'] = selected_pdf\n",
    "        with open(os.path.join(pdf_dir, 'status.yml'), 'w') as outfile:\n",
    "            ymdump(status, outfile, default_flow_style=False)  # readable\n",
    "\n",
    "        # Add to log file\n",
    "        with open(log_file, 'a') as f:\n",
    "            f.write('[%s] %s successfully uploaded. \\n'\n",
    "                    % (datetime.now().strftime('%Y-%m-%d %H:%M:%S'),\n",
    "                        pdf_name))\n",
    "\n",
    "\n",
    "def get_blog_title_dates_pdf(selected_pdf):\n",
    "    ''' Extracts the dates and figures out the title of the blog/labnote'''\n",
    "\n",
    "    date_range = re.findall('(\\d\\d\\d\\d-\\d\\d-\\d\\d)', selected_pdf)\n",
    "    blog_title = \"Work Report: %s to %s\" % tuple(date_range)\n",
    "    blog_dates = [datetime.strptime(d, '%Y-%m-%d').strftime('%m/%d/%Y')\n",
    "                  for d in date_range]\n",
    "\n",
    "    return blog_title, blog_dates\n",
    "\n",
    "\n",
    "def convert_pdf_to_data_uri(pdf_dir, selected_pdf):\n",
    "    ''' Converts the images into pdf and saves them as a data uri packet.\n",
    "        Deletes the images after that and returns data as blog_content'''\n",
    "\n",
    "    temp_dir = os.path.join(pdf_dir, 'temp')\n",
    "    if not os.path.isdir(temp_dir):\n",
    "        os.mkdir(temp_dir)\n",
    "    out_file_names = os.path.join(temp_dir, 'page_%02d.jpg')\n",
    "\n",
    "    command = ['convert', '-density', '300', selected_pdf, out_file_names]\n",
    "    run_result = subprocess.run(command, stderr=subprocess.STDOUT)\n",
    "    if run_result.returncode:\n",
    "        raise ValueError('Unable to convert %s into images. Check pdf '\n",
    "                         'integrity' % (os.path.basename(selected_pdf)))\n",
    "\n",
    "    jpg_list = glob(os.path.join(temp_dir, '*.jpg'))\n",
    "    img_tag = []\n",
    "    for jpg in sorted(jpg_list):\n",
    "        data_uri = base64.b64encode(\n",
    "            open(jpg, 'rb').read()).decode('utf-8').replace('\\n', '')\n",
    "        img_tag.append(\n",
    "            '<img src=\"data:image/jpg;base64,{0}\">'.format(data_uri))\n",
    "\n",
    "    shutil.rmtree(temp_dir)\n",
    "\n",
    "    return '\\n'.join(img_tag)\n",
    "\n",
    "\n",
    "def upload_as_blog(login_details, blog_title, blog_metadata, blog_content):\n",
    "    ''' Extracts login details from the pickled login file, uses it to\n",
    "        login in to the labnotes and uploads the blog'''\n",
    "\n",
    "    # Obtain login details\n",
    "    Username = login_details['name']\n",
    "    Password = base64.b64decode(login_details['pass']) if (\n",
    "        login_details['base64']) else login_details['pass']\n",
    "\n",
    "    # Obtain url details and soup it\n",
    "    s = requests.Session()\n",
    "    r = s.get('https://labnotes.ncbs.res.in/')\n",
    "    soup = bsoup.BeautifulSoup(r.text, 'html.parser')\n",
    "\n",
    "    # Find the necessary form build id\n",
    "    form_build_id_result = soup.find_all(\"input\", {\"name\": \"form_build_id\"})\n",
    "    if len(form_build_id_result) != 1:\n",
    "        print('Warning: Found more than one form_build_id.'\n",
    "              ' Using the first one')\n",
    "\n",
    "    form_build_id = form_build_id_result[0]['value']\n",
    "\n",
    "    # Create payload and log in\n",
    "    payload = {'name': Username,\n",
    "               'pass': Password,\n",
    "               'form_build_id': form_build_id,\n",
    "               'form_id': 'user_login',\n",
    "               'op': 'Log+in'}\n",
    "    r = s.post('https://labnotes.ncbs.res.in/', data=payload)\n",
    "\n",
    "    # Create a new blog and obtain the form parent\n",
    "    r = s.get('https://labnotes.ncbs.res.in/node/add/blog-sane-lab')\n",
    "    soup = bsoup.BeautifulSoup(r.text, 'html.parser')\n",
    "    form_id = soup.find_all('input',\n",
    "                            {\"name\": \"form_id\",\n",
    "                             \"value\": \"blog_sane_lab_node_form\"})[0]\n",
    "    form_parent = form_id.parent\n",
    "\n",
    "    # Obtain necessary form details\n",
    "    # form build id\n",
    "    form_build_id_result = form_parent.find_all(\n",
    "                                                \"input\",\n",
    "                                                {\"name\": \"form_build_id\"})\n",
    "    if len(form_build_id_result) != 1:\n",
    "        print('Warning: Found more than one form_build_id.'\n",
    "              'Using the first one')\n",
    "    form_build_id = form_build_id_result[0]['value']\n",
    "    # form token\n",
    "    form_token_result = form_parent.find_all(\"input\", {\"name\": \"form_token\"})\n",
    "    if len(form_token_result) != 1:\n",
    "        print('Warning: Found more than one form_token. Using the first one')\n",
    "    form_token = form_token_result[0]['value']\n",
    "\n",
    "    # Create payload and send\n",
    "    payload = {\"title\": blog_title,\n",
    "               \"changed\": \"\",\n",
    "               \"form_build_id\": form_build_id,\n",
    "               \"form_token\": form_token,\n",
    "               \"form_id\": \"blog_sane_lab_node_form\",\n",
    "               \"field_exp_duration[und][0][show_todate]\": \"1\",\n",
    "               \"field_exp_duration[und][0][value][date]\":\n",
    "               blog_metadata['blog_dates'][0],\n",
    "               \"field_exp_duration[und][0][value2][date]\":\n",
    "               blog_metadata['blog_dates'][1],\n",
    "               \"field_bhalla_keywords[und]\": blog_metadata['tag'],\n",
    "               \"body[und][0][summary]\": \"\",\n",
    "               \"body[und][0][value]\": blog_content,\n",
    "               \"body[und][0][format]\": \"html\",\n",
    "               \"book[bid]\": blog_metadata['book_id'],\n",
    "               \"book[plid]\": blog_metadata['pbook_id'],\n",
    "               \"book[weight]\": \"0\",\n",
    "               \"additional_settings__active_tab\": \"edit-book\",\n",
    "               \"op\": \"Publish\"}\n",
    "    r = s.post(\n",
    "                'https://labnotes.ncbs.res.in/node/add/blog-sane-lab',\n",
    "                data=payload)\n",
    "\n",
    "\n",
    "def main():\n",
    "    # parse input\n",
    "    parser = argparse.ArgumentParser(\n",
    "        description=(\n",
    "            'Automatic updation of labnotes'))\n",
    "    parser.add_argument(\n",
    "        \"-c\", \"--config\",\n",
    "        default=os.path.join(os.path.expanduser('~'),\n",
    "                             'auto-labnote-uploader-config.yml'))\n",
    "    # Obtain arguments\n",
    "    args = parser.parse_args()\n",
    "\n",
    "    # Load config file\n",
    "    with open(args.config, 'r') as f:\n",
    "        read_data = f.read()\n",
    "    config = ymload(read_data)\n",
    "\n",
    "    # Upload pdf\n",
    "    upload_pdf(\n",
    "        config['pdf_dir'], config['log_file'],\n",
    "        config['login_details'], config['pdf_metadata'])\n",
    "\n",
    "    # Upload images\n",
    "    upload_images(\n",
    "        config['image_dir'], config['mov_dir'],\n",
    "        config['log_file'], config['login_details'], config['image_metadata'])\n",
    "\n",
    "if __name__ == '__main__':\n",
    "main()"
   ]
  },
  {
   "cell_type": "code",
   "execution_count": null,
   "metadata": {
    "collapsed": false,
    "scrolled": true
   },
   "outputs": [],
   "source": [
    "Username='pavankk'\n",
    "Password='Pa1@ncbs'"
   ]
  },
  {
   "cell_type": "code",
   "execution_count": null,
   "metadata": {
    "collapsed": true
   },
   "outputs": [],
   "source": []
  }
 ],
 "metadata": {
  "kernelspec": {
   "display_name": "Python 2",
   "language": "python",
   "name": "python2"
  },
  "language_info": {
   "codemirror_mode": {
    "name": "ipython",
    "version": 2
   },
   "file_extension": ".py",
   "mimetype": "text/x-python",
   "name": "python",
   "nbconvert_exporter": "python",
   "pygments_lexer": "ipython2",
   "version": "2.7.6"
  },
  "widgets": {
   "state": {},
   "version": "1.1.2"
  }
 },
 "nbformat": 4,
 "nbformat_minor": 2
}
