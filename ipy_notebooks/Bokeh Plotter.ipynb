{
 "cells": [
  {
   "cell_type": "code",
   "execution_count": 1,
   "metadata": {
    "collapsed": false
   },
   "outputs": [],
   "source": [
    "# %matplotlib inline\n",
    "# import mpld3\n",
    "# mpld3.enable_notebook()\n",
    "import rosbag_pandas\n",
    "import pandas as pd\n",
    "import matplotlib.pyplot as plt\n",
    "import easygui\n",
    "import rosbag\n",
    "import json\n",
    "import numpy as np\n",
    "import cPickle as pkl\n",
    "import time\n",
    "import seaborn as sns\n",
    "import datetime as dt\n",
    "import fnmatch\n",
    "import os\n",
    "import bokeh.palettes as bp\n",
    "from bokeh.layouts import column\n",
    "from bokeh.models import Arrow, OpenHead, NormalHead, VeeHead, Div\n",
    "from bokeh.io import export_png\n",
    "from bokeh.plotting import figure, output_file, show, gridplot,save\n",
    "from datetime import datetime\n",
    "\n",
    "def TicTocGenerator():\n",
    "    # Generator that returns time differences\n",
    "    ti = 0           # initial time\n",
    "    tf = time.time() # final time\n",
    "    while True:\n",
    "        ti = tf\n",
    "        tf = time.time()\n",
    "        yield tf-ti # returns the time difference\n",
    "\n",
    "TicToc = TicTocGenerator() # create an instance of the TicTocGen generator\n",
    "\n",
    "# This will be the main function through which we define both tic() and toc()\n",
    "def toc(tempBool=True):\n",
    "    # Prints the time difference yielded by generator instance TicToc\n",
    "    tempTimeInterval = next(TicToc)\n",
    "    if tempBool:\n",
    "        print( \"Elapsed time: %f seconds.\\n\" %tempTimeInterval )\n",
    "\n",
    "def tic():\n",
    "    # Records a time in TicToc, marks the beginning of a time interval\n",
    "    toc(False)\n",
    "    \n",
    "def pickler( obj, path):\n",
    "    \"\"\"\n",
    "    Pickle a Python object\n",
    "    \"\"\"\n",
    "    with open(path, \"wb\") as pfile:\n",
    "        pkl.dump(obj, pfile)\n",
    "\n",
    "def depickler( path):\n",
    "    \"\"\"\n",
    "    Extracts a pickled Python object and returns it\n",
    "    \"\"\"\n",
    "    with open(path, \"rb\") as pfile:\n",
    "        data = pkl.load(pfile)\n",
    "    return data\n",
    "import os\n",
    "\n",
    "def get_filepaths(directory):\n",
    "    \"\"\"\n",
    "    This function will generate the file names in a directory \n",
    "    tree by walking the tree either top-down or bottom-up. For each \n",
    "    directory in the tree rooted at directory top (including top itself), \n",
    "    it yields a 3-tuple (dirpath, dirnames, filenames).\n",
    "    \"\"\"\n",
    "    file_paths = []  # List which will store all of the full filepaths.\n",
    "\n",
    "    # Walk the tree.\n",
    "    for root, directories, files in os.walk(directory):\n",
    "        for filename in files:\n",
    "            # Join the two strings in order to form the full filepath.\n",
    "            filepath = os.path.join(root, filename)\n",
    "            file_paths.append(filepath)  # Add it to the list.\n",
    "\n",
    "    return file_paths  # Self-explanatory.\n",
    "\n",
    "# Run the above function and store its results in a variable.   \n",
    "full_file_paths = get_filepaths(\"/Users/johnny/Desktop/TEST\")"
   ]
  },
  {
   "cell_type": "code",
   "execution_count": 6,
   "metadata": {
    "collapsed": false
   },
   "outputs": [],
   "source": [
    "\n",
    "def bokehPlot(df, case, parameters, fig=None,\n",
    "              TOOLS=\"pan,crosshair,wheel_zoom\\\n",
    "              ,box_zoom,reset,box_select,lasso_select,undo,redo,save\",\n",
    "              x_range=(506, 526), y_range=(506, 526),\n",
    "              output_backend=\"webgl\", plot_width=500, plot_height=500,\n",
    "              s=4, xc=513, yc=505,\n",
    "              xw=20, yw=20, xi=506., yi=503.,\n",
    "              showPlot=True, title=None, addOdour=True,\n",
    "              addSmallTit=True, addStart=True, addArrow=True,reallign=True):\n",
    "    dfc = df[df.trajectory__case == case]\n",
    "    x = dfc.trajectory__pPos_x\n",
    "    y = dfc.trajectory__pPos_y\n",
    "    h = np.deg2rad(dfc.trajectory__pOri_x)\n",
    "\n",
    "    if 'haw' in parameters['fly']:\n",
    "        dfcv = dfc.trajectory__valve2\n",
    "        dfcvP = dfc.trajectory__valve1 #other odour incase of error in gui\n",
    "\n",
    "\n",
    "    elif 'apple' in parameters['fly']:\n",
    "        dfcv = dfc.trajectory__valve1\n",
    "        dfcvP = dfc.trajectory__valve2 #other odour incase of error in gui\n",
    "\n",
    "    ox = dfc[dfcv == True].trajectory__pPos_x\n",
    "    oy = dfc[dfcv == True].trajectory__pPos_y\n",
    "    \n",
    "    oxP = dfc[dfcvP == True].trajectory__pPos_x\n",
    "    oyP = dfc[dfcvP == True].trajectory__pPos_y\n",
    "\n",
    "    \n",
    "    #     opf=dfc[dfc.trajectory__valve1==True].trajectory__pOri_x\n",
    "\n",
    "    #     import matplotlib as mpl\n",
    "    #     colors = [\n",
    "    #         \"#%02x%02x%02x\" % (int(r), int(g), int(b)) for r, g, b, _ in 255*mpl.cm.viridis(mpl.colors.Normalize()(opf))\n",
    "    #     ]\n",
    "\n",
    "\n",
    "    try:\n",
    "        cm = bp.viridis(max(parameters['odourQuad']) + 1)\n",
    "        fc = cm[parameters[\"odourQuad\"][case]]\n",
    "    except TypeError:\n",
    "        fc = bp.viridis(10)[5]\n",
    "\n",
    "    if not addSmallTit:\n",
    "        title = ''\n",
    "\n",
    "    if fig is None:\n",
    "        fig = figure(tools=TOOLS, x_range=x_range, y_range=y_range, output_backend=output_backend,\n",
    "                     plot_width=plot_width, plot_height=plot_height,\n",
    "                     active_scroll='wheel_zoom', title=title)\n",
    "\n",
    "    fig.title.align = 'center'\n",
    "    fig.title.text_font_size = '14pt'\n",
    "\n",
    "    r = 2\n",
    "    xs = parameters['playerInitPos'][0]\n",
    "    ys = parameters['playerInitPos'][1] + 8\n",
    "    theta = parameters['windQuadOpen'][case] + 180\n",
    "    if reallign:\n",
    "        xoffs = xs - 514\n",
    "        yoffs = ys - 513\n",
    "    else:\n",
    "        xoffs=0\n",
    "        yoffs=0\n",
    "    # Pos and heading of fly\n",
    "    fig.triangle(x - xoffs, y - yoffs, size=s, angle=h, fill_alpha=0.5, line_color=None)\n",
    "\n",
    "    if addOdour:\n",
    "        # circle at odour pos, with pf encoded in color\n",
    "        fig.circle(ox- xoffs, oy- yoffs, size=2 * s, fill_alpha=0.8, line_color=None, fill_color=fc)\n",
    "        fig.circle(oxP- xoffs, oyP- yoffs, size=2 * s, fill_alpha=0.8, line_color=None, fill_color=(255,0,0))\n",
    "\n",
    "        \n",
    "    if addStart:\n",
    "        # triangle at init pos\n",
    "        fig.triangle(parameters['playerInitPos'][0], parameters['playerInitPos'][1],\n",
    "                     size=3 * s, angle=0, fill_alpha=0.9, line_color=None, color='firebrick')\n",
    "\n",
    "    # arrow\n",
    "\n",
    "    if parameters[\"windQuad\"][case] == -3:\n",
    "        lw = 0\n",
    "        la = 0.1\n",
    "    elif parameters[\"windQuad\"][case] == -2:\n",
    "        lw = 4\n",
    "        la = 1\n",
    "    else:\n",
    "        lw = 10\n",
    "        la = 1\n",
    "    # print 'le is',lw\n",
    "    if addArrow:\n",
    "        fig.add_layout(Arrow(end=VeeHead(size=20), line_color=\"red\", line_alpha=la,\n",
    "\n",
    "                             x_start=xs, y_start=ys, line_width=lw,\n",
    "                             x_end=xs + r * np.cos(np.deg2rad(theta)), y_end=ys + r * np.sin(np.deg2rad(theta))))\n",
    "\n",
    "    return fig\n",
    "\n",
    "def bokehQuadPlot(df,parameters,path, tr=None,tl=None,bl=None,br=None,\n",
    "                  TOOLS=\"pan,crosshair,wheel_zoom,box_zoom,\\\n",
    "                  reset,box_select,lasso_select,undo,redo,save\",\n",
    "                  x_range=(506,526), y_range=(506,526),plot_width=1000, \n",
    "                  plot_height=1000,\n",
    "                 output_backend=\"webgl\",showPlot=False,exposeReturn=False,\n",
    "                 addBigTit=True,addSmallTit=True, \n",
    "                  addArrow=True,addStart=True,addOdour=True):\n",
    "    \n",
    "    '''\n",
    "    plot a single df\n",
    "    '''\n",
    "\n",
    "    # output to static HTML file (with CDN resources)\n",
    "    output_file(path+\".html\", title=\"Trajectory Quad\", mode=\"cdn\")\n",
    "\n",
    "\n",
    "    # create a new plot with the tools above, and explicit ranges\n",
    "    w=500\n",
    "    h=500 \n",
    "    s=6\n",
    "    xc=516\n",
    "    yc=513\n",
    "    xw=20\n",
    "    yw=20\n",
    "    xi=xc-xw/2.\n",
    "    yi=yc-yw/2.\n",
    "\n",
    "    \n",
    "    \n",
    "    ls=parameters['loadingString']\n",
    "    wq=parameters['windQuad']\n",
    "    oq=parameters['odourQuad']\n",
    "    wqo=parameters['windQuadOpen']\n",
    "    \n",
    "    def quadTitGen(quad,ls=ls,wq=wq,oq=oq,wqo=wqo):\n",
    "        tit='odour : '+str(oq[quad])+'\\t wind : '+str(wq[quad])+'\\t windDir : '+str(wqo[quad])\n",
    "#         tit='ls : '+str(ls)+'\\t odour : '+str(oq[quad])+'\\t wind : '+str(wq[quad])+'\\t windDir : '+str(wqo[quad])\n",
    "\n",
    "        return tit\n",
    "    \n",
    "    \n",
    "    bl=bokehPlot(df,2,parameters,TOOLS=TOOLS,title=quadTitGen(2),\n",
    "                 fig=bl,addSmallTit=addSmallTit,addStart=addStart,\n",
    "                 addArrow=addArrow,addOdour=addOdour\n",
    "                 ,x_range=x_range, y_range=y_range)\n",
    "    tr=bokehPlot(df,0,parameters,x_range=bl.x_range, y_range=bl.y_range,TOOLS=TOOLS,title=quadTitGen(0),\n",
    "                 fig=tr,addSmallTit=addSmallTit,addStart=addStart,\n",
    "                 addArrow=addArrow,addOdour=addOdour)\n",
    "    tl=bokehPlot(df,1,parameters,x_range=bl.x_range, y_range=bl.y_range,TOOLS=TOOLS,title=quadTitGen(1),\n",
    "                 fig=tl,addSmallTit=addSmallTit,addStart=addStart\n",
    "                 ,addArrow=addArrow,addOdour=addOdour)\n",
    "    br=bokehPlot(df,3,parameters,x_range=bl.x_range, y_range=bl.y_range,TOOLS=TOOLS,title=quadTitGen(3),\n",
    "                 fig=br,addSmallTit=addSmallTit,addStart=addStart,\n",
    "                 addArrow=addArrow,addOdour=addOdour)\n",
    "\n",
    "\n",
    "    p = gridplot([[tl, tr], [bl, br]])\n",
    "#     export_png(p, filename=path+\".png\")\n",
    "    if addBigTit:\n",
    "        p=column(Div(text=path.split('/')[-1]),p)\n",
    "    \n",
    "    if exposeReturn:#if you want access to all plots\n",
    "        return p,tr,tl,bl,br\n",
    "    else:\n",
    "            \n",
    "        if showPlot:\n",
    "            show(p)\n",
    "        else:\n",
    "            save(p)\n",
    "\n",
    "        return p,None,None,None,None\n",
    "\n",
    "\n",
    "def pickle2df(path=None):\n",
    "    '''Load a dataframe from pickle'''\n",
    "    defaultPath=\"/home/rhagoletis/catkin/src/World/bags/\"\n",
    "    if path is None:\n",
    "        path=easygui.fileopenbox(title=\"Bags to Dataframes\"\n",
    "                                  ,default=defaultPath,\n",
    "                                  multiple=False,filetypes=[\"*df.pickle\"])\n",
    "        \n",
    "#     print path, \"\\n\"\n",
    "#     for path in paths:\n",
    "#     print \"\\n\\ncurrentl;y analysisnh\",path\n",
    "    # picklepath=path+\"_df.pickle\"\n",
    "    data=depickler(path)\n",
    "    df=data[\"df\"]\n",
    "    parameters=data['metadata']['parameters']\n",
    "\n",
    "    return df,parameters,path\n",
    "\n",
    "\n",
    "\n",
    "\n",
    "def pickle2bokeh(path=None,showPlot=True,exposeReturn=False,tr=None,tl=None,bl=None,br=None,\n",
    "                 addBigTit=True,addSmallTit=False,addArrow=False,addStart=False,addOdour=False,\n",
    "                 x_range=(506,526), y_range=(506,526)):\n",
    "    \n",
    "    df,parameters,path=pickle2df(path=path)\n",
    "    try:\n",
    "        plot,tr,tl,bl,br=bokehQuadPlot(df=df,parameters=parameters,path=path,showPlot=showPlot,\n",
    "                                       exposeReturn=exposeReturn,tr=tr,tl=tl,bl=bl,br=br,\n",
    "                                       addBigTit=addBigTit,addSmallTit=addSmallTit, addArrow=addArrow,\n",
    "                                       addStart=addStart,addOdour=addOdour,\n",
    "                                       x_range=x_range, y_range=y_range)\n",
    "    except SyntaxError as e:\n",
    "        print \"\\n\\n\\n Exception\",e\n",
    "        return None,None,None,None\n",
    "    \n",
    "    if exposeReturn:#if you want access to all plots\n",
    "        return plot,df,parameters,path,tr,tl,bl,br\n",
    "    else:\n",
    "        return plot,df,parameters,path\n",
    "\n",
    "\n",
    "def fileList(foldPath,included=['*bag_df.pickle'],excluded=[]):\n",
    "\n",
    "    \n",
    "    matches = []\n",
    "    for root, dirnames, filenames in os.walk(foldPath):\n",
    "        \n",
    "        for include in included:\n",
    "            for filename in fnmatch.filter(filenames, include):\n",
    "                toKeep=True\n",
    "                \n",
    "                for exclude in excluded:\n",
    "                    if exclude in filename:\n",
    "                        toKeep=False\n",
    "                    \n",
    "                if toKeep:\n",
    "                    matches.append(os.path.join(root, filename))\n",
    "    matches.sort()\n",
    "    return matches\n",
    "\n",
    "\n",
    "def pickleDir2bokeh(foldPath=None,showPlot=False,\n",
    "                    addBigTit=True,addSmallTit=True,addArrow=True,\n",
    "                    addStart=True,addOdour=False,\n",
    "                    x_range=(506, 526), y_range=(506, 526),\n",
    "                   defaultPath='/media/rhagoletis/6db8b2b2-ebe2-4555-9b79-93b10ef9dec31/agg/odour+wind/',):\n",
    "    tstart = datetime.now()\n",
    "\n",
    "    if foldPath is None:\n",
    "        foldPath= easygui.diropenbox(    default=defaultPath)\n",
    "    \n",
    "    matches=fileList(foldPath,included=['*bag_df.pickle'],excluded=['pf'])\n",
    "\n",
    "\n",
    "    matches.sort(reverse=True)\n",
    "    print matches\n",
    "    \n",
    "    i=1 #file progress index\n",
    "    for path in matches:\n",
    "        \n",
    "        tic()\n",
    "        plot, df,parameters,path =pickle2bokeh(path,showPlot=showPlot,\n",
    "                          addBigTit=addBigTit,addSmallTit=addSmallTit,\n",
    "                           addArrow=addArrow,addStart=addStart,\n",
    "                          x_range=x_range, y_range=y_range,addOdour=addOdour)\n",
    "\n",
    "#         df,parameters=pickle2df(path)\n",
    "        \n",
    "#         try:\n",
    "#             bokehQuadPlot(df=df,parameters=parameters,path=path)\n",
    "#         except Exception as e:\n",
    "#             print \"\\n\\n\\n Exception\",e\n",
    "#             pass\n",
    "        \n",
    "        print('\\n\\n Currently anal on {}. \\n It is {} / {} file'.format(path.split('/')[-1], i,len(matches)))\n",
    "\n",
    "        i+=1\n",
    "        toc()\n",
    "    \n",
    "    tend = datetime.now()\n",
    "    print \"Total time\",tend - tstart\n",
    "\n",
    "    \n",
    "\n",
    "# def dfDir2bokeh():\n",
    "    \n",
    "#     from datetime import datetime\n",
    "\n",
    "#     tstart = datetime.now()\n",
    "\n",
    "\n",
    "\n",
    "#     foldPath= easygui.diropenbox(    default=\"/home/rhagoletis/catkin/src/World/bags/\")\n",
    "#     matches = []\n",
    "#     for root, dirnames, filenames in os.walk(foldPath):\n",
    "#         for filename in fnmatch.filter(filenames, '*traj.bag_df.pickle'):\n",
    "#             if 'pf' in filename:\n",
    "#                 continue\n",
    "#             matches.append(os.path.join(root, filename))\n",
    "#     matches.sort(reverse=True)\n",
    "#     print matches\n",
    "    \n",
    "#     i=1\n",
    "#     for path in matches:\n",
    "        \n",
    "#         tic()\n",
    "        \n",
    "# #         df,parameters=pickle2bokeh(path)\n",
    "#         df,parameters,path2=pickle2df(path)\n",
    "        \n",
    "#         try:\n",
    "#             bokehQuadPlot(df=df,parameters=parameters,path=path,showPlot=False)\n",
    "#         except Exception as e:\n",
    "#             print \"\\n\\n\\n Exception\",e\n",
    "#             pass\n",
    "        \n",
    "#         print('\\n\\n Currently anal on {}. \\n It is {} / {} file'.format(path.split('/')[-1], i,len(matches)))\n",
    "\n",
    "# #         print \"Currently analysing\", path\n",
    "#         i+=1\n",
    "#         toc()\n",
    "    \n",
    "#     tend = datetime.now()\n",
    "#     print \"Total time\",tend - tstart\n",
    "\n",
    "\n",
    "def bag2pickle(paths=None,defaultPath=\"/home/rhagoletis/catkin/src/World/bags/\"):\n",
    "    '''\n",
    "    Load  bag filesto make into respective dataframes\n",
    "    '''\n",
    "    # defaultPath=\"/home/rhagoletis/catkin/src/World/bags/\"\n",
    "    if paths is None:\n",
    "        paths=easygui.fileopenbox(title=\"Bags to Dataframes\"\n",
    "                                  ,default=defaultPath,\n",
    "                                  multiple=True,filetypes=[\"*traj.bag\"])\n",
    "    \n",
    "    print paths, \"\\n\"\n",
    "    metadata=None\n",
    "    tic()\n",
    "    i=1\n",
    "    for path in paths:\n",
    "        tic()\n",
    "        print \"starting analysis of file %s , %s / %s files\" %(path.split('/')[-1],i,len(paths))\n",
    "        try:\n",
    "            df=rosbag_pandas.bag_to_dataframe(path,include=['/trajectory'])\n",
    "        except Exception as e:\n",
    "            print \"Bag has some nonetype error\",path , e \n",
    "            df=None\n",
    "            parameters=None\n",
    "            picklepath = None\n",
    "            continue\n",
    "        bag=rosbag.Bag(path)\n",
    "\n",
    "        try:\n",
    "            for topic,msg,t in bag.read_messages(topics='/metadata'):\n",
    "                a=msg\n",
    "    #         parameters=json.loads(a.data)\n",
    "    #         metadata={\"meta\":parameters}\n",
    "\n",
    "            metadata=json.loads(a.data)\n",
    "            parameters=metadata['parameters']\n",
    "\n",
    "        except :\n",
    "            print \"no such file!, trying the pickle\"\n",
    "            try:\n",
    "                metadata=depickler(paths[0].split('.bag')[0])\n",
    "            except IOError:\n",
    "                metadata=depickler(paths[0].split('.bag')[0]+'.pickle')\n",
    "\n",
    "            parameters=metadata['parameters']\n",
    "\n",
    "\n",
    "        obj=dict(df=df,metadata=metadata)\n",
    "        \n",
    "        picklepath=path+\"_df.pickle\"\n",
    "        pickler(obj,picklepath)\n",
    "    #     df.to_pickle(picklepath)\n",
    "\n",
    "        i+=1\n",
    "        toc()\n",
    "    print \"\\nanalysis of %s files complete\" %len(paths)\n",
    "    return df, parameters,picklepath\n",
    "    \n",
    "def bagDir2pickle(foldPath=None,defaultPath=\"/home/rhagoletis/catkin/src/World/bags/\",postProcFunc=None,\n",
    "                  included=['*.bag'],excluded=[]):\n",
    "    tstart = datetime.now()\n",
    "    \n",
    "    if foldPath is None:\n",
    "        foldPath= easygui.diropenbox(default=defaultPath)\n",
    "    \n",
    "    matches=fileList(foldPath,included=included,excluded=excluded)\n",
    "#     matches = []\n",
    "#     for root, dirnames, filenames in os.walk(foldPath):\n",
    "#         for filename in fnmatch.filter(filenames, '*traj.bag_df.pickle'):\n",
    "#             if 'pf' in filename:\n",
    "#                 continue\n",
    "#             matches.append(os.path.join(root, filename))\n",
    "\n",
    "    matches.sort(reverse=True)\n",
    "    print matches\n",
    "    \n",
    "    i=1 #file progress index\n",
    "    for path in matches:\n",
    "        \n",
    "        try:\n",
    "            tic()\n",
    "            df, parameters,picklepath=bag2pickle(paths=[path])\n",
    "            if df is None:\n",
    "                continue\n",
    "\n",
    "            if postProcFunc is not None:\n",
    "                postProcFunc(df,parameters,picklepath)\n",
    "\n",
    "            print('\\n\\n Currently anal on {}. \\n It is {} / {} file'.format(path.split('/')[-1], i,len(matches)))\n",
    "\n",
    "            i+=1\n",
    "            toc()\n",
    "        except Exception as e:\n",
    "            print \"something odd in \",path, e\n",
    "\n",
    "    tend = datetime.now()\n",
    "    print \"Total time\",tend - tstart\n",
    "\n",
    "def bagDir2bokeh(foldPath=None,defaultPath=\"/home/rhagoletis/catkin/src/World/bags/\",showPlot=False,excluded=['full']):\n",
    "    bagDir2pickle(foldPath,defaultPath=defaultPath,postProcFunc=bokehQuadPlot,excluded=excluded)\n",
    "# def xDir2y(x2y,included=['*.bag'],excluded=[],defaultPath=\"/home/rhagoletis/catkin/src/World/bags/\"):\n",
    "    \n",
    "#     tstart = datetime.now()\n",
    "\n",
    "#     foldPath= easygui.diropenbox(default=defaultPath)\n",
    "    \n",
    "#     matches=fileList(foldPath,included=included,excluded=excluded)\n",
    "# #     matches = []\n",
    "# #     for root, dirnames, filenames in os.walk(foldPath):\n",
    "# #         for filename in fnmatch.filter(filenames, '*traj.bag_df.pickle'):\n",
    "# #             if 'pf' in filename:\n",
    "# #                 continue\n",
    "# #             matches.append(os.path.join(root, filename))\n",
    "\n",
    "#     matches.sort(reverse=True)\n",
    "#     print matches\n",
    "    \n",
    "#     i=1 #file progress index\n",
    "#     for path in matches:\n",
    "        \n",
    "#         tic()\n",
    "#         x2y(paths=[path])\n",
    "        \n",
    "#         print('\\n\\n Currently anal on {}. \\n It is {} / {} file'.format(path.split('/')[-1], i,len(matches)))\n",
    "\n",
    "#         i+=1\n",
    "#         toc()\n",
    "    \n",
    "#     tend = datetime.now()\n",
    "#     print \"Total time\",tend - tstart\n",
    "\n",
    "# bag2pickle()\n",
    "# bagDir2pickle()\n",
    "# pickle2bokeh()\n",
    "# pickle2df()\n",
    "# dfDir2bokeh()\n"
   ]
  },
  {
   "cell_type": "code",
   "execution_count": 3,
   "metadata": {
    "collapsed": true
   },
   "outputs": [],
   "source": [
    "def plotAggreg(foldPath=None,\n",
    "               defaultPath='/media/rhagoletis/6db8b2b2-ebe2-4555-9b79-93b10ef9dec31/agg/odour+wind/',\n",
    "              x_range=(493,533), y_range=(485,525),):\n",
    "    if foldPath is None:\n",
    "        foldPath=easygui.diropenbox(default=defaultPath)\n",
    "    files=fileList(foldPath,included=['*.bag_df.pickle'])\n",
    "    tr=None\n",
    "    tl=None\n",
    "    bl=None\n",
    "    br=None\n",
    "    iTot=len(files)\n",
    "    i=1\n",
    "    for item in files:\n",
    "        plot,df,parameters,path,tr,tl,bl,br=pickle2bokeh(item,exposeReturn=True,tr=tr,tl=tl,bl=bl,br=br,\n",
    "                     addBigTit=False,addSmallTit=False,addArrow=False,addStart=False,\n",
    "                        x_range=x_range, y_range=y_range,)\n",
    "        print (\"currently analysing {}, {}/{} files \").format(item.strip('/')[-1],i,iTot)\n",
    "        i+=1\n",
    "    show(plot)\n",
    "    return plot"
   ]
  },
  {
   "cell_type": "code",
   "execution_count": 7,
   "metadata": {
    "collapsed": false,
    "scrolled": true
   },
   "outputs": [
    {
     "name": "stdout",
     "output_type": "stream",
     "text": [
      "['/home/rhagoletis/catkin/src/World/bags/2018_01_18/2018-01-18__20~27~15_apple70_00_wind_nullSky_nullGrass_gain~8_speed~1.0_bout~15_DC~-0.033_traj.bag_df.pickle', '/home/rhagoletis/catkin/src/World/bags/2018_01_18/2018-01-18__20~14~38_apple70_00_wind_nullSky_nullGrass_gain~8_speed~1.0_bout~15_DC~-0.033_traj.bag_df.pickle', '/home/rhagoletis/catkin/src/World/bags/2018_01_18/2018-01-18__20~09~06_apple70_00_wind_nullSky_nullGrass_gain~8_speed~1.0_bout~15_DC~-0.033_traj.bag_df.pickle', '/home/rhagoletis/catkin/src/World/bags/2018_01_18/2018-01-18__20~01~45_apple70_00_wind_nullSky_nullGrass_gain~8_speed~1.0_bout~15_DC~0.0_traj.bag_df.pickle', '/home/rhagoletis/catkin/src/World/bags/2018_01_18/2018-01-18__19~55~09_apple70_00_wind_nullSky_nullGrass_gain~8_speed~1.0_bout~15_DC~0.0_traj.bag_df.pickle', '/home/rhagoletis/catkin/src/World/bags/2018_01_18/2018-01-18__19~48~43_apple70_00_wind_nullSky_nullGrass_gain~8_speed~1.0_bout~15_DC~0.0_traj.bag_df.pickle', '/home/rhagoletis/catkin/src/World/bags/2018_01_18/2018-01-18__15~20~22_apple70_00_wind_nullSky_nullGrass_gain~8_speed~1.0_bout~15_DC~0.0_traj.bag_df.pickle', '/home/rhagoletis/catkin/src/World/bags/2018_01_18/2018-01-18__15~10~48_apple70_00_wind_nullSky_nullGrass_gain~8_speed~1.0_bout~15_DC~0.0_traj.bag_df.pickle', '/home/rhagoletis/catkin/src/World/bags/2018_01_18/2018-01-18__15~00~13_apple70_00_wind_nullSky_nullGrass_gain~8_speed~1.0_bout~15_DC~0.0_traj.bag_df.pickle']\n",
      "\n",
      "\n",
      " Currently anal on 2018-01-18__20~27~15_apple70_00_wind_nullSky_nullGrass_gain~8_speed~1.0_bout~15_DC~-0.033_traj.bag_df.pickle. \n",
      " It is 1 / 9 file\n",
      "Elapsed time: 2.674218 seconds.\n",
      "\n",
      "\n",
      "\n",
      " Currently anal on 2018-01-18__20~14~38_apple70_00_wind_nullSky_nullGrass_gain~8_speed~1.0_bout~15_DC~-0.033_traj.bag_df.pickle. \n",
      " It is 2 / 9 file\n",
      "Elapsed time: 4.701460 seconds.\n",
      "\n",
      "\n",
      "\n",
      " Currently anal on 2018-01-18__20~09~06_apple70_00_wind_nullSky_nullGrass_gain~8_speed~1.0_bout~15_DC~-0.033_traj.bag_df.pickle. \n",
      " It is 3 / 9 file\n",
      "Elapsed time: 2.494657 seconds.\n",
      "\n",
      "\n",
      "\n",
      " Currently anal on 2018-01-18__20~01~45_apple70_00_wind_nullSky_nullGrass_gain~8_speed~1.0_bout~15_DC~0.0_traj.bag_df.pickle. \n",
      " It is 4 / 9 file\n",
      "Elapsed time: 2.717036 seconds.\n",
      "\n",
      "\n",
      "\n",
      " Currently anal on 2018-01-18__19~55~09_apple70_00_wind_nullSky_nullGrass_gain~8_speed~1.0_bout~15_DC~0.0_traj.bag_df.pickle. \n",
      " It is 5 / 9 file\n",
      "Elapsed time: 2.623031 seconds.\n",
      "\n",
      "\n",
      "\n",
      " Currently anal on 2018-01-18__19~48~43_apple70_00_wind_nullSky_nullGrass_gain~8_speed~1.0_bout~15_DC~0.0_traj.bag_df.pickle. \n",
      " It is 6 / 9 file\n",
      "Elapsed time: 2.922022 seconds.\n",
      "\n",
      "\n",
      "\n",
      " Currently anal on 2018-01-18__15~20~22_apple70_00_wind_nullSky_nullGrass_gain~8_speed~1.0_bout~15_DC~0.0_traj.bag_df.pickle. \n",
      " It is 7 / 9 file\n",
      "Elapsed time: 4.765996 seconds.\n",
      "\n",
      "\n",
      "\n",
      " Currently anal on 2018-01-18__15~10~48_apple70_00_wind_nullSky_nullGrass_gain~8_speed~1.0_bout~15_DC~0.0_traj.bag_df.pickle. \n",
      " It is 8 / 9 file\n",
      "Elapsed time: 2.940082 seconds.\n",
      "\n",
      "\n",
      "\n",
      " Currently anal on 2018-01-18__15~00~13_apple70_00_wind_nullSky_nullGrass_gain~8_speed~1.0_bout~15_DC~0.0_traj.bag_df.pickle. \n",
      " It is 9 / 9 file\n",
      "Elapsed time: 2.542515 seconds.\n",
      "\n",
      "Total time 0:00:43.938594\n"
     ]
    }
   ],
   "source": [
    "pickleDir2bokeh(addSmallTit=True,addOdour=True,addArrow=True,addStart=True)"
   ]
  },
  {
   "cell_type": "code",
   "execution_count": null,
   "metadata": {
    "collapsed": false,
    "scrolled": true
   },
   "outputs": [],
   "source": [
    "pickle2bokeh(path='/media/rhagoletis/6db8b2b2-ebe2-4555-9b79-93b10ef9dec31/2017_09/2017_09_28/2017-09-28__22~14~39_apple61_11_odour_wind_nullSky_gain~8_speed~1.0_bout~30_DC~0.0_traj.bag_df.pickle',\n",
    "             addOdour=False,addArrow=False,addStart=False,addSmallTit=False)"
   ]
  },
  {
   "cell_type": "code",
   "execution_count": 10,
   "metadata": {
    "collapsed": false,
    "scrolled": true
   },
   "outputs": [
    {
     "name": "stdout",
     "output_type": "stream",
     "text": [
      "['/media/rhagoletis/6db8b2b2-ebe2-4555-9b79-93b10ef9dec31/2018/2018_01/2018_01_17/2018-01-17__20~13~09_apple69_00_wind_nullSky_gain~8_speed~1.0_bout~15_DC~-0.219_traj.bag', '/media/rhagoletis/6db8b2b2-ebe2-4555-9b79-93b10ef9dec31/2018/2018_01/2018_01_17/2018-01-17__20~04~03_apple69_00_wind_nullSky_gain~8_speed~1.0_bout~15_DC~-0.219_traj.bag', '/media/rhagoletis/6db8b2b2-ebe2-4555-9b79-93b10ef9dec31/2018/2018_01/2018_01_17/2018-01-17__19~54~53_apple69_00_wind_nullSky_gain~8_speed~1.0_bout~15_DC~-0.219_traj.bag', '/media/rhagoletis/6db8b2b2-ebe2-4555-9b79-93b10ef9dec31/2018/2018_01/2018_01_17/2018-01-17__19~47~21_apple69_00_wind_nullSky_gain~8_speed~1.0_bout~15_DC~-0.219_traj.bag', '/media/rhagoletis/6db8b2b2-ebe2-4555-9b79-93b10ef9dec31/2018/2018_01/2018_01_17/2018-01-17__19~40~05_apple69_00_wind_nullSky_gain~8_speed~1.0_bout~15_DC~-0.219_traj.bag', '/media/rhagoletis/6db8b2b2-ebe2-4555-9b79-93b10ef9dec31/2018/2018_01/2018_01_17/2018-01-17__19~33~19_apple69_00_wind_nullSky_gain~8_speed~1.0_bout~15_DC~-0.219_traj.bag', '/media/rhagoletis/6db8b2b2-ebe2-4555-9b79-93b10ef9dec31/2018/2018_01/2018_01_17/2018-01-17__19~27~06_apple69_00_wind_nullSky_gain~8_speed~1.0_bout~15_DC~-0.219_traj.bag', '/media/rhagoletis/6db8b2b2-ebe2-4555-9b79-93b10ef9dec31/2018/2018_01/2018_01_17/2018-01-17__19~24~26_apple69_00_wind_nullSky_gain~8_speed~1.0_bout~15_DC~-0.219_traj.bag', '/media/rhagoletis/6db8b2b2-ebe2-4555-9b79-93b10ef9dec31/2018/2018_01/2018_01_17/2018-01-17__19~22~32_apple69_00_wind_nullSky_gain~8_speed~1.0_bout~15_DC~-0.219_traj.bag', '/media/rhagoletis/6db8b2b2-ebe2-4555-9b79-93b10ef9dec31/2018/2018_01/2018_01_17/2018-01-17__19~14~52_apple69_00_wind_nullSky_gain~8_speed~1.0_bout~15_DC~-0.219_traj.bag', '/media/rhagoletis/6db8b2b2-ebe2-4555-9b79-93b10ef9dec31/2018/2018_01/2018_01_17/2018-01-17__19~07~48_apple69_00_wind_nullSky_gain~8_speed~1.0_bout~15_DC~-0.219_traj.bag', '/media/rhagoletis/6db8b2b2-ebe2-4555-9b79-93b10ef9dec31/2018/2018_01/2018_01_17/2018-01-17__19~01~14_apple69_00_wind_nullSky_gain~8_speed~1.0_bout~15_DC~-0.219_traj.bag', '/media/rhagoletis/6db8b2b2-ebe2-4555-9b79-93b10ef9dec31/2018/2018_01/2018_01_17/2018-01-17__18~54~11_apple69_00_wind_nullSky_gain~8_speed~1.0_bout~15_DC~-0.219_traj.bag', '/media/rhagoletis/6db8b2b2-ebe2-4555-9b79-93b10ef9dec31/2018/2018_01/2018_01_17/2018-01-17__18~50~01_apple69_00_wind_nullSky_gain~8_speed~1.0_bout~15_DC~-0.219_traj.bag', '/media/rhagoletis/6db8b2b2-ebe2-4555-9b79-93b10ef9dec31/2018/2018_01/2018_01_17/2018-01-17__18~39~31_apple69_00_wind_nullSky_gain~8_speed~1.0_bout~15_DC~-0.219_traj.bag', '/media/rhagoletis/6db8b2b2-ebe2-4555-9b79-93b10ef9dec31/2018/2018_01/2018_01_17/2018-01-17__18~19~48_apple69_00_wind_gain~8_speed~1.0_bout~15_DC~-0.02_traj.bag', '/media/rhagoletis/6db8b2b2-ebe2-4555-9b79-93b10ef9dec31/2018/2018_01/2018_01_17/2018-01-17__18~12~12_apple69_00_wind_gain~8_speed~1.0_bout~15_DC~-0.02_traj.bag', '/media/rhagoletis/6db8b2b2-ebe2-4555-9b79-93b10ef9dec31/2018/2018_01/2018_01_17/2018-01-17__17~54~40_apple69_00_wind_gain~8_speed~1.0_bout~15_DC~-0.02_traj.bag', '/media/rhagoletis/6db8b2b2-ebe2-4555-9b79-93b10ef9dec31/2018/2018_01/2018_01_17/2018-01-17__15~04~44_apple69_00_wind_gain~8_speed~1.0_bout~15_DC~-0.02_traj.bag', '/media/rhagoletis/6db8b2b2-ebe2-4555-9b79-93b10ef9dec31/2018/2018_01/2018_01_17/2018-01-17__14~58~16_apple69_00_wind_gain~8_speed~1.0_bout~15_DC~-0.02_traj.bag', '/media/rhagoletis/6db8b2b2-ebe2-4555-9b79-93b10ef9dec31/2018/2018_01/2018_01_17/2018-01-17__14~52~38_apple69_00_wind_gain~8_speed~1.0_bout~15_DC~-0.02_traj.bag', '/media/rhagoletis/6db8b2b2-ebe2-4555-9b79-93b10ef9dec31/2018/2018_01/2018_01_17/2018-01-17__14~43~47_apple69_00_wind_gain~8_speed~1.0_bout~15_DC~-0.02_traj.bag', '/media/rhagoletis/6db8b2b2-ebe2-4555-9b79-93b10ef9dec31/2018/2018_01/2018_01_17/2018-01-17__14~38~15_apple69_00_wind_gain~8_speed~1.0_bout~15_DC~-0.02_traj.bag', '/media/rhagoletis/6db8b2b2-ebe2-4555-9b79-93b10ef9dec31/2018/2018_01/2018_01_17/2018-01-17__12~32~54_apple69_00_wind_nullSky_nullGrass_gain~8_speed~1.0_bout~15_DC~-0.02_traj.bag', '/media/rhagoletis/6db8b2b2-ebe2-4555-9b79-93b10ef9dec31/2018/2018_01/2018_01_17/2018-01-17__12~27~21_apple69_00_wind_nullSky_nullGrass_gain~8_speed~1.0_bout~15_DC~-0.02_traj.bag', '/media/rhagoletis/6db8b2b2-ebe2-4555-9b79-93b10ef9dec31/2018/2018_01/2018_01_17/2018-01-17__12~21~48_apple69_00_wind_nullSky_nullGrass_gain~8_speed~1.0_bout~15_DC~-0.02_traj.bag', '/media/rhagoletis/6db8b2b2-ebe2-4555-9b79-93b10ef9dec31/2018/2018_01/2018_01_17/2018-01-17__12~19~17_apple69_00_wind_nullSky_nullGrass_gain~8_speed~1.0_bout~15_DC~-0.02_traj.bag', '/media/rhagoletis/6db8b2b2-ebe2-4555-9b79-93b10ef9dec31/2018/2018_01/2018_01_17/2018-01-17__12~12~40_apple69_00_wind_nullSky_nullGrass_gain~8_speed~1.0_bout~15_DC~-0.02_traj.bag', '/media/rhagoletis/6db8b2b2-ebe2-4555-9b79-93b10ef9dec31/2018/2018_01/2018_01_17/2018-01-17__12~06~58_apple69_00_wind_nullSky_nullGrass_gain~8_speed~1.0_bout~15_DC~-0.02_traj.bag', '/media/rhagoletis/6db8b2b2-ebe2-4555-9b79-93b10ef9dec31/2018/2018_01/2018_01_17/2018-01-17__12~01~29_apple69_00_wind_nullSky_nullGrass_gain~8_speed~1.0_bout~15_DC~-0.02_traj.bag']\n",
      "['/media/rhagoletis/6db8b2b2-ebe2-4555-9b79-93b10ef9dec31/2018/2018_01/2018_01_17/2018-01-17__20~13~09_apple69_00_wind_nullSky_gain~8_speed~1.0_bout~15_DC~-0.219_traj.bag'] \n",
      "\n",
      "starting analysis of file 2018-01-17__20~13~09_apple69_00_wind_nullSky_gain~8_speed~1.0_bout~15_DC~-0.219_traj.bag , 1 / 1 files\n",
      "Elapsed time: 8.678253 seconds.\n",
      "\n",
      "\n",
      "analysis of 1 files complete\n",
      "\n",
      "\n",
      " Currently anal on 2018-01-17__20~13~09_apple69_00_wind_nullSky_gain~8_speed~1.0_bout~15_DC~-0.219_traj.bag. \n",
      " It is 1 / 30 file\n",
      "Elapsed time: 0.558736 seconds.\n",
      "\n",
      "['/media/rhagoletis/6db8b2b2-ebe2-4555-9b79-93b10ef9dec31/2018/2018_01/2018_01_17/2018-01-17__20~04~03_apple69_00_wind_nullSky_gain~8_speed~1.0_bout~15_DC~-0.219_traj.bag'] \n",
      "\n",
      "starting analysis of file 2018-01-17__20~04~03_apple69_00_wind_nullSky_gain~8_speed~1.0_bout~15_DC~-0.219_traj.bag , 1 / 1 files\n",
      "Elapsed time: 9.307751 seconds.\n",
      "\n",
      "\n",
      "analysis of 1 files complete\n",
      "\n",
      "\n",
      " Currently anal on 2018-01-17__20~04~03_apple69_00_wind_nullSky_gain~8_speed~1.0_bout~15_DC~-0.219_traj.bag. \n",
      " It is 2 / 30 file\n",
      "Elapsed time: 0.561292 seconds.\n",
      "\n",
      "['/media/rhagoletis/6db8b2b2-ebe2-4555-9b79-93b10ef9dec31/2018/2018_01/2018_01_17/2018-01-17__19~54~53_apple69_00_wind_nullSky_gain~8_speed~1.0_bout~15_DC~-0.219_traj.bag'] \n",
      "\n",
      "starting analysis of file 2018-01-17__19~54~53_apple69_00_wind_nullSky_gain~8_speed~1.0_bout~15_DC~-0.219_traj.bag , 1 / 1 files\n",
      "Elapsed time: 8.926723 seconds.\n",
      "\n",
      "\n",
      "analysis of 1 files complete\n",
      "\n",
      "\n",
      " Currently anal on 2018-01-17__19~54~53_apple69_00_wind_nullSky_gain~8_speed~1.0_bout~15_DC~-0.219_traj.bag. \n",
      " It is 3 / 30 file\n",
      "Elapsed time: 0.650801 seconds.\n",
      "\n",
      "['/media/rhagoletis/6db8b2b2-ebe2-4555-9b79-93b10ef9dec31/2018/2018_01/2018_01_17/2018-01-17__19~47~21_apple69_00_wind_nullSky_gain~8_speed~1.0_bout~15_DC~-0.219_traj.bag'] \n",
      "\n",
      "starting analysis of file 2018-01-17__19~47~21_apple69_00_wind_nullSky_gain~8_speed~1.0_bout~15_DC~-0.219_traj.bag , 1 / 1 files\n",
      "Elapsed time: 6.873870 seconds.\n",
      "\n",
      "\n",
      "analysis of 1 files complete\n",
      "\n",
      "\n",
      " Currently anal on 2018-01-17__19~47~21_apple69_00_wind_nullSky_gain~8_speed~1.0_bout~15_DC~-0.219_traj.bag. \n",
      " It is 4 / 30 file\n",
      "Elapsed time: 0.573412 seconds.\n",
      "\n",
      "['/media/rhagoletis/6db8b2b2-ebe2-4555-9b79-93b10ef9dec31/2018/2018_01/2018_01_17/2018-01-17__19~40~05_apple69_00_wind_nullSky_gain~8_speed~1.0_bout~15_DC~-0.219_traj.bag'] \n",
      "\n",
      "starting analysis of file 2018-01-17__19~40~05_apple69_00_wind_nullSky_gain~8_speed~1.0_bout~15_DC~-0.219_traj.bag , 1 / 1 files\n",
      "Elapsed time: 6.713089 seconds.\n",
      "\n",
      "\n",
      "analysis of 1 files complete\n",
      "\n",
      "\n",
      " Currently anal on 2018-01-17__19~40~05_apple69_00_wind_nullSky_gain~8_speed~1.0_bout~15_DC~-0.219_traj.bag. \n",
      " It is 5 / 30 file\n",
      "Elapsed time: 0.506069 seconds.\n",
      "\n",
      "['/media/rhagoletis/6db8b2b2-ebe2-4555-9b79-93b10ef9dec31/2018/2018_01/2018_01_17/2018-01-17__19~33~19_apple69_00_wind_nullSky_gain~8_speed~1.0_bout~15_DC~-0.219_traj.bag'] \n",
      "\n",
      "starting analysis of file 2018-01-17__19~33~19_apple69_00_wind_nullSky_gain~8_speed~1.0_bout~15_DC~-0.219_traj.bag , 1 / 1 files\n",
      "Elapsed time: 6.849178 seconds.\n",
      "\n",
      "\n",
      "analysis of 1 files complete\n",
      "\n",
      "\n",
      " Currently anal on 2018-01-17__19~33~19_apple69_00_wind_nullSky_gain~8_speed~1.0_bout~15_DC~-0.219_traj.bag. \n",
      " It is 6 / 30 file\n",
      "Elapsed time: 0.512746 seconds.\n",
      "\n",
      "['/media/rhagoletis/6db8b2b2-ebe2-4555-9b79-93b10ef9dec31/2018/2018_01/2018_01_17/2018-01-17__19~27~06_apple69_00_wind_nullSky_gain~8_speed~1.0_bout~15_DC~-0.219_traj.bag'] \n",
      "\n",
      "starting analysis of file 2018-01-17__19~27~06_apple69_00_wind_nullSky_gain~8_speed~1.0_bout~15_DC~-0.219_traj.bag , 1 / 1 files\n",
      "Elapsed time: 6.390926 seconds.\n",
      "\n",
      "\n",
      "analysis of 1 files complete\n",
      "\n",
      "\n",
      " Currently anal on 2018-01-17__19~27~06_apple69_00_wind_nullSky_gain~8_speed~1.0_bout~15_DC~-0.219_traj.bag. \n",
      " It is 7 / 30 file\n",
      "Elapsed time: 0.483841 seconds.\n",
      "\n",
      "['/media/rhagoletis/6db8b2b2-ebe2-4555-9b79-93b10ef9dec31/2018/2018_01/2018_01_17/2018-01-17__19~24~26_apple69_00_wind_nullSky_gain~8_speed~1.0_bout~15_DC~-0.219_traj.bag'] \n",
      "\n",
      "starting analysis of file 2018-01-17__19~24~26_apple69_00_wind_nullSky_gain~8_speed~1.0_bout~15_DC~-0.219_traj.bag , 1 / 1 files\n",
      "no such file!, trying the pickle\n",
      "Elapsed time: 2.692329 seconds.\n",
      "\n",
      "\n",
      "analysis of 1 files complete\n",
      "\n",
      "\n",
      " Currently anal on 2018-01-17__19~24~26_apple69_00_wind_nullSky_gain~8_speed~1.0_bout~15_DC~-0.219_traj.bag. \n",
      " It is 8 / 30 file\n",
      "Elapsed time: 0.392459 seconds.\n",
      "\n",
      "['/media/rhagoletis/6db8b2b2-ebe2-4555-9b79-93b10ef9dec31/2018/2018_01/2018_01_17/2018-01-17__19~22~32_apple69_00_wind_nullSky_gain~8_speed~1.0_bout~15_DC~-0.219_traj.bag'] \n",
      "\n",
      "starting analysis of file 2018-01-17__19~22~32_apple69_00_wind_nullSky_gain~8_speed~1.0_bout~15_DC~-0.219_traj.bag , 1 / 1 files\n",
      "no such file!, trying the pickle\n",
      "Elapsed time: 4.283642 seconds.\n",
      "\n",
      "\n",
      "analysis of 1 files complete\n",
      "\n",
      "\n",
      " Currently anal on 2018-01-17__19~22~32_apple69_00_wind_nullSky_gain~8_speed~1.0_bout~15_DC~-0.219_traj.bag. \n",
      " It is 9 / 30 file\n",
      "Elapsed time: 0.442427 seconds.\n",
      "\n",
      "['/media/rhagoletis/6db8b2b2-ebe2-4555-9b79-93b10ef9dec31/2018/2018_01/2018_01_17/2018-01-17__19~14~52_apple69_00_wind_nullSky_gain~8_speed~1.0_bout~15_DC~-0.219_traj.bag'] \n",
      "\n",
      "starting analysis of file 2018-01-17__19~14~52_apple69_00_wind_nullSky_gain~8_speed~1.0_bout~15_DC~-0.219_traj.bag , 1 / 1 files\n",
      "Elapsed time: 8.373539 seconds.\n",
      "\n",
      "\n",
      "analysis of 1 files complete\n",
      "\n",
      "\n",
      " Currently anal on 2018-01-17__19~14~52_apple69_00_wind_nullSky_gain~8_speed~1.0_bout~15_DC~-0.219_traj.bag. \n",
      " It is 10 / 30 file\n",
      "Elapsed time: 0.525311 seconds.\n",
      "\n",
      "['/media/rhagoletis/6db8b2b2-ebe2-4555-9b79-93b10ef9dec31/2018/2018_01/2018_01_17/2018-01-17__19~07~48_apple69_00_wind_nullSky_gain~8_speed~1.0_bout~15_DC~-0.219_traj.bag'] \n",
      "\n",
      "starting analysis of file 2018-01-17__19~07~48_apple69_00_wind_nullSky_gain~8_speed~1.0_bout~15_DC~-0.219_traj.bag , 1 / 1 files\n",
      "Elapsed time: 6.814090 seconds.\n",
      "\n",
      "\n",
      "analysis of 1 files complete\n",
      "\n",
      "\n",
      " Currently anal on 2018-01-17__19~07~48_apple69_00_wind_nullSky_gain~8_speed~1.0_bout~15_DC~-0.219_traj.bag. \n",
      " It is 11 / 30 file\n",
      "Elapsed time: 0.895443 seconds.\n",
      "\n",
      "['/media/rhagoletis/6db8b2b2-ebe2-4555-9b79-93b10ef9dec31/2018/2018_01/2018_01_17/2018-01-17__19~01~14_apple69_00_wind_nullSky_gain~8_speed~1.0_bout~15_DC~-0.219_traj.bag'] \n",
      "\n",
      "starting analysis of file 2018-01-17__19~01~14_apple69_00_wind_nullSky_gain~8_speed~1.0_bout~15_DC~-0.219_traj.bag , 1 / 1 files\n",
      "Elapsed time: 5.077449 seconds.\n",
      "\n",
      "\n",
      "analysis of 1 files complete\n",
      "\n",
      "\n",
      " Currently anal on 2018-01-17__19~01~14_apple69_00_wind_nullSky_gain~8_speed~1.0_bout~15_DC~-0.219_traj.bag. \n",
      " It is 12 / 30 file\n",
      "Elapsed time: 0.463161 seconds.\n",
      "\n",
      "['/media/rhagoletis/6db8b2b2-ebe2-4555-9b79-93b10ef9dec31/2018/2018_01/2018_01_17/2018-01-17__18~54~11_apple69_00_wind_nullSky_gain~8_speed~1.0_bout~15_DC~-0.219_traj.bag'] \n",
      "\n",
      "starting analysis of file 2018-01-17__18~54~11_apple69_00_wind_nullSky_gain~8_speed~1.0_bout~15_DC~-0.219_traj.bag , 1 / 1 files\n",
      "Elapsed time: 7.028774 seconds.\n",
      "\n",
      "\n",
      "analysis of 1 files complete\n",
      "\n",
      "\n",
      " Currently anal on 2018-01-17__18~54~11_apple69_00_wind_nullSky_gain~8_speed~1.0_bout~15_DC~-0.219_traj.bag. \n",
      " It is 13 / 30 file\n",
      "Elapsed time: 0.624844 seconds.\n",
      "\n",
      "['/media/rhagoletis/6db8b2b2-ebe2-4555-9b79-93b10ef9dec31/2018/2018_01/2018_01_17/2018-01-17__18~50~01_apple69_00_wind_nullSky_gain~8_speed~1.0_bout~15_DC~-0.219_traj.bag'] \n",
      "\n",
      "starting analysis of file 2018-01-17__18~50~01_apple69_00_wind_nullSky_gain~8_speed~1.0_bout~15_DC~-0.219_traj.bag , 1 / 1 files\n",
      "no such file!, trying the pickle\n",
      "Elapsed time: 4.351937 seconds.\n",
      "\n",
      "\n",
      "analysis of 1 files complete\n",
      "\n",
      "\n",
      " Currently anal on 2018-01-17__18~50~01_apple69_00_wind_nullSky_gain~8_speed~1.0_bout~15_DC~-0.219_traj.bag. \n",
      " It is 14 / 30 file\n",
      "Elapsed time: 0.433690 seconds.\n",
      "\n",
      "['/media/rhagoletis/6db8b2b2-ebe2-4555-9b79-93b10ef9dec31/2018/2018_01/2018_01_17/2018-01-17__18~39~31_apple69_00_wind_nullSky_gain~8_speed~1.0_bout~15_DC~-0.219_traj.bag'] \n",
      "\n",
      "starting analysis of file 2018-01-17__18~39~31_apple69_00_wind_nullSky_gain~8_speed~1.0_bout~15_DC~-0.219_traj.bag , 1 / 1 files\n",
      "Elapsed time: 10.425096 seconds.\n",
      "\n",
      "\n",
      "analysis of 1 files complete\n",
      "\n",
      "\n",
      " Currently anal on 2018-01-17__18~39~31_apple69_00_wind_nullSky_gain~8_speed~1.0_bout~15_DC~-0.219_traj.bag. \n",
      " It is 15 / 30 file\n",
      "Elapsed time: 0.591285 seconds.\n",
      "\n",
      "['/media/rhagoletis/6db8b2b2-ebe2-4555-9b79-93b10ef9dec31/2018/2018_01/2018_01_17/2018-01-17__18~19~48_apple69_00_wind_gain~8_speed~1.0_bout~15_DC~-0.02_traj.bag'] \n",
      "\n",
      "starting analysis of file 2018-01-17__18~19~48_apple69_00_wind_gain~8_speed~1.0_bout~15_DC~-0.02_traj.bag , 1 / 1 files\n",
      "Elapsed time: 9.579669 seconds.\n",
      "\n",
      "\n",
      "analysis of 1 files complete\n",
      "\n",
      "\n",
      " Currently anal on 2018-01-17__18~19~48_apple69_00_wind_gain~8_speed~1.0_bout~15_DC~-0.02_traj.bag. \n",
      " It is 16 / 30 file\n",
      "Elapsed time: 0.564644 seconds.\n",
      "\n",
      "['/media/rhagoletis/6db8b2b2-ebe2-4555-9b79-93b10ef9dec31/2018/2018_01/2018_01_17/2018-01-17__18~12~12_apple69_00_wind_gain~8_speed~1.0_bout~15_DC~-0.02_traj.bag'] \n",
      "\n",
      "starting analysis of file 2018-01-17__18~12~12_apple69_00_wind_gain~8_speed~1.0_bout~15_DC~-0.02_traj.bag , 1 / 1 files\n",
      "Elapsed time: 7.989132 seconds.\n",
      "\n",
      "\n",
      "analysis of 1 files complete\n",
      "\n",
      "\n",
      " Currently anal on 2018-01-17__18~12~12_apple69_00_wind_gain~8_speed~1.0_bout~15_DC~-0.02_traj.bag. \n",
      " It is 17 / 30 file\n",
      "Elapsed time: 0.536296 seconds.\n",
      "\n",
      "['/media/rhagoletis/6db8b2b2-ebe2-4555-9b79-93b10ef9dec31/2018/2018_01/2018_01_17/2018-01-17__17~54~40_apple69_00_wind_gain~8_speed~1.0_bout~15_DC~-0.02_traj.bag'] \n",
      "\n",
      "starting analysis of file 2018-01-17__17~54~40_apple69_00_wind_gain~8_speed~1.0_bout~15_DC~-0.02_traj.bag , 1 / 1 files\n",
      "Elapsed time: 18.411896 seconds.\n",
      "\n",
      "\n",
      "analysis of 1 files complete\n",
      "\n",
      "\n",
      " Currently anal on 2018-01-17__17~54~40_apple69_00_wind_gain~8_speed~1.0_bout~15_DC~-0.02_traj.bag. \n",
      " It is 18 / 30 file\n",
      "Elapsed time: 0.782247 seconds.\n",
      "\n",
      "['/media/rhagoletis/6db8b2b2-ebe2-4555-9b79-93b10ef9dec31/2018/2018_01/2018_01_17/2018-01-17__15~04~44_apple69_00_wind_gain~8_speed~1.0_bout~15_DC~-0.02_traj.bag'] \n",
      "\n",
      "starting analysis of file 2018-01-17__15~04~44_apple69_00_wind_gain~8_speed~1.0_bout~15_DC~-0.02_traj.bag , 1 / 1 files\n",
      "Elapsed time: 1.695645 seconds.\n",
      "\n",
      "\n",
      "analysis of 1 files complete\n",
      "\n",
      "\n",
      " Currently anal on 2018-01-17__15~04~44_apple69_00_wind_gain~8_speed~1.0_bout~15_DC~-0.02_traj.bag. \n",
      " It is 19 / 30 file\n",
      "Elapsed time: 0.368066 seconds.\n",
      "\n",
      "['/media/rhagoletis/6db8b2b2-ebe2-4555-9b79-93b10ef9dec31/2018/2018_01/2018_01_17/2018-01-17__14~58~16_apple69_00_wind_gain~8_speed~1.0_bout~15_DC~-0.02_traj.bag'] \n",
      "\n",
      "starting analysis of file 2018-01-17__14~58~16_apple69_00_wind_gain~8_speed~1.0_bout~15_DC~-0.02_traj.bag , 1 / 1 files\n",
      "Elapsed time: 6.785753 seconds.\n",
      "\n",
      "\n",
      "analysis of 1 files complete\n",
      "\n",
      "\n",
      " Currently anal on 2018-01-17__14~58~16_apple69_00_wind_gain~8_speed~1.0_bout~15_DC~-0.02_traj.bag. \n",
      " It is 20 / 30 file\n",
      "Elapsed time: 0.484388 seconds.\n",
      "\n",
      "['/media/rhagoletis/6db8b2b2-ebe2-4555-9b79-93b10ef9dec31/2018/2018_01/2018_01_17/2018-01-17__14~52~38_apple69_00_wind_gain~8_speed~1.0_bout~15_DC~-0.02_traj.bag'] \n",
      "\n",
      "starting analysis of file 2018-01-17__14~52~38_apple69_00_wind_gain~8_speed~1.0_bout~15_DC~-0.02_traj.bag , 1 / 1 files\n",
      "no such file!, trying the pickle\n",
      "Elapsed time: 6.300867 seconds.\n",
      "\n",
      "\n",
      "analysis of 1 files complete\n",
      "\n",
      "\n",
      " Currently anal on 2018-01-17__14~52~38_apple69_00_wind_gain~8_speed~1.0_bout~15_DC~-0.02_traj.bag. \n",
      " It is 21 / 30 file\n",
      "Elapsed time: 0.515583 seconds.\n",
      "\n",
      "['/media/rhagoletis/6db8b2b2-ebe2-4555-9b79-93b10ef9dec31/2018/2018_01/2018_01_17/2018-01-17__14~43~47_apple69_00_wind_gain~8_speed~1.0_bout~15_DC~-0.02_traj.bag'] \n",
      "\n",
      "starting analysis of file 2018-01-17__14~43~47_apple69_00_wind_gain~8_speed~1.0_bout~15_DC~-0.02_traj.bag , 1 / 1 files\n",
      "Elapsed time: 8.283663 seconds.\n",
      "\n",
      "\n",
      "analysis of 1 files complete\n",
      "\n",
      "\n",
      " Currently anal on 2018-01-17__14~43~47_apple69_00_wind_gain~8_speed~1.0_bout~15_DC~-0.02_traj.bag. \n",
      " It is 22 / 30 file\n",
      "Elapsed time: 0.536736 seconds.\n",
      "\n",
      "['/media/rhagoletis/6db8b2b2-ebe2-4555-9b79-93b10ef9dec31/2018/2018_01/2018_01_17/2018-01-17__14~38~15_apple69_00_wind_gain~8_speed~1.0_bout~15_DC~-0.02_traj.bag'] \n",
      "\n",
      "starting analysis of file 2018-01-17__14~38~15_apple69_00_wind_gain~8_speed~1.0_bout~15_DC~-0.02_traj.bag , 1 / 1 files\n",
      "Elapsed time: 7.286695 seconds.\n",
      "\n",
      "\n",
      "analysis of 1 files complete\n",
      "\n",
      "\n",
      " Currently anal on 2018-01-17__14~38~15_apple69_00_wind_gain~8_speed~1.0_bout~15_DC~-0.02_traj.bag. \n",
      " It is 23 / 30 file\n",
      "Elapsed time: 0.458233 seconds.\n",
      "\n",
      "['/media/rhagoletis/6db8b2b2-ebe2-4555-9b79-93b10ef9dec31/2018/2018_01/2018_01_17/2018-01-17__12~32~54_apple69_00_wind_nullSky_nullGrass_gain~8_speed~1.0_bout~15_DC~-0.02_traj.bag'] \n",
      "\n",
      "starting analysis of file 2018-01-17__12~32~54_apple69_00_wind_nullSky_nullGrass_gain~8_speed~1.0_bout~15_DC~-0.02_traj.bag , 1 / 1 files\n",
      "Elapsed time: 5.533537 seconds.\n",
      "\n",
      "\n",
      "analysis of 1 files complete\n",
      "\n",
      "\n",
      " Currently anal on 2018-01-17__12~32~54_apple69_00_wind_nullSky_nullGrass_gain~8_speed~1.0_bout~15_DC~-0.02_traj.bag. \n",
      " It is 24 / 30 file\n",
      "Elapsed time: 0.483970 seconds.\n",
      "\n",
      "['/media/rhagoletis/6db8b2b2-ebe2-4555-9b79-93b10ef9dec31/2018/2018_01/2018_01_17/2018-01-17__12~27~21_apple69_00_wind_nullSky_nullGrass_gain~8_speed~1.0_bout~15_DC~-0.02_traj.bag'] \n",
      "\n",
      "starting analysis of file 2018-01-17__12~27~21_apple69_00_wind_nullSky_nullGrass_gain~8_speed~1.0_bout~15_DC~-0.02_traj.bag , 1 / 1 files\n",
      "Elapsed time: 5.841435 seconds.\n",
      "\n",
      "\n",
      "analysis of 1 files complete\n",
      "\n",
      "\n",
      " Currently anal on 2018-01-17__12~27~21_apple69_00_wind_nullSky_nullGrass_gain~8_speed~1.0_bout~15_DC~-0.02_traj.bag. \n",
      " It is 25 / 30 file\n",
      "Elapsed time: 0.473690 seconds.\n",
      "\n",
      "['/media/rhagoletis/6db8b2b2-ebe2-4555-9b79-93b10ef9dec31/2018/2018_01/2018_01_17/2018-01-17__12~21~48_apple69_00_wind_nullSky_nullGrass_gain~8_speed~1.0_bout~15_DC~-0.02_traj.bag'] \n",
      "\n",
      "starting analysis of file 2018-01-17__12~21~48_apple69_00_wind_nullSky_nullGrass_gain~8_speed~1.0_bout~15_DC~-0.02_traj.bag , 1 / 1 files\n",
      "Elapsed time: 5.720298 seconds.\n",
      "\n",
      "\n",
      "analysis of 1 files complete\n",
      "\n",
      "\n",
      " Currently anal on 2018-01-17__12~21~48_apple69_00_wind_nullSky_nullGrass_gain~8_speed~1.0_bout~15_DC~-0.02_traj.bag. \n",
      " It is 26 / 30 file\n",
      "Elapsed time: 0.447508 seconds.\n",
      "\n",
      "['/media/rhagoletis/6db8b2b2-ebe2-4555-9b79-93b10ef9dec31/2018/2018_01/2018_01_17/2018-01-17__12~19~17_apple69_00_wind_nullSky_nullGrass_gain~8_speed~1.0_bout~15_DC~-0.02_traj.bag'] \n",
      "\n",
      "starting analysis of file 2018-01-17__12~19~17_apple69_00_wind_nullSky_nullGrass_gain~8_speed~1.0_bout~15_DC~-0.02_traj.bag , 1 / 1 files\n",
      "Elapsed time: 0.981931 seconds.\n",
      "\n",
      "\n",
      "analysis of 1 files complete\n",
      "\n",
      "\n",
      " Currently anal on 2018-01-17__12~19~17_apple69_00_wind_nullSky_nullGrass_gain~8_speed~1.0_bout~15_DC~-0.02_traj.bag. \n",
      " It is 27 / 30 file\n",
      "Elapsed time: 0.379904 seconds.\n",
      "\n",
      "['/media/rhagoletis/6db8b2b2-ebe2-4555-9b79-93b10ef9dec31/2018/2018_01/2018_01_17/2018-01-17__12~12~40_apple69_00_wind_nullSky_nullGrass_gain~8_speed~1.0_bout~15_DC~-0.02_traj.bag'] \n",
      "\n",
      "starting analysis of file 2018-01-17__12~12~40_apple69_00_wind_nullSky_nullGrass_gain~8_speed~1.0_bout~15_DC~-0.02_traj.bag , 1 / 1 files\n",
      "Elapsed time: 6.299525 seconds.\n",
      "\n",
      "\n",
      "analysis of 1 files complete\n",
      "\n",
      "\n",
      " Currently anal on 2018-01-17__12~12~40_apple69_00_wind_nullSky_nullGrass_gain~8_speed~1.0_bout~15_DC~-0.02_traj.bag. \n",
      " It is 28 / 30 file\n",
      "Elapsed time: 0.582917 seconds.\n",
      "\n",
      "['/media/rhagoletis/6db8b2b2-ebe2-4555-9b79-93b10ef9dec31/2018/2018_01/2018_01_17/2018-01-17__12~06~58_apple69_00_wind_nullSky_nullGrass_gain~8_speed~1.0_bout~15_DC~-0.02_traj.bag'] \n",
      "\n",
      "starting analysis of file 2018-01-17__12~06~58_apple69_00_wind_nullSky_nullGrass_gain~8_speed~1.0_bout~15_DC~-0.02_traj.bag , 1 / 1 files\n",
      "Elapsed time: 6.114053 seconds.\n",
      "\n",
      "\n",
      "analysis of 1 files complete\n",
      "\n",
      "\n",
      " Currently anal on 2018-01-17__12~06~58_apple69_00_wind_nullSky_nullGrass_gain~8_speed~1.0_bout~15_DC~-0.02_traj.bag. \n",
      " It is 29 / 30 file\n",
      "Elapsed time: 0.455175 seconds.\n",
      "\n",
      "['/media/rhagoletis/6db8b2b2-ebe2-4555-9b79-93b10ef9dec31/2018/2018_01/2018_01_17/2018-01-17__12~01~29_apple69_00_wind_nullSky_nullGrass_gain~8_speed~1.0_bout~15_DC~-0.02_traj.bag'] \n",
      "\n",
      "starting analysis of file 2018-01-17__12~01~29_apple69_00_wind_nullSky_nullGrass_gain~8_speed~1.0_bout~15_DC~-0.02_traj.bag , 1 / 1 files\n",
      "Elapsed time: 4.718780 seconds.\n",
      "\n",
      "\n",
      "analysis of 1 files complete\n",
      "\n",
      "\n",
      " Currently anal on 2018-01-17__12~01~29_apple69_00_wind_nullSky_nullGrass_gain~8_speed~1.0_bout~15_DC~-0.02_traj.bag. \n",
      " It is 30 / 30 file\n",
      "Elapsed time: 0.438647 seconds.\n",
      "\n",
      "Total time 0:03:59.038309\n"
     ]
    }
   ],
   "source": [
    "bagDir2bokeh()"
   ]
  },
  {
   "cell_type": "code",
   "execution_count": null,
   "metadata": {
    "collapsed": false
   },
   "outputs": [],
   "source": [
    "df=Out[56]\n",
    "df=df[0]"
   ]
  },
  {
   "cell_type": "code",
   "execution_count": null,
   "metadata": {
    "collapsed": false,
    "scrolled": true
   },
   "outputs": [],
   "source": [
    "xc=514\n",
    "yc=513\n",
    "w=15\n",
    "xw=w\n",
    "yw=w\n",
    "xr=(xc-xw,xc+xw)\n",
    "yr=(yc-yw,yc+yw)\n",
    "\n",
    "# pickleDir2bokeh(addBigTit=False,addSmallTit=False,addArrow=False,\n",
    "#                 addStart=False,x_range=xr,y_range=yr,\n",
    "#                 defaultPath='/media/rhagoletis/6db8b2b2-ebe2-4555-9b79-93b10ef9dec31/agg/odour+wind/')\n",
    "out=plotAggreg(x_range=xr,y_range=yr)"
   ]
  },
  {
   "cell_type": "code",
   "execution_count": null,
   "metadata": {
    "collapsed": true
   },
   "outputs": [],
   "source": [
    "a=pickle2df('/home/rhagoletis/catkin/src/World/bags/2017-09-03__17~46~56_apple55_00_odour_wind_gain~16_speed~1.0_bout~30_DC~0.0_traj.bag_df.pickle')\n",
    "df=a[0]"
   ]
  },
  {
   "cell_type": "code",
   "execution_count": null,
   "metadata": {
    "collapsed": false,
    "scrolled": true
   },
   "outputs": [],
   "source": [
    "df['run']=((df.trajectory__runNum-1)*4+df.trajectory__trial)"
   ]
  },
  {
   "cell_type": "code",
   "execution_count": null,
   "metadata": {
    "collapsed": false,
    "scrolled": true
   },
   "outputs": [],
   "source": [
    "df3=df[df.run==4]"
   ]
  },
  {
   "cell_type": "code",
   "execution_count": null,
   "metadata": {
    "collapsed": true
   },
   "outputs": [],
   "source": [
    "fps=165\n",
    "preE=2\n",
    "postE=2\n",
    "preE*=fps\n",
    "postE*=fps\n"
   ]
  },
  {
   "cell_type": "code",
   "execution_count": null,
   "metadata": {
    "collapsed": false
   },
   "outputs": [],
   "source": [
    "df3=df[df.run==4*i]\n",
    "offI=np.where(df3.trajectory__valve1.diff()==-1)\n",
    "# offI[0]=np.append(offI[0],len(df3)-1)\n",
    "offI=np.append(offI[0],len(df3)-1)\n",
    "\n",
    "offInterval=np.diff(offI)\n",
    "offInterval=np.append(offInterval,0)\n",
    "print offI,len(offI)\n",
    "print offInterval,len(offInterval)\n",
    "\n",
    "xcoords=offI[offInterval>preE]\n",
    "xcoordsI=df3.index[xcoords]\n",
    "\n",
    "\n",
    "for xc in xcoords:\n",
    "    sx=df3.trajectory__pPos_x[xc]\n",
    "    sy=df3.trajectory__pPos_y[xc]\n",
    "    sh=df3.trajectory__pOri_x[xc]\n",
    "    \n",
    "    x=df3.trajectory__pPos_x-sx\n",
    "    y=df3.trajectory__pPos_y-sy\n",
    "    \n",
    "    xp=x*np.cos(np.deg2rad(sh))-y*np.sin(np.deg2rad(sh))\n",
    "    yp=x*np.sin(np.deg2rad(sh))+y*np.cos(np.deg2rad(sh))\n",
    "\n",
    "    \n",
    "    plt.scatter(x=xp[xc-preE:xc],\n",
    "                y=yp[xc-preE:xc],alpha=0.4,s=0.5)\n",
    "    plt.scatter(x=xp[xc:xc+postE],\n",
    "                y=yp[xc:xc+postE],alpha=1,s=2)\n",
    "\n",
    "#     plt.scatter(x=df3.trajectory__pPos_x[xc-preE:xc]-sx,\n",
    "#                 y=df3.trajectory__pPos_y[xc-preE:xc]-sy,alpha=0.4,s=0.5)\n",
    "#     plt.scatter(x=df3.trajectory__pPos_x[xc:xc+postE]-sx,\n",
    "#                 y=df3.trajectory__pPos_y[xc:xc+postE]-sy,alpha=1,s=2)\n",
    "\n",
    "#     df3.trajectory__pPos_x[xc-preE:xc+postE].plot()\n",
    "# for xc in xcoordsI:\n",
    "#     plt.axvline(x=xc)\n",
    "\n",
    "    \n",
    "# df3.trajectory__valve1.plot()\n",
    "plt.show()"
   ]
  },
  {
   "cell_type": "code",
   "execution_count": null,
   "metadata": {
    "collapsed": false
   },
   "outputs": [],
   "source": [
    "i=1\n",
    "print i\n",
    "df3=df[df.run==4*i]\n",
    "offI=np.where(df3.trajectory__valve1.diff()==-1)\n",
    "# offI[0]=np.append(offI[0],len(df3)-1)\n",
    "offI=np.append(offI[0],len(df3)-1)\n",
    "\n",
    "offInterval=np.diff(offI)\n",
    "offInterval=np.append(offInterval,0)\n",
    "print offI,len(offI)\n",
    "print offInterval,len(offInterval)\n",
    "\n",
    "xcoords=offI[offInterval>preE]\n",
    "xcoordsI=df3.index[xcoords]\n",
    "\n",
    "\n",
    "for xc in xcoords:\n",
    "    sx=df3.trajectory__pPos_x[xc]\n",
    "    sy=df3.trajectory__pPos_y[xc]\n",
    "    sh=-(df3.trajectory__pOri_x[xc])\n",
    "    print sh\n",
    "    \n",
    "    x=df3.trajectory__pPos_x-sx\n",
    "    y=df3.trajectory__pPos_y-sy\n",
    "    h=df3.trajectory__pOri_x\n",
    "\n",
    "#     xp=x\n",
    "#     yp=y\n",
    "#     plt.scatter(x=xp[xc-preE:xc],\n",
    "#                 y=yp[xc-preE:xc],alpha=0.4,s=.5)\n",
    "#     plt.scatter(x=xp[xc:xc+postE],\n",
    "#                 y=yp[xc:xc+postE],alpha=1,s=.10)\n",
    "    \n",
    "    xp=x*np.cos(np.deg2rad(sh))-y*np.sin(np.deg2rad(sh))\n",
    "    yp=x*np.sin(np.deg2rad(sh))+y*np.cos(np.deg2rad(sh))\n",
    "\n",
    "    print \n",
    "    plt.scatter(x=xp[xc-preE:xc],\n",
    "                y=yp[xc-preE:xc],alpha=0.4,s=2)\n",
    "    plt.scatter(x=xp[xc:xc+postE],\n",
    "                y=yp[xc:xc+postE],alpha=1,s=10)\n",
    "\n",
    "plt.axes().set_aspect('equal', 'datalim')\n",
    "plt.show()"
   ]
  },
  {
   "cell_type": "code",
   "execution_count": null,
   "metadata": {
    "collapsed": true
   },
   "outputs": [],
   "source": []
  },
  {
   "cell_type": "code",
   "execution_count": null,
   "metadata": {
    "collapsed": true
   },
   "outputs": [],
   "source": []
  },
  {
   "cell_type": "code",
   "execution_count": null,
   "metadata": {
    "collapsed": true
   },
   "outputs": [],
   "source": []
  },
  {
   "cell_type": "code",
   "execution_count": null,
   "metadata": {
    "collapsed": true
   },
   "outputs": [],
   "source": []
  },
  {
   "cell_type": "code",
   "execution_count": null,
   "metadata": {
    "collapsed": false
   },
   "outputs": [],
   "source": [
    "fps=165\n",
    "preT=2\n",
    "preE=3\n",
    "postE=3\n",
    "preE*=fps\n",
    "postE*=fps\n",
    "preT*=fps\n",
    "\n",
    "for i in df.run.unique():\n",
    "    print i\n",
    "    df3=df[df.run==4*i]\n",
    "    offI=np.where(df3.trajectory__valve1.diff()==-1)\n",
    "    # offI[0]=np.append(offI[0],len(df3)-1)\n",
    "    offI=np.append(offI[0],len(df3)-1)\n",
    "\n",
    "    offInterval=np.diff(offI)\n",
    "    offInterval=np.append(offInterval,0)\n",
    "    print offI,len(offI)\n",
    "    print offInterval,len(offInterval)\n",
    "\n",
    "    xcoords=offI[offInterval>preT]\n",
    "    xcoordsI=df3.index[xcoords]\n",
    "\n",
    "\n",
    "    for xc in xcoords:\n",
    "        sx=df3.trajectory__pPos_x[xc]\n",
    "        sy=df3.trajectory__pPos_y[xc]\n",
    "        sh=-(df3.trajectory__pOri_x[xc])\n",
    "        sh=0\n",
    "        print sh\n",
    "\n",
    "        x=df3.trajectory__pPos_x-sx\n",
    "        y=df3.trajectory__pPos_y-sy\n",
    "        h=df3.trajectory__pOri_x\n",
    "\n",
    "    #     xp=x\n",
    "    #     yp=y\n",
    "    #     plt.scatter(x=xp[xc-preE:xc],\n",
    "    #                 y=yp[xc-preE:xc],alpha=0.4,s=.5)\n",
    "    #     plt.scatter(x=xp[xc:xc+postE],\n",
    "    #                 y=yp[xc:xc+postE],alpha=1,s=.10)\n",
    "\n",
    "        xp=x*np.cos(np.deg2rad(sh))-y*np.sin(np.deg2rad(sh))\n",
    "        yp=x*np.sin(np.deg2rad(sh))+y*np.cos(np.deg2rad(sh))\n",
    "\n",
    "        print \n",
    "        plt.scatter(x=xp[xc-preE:xc],\n",
    "                    y=yp[xc-preE:xc],alpha=0.2,s=10,c='r')\n",
    "        plt.scatter(x=xp[xc:xc+postE],\n",
    "                    y=yp[xc:xc+postE],alpha=0.2,s=10,c='g')\n",
    "\n",
    "plt.axes().set_aspect('equal', 'datalim')\n",
    "plt.show()"
   ]
  },
  {
   "cell_type": "code",
   "execution_count": null,
   "metadata": {
    "collapsed": false
   },
   "outputs": [],
   "source": [
    "plt.scatter(x=df3.trajectory__pPos_x,y=df3.trajectory__pPos_y)\n",
    "plt.show()"
   ]
  },
  {
   "cell_type": "code",
   "execution_count": null,
   "metadata": {
    "collapsed": false
   },
   "outputs": [],
   "source": [
    "df3.index[offI[offInterval>preE]]"
   ]
  },
  {
   "cell_type": "code",
   "execution_count": null,
   "metadata": {
    "collapsed": false
   },
   "outputs": [],
   "source": [
    "xcoords=df3.index[offI[offInterval>preE]]"
   ]
  },
  {
   "cell_type": "code",
   "execution_count": null,
   "metadata": {
    "collapsed": false
   },
   "outputs": [],
   "source": [
    "offI[0][offInterval>preE]"
   ]
  },
  {
   "cell_type": "code",
   "execution_count": null,
   "metadata": {
    "collapsed": true
   },
   "outputs": [],
   "source": [
    "df3.trajectory__pPos_x.plot()\n"
   ]
  },
  {
   "cell_type": "code",
   "execution_count": null,
   "metadata": {
    "collapsed": false
   },
   "outputs": [],
   "source": [
    "df3.trajectory__pPos_x[xcoords[0]:]\n"
   ]
  },
  {
   "cell_type": "code",
   "execution_count": null,
   "metadata": {
    "collapsed": false
   },
   "outputs": [],
   "source": []
  },
  {
   "cell_type": "code",
   "execution_count": null,
   "metadata": {
    "collapsed": false
   },
   "outputs": [],
   "source": [
    "np.where(df3.trajectory__valve1.diff()==-1)`\n",
    "df3.trajectory__valve1.plot()\n",
    "plt.show()"
   ]
  },
  {
   "cell_type": "code",
   "execution_count": null,
   "metadata": {
    "collapsed": true
   },
   "outputs": [],
   "source": [
    "df3.trajectory__valve1.plot()\n",
    "plt.show()"
   ]
  },
  {
   "cell_type": "code",
   "execution_count": null,
   "metadata": {
    "collapsed": true
   },
   "outputs": [],
   "source": []
  },
  {
   "cell_type": "code",
   "execution_count": 13,
   "metadata": {
    "collapsed": false
   },
   "outputs": [
    {
     "ename": "NameError",
     "evalue": "name 'df' is not defined",
     "output_type": "error",
     "traceback": [
      "\u001b[1;31m-------------------------------------------------------------------------\u001b[0m",
      "\u001b[1;31mNameError\u001b[0m                               Traceback (most recent call last)",
      "\u001b[1;32m<ipython-input-13-7ed0097d7e9e>\u001b[0m in \u001b[0;36m<module>\u001b[1;34m()\u001b[0m\n\u001b[1;32m----> 1\u001b[1;33m \u001b[0mdf\u001b[0m\u001b[1;33m\u001b[0m\u001b[0m\n\u001b[0m",
      "\u001b[1;31mNameError\u001b[0m: name 'df' is not defined"
     ]
    }
   ],
   "source": []
  },
  {
   "cell_type": "code",
   "execution_count": 12,
   "metadata": {
    "collapsed": true
   },
   "outputs": [],
   "source": [
    "\n",
    "import scipy.interpolate as inter\n",
    "import numpy as np\n",
    "import pylab as plt\n",
    "\n",
    "x = np.array([13, 12, 11, 10, 9, 8, 7, 6, 5, 4, 3, 2, 1])\n",
    "y = np.array([2.404070, 1.588134, 1.760112, 1.771360, 1.860087,\n",
    "          1.955789, 1.910408, 1.655911, 1.778952, 2.624719,\n",
    "          1.698099, 3.022607, 3.303135])\n",
    "xx = np.arange(1,13.01,0.1)\n",
    "s1 = inter.InterpolatedUnivariateSpline (x, y)\n",
    "s1rev = inter.InterpolatedUnivariateSpline (x[::-1], y[::-1])\n",
    "# Use a smallish value for s\n",
    "s2 = inter.UnivariateSpline (x[::-1], y[::-1], s=0.1)\n",
    "s2crazy = inter.UnivariateSpline (x[::-1], y[::-1], s=5e8)\n",
    "plt.plot (x, y, 'bo', label='Data')\n",
    "# plt.plot (xx, s1(xx), 'k-', label='Spline, wrong order')\n",
    "plt.plot (xx, s1rev(xx), 'k--', label='Spline, correct order')\n",
    "# plt.plot (xx, s2(xx), 'r-', label='Spline, fit')\n",
    "# Uncomment to get the poor fit.\n",
    "#plt.plot (xx, s2crazy(xx), 'r--', label='Spline, fit, s=5e8')\n",
    "plt.minorticks_on()\n",
    "plt.legend()\n",
    "plt.xlabel('x')\n",
    "plt.ylabel('y')\n",
    "plt.show()"
   ]
  },
  {
   "cell_type": "code",
   "execution_count": 14,
   "metadata": {
    "collapsed": true
   },
   "outputs": [],
   "source": [
    "a=pickle2df()\n",
    "df=a[0]"
   ]
  },
  {
   "cell_type": "code",
   "execution_count": 17,
   "metadata": {
    "collapsed": false
   },
   "outputs": [
    {
     "data": {
      "text/plain": [
       "array([ 513.        ,  513.        ,  513.        , ...,  519.09887695,\n",
       "        519.10461426,  519.11035156])"
      ]
     },
     "execution_count": 17,
     "metadata": {},
     "output_type": "execute_result"
    }
   ],
   "source": [
    "x=df.trajectory__pPos_x.values\n",
    "y=df.trajectory__pPos_y.values\n"
   ]
  },
  {
   "cell_type": "code",
   "execution_count": 29,
   "metadata": {
    "collapsed": true
   },
   "outputs": [],
   "source": [
    "l=2000\n",
    "x_=x[:l]\n",
    "y_=y[:l]"
   ]
  },
  {
   "cell_type": "code",
   "execution_count": 30,
   "metadata": {
    "collapsed": false
   },
   "outputs": [],
   "source": [
    "plt.plot(x_,y_)\n",
    "plt.show()"
   ]
  },
  {
   "cell_type": "code",
   "execution_count": null,
   "metadata": {
    "collapsed": true
   },
   "outputs": [],
   "source": []
  },
  {
   "cell_type": "code",
   "execution_count": null,
   "metadata": {
    "collapsed": true
   },
   "outputs": [],
   "source": []
  },
  {
   "cell_type": "code",
   "execution_count": null,
   "metadata": {
    "collapsed": true
   },
   "outputs": [],
   "source": []
  },
  {
   "cell_type": "code",
   "execution_count": null,
   "metadata": {
    "collapsed": true
   },
   "outputs": [],
   "source": []
  },
  {
   "cell_type": "code",
   "execution_count": null,
   "metadata": {
    "collapsed": true
   },
   "outputs": [],
   "source": []
  },
  {
   "cell_type": "code",
   "execution_count": null,
   "metadata": {
    "collapsed": true
   },
   "outputs": [],
   "source": []
  },
  {
   "cell_type": "code",
   "execution_count": null,
   "metadata": {
    "collapsed": true
   },
   "outputs": [],
   "source": []
  },
  {
   "cell_type": "code",
   "execution_count": null,
   "metadata": {
    "collapsed": true
   },
   "outputs": [],
   "source": [
    "df2=df.copy()"
   ]
  },
  {
   "cell_type": "code",
   "execution_count": null,
   "metadata": {
    "collapsed": false,
    "scrolled": true
   },
   "outputs": [],
   "source": [
    "a"
   ]
  },
  {
   "cell_type": "code",
   "execution_count": null,
   "metadata": {
    "collapsed": true
   },
   "outputs": [],
   "source": [
    "df."
   ]
  },
  {
   "cell_type": "code",
   "execution_count": null,
   "metadata": {
    "collapsed": true
   },
   "outputs": [],
   "source": [
    "parameters=a[1]"
   ]
  },
  {
   "cell_type": "code",
   "execution_count": null,
   "metadata": {
    "collapsed": false
   },
   "outputs": [],
   "source": [
    "\n",
    "class PlotData():\n",
    "    def __init__(self,df,parameters, fig=None,\n",
    "              x_range=None, y_range=None,\n",
    "              plot_width=1000, plot_height=1000,\n",
    "              xc=513, yc=505, xw=20, yw=20,\n",
    "              showPlot=True, title=None, addOdour=True,\n",
    "              addStart=True, addArrow=True,reallign=False,xir=513,yir=513,\n",
    "                 plotFrom=None,plotTo=None,\n",
    "                 runNumFrom=None,runNumTo=None,\n",
    "                 caseFrom=None,caseTo=None,filterGui=False\n",
    "\n",
    "                 ):\n",
    "\n",
    "        self.df=df\n",
    "        # self.case=case\n",
    "        self.parameters=parameters\n",
    "        self.fig=fig\n",
    "        self.plot_width=plot_width\n",
    "        self.plot_height=plot_height\n",
    "        self.x_range=self.getRange(x_range, xc, xw)\n",
    "        self.y_range=self.getRange(y_range, yc, yw)\n",
    "\n",
    "        self.showPlot=showPlot\n",
    "        self.title=title\n",
    "\n",
    "        self.df2,self.plotFrom,self.plotTo=self.filterData(\n",
    "                                            self.df,runNumFrom,runNumTo,\n",
    "                                            caseFrom,caseTo,\n",
    "                                            plotFrom,plotTo,\n",
    "                                            reallign,xir,yir,\n",
    "                                            filterGui)\n",
    "\n",
    "        return self.df2\n",
    "\n",
    "    def filterData(self,df, runNumFrom,runNumTo,\n",
    "                    caseFrom,caseTo,plotFrom,plotTo,\n",
    "                    reallign,xir,yir,\n",
    "                   filterGui=True):\n",
    "\n",
    "        if filterGui:\n",
    "            msg = \"Enter the start stop of your data\"\n",
    "            title = \"Choose runNum/case or explicit index\"\n",
    "            fieldNames = [\"runNumFrom\", \"runNumTo\", \"caseFrom\", \"caseTo\", \"IndexFrom\", \"IndexTo\"]\n",
    "            fieldValues = multenterbox(msg, title, fieldNames)\n",
    "\n",
    "            runNumFrom=fieldValues[0]\n",
    "            runNumTo=fieldValues[1]\n",
    "            caseFrom=fieldValues[2]\n",
    "            caseTo=fieldValues[3]\n",
    "            plotFrom=fieldValues[4]\n",
    "            plotTo=fieldValues[5]\n",
    "\n",
    "\n",
    "        if plotFrom is 'start':\n",
    "            plotFrom=0\n",
    "        elif (filterGui and plotFrom=='') or (not filterGui and plotFrom is None):\n",
    "            plotFrom = np.where((df[\"trajectory__runNum\"] == runNumFrom) &\n",
    "                              (df[\"trajectory__case\"] == caseFrom))[0][0]\n",
    "\n",
    "\n",
    "        if plotTo is 'end':\n",
    "            plotTo = df.shape[0]\n",
    "        elif (filterGui and plotTo=='') or (not filterGui and plotTo is None):\n",
    "            plotTo = np.where((df[\"trajectory__runNum\"] == runNumTo) &\n",
    "                              (df[\"trajectory__case\"] == caseTo))[0][0]\n",
    "\n",
    "\n",
    "\n",
    "\n",
    "        if reallign:\n",
    "            xs = self.parameters['playerInitPos'][0]\n",
    "            ys = self.parameters['playerInitPos'][1]\n",
    "\n",
    "            xoffs = xs - xir\n",
    "            yoffs = ys - yir\n",
    "            self.parameters['playerInitPos'][0]-=xoffs\n",
    "            self.parameters['playerInitPos'][1]-=yoffs\n",
    "\n",
    "\n",
    "            df.trajectory__pPos_x-=xoffs\n",
    "            df.trajectory__pPos_y-=yoffs\n",
    "\n",
    "        return df.ix[plotFrom:plotTo,:],plotFrom,plotTo\n",
    "\n",
    "    def getRange(self, range, c, w):\n",
    "        '''\n",
    "        give the range if range is none as center +- width\n",
    "        :param range: a tuple containing range, None if need to defined by center and width\n",
    "        :param c: Center of the range\n",
    "        :param w: Total width of the range \n",
    "        :return: range tuple centered around c, with width w\n",
    "        '''\n",
    "        if range is None:\n",
    "            range=(c-w/2.,c+w/2.)\n",
    "\n",
    "        return range\n",
    "\n",
    "\n",
    "\n",
    "class BokehPlot(PlotData):\n",
    "    def __init__(self,case,TOOLS=\"pan,crosshair,wheel_zoom\\\n",
    "                ,box_zoom,reset,box_select,lasso_select,undo,redo,save\",\n",
    "                output_backend=\"webgl\",addSmallTit=True,titFontSize='14pt',\n",
    "                addTraj=True,addOdour=True,addStart=True,addArrow=True,\n",
    "                trajS=4,odourS=8,startS=10,arrowS=20,\n",
    "                trajAlpha=0.5,odourAlpha=0.8,startAlpha=0.9,arrowAlpha=0.8,\n",
    "                trajC='blue',odourC='green',startC='red',arrowC='black'):\n",
    "\n",
    "        self.df=super(PlotData, self).__init__()\n",
    "\n",
    "        dfc = self.df[self.df.trajectory__case == case]\n",
    "        x = dfc.trajectory__pPos_x\n",
    "        y = dfc.trajectory__pPos_y\n",
    "        h = np.deg2rad(dfc.trajectory__pOri_x)\n",
    "\n",
    "        if 'haw' in self.parameters['fly']:\n",
    "            dfcv = dfc.trajectory__valve2\n",
    "        elif 'apple' in self.parameters['fly']:\n",
    "            dfcv = dfc.trajectory__valve1\n",
    "\n",
    "        ox = dfc[dfcv == True].trajectory__pPos_x\n",
    "        oy = dfc[dfcv == True].trajectory__pPos_y\n",
    "\n",
    "\n",
    "        try:\n",
    "            cm = bp.viridis(max(self.parameters['odourQuad']) + 1)\n",
    "            fc = cm[self.parameters[\"odourQuad\"][case]]\n",
    "        except TypeError:\n",
    "            fc = bp.viridis(10)[5]\n",
    "\n",
    "        if not addSmallTit:\n",
    "            title = ''\n",
    "\n",
    "        if self.fig is None:\n",
    "            self.fig = figure(tools=TOOLS, x_range=self.x_range, y_range=self.y_range,\n",
    "                         plot_width=self.plot_width, plot_height=self.plot_height,\n",
    "                         active_scroll='wheel_zoom', title=title,\n",
    "                         output_backend=output_backend,)\n",
    "\n",
    "        self.fig.title.align = 'center'\n",
    "        self.fig.title.text_font_size = titFontSize\n",
    "\n",
    "        r = 2\n",
    "        xs = self.parameters['playerInitPos'][0]\n",
    "        ys = self.parameters['playerInitPos'][1] \n",
    "        # if reallign:\n",
    "        #     xoffs = xs - 513\n",
    "        #     yoffs = ys - 513\n",
    "        # else:\n",
    "        #     xoffs = 0\n",
    "        #     yoffs = 0\n",
    "\n",
    "        # Pos and heading of fly\n",
    "        if addTraj:\n",
    "            self.fig.triangle(x, y, size=trajS, angle=h, \n",
    "                              fill_alpha=trajAlpha, line_color=None,fill_color=trajC)\n",
    "\n",
    "        if addOdour:\n",
    "            # circle at odour pos, with pf encoded in color\n",
    "            self.fig.circle(ox, oy, size=odourS, fill_alpha=odourAlpha, line_color=None, \n",
    "                            fill_color=odourC)\n",
    "\n",
    "        if addStart:\n",
    "            # triangle at init pos\n",
    "            self.fig.triangle(xs,ys,\n",
    "                         size=startS, angle=self.parameters['playerInitH'], \n",
    "                              fill_alpha=startAlpha, line_color=None, color=startC)\n",
    "\n",
    "        # arrow\n",
    "\n",
    "        if self.parameters[\"windQuad\"][case] == -3:\n",
    "            lw = 0\n",
    "            la = 0.1\n",
    "        elif self.parameters[\"windQuad\"][case] == -2:\n",
    "            lw = 4\n",
    "            la = 1\n",
    "        else:\n",
    "            lw = 10\n",
    "            la = 1\n",
    "        # print 'le is',lw\n",
    "        theta = self.parameters['windQuadOpen'][case] + 180\n",
    "\n",
    "        if addArrow:\n",
    "            self.fig.add_layout(Arrow(end=VeeHead(size=arrowS), line_color=arrowC, \n",
    "                                    line_alpha=la,line_width=lw,\n",
    "                                    x_start=xs, y_start=ys, \n",
    "                                    x_end=xs + r * np.cos(np.deg2rad(theta)), \n",
    "                                    y_end=ys + r * np.sin(np.deg2rad(theta))))\n",
    "\n",
    "        return self.fig\n",
    "    \n"
   ]
  },
  {
   "cell_type": "code",
   "execution_count": null,
   "metadata": {
    "collapsed": false
   },
   "outputs": [],
   "source": [
    "BokehPlot(df=df,parameters=parameters,case=1)"
   ]
  },
  {
   "cell_type": "code",
   "execution_count": null,
   "metadata": {
    "collapsed": false
   },
   "outputs": [],
   "source": [
    "df=a[0]\n",
    "reset=np.where(df[\"trajectory__reset\"] == True)[0]\n",
    "print reset"
   ]
  },
  {
   "cell_type": "code",
   "execution_count": null,
   "metadata": {
    "collapsed": false
   },
   "outputs": [],
   "source": [
    "import arrow"
   ]
  },
  {
   "cell_type": "code",
   "execution_count": null,
   "metadata": {
    "collapsed": true
   },
   "outputs": [],
   "source": [
    "import easygui\n",
    "import arrow\n",
    "\n",
    "bagPath='/home/rhagoletis/catkin/src/World/bags/2017-09-03__17~46~56_apple55_00_odour_wind_gain~16_speed~1.0_bout~30_DC~0.0_full.bag'\n",
    "runNumStart=12\n",
    "caseStart=2\n",
    "\n",
    "# bagPath=easygui.fileopenbox(filetypes=['*.bag'])\n",
    "# runNumStart=easygui.integerbox(msg='wnter the start runNum')\n",
    "# caseStart=easygui.integerbox(msg='enter the start case')\n",
    "\n",
    "# runNumStop=easygui.integerbox(msg='wnter the stop runNum')\n",
    "# caseStop=easygui.integerbox(msg='enter the start case')\n",
    "\n",
    "pklP='/home/rhagoletis/catkin/src/World/bags/2017-09-03__17~46~56_apple55_00_odour_wind_gain~16_speed~1.0_bout~30_DC~0.0_full.bag_df.pickle'\n",
    "df,parameters,path=pickle2df(path=pklP)\n"
   ]
  },
  {
   "cell_type": "code",
   "execution_count": null,
   "metadata": {
    "collapsed": false,
    "scrolled": true
   },
   "outputs": [],
   "source": [
    "df.trajectory__DCoffset[100:103]"
   ]
  },
  {
   "cell_type": "code",
   "execution_count": null,
   "metadata": {
    "collapsed": false,
    "scrolled": true
   },
   "outputs": [],
   "source": [
    "plt.scatter(x=df.trajectory__pPos_x[232743:],y=df.trajectory__pPos_y[232743:])\n",
    "plt.show()"
   ]
  },
  {
   "cell_type": "code",
   "execution_count": null,
   "metadata": {
    "collapsed": false
   },
   "outputs": [],
   "source": [
    "reset=np.where(df[\"trajectory__reset\"] == True)[0]\n",
    "reset"
   ]
  },
  {
   "cell_type": "code",
   "execution_count": null,
   "metadata": {
    "collapsed": false
   },
   "outputs": [],
   "source": [
    "startI=np.where((df[\"trajectory__runNum\"]==runNumStart)&(df[\"trajectory__case\"]==caseStart))[0][0]\n",
    "print startI\n",
    "dt=df.index[startI]"
   ]
  },
  {
   "cell_type": "code",
   "execution_count": null,
   "metadata": {
    "collapsed": false,
    "scrolled": true
   },
   "outputs": [],
   "source": [
    "df.ix[2:,:]"
   ]
  },
  {
   "cell_type": "code",
   "execution_count": null,
   "metadata": {
    "collapsed": false
   },
   "outputs": [],
   "source": [
    "save(bokehPlot(df,3,parameters,title=''),path+'_3TrajOver.html')\n",
    "save(bokehPlot(df,3,parameters,title='',addOdour=False),path+'_3Traj.html')\n",
    "save(bokehPlot(df.ix[startI:,:],3,parameters,title=''),path+'_3SelTrajOver.html')\n",
    "save(bokehPlot(df.ix[startI:,:],3,parameters,title='',addOdour=False),path+'_3SelTraj.html')\n",
    "\n",
    "# startI"
   ]
  },
  {
   "cell_type": "code",
   "execution_count": null,
   "metadata": {
    "collapsed": true
   },
   "outputs": [],
   "source": [
    "from easygui import multenterbox\n",
    "msg = \"Enter the start stop of your data\"\n",
    "title = \"Choose runNum/case or explicit index\"\n",
    "fieldNames = [\"runNumFrom\",\"runNumTo\",\"caseFrom\",\"caseTo\",\"IndexFrom\",\"IndexTo\"]\n",
    "fieldValues = []  # we start with blanks for the values\n",
    "fieldValues = multenterbox(msg,title, fieldNames)\n",
    "\n",
    "# ma"
   ]
  },
  {
   "cell_type": "code",
   "execution_count": null,
   "metadata": {
    "collapsed": false
   },
   "outputs": [],
   "source": [
    "from easygui import multenterbox\n",
    "msg = \"Enter your personal information\"\n",
    "title = \"Credit Card Application\"\n",
    "fieldNames = [\"Name\",\"Street Address\",\"City\",\"State\",\"ZipCode\"]\n",
    "fieldValues = []  # we start with blanks for the values\n",
    "fieldValues = multenterbox(msg,title, fieldNames)\n",
    "\n",
    "# make sure that none of the fields was left blank\n",
    "while 1:\n",
    "    if fieldValues == None: break\n",
    "    errmsg = \"\"\n",
    "    for i in range(len(fieldNames)):\n",
    "      if fieldValues[i].strip() == \"\":\n",
    "        errmsg = errmsg + ('\"%s\" is a required field.\\n\\n' % fieldNames[i])\n",
    "    if errmsg == \"\": break # no problems found\n",
    "    fieldValues = multenterbox(errmsg, title, fieldNames, fieldValues)\n",
    "print \"Reply was:\", fieldValues"
   ]
  },
  {
   "cell_type": "code",
   "execution_count": null,
   "metadata": {
    "collapsed": false
   },
   "outputs": [],
   "source": [
    "import easygui\n",
    "import arrow\n",
    "# import bokehPlot\n",
    "import numpy as np\n",
    "import subprocess\n",
    "\n",
    "bagPath='/home/rhagoletis/catkin/src/World/bags/2017-09-03__17~46~56_apple55_00_odour_wind_gain~16_speed~1.0_bout~30_DC~0.0_traj.bag'\n",
    "runNumStart=12\n",
    "caseStart=2\n",
    "\n",
    "# bagPath=easygui.fileopenbox(filetypes=['*.bag'])\n",
    "# runNumStart=easygui.integerbox(msg='wnter the start runNum')\n",
    "# caseStart=easygui.integerbox(msg='enter the start case')\n",
    "outBag='out.bag'\n",
    "# runNumStop=easygui.integerbox(msg='wnter the stop runNum')\n",
    "# caseStop=easygui.integerbox(msg='enter the start case')\n",
    "\n",
    "\n",
    "df,parameters,path=bag2pickle([bagPath])\n",
    "startI=np.where((df[\"trajectory__runNum\"]==runNumStart)&(df[\"trajectory__case\"]==caseStart))[0][0]\n",
    "print startI\n",
    "dt=df.index[startI]\n",
    "a=arrow.get(dt)\n",
    "ts=a.timestamp\n",
    "ts=ts+a.microsecond\n",
    "\n",
    "\n",
    "filt = subprocess.Popen(['rosbag','filter',bagPath,outBag,'\"t.to_sec()>='+str(ts)+'\"'], stdout=subprocess.PIPE)"
   ]
  },
  {
   "cell_type": "code",
   "execution_count": null,
   "metadata": {
    "collapsed": false
   },
   "outputs": [],
   "source": [
    "bagPath='/home/rhagoletis/catkin/src/World/bags/2017-09-03__17~46~56_apple55_00_odour_wind_gain~16_speed~1.0_bout~30_DC~0.0_traj.bag'\n",
    "runNumStart=12\n",
    "caseStart=3\n",
    "dt=df.index[startI]\n",
    "a=arrow.get(dt)\n",
    "ts=a.timestamp\n",
    "ts=ts+(a.microsecond*.00001)\n",
    "\n",
    "\n",
    "filt = subprocess.Popen(['rosbag','filter',bagPath,outBag,'\"t.to_sec()>='+str(ts)+'\"'], stdout=subprocess.PIPE)"
   ]
  },
  {
   "cell_type": "code",
   "execution_count": null,
   "metadata": {
    "collapsed": false
   },
   "outputs": [],
   "source": [
    "filt.communicate()"
   ]
  },
  {
   "cell_type": "code",
   "execution_count": null,
   "metadata": {
    "collapsed": false
   },
   "outputs": [],
   "source": [
    "a=arrow.get(dt)\n",
    "a.timestamp"
   ]
  },
  {
   "cell_type": "code",
   "execution_count": null,
   "metadata": {
    "collapsed": false
   },
   "outputs": [],
   "source": [
    "arrow.get(arrow.get(dt).timestamp)"
   ]
  },
  {
   "cell_type": "code",
   "execution_count": null,
   "metadata": {
    "collapsed": false
   },
   "outputs": [],
   "source": [
    "dt2=arrow.get(dt).timestamp\n",
    "print dt2\n",
    "arrow.get(dt2)"
   ]
  },
  {
   "cell_type": "code",
   "execution_count": null,
   "metadata": {
    "collapsed": false
   },
   "outputs": [],
   "source": [
    "arrow.utcnow()"
   ]
  },
  {
   "cell_type": "code",
   "execution_count": null,
   "metadata": {
    "collapsed": false
   },
   "outputs": [],
   "source": [
    "a[1][\"bagFileName\"]"
   ]
  },
  {
   "cell_type": "code",
   "execution_count": null,
   "metadata": {
    "collapsed": false
   },
   "outputs": [],
   "source": [
    "df.index[0]"
   ]
  },
  {
   "cell_type": "code",
   "execution_count": null,
   "metadata": {
    "collapsed": false
   },
   "outputs": [],
   "source": [
    "arrow.get(df.index[0])"
   ]
  },
  {
   "cell_type": "code",
   "execution_count": null,
   "metadata": {
    "collapsed": false
   },
   "outputs": [],
   "source": [
    "arrow.get(df.index[0]).to('+05:30')\n",
    "\n"
   ]
  },
  {
   "cell_type": "code",
   "execution_count": null,
   "metadata": {
    "collapsed": false
   },
   "outputs": [],
   "source": [
    "(arrow.get(df.index[0]).to('+05:30')).timestamp"
   ]
  },
  {
   "cell_type": "code",
   "execution_count": null,
   "metadata": {
    "collapsed": false
   },
   "outputs": [],
   "source": [
    "(arrow.get(df.index[0])).timestamp"
   ]
  },
  {
   "cell_type": "code",
   "execution_count": null,
   "metadata": {
    "collapsed": false
   },
   "outputs": [],
   "source": [
    "dt=df.index[232743]"
   ]
  },
  {
   "cell_type": "code",
   "execution_count": null,
   "metadata": {
    "collapsed": false
   },
   "outputs": [],
   "source": [
    "df=Out[115][0]"
   ]
  },
  {
   "cell_type": "code",
   "execution_count": null,
   "metadata": {
    "collapsed": false
   },
   "outputs": [],
   "source": [
    "5>2>1"
   ]
  },
  {
   "cell_type": "code",
   "execution_count": null,
   "metadata": {
    "collapsed": false
   },
   "outputs": [],
   "source": [
    "((df[\"trajectory__pPos_x\"]>520)).plot()\n",
    "plt.show()"
   ]
  },
  {
   "cell_type": "code",
   "execution_count": null,
   "metadata": {
    "collapsed": false
   },
   "outputs": [],
   "source": [
    "((df[\"trajectory__pPos_x\"] > 513.2) & (df[\"trajectory__pPos_x\"] < 513.4) & (df[\"trajectory__pPos_y\"] > 525.8) & (df[\"trajectory__pPos_y\"] < 526))\n",
    "# plt.show()"
   ]
  },
  {
   "cell_type": "code",
   "execution_count": null,
   "metadata": {
    "collapsed": false
   },
   "outputs": [],
   "source": [
    "len(df)"
   ]
  },
  {
   "cell_type": "code",
   "execution_count": null,
   "metadata": {
    "collapsed": false
   },
   "outputs": [],
   "source": [
    "a=np.where(((513.2<df[\"trajectory__pPos_x\"])&(513.4>df[\"trajectory__pPos_x\"])&(525.8<df[\"trajectory__pPos_y\"])&(526>df[\"trajectory__pPos_y\"])))[0]"
   ]
  },
  {
   "cell_type": "code",
   "execution_count": null,
   "metadata": {
    "collapsed": false
   },
   "outputs": [],
   "source": [
    "list(np.where(df[\"trajectory__reset\"] == True))"
   ]
  },
  {
   "cell_type": "code",
   "execution_count": null,
   "metadata": {
    "collapsed": false
   },
   "outputs": [],
   "source": [
    "reset=np.where(df[\"trajectory__reset\"] == True)[0]\n",
    "print reset\n",
    "pos=241429\n",
    "reset[np.argmin((pos-reset)*((pos-reset)>0)*1)-1]"
   ]
  },
  {
   "cell_type": "code",
   "execution_count": null,
   "metadata": {
    "collapsed": false
   },
   "outputs": [],
   "source": [
    "(pos-reset)*((pos-reset)>0)*1"
   ]
  },
  {
   "cell_type": "code",
   "execution_count": null,
   "metadata": {
    "collapsed": false
   },
   "outputs": [],
   "source": [
    "dfnow = df.ix[200, :]"
   ]
  },
  {
   "cell_type": "code",
   "execution_count": null,
   "metadata": {
    "collapsed": false
   },
   "outputs": [],
   "source": [
    "from PyKDE4.kdeui import *"
   ]
  },
  {
   "cell_type": "code",
   "execution_count": null,
   "metadata": {
    "collapsed": false
   },
   "outputs": [],
   "source": [
    "dfnow"
   ]
  },
  {
   "cell_type": "code",
   "execution_count": null,
   "metadata": {
    "collapsed": false
   },
   "outputs": [],
   "source": [
    "a"
   ]
  },
  {
   "cell_type": "code",
   "execution_count": null,
   "metadata": {
    "collapsed": false
   },
   "outputs": [],
   "source": [
    "plt.plot(a)\n",
    "plt.show()"
   ]
  },
  {
   "cell_type": "code",
   "execution_count": null,
   "metadata": {
    "collapsed": false
   },
   "outputs": [],
   "source": [
    "plt.plot((np.where(((513.05<df[\"trajectory__pPos_x\"])<513.1))))\n",
    "plt.show()"
   ]
  },
  {
   "cell_type": "code",
   "execution_count": null,
   "metadata": {
    "collapsed": false
   },
   "outputs": [],
   "source": [
    "a"
   ]
  },
  {
   "cell_type": "code",
   "execution_count": null,
   "metadata": {
    "collapsed": false
   },
   "outputs": [],
   "source": [
    "# np.where(df[\"trajectory__reset\"] == True)\n",
    "list(np.where(df[\"trajectory__reset\"] == True)[0])"
   ]
  },
  {
   "cell_type": "code",
   "execution_count": null,
   "metadata": {
    "collapsed": false
   },
   "outputs": [],
   "source": [
    "df.ix[df.index[df.trajectory__reset==True].tolist()[0]]\n",
    "# df.index[df['BoolCol']].tolist()"
   ]
  },
  {
   "cell_type": "code",
   "execution_count": null,
   "metadata": {
    "collapsed": false
   },
   "outputs": [],
   "source": [
    "pickleDir2bokeh(addBigTit=False,addSmallTit=False,addArrow=False,addStart=False)"
   ]
  },
  {
   "cell_type": "code",
   "execution_count": null,
   "metadata": {
    "collapsed": true
   },
   "outputs": [],
   "source": [
    "bagDir2bokeh(defaultPath='/media/rhagoletis/6db8b2b2-ebe2-4555-9b79-93b10ef9dec31')"
   ]
  },
  {
   "cell_type": "code",
   "execution_count": null,
   "metadata": {
    "collapsed": false
   },
   "outputs": [],
   "source": [
    "from bokeh.io import export_svgs\n",
    "plot=Out[21]\n",
    "plot.output_backend = \"svg\"\n",
    "export_svgs(plot, filename=\"plot.svg\")"
   ]
  },
  {
   "cell_type": "code",
   "execution_count": null,
   "metadata": {
    "collapsed": false,
    "scrolled": true
   },
   "outputs": [],
   "source": [
    "dfDir2bokeh()"
   ]
  },
  {
   "cell_type": "code",
   "execution_count": null,
   "metadata": {
    "collapsed": false
   },
   "outputs": [],
   "source": [
    "easygui.fileopenbox()"
   ]
  },
  {
   "cell_type": "code",
   "execution_count": null,
   "metadata": {
    "collapsed": false,
    "scrolled": true
   },
   "outputs": [],
   "source": [
    "bagDir2pickle(defaultPath=)"
   ]
  },
  {
   "cell_type": "code",
   "execution_count": null,
   "metadata": {
    "collapsed": false
   },
   "outputs": [],
   "source": [
    "p,df,parameters,path=pickle2bokeh()"
   ]
  },
  {
   "cell_type": "code",
   "execution_count": null,
   "metadata": {
    "collapsed": false,
    "scrolled": true
   },
   "outputs": [],
   "source": [
    "show(bokehPlot(df,2,parameters,plot_width=1280,plot_height=1280))"
   ]
  },
  {
   "cell_type": "code",
   "execution_count": null,
   "metadata": {
    "collapsed": false
   },
   "outputs": [],
   "source": [
    "\n",
    "\n",
    "plot,df,parameters,path=pickle2bokeh()\n",
    "# bokehQuadPlot(df,parameters,path)\n",
    "\n",
    "\n",
    "# dfDir2bokeh()\n"
   ]
  },
  {
   "cell_type": "code",
   "execution_count": null,
   "metadata": {
    "collapsed": false
   },
   "outputs": [],
   "source": [
    "showPlot(bokehPlot(df,2,parameters,plot_width=1280,plot_height=1280))"
   ]
  }
 ],
 "metadata": {
  "kernelspec": {
   "display_name": "Python 2",
   "language": "python",
   "name": "python2"
  },
  "language_info": {
   "codemirror_mode": {
    "name": "ipython",
    "version": 2
   },
   "file_extension": ".py",
   "mimetype": "text/x-python",
   "name": "python",
   "nbconvert_exporter": "python",
   "pygments_lexer": "ipython2",
   "version": "2.7.6"
  },
  "widgets": {
   "state": {},
   "version": "1.1.2"
  }
 },
 "nbformat": 4,
 "nbformat_minor": 2
}
